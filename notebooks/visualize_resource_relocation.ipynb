{
 "cells": [
  {
   "cell_type": "code",
   "execution_count": 221,
   "metadata": {},
   "outputs": [],
   "source": [
    "import plotly.graph_objects as go\n",
    "import pandas as pd\n",
    "import numpy as np\n",
    "import copy\n",
    "\n",
    "df_hospital=pd.read_csv(r'../data/hospital_resources/Hospital_resources_hanmin.csv', encoding='ISO-8859-1')"
   ]
  },
  {
   "cell_type": "code",
   "execution_count": 220,
   "metadata": {},
   "outputs": [
    {
     "name": "stdout",
     "output_type": "stream",
     "text": [
      "plotting hospitals ...\n",
      "saving to csv ...\n",
      "plotting reallocation ...\n"
     ]
    },
    {
     "name": "stderr",
     "output_type": "stream",
     "text": [
      "C:\\Users\\caha\\PycharmProjects\\ch_vs_virus_416\\venv\\lib\\site-packages\\ipykernel_launcher.py:56: SettingWithCopyWarning:\n",
      "\n",
      "\n",
      "A value is trying to be set on a copy of a slice from a DataFrame\n",
      "\n",
      "See the caveats in the documentation: https://pandas.pydata.org/pandas-docs/stable/user_guide/indexing.html#returning-a-view-versus-a-copy\n",
      "\n",
      "C:\\Users\\caha\\PycharmProjects\\ch_vs_virus_416\\venv\\lib\\site-packages\\ipykernel_launcher.py:57: SettingWithCopyWarning:\n",
      "\n",
      "\n",
      "A value is trying to be set on a copy of a slice from a DataFrame\n",
      "\n",
      "See the caveats in the documentation: https://pandas.pydata.org/pandas-docs/stable/user_guide/indexing.html#returning-a-view-versus-a-copy\n",
      "\n",
      "C:\\Users\\caha\\PycharmProjects\\ch_vs_virus_416\\venv\\lib\\site-packages\\ipykernel_launcher.py:58: SettingWithCopyWarning:\n",
      "\n",
      "\n",
      "A value is trying to be set on a copy of a slice from a DataFrame\n",
      "\n",
      "See the caveats in the documentation: https://pandas.pydata.org/pandas-docs/stable/user_guide/indexing.html#returning-a-view-versus-a-copy\n",
      "\n",
      "C:\\Users\\caha\\PycharmProjects\\ch_vs_virus_416\\venv\\lib\\site-packages\\ipykernel_launcher.py:60: SettingWithCopyWarning:\n",
      "\n",
      "\n",
      "A value is trying to be set on a copy of a slice from a DataFrame\n",
      "\n",
      "See the caveats in the documentation: https://pandas.pydata.org/pandas-docs/stable/user_guide/indexing.html#returning-a-view-versus-a-copy\n",
      "\n",
      "C:\\Users\\caha\\PycharmProjects\\ch_vs_virus_416\\venv\\lib\\site-packages\\ipykernel_launcher.py:61: SettingWithCopyWarning:\n",
      "\n",
      "\n",
      "A value is trying to be set on a copy of a slice from a DataFrame\n",
      "\n",
      "See the caveats in the documentation: https://pandas.pydata.org/pandas-docs/stable/user_guide/indexing.html#returning-a-view-versus-a-copy\n",
      "\n",
      "C:\\Users\\caha\\PycharmProjects\\ch_vs_virus_416\\venv\\lib\\site-packages\\ipykernel_launcher.py:62: SettingWithCopyWarning:\n",
      "\n",
      "\n",
      "A value is trying to be set on a copy of a slice from a DataFrame\n",
      "\n",
      "See the caveats in the documentation: https://pandas.pydata.org/pandas-docs/stable/user_guide/indexing.html#returning-a-view-versus-a-copy\n",
      "\n",
      "C:\\Users\\caha\\PycharmProjects\\ch_vs_virus_416\\venv\\lib\\site-packages\\ipykernel_launcher.py:63: SettingWithCopyWarning:\n",
      "\n",
      "\n",
      "A value is trying to be set on a copy of a slice from a DataFrame\n",
      "\n",
      "See the caveats in the documentation: https://pandas.pydata.org/pandas-docs/stable/user_guide/indexing.html#returning-a-view-versus-a-copy\n",
      "\n"
     ]
    },
    {
     "data": {
      "application/vnd.plotly.v1+json": {
       "config": {
        "plotlyServerURL": "https://plot.ly"
       },
       "data": [
        {
         "hoverinfo": "text",
         "lat": [
          47.561196,
          46.193711,
          46.524749,
          47.376736,
          46.947455,
          47.389185,
          47.454285999999996,
          47.391652,
          46.440108,
          46.77032,
          46.522437,
          47.711995,
          47.263268,
          47.200103999999996,
          47.322205,
          46.801389,
          47.488122,
          47.058078,
          47.05812,
          46.197616,
          47.549937,
          47.351971999999996,
          46.86411,
          47.397628000000005,
          46.958811,
          46.947645,
          46.95279,
          46.996590999999995,
          47.147814000000004,
          47.049215000000004,
          46.680833,
          47.399167,
          47.507967,
          46.288114,
          47.34917,
          47.566617,
          47.353765,
          47.394227,
          47.366863,
          46.2351,
          46.761733,
          47.43119,
          47.194648,
          47.522028999999996,
          47.216521,
          46.228776,
          47.419685,
          47.016475,
          46.383439,
          47.277588,
          47.35256,
          47.251154,
          47.189221,
          46.005434,
          46.540309,
          47.296098,
          46.818815,
          46.883284,
          46.018508000000004,
          46.959937,
          47.445458,
          47.046166,
          46.186931,
          47.372031,
          47.431105,
          47.563624,
          47.141715999999995
         ],
         "locationmode": "USA-states",
         "lon": [
          7.5815410000000005,
          6.148855999999999,
          6.639659,
          8.549199,
          7.4248009999999995,
          8.059994999999999,
          8.278407000000001,
          8.042692,
          6.908222,
          6.64755,
          6.499426000000001,
          8.638826,
          8.589378,
          7.539125,
          8.802781,
          7.137283,
          7.731507000000001,
          8.298791,
          8.326092,
          9.026881,
          8.911494,
          8.576158,
          9.539952,
          9.579355,
          7.427403,
          7.426611,
          7.448237,
          6.942991,
          7.244622,
          7.620941999999999,
          7.842919,
          8.520622,
          8.727949,
          7.8841779999999995,
          8.598519,
          7.614161999999999,
          8.724082000000001,
          8.431632,
          8.497572,
          7.387328,
          7.632281,
          9.388303,
          8.518031,
          8.5329,
          7.793825,
          6.0674,
          7.058210000000001,
          8.658699,
          6.227493,
          8.330606,
          8.531581,
          8.696631,
          8.858947,
          8.94011,
          9.878888,
          7.9471240000000005,
          6.946231,
          8.637429,
          8.952941000000001,
          8.357545,
          9.411887,
          9.06511,
          6.142615,
          8.557767,
          9.387303999999999,
          7.58183,
          8.130885000000001
         ],
         "marker": {
          "color": "black",
          "size": 5
         },
         "mode": "markers",
         "text": [
          "UniversitÃ_tsspital Basel",
          "Les HÃÂ«pitaux Universitaires de GenÃÂ¬ve HUG",
          "CHUV Centre Hospitalier Universitaire Vaudois",
          "UniversitÃ_tsspital ZÃ_rich",
          "Insel Gruppe AG (universitÃ_r)",
          "Kantonsspital Aarau AG",
          "Kantonsspital Baden AG",
          "Hirslanden Klinik Aarau",
          "HÃÂ«pital Riviera-Chablais Vaud-Valais",
          "Etablissements Hospitaliers du Nord Vaudois (eHnv)",
          "EHC Ensemble hospitalier de la CÃÂ«te",
          "SpitÃ_ler Schaffhausen",
          "See-Spital",
          "Solothurner SpitÃ_ler AG",
          "GZO Spital Wetzikon",
          "HFR - HÃÂ«pital fribourgeois",
          "Kantonsspital Baselland",
          "Luzerner Kantonsspital",
          "Hirslanden Klinik St. Anna AG",
          "EOC Ente ospedaliero cantonale",
          "Spital Thurgau AG KantonsspitÃ_ler Frauenfeld & MÃ_nsterlingen",
          "Klinik Hirslanden AG",
          "Kantonsspital GraubÃ_nden",
          "Spitalregion Rheintal Werdenberg Sarganserland",
          "Lindenhof AG",
          "Insel Gruppe AG (nicht-universitÃ_r)",
          "Hirslanden Bern AG",
          "HÃÂ«pital NeuchÃÂ¢telois HNE",
          "Spitalzentrum Biel AG",
          "Regionalspital Emmental AG",
          "SpitÃ_ler Frutigen Meiringen Interlaken AG",
          "Stadtspital Waid",
          "Kantonsspital Winterthur",
          "Spital Wallis - Spitalzentrum Oberwallis (SZO)",
          "Spital Zollikerberg",
          "St. Claraspital",
          "Spital Uster",
          "Spital Limmattal",
          "Stadtspital Triemli",
          "HÃÂ«pital du Valais - Centre hospitalier du centre du Valais (CHCVs)",
          "Spital STS AG",
          "Kantonsspital St. Gallen",
          "Zuger Kantonsspital AG",
          "Spital BÃ_lach AG",
          "SRO Spital Region Oberaargau AG",
          "HÃÂ«pital de la Tour",
          "HÃÂ«pital du Jura",
          "Spital Schwyz",
          "Groupement Hospitalier de l'Ouest LÃÂ©manique (GHOL) SA",
          "Kreisspital fÃ_r das Freiamt",
          "Klinik Im Park",
          "Spital MÃ_nnedorf AG",
          "Spital Lachen",
          "Clinica Luganese Moncucco SA Sede Moncucco",
          "Spital Oberengadin",
          "Spital Zofingen AG",
          "HÃÂ«pital Intercantonal de la Broye (HIB)",
          "Kantonsspital Uri",
          "Cardiocentro Ticino (CCT)",
          "Kantonsspital Nidwalden",
          "Hirslanden Klinik Stephanshorn",
          "Kantonsspital Glarus",
          "Clinique de Carouge",
          "UniversitÃ_ts-Kinderspital ZÃ_rich das Spital der Eleonorenstiftung",
          "Ostschweizer Kinderspital",
          "UniversitÃ_ts-Kinderspital beider Basel (UKBB)",
          "Schweizer Paraplegiker-Zentrum Nottwil AG"
         ],
         "type": "scattergeo"
        },
        {
         "hoverinfo": "text",
         "lat": [
          47.561196,
          46.524749,
          47.376736,
          46.947455,
          47.389185,
          47.454285999999996,
          47.391652,
          46.440108,
          46.77032,
          46.522437,
          47.711995,
          47.263268,
          47.200103999999996,
          47.322205,
          46.801389,
          47.488122,
          47.058078,
          47.05812,
          47.549937,
          47.351971999999996,
          46.86411,
          47.397628000000005,
          46.958811,
          46.947645,
          46.95279,
          47.147814000000004,
          47.049215000000004,
          46.680833,
          47.399167,
          47.507967,
          47.34917,
          47.566617,
          47.394227,
          47.366863,
          46.761733,
          47.43119,
          47.194648,
          47.216521,
          46.228776,
          46.383439,
          47.189221,
          47.372031
         ],
         "locationmode": "USA-states",
         "lon": [
          7.5815410000000005,
          6.639659,
          8.549199,
          7.4248009999999995,
          8.059994999999999,
          8.278407000000001,
          8.042692,
          6.908222,
          6.64755,
          6.499426000000001,
          8.638826,
          8.589378,
          7.539125,
          8.802781,
          7.137283,
          7.731507000000001,
          8.298791,
          8.326092,
          8.911494,
          8.576158,
          9.539952,
          9.579355,
          7.427403,
          7.426611,
          7.448237,
          7.244622,
          7.620941999999999,
          7.842919,
          8.520622,
          8.727949,
          8.598519,
          7.614161999999999,
          8.431632,
          8.497572,
          7.632281,
          9.388303,
          8.518031,
          7.793825,
          6.0674,
          6.227493,
          8.858947,
          8.557767
         ],
         "marker": {
          "color": "green",
          "size": 5
         },
         "mode": "markers",
         "text": [
          "UniversitÃ_tsspital Basel",
          "CHUV Centre Hospitalier Universitaire Vaudois",
          "UniversitÃ_tsspital ZÃ_rich",
          "Insel Gruppe AG (universitÃ_r)",
          "Kantonsspital Aarau AG",
          "Kantonsspital Baden AG",
          "Hirslanden Klinik Aarau",
          "HÃÂ«pital Riviera-Chablais Vaud-Valais",
          "Etablissements Hospitaliers du Nord Vaudois (eHnv)",
          "EHC Ensemble hospitalier de la CÃÂ«te",
          "SpitÃ_ler Schaffhausen",
          "See-Spital",
          "Solothurner SpitÃ_ler AG",
          "GZO Spital Wetzikon",
          "HFR - HÃÂ«pital fribourgeois",
          "Kantonsspital Baselland",
          "Luzerner Kantonsspital",
          "Hirslanden Klinik St. Anna AG",
          "Spital Thurgau AG KantonsspitÃ_ler Frauenfeld & MÃ_nsterlingen",
          "Klinik Hirslanden AG",
          "Kantonsspital GraubÃ_nden",
          "Spitalregion Rheintal Werdenberg Sarganserland",
          "Lindenhof AG",
          "Insel Gruppe AG (nicht-universitÃ_r)",
          "Hirslanden Bern AG",
          "Spitalzentrum Biel AG",
          "Regionalspital Emmental AG",
          "SpitÃ_ler Frutigen Meiringen Interlaken AG",
          "Stadtspital Waid",
          "Kantonsspital Winterthur",
          "Spital Zollikerberg",
          "St. Claraspital",
          "Spital Limmattal",
          "Stadtspital Triemli",
          "Spital STS AG",
          "Kantonsspital St. Gallen",
          "Zuger Kantonsspital AG",
          "SRO Spital Region Oberaargau AG",
          "HÃÂ«pital de la Tour",
          "Groupement Hospitalier de l'Ouest LÃÂ©manique (GHOL) SA",
          "Spital Lachen",
          "UniversitÃ_ts-Kinderspital ZÃ_rich das Spital der Eleonorenstiftung"
         ],
         "type": "scattergeo"
        },
        {
         "hoverinfo": "text",
         "lat": [
          46.193711,
          47.376736,
          46.947455,
          47.389185,
          47.454285999999996,
          47.391652,
          47.263268,
          47.322205,
          46.197616,
          47.351971999999996,
          46.958811,
          46.947645,
          46.996590999999995,
          47.049215000000004,
          47.399167,
          47.507967,
          46.288114,
          47.394227,
          47.366863,
          46.2351,
          46.761733,
          46.228776,
          47.277588,
          46.005434,
          47.296098,
          46.018508000000004,
          46.186931
         ],
         "locationmode": "USA-states",
         "lon": [
          6.148855999999999,
          8.549199,
          7.4248009999999995,
          8.059994999999999,
          8.278407000000001,
          8.042692,
          8.589378,
          8.802781,
          9.026881,
          8.576158,
          7.427403,
          7.426611,
          6.942991,
          7.620941999999999,
          8.520622,
          8.727949,
          7.8841779999999995,
          8.431632,
          8.497572,
          7.387328,
          7.632281,
          6.0674,
          8.330606,
          8.94011,
          7.9471240000000005,
          8.952941000000001,
          6.142615
         ],
         "marker": {
          "color": "red",
          "size": 5
         },
         "mode": "markers",
         "text": [
          "Les HÃÂ«pitaux Universitaires de GenÃÂ¬ve HUG",
          "UniversitÃ_tsspital ZÃ_rich",
          "Insel Gruppe AG (universitÃ_r)",
          "Kantonsspital Aarau AG",
          "Kantonsspital Baden AG",
          "Hirslanden Klinik Aarau",
          "See-Spital",
          "GZO Spital Wetzikon",
          "EOC Ente ospedaliero cantonale",
          "Klinik Hirslanden AG",
          "Lindenhof AG",
          "Insel Gruppe AG (nicht-universitÃ_r)",
          "HÃÂ«pital NeuchÃÂ¢telois HNE",
          "Regionalspital Emmental AG",
          "Stadtspital Waid",
          "Kantonsspital Winterthur",
          "Spital Wallis - Spitalzentrum Oberwallis (SZO)",
          "Spital Limmattal",
          "Stadtspital Triemli",
          "HÃÂ«pital du Valais - Centre hospitalier du centre du Valais (CHCVs)",
          "Spital STS AG",
          "HÃÂ«pital de la Tour",
          "Kreisspital fÃ_r das Freiamt",
          "Clinica Luganese Moncucco SA Sede Moncucco",
          "Spital Zofingen AG",
          "Cardiocentro Ticino (CCT)",
          "Clinique de Carouge"
         ],
         "type": "scattergeo"
        },
        {
         "lat": [
          47.561196,
          47.389185
         ],
         "line": {
          "color": "blue",
          "width": 1.5
         },
         "locationmode": "USA-states",
         "lon": [
          7.5815410000000005,
          8.059994999999999
         ],
         "mode": "lines",
         "opacity": 0.6666666666666666,
         "type": "scattergeo"
        },
        {
         "lat": [
          47.561196,
          46.197616
         ],
         "line": {
          "color": "blue",
          "width": 1.5
         },
         "locationmode": "USA-states",
         "lon": [
          7.5815410000000005,
          9.026881
         ],
         "mode": "lines",
         "opacity": 0.6666666666666666,
         "type": "scattergeo"
        },
        {
         "lat": [
          46.524749,
          46.193711
         ],
         "line": {
          "color": "blue",
          "width": 1.5
         },
         "locationmode": "USA-states",
         "lon": [
          6.639659,
          6.148855999999999
         ],
         "mode": "lines",
         "opacity": 0.9523809523809523,
         "type": "scattergeo"
        },
        {
         "lat": [
          46.524749,
          46.2351
         ],
         "line": {
          "color": "blue",
          "width": 1.5
         },
         "locationmode": "USA-states",
         "lon": [
          6.639659,
          7.387328
         ],
         "mode": "lines",
         "opacity": 0.9523809523809523,
         "type": "scattergeo"
        },
        {
         "lat": [
          47.376736,
          46.193711
         ],
         "line": {
          "color": "blue",
          "width": 1.5
         },
         "locationmode": "USA-states",
         "lon": [
          8.549199,
          6.148855999999999
         ],
         "mode": "lines",
         "opacity": 1,
         "type": "scattergeo"
        },
        {
         "lat": [
          47.376736,
          46.197616
         ],
         "line": {
          "color": "blue",
          "width": 1.5
         },
         "locationmode": "USA-states",
         "lon": [
          8.549199,
          9.026881
         ],
         "mode": "lines",
         "opacity": 1,
         "type": "scattergeo"
        },
        {
         "lat": [
          46.947455,
          46.193711
         ],
         "line": {
          "color": "blue",
          "width": 1.5
         },
         "locationmode": "USA-states",
         "lon": [
          7.4248009999999995,
          6.148855999999999
         ],
         "mode": "lines",
         "opacity": 0.9047619047619048,
         "type": "scattergeo"
        },
        {
         "lat": [
          46.947455,
          46.197616
         ],
         "line": {
          "color": "blue",
          "width": 1.5
         },
         "locationmode": "USA-states",
         "lon": [
          7.4248009999999995,
          9.026881
         ],
         "mode": "lines",
         "opacity": 0.9047619047619048,
         "type": "scattergeo"
        },
        {
         "lat": [
          47.389185,
          46.197616
         ],
         "line": {
          "color": "blue",
          "width": 1.5
         },
         "locationmode": "USA-states",
         "lon": [
          8.059994999999999,
          9.026881
         ],
         "mode": "lines",
         "opacity": 0.5238095238095238,
         "type": "scattergeo"
        },
        {
         "lat": [
          47.454285999999996,
          47.394227
         ],
         "line": {
          "color": "blue",
          "width": 1.5
         },
         "locationmode": "USA-states",
         "lon": [
          8.278407000000001,
          8.431632
         ],
         "mode": "lines",
         "opacity": 0.23809523809523808,
         "type": "scattergeo"
        },
        {
         "lat": [
          47.391652,
          47.389185
         ],
         "line": {
          "color": "blue",
          "width": 1.5
         },
         "locationmode": "USA-states",
         "lon": [
          8.042692,
          8.059994999999999
         ],
         "mode": "lines",
         "opacity": 0.14285714285714285,
         "type": "scattergeo"
        },
        {
         "lat": [
          46.440108,
          46.193711
         ],
         "line": {
          "color": "blue",
          "width": 1.5
         },
         "locationmode": "USA-states",
         "lon": [
          6.908222,
          6.148855999999999
         ],
         "mode": "lines",
         "opacity": 0.3333333333333333,
         "type": "scattergeo"
        },
        {
         "lat": [
          46.440108,
          46.228776
         ],
         "line": {
          "color": "blue",
          "width": 1.5
         },
         "locationmode": "USA-states",
         "lon": [
          6.908222,
          6.0674
         ],
         "mode": "lines",
         "opacity": 0.3333333333333333,
         "type": "scattergeo"
        },
        {
         "lat": [
          46.77032,
          46.193711
         ],
         "line": {
          "color": "blue",
          "width": 1.5
         },
         "locationmode": "USA-states",
         "lon": [
          6.64755,
          6.148855999999999
         ],
         "mode": "lines",
         "opacity": 0.23809523809523808,
         "type": "scattergeo"
        },
        {
         "lat": [
          46.77032,
          46.228776
         ],
         "line": {
          "color": "blue",
          "width": 1.5
         },
         "locationmode": "USA-states",
         "lon": [
          6.64755,
          6.0674
         ],
         "mode": "lines",
         "opacity": 0.23809523809523808,
         "type": "scattergeo"
        },
        {
         "lat": [
          46.522437,
          46.193711
         ],
         "line": {
          "color": "blue",
          "width": 1.5
         },
         "locationmode": "USA-states",
         "lon": [
          6.499426000000001,
          6.148855999999999
         ],
         "mode": "lines",
         "opacity": 0.14285714285714285,
         "type": "scattergeo"
        },
        {
         "lat": [
          46.522437,
          46.186931
         ],
         "line": {
          "color": "blue",
          "width": 1.5
         },
         "locationmode": "USA-states",
         "lon": [
          6.499426000000001,
          6.142615
         ],
         "mode": "lines",
         "opacity": 0.09523809523809523,
         "type": "scattergeo"
        },
        {
         "lat": [
          47.711995,
          47.399167
         ],
         "line": {
          "color": "blue",
          "width": 1.5
         },
         "locationmode": "USA-states",
         "lon": [
          8.638826,
          8.520622
         ],
         "mode": "lines",
         "opacity": 0.14285714285714285,
         "type": "scattergeo"
        },
        {
         "lat": [
          47.711995,
          47.507967
         ],
         "line": {
          "color": "blue",
          "width": 1.5
         },
         "locationmode": "USA-states",
         "lon": [
          8.638826,
          8.727949
         ],
         "mode": "lines",
         "opacity": 0.14285714285714285,
         "type": "scattergeo"
        },
        {
         "lat": [
          47.263268,
          47.376736
         ],
         "line": {
          "color": "blue",
          "width": 1.5
         },
         "locationmode": "USA-states",
         "lon": [
          8.589378,
          8.549199
         ],
         "mode": "lines",
         "opacity": 0.23809523809523808,
         "type": "scattergeo"
        },
        {
         "lat": [
          47.263268,
          47.366863
         ],
         "line": {
          "color": "blue",
          "width": 1.5
         },
         "locationmode": "USA-states",
         "lon": [
          8.589378,
          8.497572
         ],
         "mode": "lines",
         "opacity": 0.23809523809523808,
         "type": "scattergeo"
        },
        {
         "lat": [
          47.200103999999996,
          46.947455
         ],
         "line": {
          "color": "blue",
          "width": 1.5
         },
         "locationmode": "USA-states",
         "lon": [
          7.539125,
          7.4248009999999995
         ],
         "mode": "lines",
         "opacity": 0.47619047619047616,
         "type": "scattergeo"
        },
        {
         "lat": [
          47.200103999999996,
          46.996590999999995
         ],
         "line": {
          "color": "blue",
          "width": 1.5
         },
         "locationmode": "USA-states",
         "lon": [
          7.539125,
          6.942991
         ],
         "mode": "lines",
         "opacity": 0.47619047619047616,
         "type": "scattergeo"
        },
        {
         "lat": [
          47.322205,
          47.351971999999996
         ],
         "line": {
          "color": "blue",
          "width": 1.5
         },
         "locationmode": "USA-states",
         "lon": [
          8.802781,
          8.576158
         ],
         "mode": "lines",
         "opacity": 0.14285714285714285,
         "type": "scattergeo"
        },
        {
         "lat": [
          46.801389,
          46.193711
         ],
         "line": {
          "color": "blue",
          "width": 1.5
         },
         "locationmode": "USA-states",
         "lon": [
          7.137283,
          6.148855999999999
         ],
         "mode": "lines",
         "opacity": 0.42857142857142855,
         "type": "scattergeo"
        },
        {
         "lat": [
          46.801389,
          46.2351
         ],
         "line": {
          "color": "blue",
          "width": 1.5
         },
         "locationmode": "USA-states",
         "lon": [
          7.137283,
          7.387328
         ],
         "mode": "lines",
         "opacity": 0.42857142857142855,
         "type": "scattergeo"
        },
        {
         "lat": [
          47.488122,
          47.454285999999996
         ],
         "line": {
          "color": "blue",
          "width": 1.5
         },
         "locationmode": "USA-states",
         "lon": [
          7.731507000000001,
          8.278407000000001
         ],
         "mode": "lines",
         "opacity": 0.47619047619047616,
         "type": "scattergeo"
        },
        {
         "lat": [
          47.488122,
          46.197616
         ],
         "line": {
          "color": "blue",
          "width": 1.5
         },
         "locationmode": "USA-states",
         "lon": [
          7.731507000000001,
          9.026881
         ],
         "mode": "lines",
         "opacity": 0.47619047619047616,
         "type": "scattergeo"
        },
        {
         "lat": [
          47.058078,
          46.193711
         ],
         "line": {
          "color": "blue",
          "width": 1.5
         },
         "locationmode": "USA-states",
         "lon": [
          8.298791,
          6.148855999999999
         ],
         "mode": "lines",
         "opacity": 0.7619047619047619,
         "type": "scattergeo"
        },
        {
         "lat": [
          47.058078,
          46.197616
         ],
         "line": {
          "color": "blue",
          "width": 1.5
         },
         "locationmode": "USA-states",
         "lon": [
          8.298791,
          9.026881
         ],
         "mode": "lines",
         "opacity": 0.7619047619047619,
         "type": "scattergeo"
        },
        {
         "lat": [
          47.05812,
          47.263268
         ],
         "line": {
          "color": "blue",
          "width": 1.5
         },
         "locationmode": "USA-states",
         "lon": [
          8.326092,
          8.589378
         ],
         "mode": "lines",
         "opacity": 0.19047619047619047,
         "type": "scattergeo"
        },
        {
         "lat": [
          47.05812,
          46.197616
         ],
         "line": {
          "color": "blue",
          "width": 1.5
         },
         "locationmode": "USA-states",
         "lon": [
          8.326092,
          9.026881
         ],
         "mode": "lines",
         "opacity": 0.19047619047619047,
         "type": "scattergeo"
        },
        {
         "lat": [
          47.549937,
          47.376736
         ],
         "line": {
          "color": "blue",
          "width": 1.5
         },
         "locationmode": "USA-states",
         "lon": [
          8.911494,
          8.549199
         ],
         "mode": "lines",
         "opacity": 0.5238095238095238,
         "type": "scattergeo"
        },
        {
         "lat": [
          47.549937,
          46.197616
         ],
         "line": {
          "color": "blue",
          "width": 1.5
         },
         "locationmode": "USA-states",
         "lon": [
          8.911494,
          9.026881
         ],
         "mode": "lines",
         "opacity": 0.5238095238095238,
         "type": "scattergeo"
        },
        {
         "lat": [
          47.351971999999996,
          47.376736
         ],
         "line": {
          "color": "blue",
          "width": 1.5
         },
         "locationmode": "USA-states",
         "lon": [
          8.576158,
          8.549199
         ],
         "mode": "lines",
         "opacity": 0.19047619047619047,
         "type": "scattergeo"
        },
        {
         "lat": [
          46.86411,
          46.197616
         ],
         "line": {
          "color": "blue",
          "width": 1.5
         },
         "locationmode": "USA-states",
         "lon": [
          9.539952,
          9.026881
         ],
         "mode": "lines",
         "opacity": 0.3333333333333333,
         "type": "scattergeo"
        },
        {
         "lat": [
          46.86411,
          46.018508000000004
         ],
         "line": {
          "color": "blue",
          "width": 1.5
         },
         "locationmode": "USA-states",
         "lon": [
          9.539952,
          8.952941000000001
         ],
         "mode": "lines",
         "opacity": 0.23809523809523808,
         "type": "scattergeo"
        },
        {
         "lat": [
          47.397628000000005,
          46.197616
         ],
         "line": {
          "color": "blue",
          "width": 1.5
         },
         "locationmode": "USA-states",
         "lon": [
          9.579355,
          9.026881
         ],
         "mode": "lines",
         "opacity": 0.2857142857142857,
         "type": "scattergeo"
        },
        {
         "lat": [
          47.397628000000005,
          47.507967
         ],
         "line": {
          "color": "blue",
          "width": 1.5
         },
         "locationmode": "USA-states",
         "lon": [
          9.579355,
          8.727949
         ],
         "mode": "lines",
         "opacity": 0.2857142857142857,
         "type": "scattergeo"
        },
        {
         "lat": [
          46.958811,
          46.947645
         ],
         "line": {
          "color": "blue",
          "width": 1.5
         },
         "locationmode": "USA-states",
         "lon": [
          7.427403,
          7.426611
         ],
         "mode": "lines",
         "opacity": 0.09523809523809523,
         "type": "scattergeo"
        },
        {
         "lat": [
          46.958811,
          46.288114
         ],
         "line": {
          "color": "blue",
          "width": 1.5
         },
         "locationmode": "USA-states",
         "lon": [
          7.427403,
          7.8841779999999995
         ],
         "mode": "lines",
         "opacity": 0.38095238095238093,
         "type": "scattergeo"
        },
        {
         "lat": [
          46.947645,
          46.947455
         ],
         "line": {
          "color": "blue",
          "width": 1.5
         },
         "locationmode": "USA-states",
         "lon": [
          7.426611,
          7.4248009999999995
         ],
         "mode": "lines",
         "opacity": 0.23809523809523808,
         "type": "scattergeo"
        },
        {
         "lat": [
          46.95279,
          46.947455
         ],
         "line": {
          "color": "blue",
          "width": 1.5
         },
         "locationmode": "USA-states",
         "lon": [
          7.448237,
          7.4248009999999995
         ],
         "mode": "lines",
         "opacity": 0.23809523809523808,
         "type": "scattergeo"
        },
        {
         "lat": [
          47.147814000000004,
          46.996590999999995
         ],
         "line": {
          "color": "blue",
          "width": 1.5
         },
         "locationmode": "USA-states",
         "lon": [
          7.244622,
          6.942991
         ],
         "mode": "lines",
         "opacity": 0.19047619047619047,
         "type": "scattergeo"
        },
        {
         "lat": [
          47.049215000000004,
          46.947455
         ],
         "line": {
          "color": "blue",
          "width": 1.5
         },
         "locationmode": "USA-states",
         "lon": [
          7.620941999999999,
          7.4248009999999995
         ],
         "mode": "lines",
         "opacity": 0.14285714285714285,
         "type": "scattergeo"
        },
        {
         "lat": [
          47.049215000000004,
          46.958811
         ],
         "line": {
          "color": "blue",
          "width": 1.5
         },
         "locationmode": "USA-states",
         "lon": [
          7.620941999999999,
          7.427403
         ],
         "mode": "lines",
         "opacity": 0.14285714285714285,
         "type": "scattergeo"
        },
        {
         "lat": [
          46.680833,
          46.761733
         ],
         "line": {
          "color": "blue",
          "width": 1.5
         },
         "locationmode": "USA-states",
         "lon": [
          7.842919,
          7.632281
         ],
         "mode": "lines",
         "opacity": 0.09523809523809523,
         "type": "scattergeo"
        },
        {
         "lat": [
          47.399167,
          47.376736
         ],
         "line": {
          "color": "blue",
          "width": 1.5
         },
         "locationmode": "USA-states",
         "lon": [
          8.520622,
          8.549199
         ],
         "mode": "lines",
         "opacity": 0.09523809523809523,
         "type": "scattergeo"
        },
        {
         "lat": [
          47.507967,
          47.376736
         ],
         "line": {
          "color": "blue",
          "width": 1.5
         },
         "locationmode": "USA-states",
         "lon": [
          8.727949,
          8.549199
         ],
         "mode": "lines",
         "opacity": 0.38095238095238093,
         "type": "scattergeo"
        },
        {
         "lat": [
          47.34917,
          47.351971999999996
         ],
         "line": {
          "color": "blue",
          "width": 1.5
         },
         "locationmode": "USA-states",
         "lon": [
          8.598519,
          8.576158
         ],
         "mode": "lines",
         "opacity": 0.047619047619047616,
         "type": "scattergeo"
        },
        {
         "lat": [
          47.566617,
          47.389185
         ],
         "line": {
          "color": "blue",
          "width": 1.5
         },
         "locationmode": "USA-states",
         "lon": [
          7.614161999999999,
          8.059994999999999
         ],
         "mode": "lines",
         "opacity": 0.23809523809523808,
         "type": "scattergeo"
        },
        {
         "lat": [
          47.566617,
          47.391652
         ],
         "line": {
          "color": "blue",
          "width": 1.5
         },
         "locationmode": "USA-states",
         "lon": [
          7.614161999999999,
          8.042692
         ],
         "mode": "lines",
         "opacity": 0.23809523809523808,
         "type": "scattergeo"
        },
        {
         "lat": [
          47.394227,
          47.366863
         ],
         "line": {
          "color": "blue",
          "width": 1.5
         },
         "locationmode": "USA-states",
         "lon": [
          8.431632,
          8.497572
         ],
         "mode": "lines",
         "opacity": 0.19047619047619047,
         "type": "scattergeo"
        },
        {
         "lat": [
          47.366863,
          47.376736
         ],
         "line": {
          "color": "blue",
          "width": 1.5
         },
         "locationmode": "USA-states",
         "lon": [
          8.497572,
          8.549199
         ],
         "mode": "lines",
         "opacity": 0.38095238095238093,
         "type": "scattergeo"
        },
        {
         "lat": [
          46.761733,
          46.288114
         ],
         "line": {
          "color": "blue",
          "width": 1.5
         },
         "locationmode": "USA-states",
         "lon": [
          7.632281,
          7.8841779999999995
         ],
         "mode": "lines",
         "opacity": 0.23809523809523808,
         "type": "scattergeo"
        },
        {
         "lat": [
          47.43119,
          46.197616
         ],
         "line": {
          "color": "blue",
          "width": 1.5
         },
         "locationmode": "USA-states",
         "lon": [
          9.388303,
          9.026881
         ],
         "mode": "lines",
         "opacity": 0.8095238095238095,
         "type": "scattergeo"
        },
        {
         "lat": [
          47.43119,
          46.005434
         ],
         "line": {
          "color": "blue",
          "width": 1.5
         },
         "locationmode": "USA-states",
         "lon": [
          9.388303,
          8.94011
         ],
         "mode": "lines",
         "opacity": 0.8095238095238095,
         "type": "scattergeo"
        },
        {
         "lat": [
          47.194648,
          47.376736
         ],
         "line": {
          "color": "blue",
          "width": 1.5
         },
         "locationmode": "USA-states",
         "lon": [
          8.518031,
          8.549199
         ],
         "mode": "lines",
         "opacity": 0.14285714285714285,
         "type": "scattergeo"
        },
        {
         "lat": [
          47.194648,
          47.263268
         ],
         "line": {
          "color": "blue",
          "width": 1.5
         },
         "locationmode": "USA-states",
         "lon": [
          8.518031,
          8.589378
         ],
         "mode": "lines",
         "opacity": 0.14285714285714285,
         "type": "scattergeo"
        },
        {
         "lat": [
          47.194648,
          47.277588
         ],
         "line": {
          "color": "blue",
          "width": 1.5
         },
         "locationmode": "USA-states",
         "lon": [
          8.518031,
          8.330606
         ],
         "mode": "lines",
         "opacity": 0.047619047619047616,
         "type": "scattergeo"
        },
        {
         "lat": [
          47.216521,
          47.049215000000004
         ],
         "line": {
          "color": "blue",
          "width": 1.5
         },
         "locationmode": "USA-states",
         "lon": [
          7.793825,
          7.620941999999999
         ],
         "mode": "lines",
         "opacity": 0.09523809523809523,
         "type": "scattergeo"
        },
        {
         "lat": [
          47.216521,
          47.296098
         ],
         "line": {
          "color": "blue",
          "width": 1.5
         },
         "locationmode": "USA-states",
         "lon": [
          7.793825,
          7.9471240000000005
         ],
         "mode": "lines",
         "opacity": 0.09523809523809523,
         "type": "scattergeo"
        },
        {
         "lat": [
          46.228776,
          46.193711
         ],
         "line": {
          "color": "blue",
          "width": 1.5
         },
         "locationmode": "USA-states",
         "lon": [
          6.0674,
          6.148855999999999
         ],
         "mode": "lines",
         "opacity": 0.14285714285714285,
         "type": "scattergeo"
        },
        {
         "lat": [
          46.383439,
          46.193711
         ],
         "line": {
          "color": "blue",
          "width": 1.5
         },
         "locationmode": "USA-states",
         "lon": [
          6.227493,
          6.148855999999999
         ],
         "mode": "lines",
         "opacity": 0.14285714285714285,
         "type": "scattergeo"
        },
        {
         "lat": [
          46.383439,
          46.228776
         ],
         "line": {
          "color": "blue",
          "width": 1.5
         },
         "locationmode": "USA-states",
         "lon": [
          6.227493,
          6.0674
         ],
         "mode": "lines",
         "opacity": 0.14285714285714285,
         "type": "scattergeo"
        },
        {
         "lat": [
          47.189221,
          47.263268
         ],
         "line": {
          "color": "blue",
          "width": 1.5
         },
         "locationmode": "USA-states",
         "lon": [
          8.858947,
          8.589378
         ],
         "mode": "lines",
         "opacity": 0.09523809523809523,
         "type": "scattergeo"
        },
        {
         "lat": [
          47.189221,
          47.322205
         ],
         "line": {
          "color": "blue",
          "width": 1.5
         },
         "locationmode": "USA-states",
         "lon": [
          8.858947,
          8.802781
         ],
         "mode": "lines",
         "opacity": 0.09523809523809523,
         "type": "scattergeo"
        },
        {
         "lat": [
          47.372031,
          47.376736
         ],
         "line": {
          "color": "blue",
          "width": 1.5
         },
         "locationmode": "USA-states",
         "lon": [
          8.557767,
          8.549199
         ],
         "mode": "lines",
         "opacity": 0.047619047619047616,
         "type": "scattergeo"
        }
       ],
       "layout": {
        "geo": {
         "countrycolor": "rgb(204, 204, 204)",
         "landcolor": "rgb(243, 243, 243)",
         "projection": {
          "type": "stereographic"
         },
         "resolution": 50,
         "scope": "europe",
         "showlakes": true
        },
        "showlegend": false,
        "template": {
         "data": {
          "bar": [
           {
            "error_x": {
             "color": "#2a3f5f"
            },
            "error_y": {
             "color": "#2a3f5f"
            },
            "marker": {
             "line": {
              "color": "#E5ECF6",
              "width": 0.5
             }
            },
            "type": "bar"
           }
          ],
          "barpolar": [
           {
            "marker": {
             "line": {
              "color": "#E5ECF6",
              "width": 0.5
             }
            },
            "type": "barpolar"
           }
          ],
          "carpet": [
           {
            "aaxis": {
             "endlinecolor": "#2a3f5f",
             "gridcolor": "white",
             "linecolor": "white",
             "minorgridcolor": "white",
             "startlinecolor": "#2a3f5f"
            },
            "baxis": {
             "endlinecolor": "#2a3f5f",
             "gridcolor": "white",
             "linecolor": "white",
             "minorgridcolor": "white",
             "startlinecolor": "#2a3f5f"
            },
            "type": "carpet"
           }
          ],
          "choropleth": [
           {
            "colorbar": {
             "outlinewidth": 0,
             "ticks": ""
            },
            "type": "choropleth"
           }
          ],
          "contour": [
           {
            "colorbar": {
             "outlinewidth": 0,
             "ticks": ""
            },
            "colorscale": [
             [
              0,
              "#0d0887"
             ],
             [
              0.1111111111111111,
              "#46039f"
             ],
             [
              0.2222222222222222,
              "#7201a8"
             ],
             [
              0.3333333333333333,
              "#9c179e"
             ],
             [
              0.4444444444444444,
              "#bd3786"
             ],
             [
              0.5555555555555556,
              "#d8576b"
             ],
             [
              0.6666666666666666,
              "#ed7953"
             ],
             [
              0.7777777777777778,
              "#fb9f3a"
             ],
             [
              0.8888888888888888,
              "#fdca26"
             ],
             [
              1,
              "#f0f921"
             ]
            ],
            "type": "contour"
           }
          ],
          "contourcarpet": [
           {
            "colorbar": {
             "outlinewidth": 0,
             "ticks": ""
            },
            "type": "contourcarpet"
           }
          ],
          "heatmap": [
           {
            "colorbar": {
             "outlinewidth": 0,
             "ticks": ""
            },
            "colorscale": [
             [
              0,
              "#0d0887"
             ],
             [
              0.1111111111111111,
              "#46039f"
             ],
             [
              0.2222222222222222,
              "#7201a8"
             ],
             [
              0.3333333333333333,
              "#9c179e"
             ],
             [
              0.4444444444444444,
              "#bd3786"
             ],
             [
              0.5555555555555556,
              "#d8576b"
             ],
             [
              0.6666666666666666,
              "#ed7953"
             ],
             [
              0.7777777777777778,
              "#fb9f3a"
             ],
             [
              0.8888888888888888,
              "#fdca26"
             ],
             [
              1,
              "#f0f921"
             ]
            ],
            "type": "heatmap"
           }
          ],
          "heatmapgl": [
           {
            "colorbar": {
             "outlinewidth": 0,
             "ticks": ""
            },
            "colorscale": [
             [
              0,
              "#0d0887"
             ],
             [
              0.1111111111111111,
              "#46039f"
             ],
             [
              0.2222222222222222,
              "#7201a8"
             ],
             [
              0.3333333333333333,
              "#9c179e"
             ],
             [
              0.4444444444444444,
              "#bd3786"
             ],
             [
              0.5555555555555556,
              "#d8576b"
             ],
             [
              0.6666666666666666,
              "#ed7953"
             ],
             [
              0.7777777777777778,
              "#fb9f3a"
             ],
             [
              0.8888888888888888,
              "#fdca26"
             ],
             [
              1,
              "#f0f921"
             ]
            ],
            "type": "heatmapgl"
           }
          ],
          "histogram": [
           {
            "marker": {
             "colorbar": {
              "outlinewidth": 0,
              "ticks": ""
             }
            },
            "type": "histogram"
           }
          ],
          "histogram2d": [
           {
            "colorbar": {
             "outlinewidth": 0,
             "ticks": ""
            },
            "colorscale": [
             [
              0,
              "#0d0887"
             ],
             [
              0.1111111111111111,
              "#46039f"
             ],
             [
              0.2222222222222222,
              "#7201a8"
             ],
             [
              0.3333333333333333,
              "#9c179e"
             ],
             [
              0.4444444444444444,
              "#bd3786"
             ],
             [
              0.5555555555555556,
              "#d8576b"
             ],
             [
              0.6666666666666666,
              "#ed7953"
             ],
             [
              0.7777777777777778,
              "#fb9f3a"
             ],
             [
              0.8888888888888888,
              "#fdca26"
             ],
             [
              1,
              "#f0f921"
             ]
            ],
            "type": "histogram2d"
           }
          ],
          "histogram2dcontour": [
           {
            "colorbar": {
             "outlinewidth": 0,
             "ticks": ""
            },
            "colorscale": [
             [
              0,
              "#0d0887"
             ],
             [
              0.1111111111111111,
              "#46039f"
             ],
             [
              0.2222222222222222,
              "#7201a8"
             ],
             [
              0.3333333333333333,
              "#9c179e"
             ],
             [
              0.4444444444444444,
              "#bd3786"
             ],
             [
              0.5555555555555556,
              "#d8576b"
             ],
             [
              0.6666666666666666,
              "#ed7953"
             ],
             [
              0.7777777777777778,
              "#fb9f3a"
             ],
             [
              0.8888888888888888,
              "#fdca26"
             ],
             [
              1,
              "#f0f921"
             ]
            ],
            "type": "histogram2dcontour"
           }
          ],
          "mesh3d": [
           {
            "colorbar": {
             "outlinewidth": 0,
             "ticks": ""
            },
            "type": "mesh3d"
           }
          ],
          "parcoords": [
           {
            "line": {
             "colorbar": {
              "outlinewidth": 0,
              "ticks": ""
             }
            },
            "type": "parcoords"
           }
          ],
          "pie": [
           {
            "automargin": true,
            "type": "pie"
           }
          ],
          "scatter": [
           {
            "marker": {
             "colorbar": {
              "outlinewidth": 0,
              "ticks": ""
             }
            },
            "type": "scatter"
           }
          ],
          "scatter3d": [
           {
            "line": {
             "colorbar": {
              "outlinewidth": 0,
              "ticks": ""
             }
            },
            "marker": {
             "colorbar": {
              "outlinewidth": 0,
              "ticks": ""
             }
            },
            "type": "scatter3d"
           }
          ],
          "scattercarpet": [
           {
            "marker": {
             "colorbar": {
              "outlinewidth": 0,
              "ticks": ""
             }
            },
            "type": "scattercarpet"
           }
          ],
          "scattergeo": [
           {
            "marker": {
             "colorbar": {
              "outlinewidth": 0,
              "ticks": ""
             }
            },
            "type": "scattergeo"
           }
          ],
          "scattergl": [
           {
            "marker": {
             "colorbar": {
              "outlinewidth": 0,
              "ticks": ""
             }
            },
            "type": "scattergl"
           }
          ],
          "scattermapbox": [
           {
            "marker": {
             "colorbar": {
              "outlinewidth": 0,
              "ticks": ""
             }
            },
            "type": "scattermapbox"
           }
          ],
          "scatterpolar": [
           {
            "marker": {
             "colorbar": {
              "outlinewidth": 0,
              "ticks": ""
             }
            },
            "type": "scatterpolar"
           }
          ],
          "scatterpolargl": [
           {
            "marker": {
             "colorbar": {
              "outlinewidth": 0,
              "ticks": ""
             }
            },
            "type": "scatterpolargl"
           }
          ],
          "scatterternary": [
           {
            "marker": {
             "colorbar": {
              "outlinewidth": 0,
              "ticks": ""
             }
            },
            "type": "scatterternary"
           }
          ],
          "surface": [
           {
            "colorbar": {
             "outlinewidth": 0,
             "ticks": ""
            },
            "colorscale": [
             [
              0,
              "#0d0887"
             ],
             [
              0.1111111111111111,
              "#46039f"
             ],
             [
              0.2222222222222222,
              "#7201a8"
             ],
             [
              0.3333333333333333,
              "#9c179e"
             ],
             [
              0.4444444444444444,
              "#bd3786"
             ],
             [
              0.5555555555555556,
              "#d8576b"
             ],
             [
              0.6666666666666666,
              "#ed7953"
             ],
             [
              0.7777777777777778,
              "#fb9f3a"
             ],
             [
              0.8888888888888888,
              "#fdca26"
             ],
             [
              1,
              "#f0f921"
             ]
            ],
            "type": "surface"
           }
          ],
          "table": [
           {
            "cells": {
             "fill": {
              "color": "#EBF0F8"
             },
             "line": {
              "color": "white"
             }
            },
            "header": {
             "fill": {
              "color": "#C8D4E3"
             },
             "line": {
              "color": "white"
             }
            },
            "type": "table"
           }
          ]
         },
         "layout": {
          "annotationdefaults": {
           "arrowcolor": "#2a3f5f",
           "arrowhead": 0,
           "arrowwidth": 1
          },
          "coloraxis": {
           "colorbar": {
            "outlinewidth": 0,
            "ticks": ""
           }
          },
          "colorscale": {
           "diverging": [
            [
             0,
             "#8e0152"
            ],
            [
             0.1,
             "#c51b7d"
            ],
            [
             0.2,
             "#de77ae"
            ],
            [
             0.3,
             "#f1b6da"
            ],
            [
             0.4,
             "#fde0ef"
            ],
            [
             0.5,
             "#f7f7f7"
            ],
            [
             0.6,
             "#e6f5d0"
            ],
            [
             0.7,
             "#b8e186"
            ],
            [
             0.8,
             "#7fbc41"
            ],
            [
             0.9,
             "#4d9221"
            ],
            [
             1,
             "#276419"
            ]
           ],
           "sequential": [
            [
             0,
             "#0d0887"
            ],
            [
             0.1111111111111111,
             "#46039f"
            ],
            [
             0.2222222222222222,
             "#7201a8"
            ],
            [
             0.3333333333333333,
             "#9c179e"
            ],
            [
             0.4444444444444444,
             "#bd3786"
            ],
            [
             0.5555555555555556,
             "#d8576b"
            ],
            [
             0.6666666666666666,
             "#ed7953"
            ],
            [
             0.7777777777777778,
             "#fb9f3a"
            ],
            [
             0.8888888888888888,
             "#fdca26"
            ],
            [
             1,
             "#f0f921"
            ]
           ],
           "sequentialminus": [
            [
             0,
             "#0d0887"
            ],
            [
             0.1111111111111111,
             "#46039f"
            ],
            [
             0.2222222222222222,
             "#7201a8"
            ],
            [
             0.3333333333333333,
             "#9c179e"
            ],
            [
             0.4444444444444444,
             "#bd3786"
            ],
            [
             0.5555555555555556,
             "#d8576b"
            ],
            [
             0.6666666666666666,
             "#ed7953"
            ],
            [
             0.7777777777777778,
             "#fb9f3a"
            ],
            [
             0.8888888888888888,
             "#fdca26"
            ],
            [
             1,
             "#f0f921"
            ]
           ]
          },
          "colorway": [
           "#636efa",
           "#EF553B",
           "#00cc96",
           "#ab63fa",
           "#FFA15A",
           "#19d3f3",
           "#FF6692",
           "#B6E880",
           "#FF97FF",
           "#FECB52"
          ],
          "font": {
           "color": "#2a3f5f"
          },
          "geo": {
           "bgcolor": "white",
           "lakecolor": "white",
           "landcolor": "#E5ECF6",
           "showlakes": true,
           "showland": true,
           "subunitcolor": "white"
          },
          "hoverlabel": {
           "align": "left"
          },
          "hovermode": "closest",
          "mapbox": {
           "style": "light"
          },
          "paper_bgcolor": "white",
          "plot_bgcolor": "#E5ECF6",
          "polar": {
           "angularaxis": {
            "gridcolor": "white",
            "linecolor": "white",
            "ticks": ""
           },
           "bgcolor": "#E5ECF6",
           "radialaxis": {
            "gridcolor": "white",
            "linecolor": "white",
            "ticks": ""
           }
          },
          "scene": {
           "xaxis": {
            "backgroundcolor": "#E5ECF6",
            "gridcolor": "white",
            "gridwidth": 2,
            "linecolor": "white",
            "showbackground": true,
            "ticks": "",
            "zerolinecolor": "white"
           },
           "yaxis": {
            "backgroundcolor": "#E5ECF6",
            "gridcolor": "white",
            "gridwidth": 2,
            "linecolor": "white",
            "showbackground": true,
            "ticks": "",
            "zerolinecolor": "white"
           },
           "zaxis": {
            "backgroundcolor": "#E5ECF6",
            "gridcolor": "white",
            "gridwidth": 2,
            "linecolor": "white",
            "showbackground": true,
            "ticks": "",
            "zerolinecolor": "white"
           }
          },
          "shapedefaults": {
           "line": {
            "color": "#2a3f5f"
           }
          },
          "ternary": {
           "aaxis": {
            "gridcolor": "white",
            "linecolor": "white",
            "ticks": ""
           },
           "baxis": {
            "gridcolor": "white",
            "linecolor": "white",
            "ticks": ""
           },
           "bgcolor": "#E5ECF6",
           "caxis": {
            "gridcolor": "white",
            "linecolor": "white",
            "ticks": ""
           }
          },
          "title": {
           "x": 0.05
          },
          "xaxis": {
           "automargin": true,
           "gridcolor": "white",
           "linecolor": "white",
           "ticks": "",
           "title": {
            "standoff": 15
           },
           "zerolinecolor": "white",
           "zerolinewidth": 2
          },
          "yaxis": {
           "automargin": true,
           "gridcolor": "white",
           "linecolor": "white",
           "ticks": "",
           "title": {
            "standoff": 15
           },
           "zerolinecolor": "white",
           "zerolinewidth": 2
          }
         }
        },
        "title": {
         "text": "Ventilator reallocation results"
        }
       }
      },
      "text/html": [
       "<div>\n",
       "        \n",
       "        \n",
       "            <div id=\"43164b18-b870-45fb-818e-5a3b3bbbeceb\" class=\"plotly-graph-div\" style=\"height:525px; width:100%;\"></div>\n",
       "            <script type=\"text/javascript\">\n",
       "                require([\"plotly\"], function(Plotly) {\n",
       "                    window.PLOTLYENV=window.PLOTLYENV || {};\n",
       "                    \n",
       "                if (document.getElementById(\"43164b18-b870-45fb-818e-5a3b3bbbeceb\")) {\n",
       "                    Plotly.newPlot(\n",
       "                        '43164b18-b870-45fb-818e-5a3b3bbbeceb',\n",
       "                        [{\"hoverinfo\": \"text\", \"lat\": [47.561196, 46.193711, 46.524749, 47.376736, 46.947455, 47.389185, 47.454285999999996, 47.391652, 46.440108, 46.77032, 46.522437, 47.711995, 47.263268, 47.200103999999996, 47.322205, 46.801389, 47.488122, 47.058078, 47.05812, 46.197616, 47.549937, 47.351971999999996, 46.86411, 47.397628000000005, 46.958811, 46.947645, 46.95279, 46.996590999999995, 47.147814000000004, 47.049215000000004, 46.680833, 47.399167, 47.507967, 46.288114, 47.34917, 47.566617, 47.353765, 47.394227, 47.366863, 46.2351, 46.761733, 47.43119, 47.194648, 47.522028999999996, 47.216521, 46.228776, 47.419685, 47.016475, 46.383439, 47.277588, 47.35256, 47.251154, 47.189221, 46.005434, 46.540309, 47.296098, 46.818815, 46.883284, 46.018508000000004, 46.959937, 47.445458, 47.046166, 46.186931, 47.372031, 47.431105, 47.563624, 47.141715999999995], \"locationmode\": \"USA-states\", \"lon\": [7.5815410000000005, 6.148855999999999, 6.639659, 8.549199, 7.4248009999999995, 8.059994999999999, 8.278407000000001, 8.042692, 6.908222, 6.64755, 6.499426000000001, 8.638826, 8.589378, 7.539125, 8.802781, 7.137283, 7.731507000000001, 8.298791, 8.326092, 9.026881, 8.911494, 8.576158, 9.539952, 9.579355, 7.427403, 7.426611, 7.448237, 6.942991, 7.244622, 7.620941999999999, 7.842919, 8.520622, 8.727949, 7.8841779999999995, 8.598519, 7.614161999999999, 8.724082000000001, 8.431632, 8.497572, 7.387328, 7.632281, 9.388303, 8.518031, 8.5329, 7.793825, 6.0674, 7.058210000000001, 8.658699, 6.227493, 8.330606, 8.531581, 8.696631, 8.858947, 8.94011, 9.878888, 7.9471240000000005, 6.946231, 8.637429, 8.952941000000001, 8.357545, 9.411887, 9.06511, 6.142615, 8.557767, 9.387303999999999, 7.58183, 8.130885000000001], \"marker\": {\"color\": \"black\", \"size\": 5}, \"mode\": \"markers\", \"text\": [\"Universit\\u00c3\\u008c_tsspital Basel\", \"Les H\\u00c3\\u008c\\u00c2\\u00abpitaux Universitaires de Gen\\u00c3\\u008c\\u00c2\\u00acve HUG\", \"CHUV Centre Hospitalier Universitaire Vaudois\", \"Universit\\u00c3\\u008c_tsspital Z\\u00c3\\u008c_rich\", \"Insel Gruppe AG (universit\\u00c3\\u008c_r)\", \"Kantonsspital Aarau AG\", \"Kantonsspital Baden AG\", \"Hirslanden Klinik Aarau\", \"H\\u00c3\\u008c\\u00c2\\u00abpital Riviera-Chablais Vaud-Valais\", \"Etablissements Hospitaliers du Nord Vaudois (eHnv)\", \"EHC Ensemble hospitalier de la C\\u00c3\\u008c\\u00c2\\u00abte\", \"Spit\\u00c3\\u008c_ler Schaffhausen\", \"See-Spital\", \"Solothurner Spit\\u00c3\\u008c_ler AG\", \"GZO Spital Wetzikon\", \"HFR - H\\u00c3\\u008c\\u00c2\\u00abpital fribourgeois\", \"Kantonsspital Baselland\", \"Luzerner Kantonsspital\", \"Hirslanden Klinik St. Anna AG\", \"EOC Ente ospedaliero cantonale\", \"Spital Thurgau AG Kantonsspit\\u00c3\\u008c_ler Frauenfeld & M\\u00c3\\u008c_nsterlingen\", \"Klinik Hirslanden AG\", \"Kantonsspital Graub\\u00c3\\u008c_nden\", \"Spitalregion Rheintal Werdenberg Sarganserland\", \"Lindenhof AG\", \"Insel Gruppe AG (nicht-universit\\u00c3\\u008c_r)\", \"Hirslanden Bern AG\", \"H\\u00c3\\u008c\\u00c2\\u00abpital Neuch\\u00c3\\u008c\\u00c2\\u00a2telois HNE\", \"Spitalzentrum Biel AG\", \"Regionalspital Emmental AG\", \"Spit\\u00c3\\u008c_ler Frutigen Meiringen Interlaken AG\", \"Stadtspital Waid\", \"Kantonsspital Winterthur\", \"Spital Wallis - Spitalzentrum Oberwallis (SZO)\", \"Spital Zollikerberg\", \"St. Claraspital\", \"Spital Uster\", \"Spital Limmattal\", \"Stadtspital Triemli\", \"H\\u00c3\\u008c\\u00c2\\u00abpital du Valais - Centre hospitalier du centre du Valais (CHCVs)\", \"Spital STS AG\", \"Kantonsspital St. Gallen\", \"Zuger Kantonsspital AG\", \"Spital B\\u00c3\\u008c_lach AG\", \"SRO Spital Region Oberaargau AG\", \"H\\u00c3\\u008c\\u00c2\\u00abpital de la Tour\", \"H\\u00c3\\u008c\\u00c2\\u00abpital du Jura\", \"Spital Schwyz\", \"Groupement Hospitalier de l'Ouest L\\u00c3\\u008c\\u00c2\\u00a9manique (GHOL) SA\", \"Kreisspital f\\u00c3\\u008c_r das Freiamt\", \"Klinik Im Park\", \"Spital M\\u00c3\\u008c_nnedorf AG\", \"Spital Lachen\", \"Clinica Luganese Moncucco SA Sede Moncucco\", \"Spital Oberengadin\", \"Spital Zofingen AG\", \"H\\u00c3\\u008c\\u00c2\\u00abpital Intercantonal de la Broye (HIB)\", \"Kantonsspital Uri\", \"Cardiocentro Ticino (CCT)\", \"Kantonsspital Nidwalden\", \"Hirslanden Klinik Stephanshorn\", \"Kantonsspital Glarus\", \"Clinique de Carouge\", \"Universit\\u00c3\\u008c_ts-Kinderspital Z\\u00c3\\u008c_rich das Spital der Eleonorenstiftung\", \"Ostschweizer Kinderspital\", \"Universit\\u00c3\\u008c_ts-Kinderspital beider Basel (UKBB)\", \"Schweizer Paraplegiker-Zentrum Nottwil AG\"], \"type\": \"scattergeo\"}, {\"hoverinfo\": \"text\", \"lat\": [47.561196, 46.524749, 47.376736, 46.947455, 47.389185, 47.454285999999996, 47.391652, 46.440108, 46.77032, 46.522437, 47.711995, 47.263268, 47.200103999999996, 47.322205, 46.801389, 47.488122, 47.058078, 47.05812, 47.549937, 47.351971999999996, 46.86411, 47.397628000000005, 46.958811, 46.947645, 46.95279, 47.147814000000004, 47.049215000000004, 46.680833, 47.399167, 47.507967, 47.34917, 47.566617, 47.394227, 47.366863, 46.761733, 47.43119, 47.194648, 47.216521, 46.228776, 46.383439, 47.189221, 47.372031], \"locationmode\": \"USA-states\", \"lon\": [7.5815410000000005, 6.639659, 8.549199, 7.4248009999999995, 8.059994999999999, 8.278407000000001, 8.042692, 6.908222, 6.64755, 6.499426000000001, 8.638826, 8.589378, 7.539125, 8.802781, 7.137283, 7.731507000000001, 8.298791, 8.326092, 8.911494, 8.576158, 9.539952, 9.579355, 7.427403, 7.426611, 7.448237, 7.244622, 7.620941999999999, 7.842919, 8.520622, 8.727949, 8.598519, 7.614161999999999, 8.431632, 8.497572, 7.632281, 9.388303, 8.518031, 7.793825, 6.0674, 6.227493, 8.858947, 8.557767], \"marker\": {\"color\": \"green\", \"size\": 5}, \"mode\": \"markers\", \"text\": [\"Universit\\u00c3\\u008c_tsspital Basel\", \"CHUV Centre Hospitalier Universitaire Vaudois\", \"Universit\\u00c3\\u008c_tsspital Z\\u00c3\\u008c_rich\", \"Insel Gruppe AG (universit\\u00c3\\u008c_r)\", \"Kantonsspital Aarau AG\", \"Kantonsspital Baden AG\", \"Hirslanden Klinik Aarau\", \"H\\u00c3\\u008c\\u00c2\\u00abpital Riviera-Chablais Vaud-Valais\", \"Etablissements Hospitaliers du Nord Vaudois (eHnv)\", \"EHC Ensemble hospitalier de la C\\u00c3\\u008c\\u00c2\\u00abte\", \"Spit\\u00c3\\u008c_ler Schaffhausen\", \"See-Spital\", \"Solothurner Spit\\u00c3\\u008c_ler AG\", \"GZO Spital Wetzikon\", \"HFR - H\\u00c3\\u008c\\u00c2\\u00abpital fribourgeois\", \"Kantonsspital Baselland\", \"Luzerner Kantonsspital\", \"Hirslanden Klinik St. Anna AG\", \"Spital Thurgau AG Kantonsspit\\u00c3\\u008c_ler Frauenfeld & M\\u00c3\\u008c_nsterlingen\", \"Klinik Hirslanden AG\", \"Kantonsspital Graub\\u00c3\\u008c_nden\", \"Spitalregion Rheintal Werdenberg Sarganserland\", \"Lindenhof AG\", \"Insel Gruppe AG (nicht-universit\\u00c3\\u008c_r)\", \"Hirslanden Bern AG\", \"Spitalzentrum Biel AG\", \"Regionalspital Emmental AG\", \"Spit\\u00c3\\u008c_ler Frutigen Meiringen Interlaken AG\", \"Stadtspital Waid\", \"Kantonsspital Winterthur\", \"Spital Zollikerberg\", \"St. Claraspital\", \"Spital Limmattal\", \"Stadtspital Triemli\", \"Spital STS AG\", \"Kantonsspital St. Gallen\", \"Zuger Kantonsspital AG\", \"SRO Spital Region Oberaargau AG\", \"H\\u00c3\\u008c\\u00c2\\u00abpital de la Tour\", \"Groupement Hospitalier de l'Ouest L\\u00c3\\u008c\\u00c2\\u00a9manique (GHOL) SA\", \"Spital Lachen\", \"Universit\\u00c3\\u008c_ts-Kinderspital Z\\u00c3\\u008c_rich das Spital der Eleonorenstiftung\"], \"type\": \"scattergeo\"}, {\"hoverinfo\": \"text\", \"lat\": [46.193711, 47.376736, 46.947455, 47.389185, 47.454285999999996, 47.391652, 47.263268, 47.322205, 46.197616, 47.351971999999996, 46.958811, 46.947645, 46.996590999999995, 47.049215000000004, 47.399167, 47.507967, 46.288114, 47.394227, 47.366863, 46.2351, 46.761733, 46.228776, 47.277588, 46.005434, 47.296098, 46.018508000000004, 46.186931], \"locationmode\": \"USA-states\", \"lon\": [6.148855999999999, 8.549199, 7.4248009999999995, 8.059994999999999, 8.278407000000001, 8.042692, 8.589378, 8.802781, 9.026881, 8.576158, 7.427403, 7.426611, 6.942991, 7.620941999999999, 8.520622, 8.727949, 7.8841779999999995, 8.431632, 8.497572, 7.387328, 7.632281, 6.0674, 8.330606, 8.94011, 7.9471240000000005, 8.952941000000001, 6.142615], \"marker\": {\"color\": \"red\", \"size\": 5}, \"mode\": \"markers\", \"text\": [\"Les H\\u00c3\\u008c\\u00c2\\u00abpitaux Universitaires de Gen\\u00c3\\u008c\\u00c2\\u00acve HUG\", \"Universit\\u00c3\\u008c_tsspital Z\\u00c3\\u008c_rich\", \"Insel Gruppe AG (universit\\u00c3\\u008c_r)\", \"Kantonsspital Aarau AG\", \"Kantonsspital Baden AG\", \"Hirslanden Klinik Aarau\", \"See-Spital\", \"GZO Spital Wetzikon\", \"EOC Ente ospedaliero cantonale\", \"Klinik Hirslanden AG\", \"Lindenhof AG\", \"Insel Gruppe AG (nicht-universit\\u00c3\\u008c_r)\", \"H\\u00c3\\u008c\\u00c2\\u00abpital Neuch\\u00c3\\u008c\\u00c2\\u00a2telois HNE\", \"Regionalspital Emmental AG\", \"Stadtspital Waid\", \"Kantonsspital Winterthur\", \"Spital Wallis - Spitalzentrum Oberwallis (SZO)\", \"Spital Limmattal\", \"Stadtspital Triemli\", \"H\\u00c3\\u008c\\u00c2\\u00abpital du Valais - Centre hospitalier du centre du Valais (CHCVs)\", \"Spital STS AG\", \"H\\u00c3\\u008c\\u00c2\\u00abpital de la Tour\", \"Kreisspital f\\u00c3\\u008c_r das Freiamt\", \"Clinica Luganese Moncucco SA Sede Moncucco\", \"Spital Zofingen AG\", \"Cardiocentro Ticino (CCT)\", \"Clinique de Carouge\"], \"type\": \"scattergeo\"}, {\"lat\": [47.561196, 47.389185], \"line\": {\"color\": \"blue\", \"width\": 1.5}, \"locationmode\": \"USA-states\", \"lon\": [7.5815410000000005, 8.059994999999999], \"mode\": \"lines\", \"opacity\": 0.6666666666666666, \"type\": \"scattergeo\"}, {\"lat\": [47.561196, 46.197616], \"line\": {\"color\": \"blue\", \"width\": 1.5}, \"locationmode\": \"USA-states\", \"lon\": [7.5815410000000005, 9.026881], \"mode\": \"lines\", \"opacity\": 0.6666666666666666, \"type\": \"scattergeo\"}, {\"lat\": [46.524749, 46.193711], \"line\": {\"color\": \"blue\", \"width\": 1.5}, \"locationmode\": \"USA-states\", \"lon\": [6.639659, 6.148855999999999], \"mode\": \"lines\", \"opacity\": 0.9523809523809523, \"type\": \"scattergeo\"}, {\"lat\": [46.524749, 46.2351], \"line\": {\"color\": \"blue\", \"width\": 1.5}, \"locationmode\": \"USA-states\", \"lon\": [6.639659, 7.387328], \"mode\": \"lines\", \"opacity\": 0.9523809523809523, \"type\": \"scattergeo\"}, {\"lat\": [47.376736, 46.193711], \"line\": {\"color\": \"blue\", \"width\": 1.5}, \"locationmode\": \"USA-states\", \"lon\": [8.549199, 6.148855999999999], \"mode\": \"lines\", \"opacity\": 1.0, \"type\": \"scattergeo\"}, {\"lat\": [47.376736, 46.197616], \"line\": {\"color\": \"blue\", \"width\": 1.5}, \"locationmode\": \"USA-states\", \"lon\": [8.549199, 9.026881], \"mode\": \"lines\", \"opacity\": 1.0, \"type\": \"scattergeo\"}, {\"lat\": [46.947455, 46.193711], \"line\": {\"color\": \"blue\", \"width\": 1.5}, \"locationmode\": \"USA-states\", \"lon\": [7.4248009999999995, 6.148855999999999], \"mode\": \"lines\", \"opacity\": 0.9047619047619048, \"type\": \"scattergeo\"}, {\"lat\": [46.947455, 46.197616], \"line\": {\"color\": \"blue\", \"width\": 1.5}, \"locationmode\": \"USA-states\", \"lon\": [7.4248009999999995, 9.026881], \"mode\": \"lines\", \"opacity\": 0.9047619047619048, \"type\": \"scattergeo\"}, {\"lat\": [47.389185, 46.197616], \"line\": {\"color\": \"blue\", \"width\": 1.5}, \"locationmode\": \"USA-states\", \"lon\": [8.059994999999999, 9.026881], \"mode\": \"lines\", \"opacity\": 0.5238095238095238, \"type\": \"scattergeo\"}, {\"lat\": [47.454285999999996, 47.394227], \"line\": {\"color\": \"blue\", \"width\": 1.5}, \"locationmode\": \"USA-states\", \"lon\": [8.278407000000001, 8.431632], \"mode\": \"lines\", \"opacity\": 0.23809523809523808, \"type\": \"scattergeo\"}, {\"lat\": [47.391652, 47.389185], \"line\": {\"color\": \"blue\", \"width\": 1.5}, \"locationmode\": \"USA-states\", \"lon\": [8.042692, 8.059994999999999], \"mode\": \"lines\", \"opacity\": 0.14285714285714285, \"type\": \"scattergeo\"}, {\"lat\": [46.440108, 46.193711], \"line\": {\"color\": \"blue\", \"width\": 1.5}, \"locationmode\": \"USA-states\", \"lon\": [6.908222, 6.148855999999999], \"mode\": \"lines\", \"opacity\": 0.3333333333333333, \"type\": \"scattergeo\"}, {\"lat\": [46.440108, 46.228776], \"line\": {\"color\": \"blue\", \"width\": 1.5}, \"locationmode\": \"USA-states\", \"lon\": [6.908222, 6.0674], \"mode\": \"lines\", \"opacity\": 0.3333333333333333, \"type\": \"scattergeo\"}, {\"lat\": [46.77032, 46.193711], \"line\": {\"color\": \"blue\", \"width\": 1.5}, \"locationmode\": \"USA-states\", \"lon\": [6.64755, 6.148855999999999], \"mode\": \"lines\", \"opacity\": 0.23809523809523808, \"type\": \"scattergeo\"}, {\"lat\": [46.77032, 46.228776], \"line\": {\"color\": \"blue\", \"width\": 1.5}, \"locationmode\": \"USA-states\", \"lon\": [6.64755, 6.0674], \"mode\": \"lines\", \"opacity\": 0.23809523809523808, \"type\": \"scattergeo\"}, {\"lat\": [46.522437, 46.193711], \"line\": {\"color\": \"blue\", \"width\": 1.5}, \"locationmode\": \"USA-states\", \"lon\": [6.499426000000001, 6.148855999999999], \"mode\": \"lines\", \"opacity\": 0.14285714285714285, \"type\": \"scattergeo\"}, {\"lat\": [46.522437, 46.186931], \"line\": {\"color\": \"blue\", \"width\": 1.5}, \"locationmode\": \"USA-states\", \"lon\": [6.499426000000001, 6.142615], \"mode\": \"lines\", \"opacity\": 0.09523809523809523, \"type\": \"scattergeo\"}, {\"lat\": [47.711995, 47.399167], \"line\": {\"color\": \"blue\", \"width\": 1.5}, \"locationmode\": \"USA-states\", \"lon\": [8.638826, 8.520622], \"mode\": \"lines\", \"opacity\": 0.14285714285714285, \"type\": \"scattergeo\"}, {\"lat\": [47.711995, 47.507967], \"line\": {\"color\": \"blue\", \"width\": 1.5}, \"locationmode\": \"USA-states\", \"lon\": [8.638826, 8.727949], \"mode\": \"lines\", \"opacity\": 0.14285714285714285, \"type\": \"scattergeo\"}, {\"lat\": [47.263268, 47.376736], \"line\": {\"color\": \"blue\", \"width\": 1.5}, \"locationmode\": \"USA-states\", \"lon\": [8.589378, 8.549199], \"mode\": \"lines\", \"opacity\": 0.23809523809523808, \"type\": \"scattergeo\"}, {\"lat\": [47.263268, 47.366863], \"line\": {\"color\": \"blue\", \"width\": 1.5}, \"locationmode\": \"USA-states\", \"lon\": [8.589378, 8.497572], \"mode\": \"lines\", \"opacity\": 0.23809523809523808, \"type\": \"scattergeo\"}, {\"lat\": [47.200103999999996, 46.947455], \"line\": {\"color\": \"blue\", \"width\": 1.5}, \"locationmode\": \"USA-states\", \"lon\": [7.539125, 7.4248009999999995], \"mode\": \"lines\", \"opacity\": 0.47619047619047616, \"type\": \"scattergeo\"}, {\"lat\": [47.200103999999996, 46.996590999999995], \"line\": {\"color\": \"blue\", \"width\": 1.5}, \"locationmode\": \"USA-states\", \"lon\": [7.539125, 6.942991], \"mode\": \"lines\", \"opacity\": 0.47619047619047616, \"type\": \"scattergeo\"}, {\"lat\": [47.322205, 47.351971999999996], \"line\": {\"color\": \"blue\", \"width\": 1.5}, \"locationmode\": \"USA-states\", \"lon\": [8.802781, 8.576158], \"mode\": \"lines\", \"opacity\": 0.14285714285714285, \"type\": \"scattergeo\"}, {\"lat\": [46.801389, 46.193711], \"line\": {\"color\": \"blue\", \"width\": 1.5}, \"locationmode\": \"USA-states\", \"lon\": [7.137283, 6.148855999999999], \"mode\": \"lines\", \"opacity\": 0.42857142857142855, \"type\": \"scattergeo\"}, {\"lat\": [46.801389, 46.2351], \"line\": {\"color\": \"blue\", \"width\": 1.5}, \"locationmode\": \"USA-states\", \"lon\": [7.137283, 7.387328], \"mode\": \"lines\", \"opacity\": 0.42857142857142855, \"type\": \"scattergeo\"}, {\"lat\": [47.488122, 47.454285999999996], \"line\": {\"color\": \"blue\", \"width\": 1.5}, \"locationmode\": \"USA-states\", \"lon\": [7.731507000000001, 8.278407000000001], \"mode\": \"lines\", \"opacity\": 0.47619047619047616, \"type\": \"scattergeo\"}, {\"lat\": [47.488122, 46.197616], \"line\": {\"color\": \"blue\", \"width\": 1.5}, \"locationmode\": \"USA-states\", \"lon\": [7.731507000000001, 9.026881], \"mode\": \"lines\", \"opacity\": 0.47619047619047616, \"type\": \"scattergeo\"}, {\"lat\": [47.058078, 46.193711], \"line\": {\"color\": \"blue\", \"width\": 1.5}, \"locationmode\": \"USA-states\", \"lon\": [8.298791, 6.148855999999999], \"mode\": \"lines\", \"opacity\": 0.7619047619047619, \"type\": \"scattergeo\"}, {\"lat\": [47.058078, 46.197616], \"line\": {\"color\": \"blue\", \"width\": 1.5}, \"locationmode\": \"USA-states\", \"lon\": [8.298791, 9.026881], \"mode\": \"lines\", \"opacity\": 0.7619047619047619, \"type\": \"scattergeo\"}, {\"lat\": [47.05812, 47.263268], \"line\": {\"color\": \"blue\", \"width\": 1.5}, \"locationmode\": \"USA-states\", \"lon\": [8.326092, 8.589378], \"mode\": \"lines\", \"opacity\": 0.19047619047619047, \"type\": \"scattergeo\"}, {\"lat\": [47.05812, 46.197616], \"line\": {\"color\": \"blue\", \"width\": 1.5}, \"locationmode\": \"USA-states\", \"lon\": [8.326092, 9.026881], \"mode\": \"lines\", \"opacity\": 0.19047619047619047, \"type\": \"scattergeo\"}, {\"lat\": [47.549937, 47.376736], \"line\": {\"color\": \"blue\", \"width\": 1.5}, \"locationmode\": \"USA-states\", \"lon\": [8.911494, 8.549199], \"mode\": \"lines\", \"opacity\": 0.5238095238095238, \"type\": \"scattergeo\"}, {\"lat\": [47.549937, 46.197616], \"line\": {\"color\": \"blue\", \"width\": 1.5}, \"locationmode\": \"USA-states\", \"lon\": [8.911494, 9.026881], \"mode\": \"lines\", \"opacity\": 0.5238095238095238, \"type\": \"scattergeo\"}, {\"lat\": [47.351971999999996, 47.376736], \"line\": {\"color\": \"blue\", \"width\": 1.5}, \"locationmode\": \"USA-states\", \"lon\": [8.576158, 8.549199], \"mode\": \"lines\", \"opacity\": 0.19047619047619047, \"type\": \"scattergeo\"}, {\"lat\": [46.86411, 46.197616], \"line\": {\"color\": \"blue\", \"width\": 1.5}, \"locationmode\": \"USA-states\", \"lon\": [9.539952, 9.026881], \"mode\": \"lines\", \"opacity\": 0.3333333333333333, \"type\": \"scattergeo\"}, {\"lat\": [46.86411, 46.018508000000004], \"line\": {\"color\": \"blue\", \"width\": 1.5}, \"locationmode\": \"USA-states\", \"lon\": [9.539952, 8.952941000000001], \"mode\": \"lines\", \"opacity\": 0.23809523809523808, \"type\": \"scattergeo\"}, {\"lat\": [47.397628000000005, 46.197616], \"line\": {\"color\": \"blue\", \"width\": 1.5}, \"locationmode\": \"USA-states\", \"lon\": [9.579355, 9.026881], \"mode\": \"lines\", \"opacity\": 0.2857142857142857, \"type\": \"scattergeo\"}, {\"lat\": [47.397628000000005, 47.507967], \"line\": {\"color\": \"blue\", \"width\": 1.5}, \"locationmode\": \"USA-states\", \"lon\": [9.579355, 8.727949], \"mode\": \"lines\", \"opacity\": 0.2857142857142857, \"type\": \"scattergeo\"}, {\"lat\": [46.958811, 46.947645], \"line\": {\"color\": \"blue\", \"width\": 1.5}, \"locationmode\": \"USA-states\", \"lon\": [7.427403, 7.426611], \"mode\": \"lines\", \"opacity\": 0.09523809523809523, \"type\": \"scattergeo\"}, {\"lat\": [46.958811, 46.288114], \"line\": {\"color\": \"blue\", \"width\": 1.5}, \"locationmode\": \"USA-states\", \"lon\": [7.427403, 7.8841779999999995], \"mode\": \"lines\", \"opacity\": 0.38095238095238093, \"type\": \"scattergeo\"}, {\"lat\": [46.947645, 46.947455], \"line\": {\"color\": \"blue\", \"width\": 1.5}, \"locationmode\": \"USA-states\", \"lon\": [7.426611, 7.4248009999999995], \"mode\": \"lines\", \"opacity\": 0.23809523809523808, \"type\": \"scattergeo\"}, {\"lat\": [46.95279, 46.947455], \"line\": {\"color\": \"blue\", \"width\": 1.5}, \"locationmode\": \"USA-states\", \"lon\": [7.448237, 7.4248009999999995], \"mode\": \"lines\", \"opacity\": 0.23809523809523808, \"type\": \"scattergeo\"}, {\"lat\": [47.147814000000004, 46.996590999999995], \"line\": {\"color\": \"blue\", \"width\": 1.5}, \"locationmode\": \"USA-states\", \"lon\": [7.244622, 6.942991], \"mode\": \"lines\", \"opacity\": 0.19047619047619047, \"type\": \"scattergeo\"}, {\"lat\": [47.049215000000004, 46.947455], \"line\": {\"color\": \"blue\", \"width\": 1.5}, \"locationmode\": \"USA-states\", \"lon\": [7.620941999999999, 7.4248009999999995], \"mode\": \"lines\", \"opacity\": 0.14285714285714285, \"type\": \"scattergeo\"}, {\"lat\": [47.049215000000004, 46.958811], \"line\": {\"color\": \"blue\", \"width\": 1.5}, \"locationmode\": \"USA-states\", \"lon\": [7.620941999999999, 7.427403], \"mode\": \"lines\", \"opacity\": 0.14285714285714285, \"type\": \"scattergeo\"}, {\"lat\": [46.680833, 46.761733], \"line\": {\"color\": \"blue\", \"width\": 1.5}, \"locationmode\": \"USA-states\", \"lon\": [7.842919, 7.632281], \"mode\": \"lines\", \"opacity\": 0.09523809523809523, \"type\": \"scattergeo\"}, {\"lat\": [47.399167, 47.376736], \"line\": {\"color\": \"blue\", \"width\": 1.5}, \"locationmode\": \"USA-states\", \"lon\": [8.520622, 8.549199], \"mode\": \"lines\", \"opacity\": 0.09523809523809523, \"type\": \"scattergeo\"}, {\"lat\": [47.507967, 47.376736], \"line\": {\"color\": \"blue\", \"width\": 1.5}, \"locationmode\": \"USA-states\", \"lon\": [8.727949, 8.549199], \"mode\": \"lines\", \"opacity\": 0.38095238095238093, \"type\": \"scattergeo\"}, {\"lat\": [47.34917, 47.351971999999996], \"line\": {\"color\": \"blue\", \"width\": 1.5}, \"locationmode\": \"USA-states\", \"lon\": [8.598519, 8.576158], \"mode\": \"lines\", \"opacity\": 0.047619047619047616, \"type\": \"scattergeo\"}, {\"lat\": [47.566617, 47.389185], \"line\": {\"color\": \"blue\", \"width\": 1.5}, \"locationmode\": \"USA-states\", \"lon\": [7.614161999999999, 8.059994999999999], \"mode\": \"lines\", \"opacity\": 0.23809523809523808, \"type\": \"scattergeo\"}, {\"lat\": [47.566617, 47.391652], \"line\": {\"color\": \"blue\", \"width\": 1.5}, \"locationmode\": \"USA-states\", \"lon\": [7.614161999999999, 8.042692], \"mode\": \"lines\", \"opacity\": 0.23809523809523808, \"type\": \"scattergeo\"}, {\"lat\": [47.394227, 47.366863], \"line\": {\"color\": \"blue\", \"width\": 1.5}, \"locationmode\": \"USA-states\", \"lon\": [8.431632, 8.497572], \"mode\": \"lines\", \"opacity\": 0.19047619047619047, \"type\": \"scattergeo\"}, {\"lat\": [47.366863, 47.376736], \"line\": {\"color\": \"blue\", \"width\": 1.5}, \"locationmode\": \"USA-states\", \"lon\": [8.497572, 8.549199], \"mode\": \"lines\", \"opacity\": 0.38095238095238093, \"type\": \"scattergeo\"}, {\"lat\": [46.761733, 46.288114], \"line\": {\"color\": \"blue\", \"width\": 1.5}, \"locationmode\": \"USA-states\", \"lon\": [7.632281, 7.8841779999999995], \"mode\": \"lines\", \"opacity\": 0.23809523809523808, \"type\": \"scattergeo\"}, {\"lat\": [47.43119, 46.197616], \"line\": {\"color\": \"blue\", \"width\": 1.5}, \"locationmode\": \"USA-states\", \"lon\": [9.388303, 9.026881], \"mode\": \"lines\", \"opacity\": 0.8095238095238095, \"type\": \"scattergeo\"}, {\"lat\": [47.43119, 46.005434], \"line\": {\"color\": \"blue\", \"width\": 1.5}, \"locationmode\": \"USA-states\", \"lon\": [9.388303, 8.94011], \"mode\": \"lines\", \"opacity\": 0.8095238095238095, \"type\": \"scattergeo\"}, {\"lat\": [47.194648, 47.376736], \"line\": {\"color\": \"blue\", \"width\": 1.5}, \"locationmode\": \"USA-states\", \"lon\": [8.518031, 8.549199], \"mode\": \"lines\", \"opacity\": 0.14285714285714285, \"type\": \"scattergeo\"}, {\"lat\": [47.194648, 47.263268], \"line\": {\"color\": \"blue\", \"width\": 1.5}, \"locationmode\": \"USA-states\", \"lon\": [8.518031, 8.589378], \"mode\": \"lines\", \"opacity\": 0.14285714285714285, \"type\": \"scattergeo\"}, {\"lat\": [47.194648, 47.277588], \"line\": {\"color\": \"blue\", \"width\": 1.5}, \"locationmode\": \"USA-states\", \"lon\": [8.518031, 8.330606], \"mode\": \"lines\", \"opacity\": 0.047619047619047616, \"type\": \"scattergeo\"}, {\"lat\": [47.216521, 47.049215000000004], \"line\": {\"color\": \"blue\", \"width\": 1.5}, \"locationmode\": \"USA-states\", \"lon\": [7.793825, 7.620941999999999], \"mode\": \"lines\", \"opacity\": 0.09523809523809523, \"type\": \"scattergeo\"}, {\"lat\": [47.216521, 47.296098], \"line\": {\"color\": \"blue\", \"width\": 1.5}, \"locationmode\": \"USA-states\", \"lon\": [7.793825, 7.9471240000000005], \"mode\": \"lines\", \"opacity\": 0.09523809523809523, \"type\": \"scattergeo\"}, {\"lat\": [46.228776, 46.193711], \"line\": {\"color\": \"blue\", \"width\": 1.5}, \"locationmode\": \"USA-states\", \"lon\": [6.0674, 6.148855999999999], \"mode\": \"lines\", \"opacity\": 0.14285714285714285, \"type\": \"scattergeo\"}, {\"lat\": [46.383439, 46.193711], \"line\": {\"color\": \"blue\", \"width\": 1.5}, \"locationmode\": \"USA-states\", \"lon\": [6.227493, 6.148855999999999], \"mode\": \"lines\", \"opacity\": 0.14285714285714285, \"type\": \"scattergeo\"}, {\"lat\": [46.383439, 46.228776], \"line\": {\"color\": \"blue\", \"width\": 1.5}, \"locationmode\": \"USA-states\", \"lon\": [6.227493, 6.0674], \"mode\": \"lines\", \"opacity\": 0.14285714285714285, \"type\": \"scattergeo\"}, {\"lat\": [47.189221, 47.263268], \"line\": {\"color\": \"blue\", \"width\": 1.5}, \"locationmode\": \"USA-states\", \"lon\": [8.858947, 8.589378], \"mode\": \"lines\", \"opacity\": 0.09523809523809523, \"type\": \"scattergeo\"}, {\"lat\": [47.189221, 47.322205], \"line\": {\"color\": \"blue\", \"width\": 1.5}, \"locationmode\": \"USA-states\", \"lon\": [8.858947, 8.802781], \"mode\": \"lines\", \"opacity\": 0.09523809523809523, \"type\": \"scattergeo\"}, {\"lat\": [47.372031, 47.376736], \"line\": {\"color\": \"blue\", \"width\": 1.5}, \"locationmode\": \"USA-states\", \"lon\": [8.557767, 8.549199], \"mode\": \"lines\", \"opacity\": 0.047619047619047616, \"type\": \"scattergeo\"}],\n",
       "                        {\"geo\": {\"countrycolor\": \"rgb(204, 204, 204)\", \"landcolor\": \"rgb(243, 243, 243)\", \"projection\": {\"type\": \"stereographic\"}, \"resolution\": 50, \"scope\": \"europe\", \"showlakes\": true}, \"showlegend\": false, \"template\": {\"data\": {\"bar\": [{\"error_x\": {\"color\": \"#2a3f5f\"}, \"error_y\": {\"color\": \"#2a3f5f\"}, \"marker\": {\"line\": {\"color\": \"#E5ECF6\", \"width\": 0.5}}, \"type\": \"bar\"}], \"barpolar\": [{\"marker\": {\"line\": {\"color\": \"#E5ECF6\", \"width\": 0.5}}, \"type\": \"barpolar\"}], \"carpet\": [{\"aaxis\": {\"endlinecolor\": \"#2a3f5f\", \"gridcolor\": \"white\", \"linecolor\": \"white\", \"minorgridcolor\": \"white\", \"startlinecolor\": \"#2a3f5f\"}, \"baxis\": {\"endlinecolor\": \"#2a3f5f\", \"gridcolor\": \"white\", \"linecolor\": \"white\", \"minorgridcolor\": \"white\", \"startlinecolor\": \"#2a3f5f\"}, \"type\": \"carpet\"}], \"choropleth\": [{\"colorbar\": {\"outlinewidth\": 0, \"ticks\": \"\"}, \"type\": \"choropleth\"}], \"contour\": [{\"colorbar\": {\"outlinewidth\": 0, \"ticks\": \"\"}, \"colorscale\": [[0.0, \"#0d0887\"], [0.1111111111111111, \"#46039f\"], [0.2222222222222222, \"#7201a8\"], [0.3333333333333333, \"#9c179e\"], [0.4444444444444444, \"#bd3786\"], [0.5555555555555556, \"#d8576b\"], [0.6666666666666666, \"#ed7953\"], [0.7777777777777778, \"#fb9f3a\"], [0.8888888888888888, \"#fdca26\"], [1.0, \"#f0f921\"]], \"type\": \"contour\"}], \"contourcarpet\": [{\"colorbar\": {\"outlinewidth\": 0, \"ticks\": \"\"}, \"type\": \"contourcarpet\"}], \"heatmap\": [{\"colorbar\": {\"outlinewidth\": 0, \"ticks\": \"\"}, \"colorscale\": [[0.0, \"#0d0887\"], [0.1111111111111111, \"#46039f\"], [0.2222222222222222, \"#7201a8\"], [0.3333333333333333, \"#9c179e\"], [0.4444444444444444, \"#bd3786\"], [0.5555555555555556, \"#d8576b\"], [0.6666666666666666, \"#ed7953\"], [0.7777777777777778, \"#fb9f3a\"], [0.8888888888888888, \"#fdca26\"], [1.0, \"#f0f921\"]], \"type\": \"heatmap\"}], \"heatmapgl\": [{\"colorbar\": {\"outlinewidth\": 0, \"ticks\": \"\"}, \"colorscale\": [[0.0, \"#0d0887\"], [0.1111111111111111, \"#46039f\"], [0.2222222222222222, \"#7201a8\"], [0.3333333333333333, \"#9c179e\"], [0.4444444444444444, \"#bd3786\"], [0.5555555555555556, \"#d8576b\"], [0.6666666666666666, \"#ed7953\"], [0.7777777777777778, \"#fb9f3a\"], [0.8888888888888888, \"#fdca26\"], [1.0, \"#f0f921\"]], \"type\": \"heatmapgl\"}], \"histogram\": [{\"marker\": {\"colorbar\": {\"outlinewidth\": 0, \"ticks\": \"\"}}, \"type\": \"histogram\"}], \"histogram2d\": [{\"colorbar\": {\"outlinewidth\": 0, \"ticks\": \"\"}, \"colorscale\": [[0.0, \"#0d0887\"], [0.1111111111111111, \"#46039f\"], [0.2222222222222222, \"#7201a8\"], [0.3333333333333333, \"#9c179e\"], [0.4444444444444444, \"#bd3786\"], [0.5555555555555556, \"#d8576b\"], [0.6666666666666666, \"#ed7953\"], [0.7777777777777778, \"#fb9f3a\"], [0.8888888888888888, \"#fdca26\"], [1.0, \"#f0f921\"]], \"type\": \"histogram2d\"}], \"histogram2dcontour\": [{\"colorbar\": {\"outlinewidth\": 0, \"ticks\": \"\"}, \"colorscale\": [[0.0, \"#0d0887\"], [0.1111111111111111, \"#46039f\"], [0.2222222222222222, \"#7201a8\"], [0.3333333333333333, \"#9c179e\"], [0.4444444444444444, \"#bd3786\"], [0.5555555555555556, \"#d8576b\"], [0.6666666666666666, \"#ed7953\"], [0.7777777777777778, \"#fb9f3a\"], [0.8888888888888888, \"#fdca26\"], [1.0, \"#f0f921\"]], \"type\": \"histogram2dcontour\"}], \"mesh3d\": [{\"colorbar\": {\"outlinewidth\": 0, \"ticks\": \"\"}, \"type\": \"mesh3d\"}], \"parcoords\": [{\"line\": {\"colorbar\": {\"outlinewidth\": 0, \"ticks\": \"\"}}, \"type\": \"parcoords\"}], \"pie\": [{\"automargin\": true, \"type\": \"pie\"}], \"scatter\": [{\"marker\": {\"colorbar\": {\"outlinewidth\": 0, \"ticks\": \"\"}}, \"type\": \"scatter\"}], \"scatter3d\": [{\"line\": {\"colorbar\": {\"outlinewidth\": 0, \"ticks\": \"\"}}, \"marker\": {\"colorbar\": {\"outlinewidth\": 0, \"ticks\": \"\"}}, \"type\": \"scatter3d\"}], \"scattercarpet\": [{\"marker\": {\"colorbar\": {\"outlinewidth\": 0, \"ticks\": \"\"}}, \"type\": \"scattercarpet\"}], \"scattergeo\": [{\"marker\": {\"colorbar\": {\"outlinewidth\": 0, \"ticks\": \"\"}}, \"type\": \"scattergeo\"}], \"scattergl\": [{\"marker\": {\"colorbar\": {\"outlinewidth\": 0, \"ticks\": \"\"}}, \"type\": \"scattergl\"}], \"scattermapbox\": [{\"marker\": {\"colorbar\": {\"outlinewidth\": 0, \"ticks\": \"\"}}, \"type\": \"scattermapbox\"}], \"scatterpolar\": [{\"marker\": {\"colorbar\": {\"outlinewidth\": 0, \"ticks\": \"\"}}, \"type\": \"scatterpolar\"}], \"scatterpolargl\": [{\"marker\": {\"colorbar\": {\"outlinewidth\": 0, \"ticks\": \"\"}}, \"type\": \"scatterpolargl\"}], \"scatterternary\": [{\"marker\": {\"colorbar\": {\"outlinewidth\": 0, \"ticks\": \"\"}}, \"type\": \"scatterternary\"}], \"surface\": [{\"colorbar\": {\"outlinewidth\": 0, \"ticks\": \"\"}, \"colorscale\": [[0.0, \"#0d0887\"], [0.1111111111111111, \"#46039f\"], [0.2222222222222222, \"#7201a8\"], [0.3333333333333333, \"#9c179e\"], [0.4444444444444444, \"#bd3786\"], [0.5555555555555556, \"#d8576b\"], [0.6666666666666666, \"#ed7953\"], [0.7777777777777778, \"#fb9f3a\"], [0.8888888888888888, \"#fdca26\"], [1.0, \"#f0f921\"]], \"type\": \"surface\"}], \"table\": [{\"cells\": {\"fill\": {\"color\": \"#EBF0F8\"}, \"line\": {\"color\": \"white\"}}, \"header\": {\"fill\": {\"color\": \"#C8D4E3\"}, \"line\": {\"color\": \"white\"}}, \"type\": \"table\"}]}, \"layout\": {\"annotationdefaults\": {\"arrowcolor\": \"#2a3f5f\", \"arrowhead\": 0, \"arrowwidth\": 1}, \"coloraxis\": {\"colorbar\": {\"outlinewidth\": 0, \"ticks\": \"\"}}, \"colorscale\": {\"diverging\": [[0, \"#8e0152\"], [0.1, \"#c51b7d\"], [0.2, \"#de77ae\"], [0.3, \"#f1b6da\"], [0.4, \"#fde0ef\"], [0.5, \"#f7f7f7\"], [0.6, \"#e6f5d0\"], [0.7, \"#b8e186\"], [0.8, \"#7fbc41\"], [0.9, \"#4d9221\"], [1, \"#276419\"]], \"sequential\": [[0.0, \"#0d0887\"], [0.1111111111111111, \"#46039f\"], [0.2222222222222222, \"#7201a8\"], [0.3333333333333333, \"#9c179e\"], [0.4444444444444444, \"#bd3786\"], [0.5555555555555556, \"#d8576b\"], [0.6666666666666666, \"#ed7953\"], [0.7777777777777778, \"#fb9f3a\"], [0.8888888888888888, \"#fdca26\"], [1.0, \"#f0f921\"]], \"sequentialminus\": [[0.0, \"#0d0887\"], [0.1111111111111111, \"#46039f\"], [0.2222222222222222, \"#7201a8\"], [0.3333333333333333, \"#9c179e\"], [0.4444444444444444, \"#bd3786\"], [0.5555555555555556, \"#d8576b\"], [0.6666666666666666, \"#ed7953\"], [0.7777777777777778, \"#fb9f3a\"], [0.8888888888888888, \"#fdca26\"], [1.0, \"#f0f921\"]]}, \"colorway\": [\"#636efa\", \"#EF553B\", \"#00cc96\", \"#ab63fa\", \"#FFA15A\", \"#19d3f3\", \"#FF6692\", \"#B6E880\", \"#FF97FF\", \"#FECB52\"], \"font\": {\"color\": \"#2a3f5f\"}, \"geo\": {\"bgcolor\": \"white\", \"lakecolor\": \"white\", \"landcolor\": \"#E5ECF6\", \"showlakes\": true, \"showland\": true, \"subunitcolor\": \"white\"}, \"hoverlabel\": {\"align\": \"left\"}, \"hovermode\": \"closest\", \"mapbox\": {\"style\": \"light\"}, \"paper_bgcolor\": \"white\", \"plot_bgcolor\": \"#E5ECF6\", \"polar\": {\"angularaxis\": {\"gridcolor\": \"white\", \"linecolor\": \"white\", \"ticks\": \"\"}, \"bgcolor\": \"#E5ECF6\", \"radialaxis\": {\"gridcolor\": \"white\", \"linecolor\": \"white\", \"ticks\": \"\"}}, \"scene\": {\"xaxis\": {\"backgroundcolor\": \"#E5ECF6\", \"gridcolor\": \"white\", \"gridwidth\": 2, \"linecolor\": \"white\", \"showbackground\": true, \"ticks\": \"\", \"zerolinecolor\": \"white\"}, \"yaxis\": {\"backgroundcolor\": \"#E5ECF6\", \"gridcolor\": \"white\", \"gridwidth\": 2, \"linecolor\": \"white\", \"showbackground\": true, \"ticks\": \"\", \"zerolinecolor\": \"white\"}, \"zaxis\": {\"backgroundcolor\": \"#E5ECF6\", \"gridcolor\": \"white\", \"gridwidth\": 2, \"linecolor\": \"white\", \"showbackground\": true, \"ticks\": \"\", \"zerolinecolor\": \"white\"}}, \"shapedefaults\": {\"line\": {\"color\": \"#2a3f5f\"}}, \"ternary\": {\"aaxis\": {\"gridcolor\": \"white\", \"linecolor\": \"white\", \"ticks\": \"\"}, \"baxis\": {\"gridcolor\": \"white\", \"linecolor\": \"white\", \"ticks\": \"\"}, \"bgcolor\": \"#E5ECF6\", \"caxis\": {\"gridcolor\": \"white\", \"linecolor\": \"white\", \"ticks\": \"\"}}, \"title\": {\"x\": 0.05}, \"xaxis\": {\"automargin\": true, \"gridcolor\": \"white\", \"linecolor\": \"white\", \"ticks\": \"\", \"title\": {\"standoff\": 15}, \"zerolinecolor\": \"white\", \"zerolinewidth\": 2}, \"yaxis\": {\"automargin\": true, \"gridcolor\": \"white\", \"linecolor\": \"white\", \"ticks\": \"\", \"title\": {\"standoff\": 15}, \"zerolinecolor\": \"white\", \"zerolinewidth\": 2}}}, \"title\": {\"text\": \"Ventilator reallocation results\"}},\n",
       "                        {\"responsive\": true}\n",
       "                    ).then(function(){\n",
       "                            \n",
       "var gd = document.getElementById('43164b18-b870-45fb-818e-5a3b3bbbeceb');\n",
       "var x = new MutationObserver(function (mutations, observer) {{\n",
       "        var display = window.getComputedStyle(gd).display;\n",
       "        if (!display || display === 'none') {{\n",
       "            console.log([gd, 'removed!']);\n",
       "            Plotly.purge(gd);\n",
       "            observer.disconnect();\n",
       "        }}\n",
       "}});\n",
       "\n",
       "// Listen for the removal of the full notebook cells\n",
       "var notebookContainer = gd.closest('#notebook-container');\n",
       "if (notebookContainer) {{\n",
       "    x.observe(notebookContainer, {childList: true});\n",
       "}}\n",
       "\n",
       "// Listen for the clearing of the current output cell\n",
       "var outputEl = gd.closest('.output');\n",
       "if (outputEl) {{\n",
       "    x.observe(outputEl, {childList: true});\n",
       "}}\n",
       "\n",
       "                        })\n",
       "                };\n",
       "                });\n",
       "            </script>\n",
       "        </div>"
      ]
     },
     "metadata": {},
     "output_type": "display_data"
    }
   ],
   "source": [
    "ven_aloc_solu = np.load(r'../data/hospital_resources/Transported_ventilators.npy', allow_pickle=True)\n",
    "up_tri = np.triu(ven_aloc_solu, 1)\n",
    "lw_tri = np.tril(ven_aloc_solu, -1)\n",
    "full_dec_mat = lw_tri-up_tri.transpose()  # use to decide who is sender who is receiver\n",
    "sender_index = np.nonzero(ven_aloc_solu.sum(axis=1)>0)\n",
    "receiver_index = np.nonzero(ven_aloc_solu.sum(axis=0)>0)\n",
    "neutral_index = np.where(full_dec_mat.sum(axis=1) == 0)\n",
    "\n",
    "sen_hosp = df_hospital.copy()\n",
    "rec_hosp = df_hospital.copy()\n",
    "neu_hosp = df_hospital.copy()\n",
    "\n",
    "sen_hosp = sen_hosp.iloc[sender_index]\n",
    "rec_hosp = rec_hosp.iloc[receiver_index]\n",
    "neu_hosp = neu_hosp.iloc[neutral_index]\n",
    "\n",
    "\n",
    "print('plotting hospitals ...')\n",
    "\n",
    "fig = go.Figure()\n",
    "fig.add_trace(go.Scattergeo(\n",
    "    locationmode = 'USA-states',\n",
    "    lon = df_hospital['Longitude'],\n",
    "    lat = df_hospital['Latitude'],\n",
    "    hoverinfo = 'text',\n",
    "    text = df_hospital['Inst'],\n",
    "    mode = 'markers',\n",
    "    marker = dict(\n",
    "        size = 5,\n",
    "        color = 'black',\n",
    "    )\n",
    "    ))\n",
    "fig.add_trace(go.Scattergeo(\n",
    "    locationmode = 'USA-states',\n",
    "    lon = sen_hosp['Longitude'],\n",
    "    lat = sen_hosp['Latitude'],\n",
    "    hoverinfo = 'text',\n",
    "    text = sen_hosp['Inst'],\n",
    "    mode = 'markers',\n",
    "    marker = dict(\n",
    "        size = 5,\n",
    "        color = 'green',\n",
    "    )\n",
    "    ))\n",
    "\n",
    "fig.add_trace(go.Scattergeo(\n",
    "    locationmode = 'USA-states',\n",
    "    lon = rec_hosp['Longitude'],\n",
    "    lat = rec_hosp['Latitude'],\n",
    "    hoverinfo = 'text',\n",
    "    text = rec_hosp['Inst'],\n",
    "    mode = 'markers',\n",
    "    marker = dict(\n",
    "        size = 5,\n",
    "        color = 'red',\n",
    "    )\n",
    "    ))\n",
    "\n",
    "non_zero_ind = np.nonzero(ven_aloc_solu)\n",
    "sen_ind = non_zero_ind[0]\n",
    "rec_ind = non_zero_ind[1]\n",
    "\n",
    "data = {'orig_lat': [-1.1]*len(rec_ind), \n",
    "        'orig_lon': [-1.1]*len(rec_ind), \n",
    "        'dest_lat': [-1.1]*len(rec_ind),\n",
    "        'dest_lon': [-1.1]*len(rec_ind),\n",
    "        'orig_hosp': ['']*len(rec_ind),\n",
    "        'dest_hosp': ['']*len(rec_ind),\n",
    "        'num_ven_tansp': [0]*len(rec_ind)} \n",
    "df_ven_reloc = pd.DataFrame(data)\n",
    "ind = 0\n",
    "for orig_ind, dest_ind in zip(sen_ind,rec_ind):\n",
    "        df_ven_reloc['orig_lat'][ind] = df_hospital['Latitude'][orig_ind]\n",
    "        df_ven_reloc['orig_lon'][ind] = df_hospital['Longitude'][orig_ind]\n",
    "        df_ven_reloc['orig_hosp'][ind] = df_hospital['Inst'][orig_ind]  # from hospital\n",
    "        \n",
    "        df_ven_reloc['dest_lat'][ind] = df_hospital['Latitude'][dest_ind]\n",
    "        df_ven_reloc['dest_lon'][ind] = df_hospital['Longitude'][dest_ind]\n",
    "        df_ven_reloc['dest_hosp'][ind] = df_hospital['Inst'][dest_ind]  # to hospital\n",
    "        df_ven_reloc['num_ven_tansp'][ind] = ven_aloc_solu[orig_ind, dest_ind]\n",
    "        ind += 1\n",
    "\n",
    "print('saving to csv ...')\n",
    "\n",
    "df_ven_reloc.to_csv('../data/hospital_resources/df_ven_reloc.csv')\n",
    "\n",
    "print('plotting reallocation ...')\n",
    "\n",
    "for i in range(len(df_ven_reloc)):\n",
    "    fig.add_trace(\n",
    "        go.Scattergeo(\n",
    "            locationmode = 'USA-states',\n",
    "            lon = [df_ven_reloc['orig_lon'][i], df_ven_reloc['dest_lon'][i]],\n",
    "            lat = [df_ven_reloc['orig_lat'][i], df_ven_reloc['dest_lat'][i]],\n",
    "            mode = 'lines',\n",
    "            line = dict(width = 1.5,color = 'blue'),\n",
    "            opacity = float(df_ven_reloc['num_ven_tansp'][i]) / float(df_ven_reloc['num_ven_tansp'].max()),\n",
    "        )\n",
    "    )\n",
    "\n",
    "fig.update_layout(\n",
    "    title_text = 'Ventilator reallocation results',\n",
    "    showlegend = False,\n",
    "    geo = dict(\n",
    "        resolution = 50, \n",
    "        scope = 'europe',\n",
    "#         center = {'lat': (df_ven_reloc['dest_lat'].min() + df_ven_reloc['dest_lat'].max())/2,\n",
    "#                   'lon': (df_ven_reloc['orig_lon'].min() + df_ven_reloc['orig_lon'].max())/2},\n",
    "        projection_type = 'stereographic',\n",
    "#         showland = True,\n",
    "        showlakes = True,\n",
    "        landcolor = 'rgb(243, 243, 243)',\n",
    "        countrycolor = 'rgb(204, 204, 204)',\n",
    "    ),\n",
    ")\n",
    "\n",
    "fig.show()"
   ]
  },
  {
   "cell_type": "code",
   "execution_count": 222,
   "metadata": {},
   "outputs": [
    {
     "name": "stdout",
     "output_type": "stream",
     "text": [
      "plotting hospitals ...\n",
      "saving to csv ...\n",
      "plotting reallocation ...\n"
     ]
    },
    {
     "name": "stderr",
     "output_type": "stream",
     "text": [
      "C:\\Users\\caha\\PycharmProjects\\ch_vs_virus_416\\venv\\lib\\site-packages\\ipykernel_launcher.py:73: SettingWithCopyWarning:\n",
      "\n",
      "\n",
      "A value is trying to be set on a copy of a slice from a DataFrame\n",
      "\n",
      "See the caveats in the documentation: https://pandas.pydata.org/pandas-docs/stable/user_guide/indexing.html#returning-a-view-versus-a-copy\n",
      "\n",
      "C:\\Users\\caha\\PycharmProjects\\ch_vs_virus_416\\venv\\lib\\site-packages\\ipykernel_launcher.py:74: SettingWithCopyWarning:\n",
      "\n",
      "\n",
      "A value is trying to be set on a copy of a slice from a DataFrame\n",
      "\n",
      "See the caveats in the documentation: https://pandas.pydata.org/pandas-docs/stable/user_guide/indexing.html#returning-a-view-versus-a-copy\n",
      "\n",
      "C:\\Users\\caha\\PycharmProjects\\ch_vs_virus_416\\venv\\lib\\site-packages\\ipykernel_launcher.py:75: SettingWithCopyWarning:\n",
      "\n",
      "\n",
      "A value is trying to be set on a copy of a slice from a DataFrame\n",
      "\n",
      "See the caveats in the documentation: https://pandas.pydata.org/pandas-docs/stable/user_guide/indexing.html#returning-a-view-versus-a-copy\n",
      "\n",
      "C:\\Users\\caha\\PycharmProjects\\ch_vs_virus_416\\venv\\lib\\site-packages\\ipykernel_launcher.py:77: SettingWithCopyWarning:\n",
      "\n",
      "\n",
      "A value is trying to be set on a copy of a slice from a DataFrame\n",
      "\n",
      "See the caveats in the documentation: https://pandas.pydata.org/pandas-docs/stable/user_guide/indexing.html#returning-a-view-versus-a-copy\n",
      "\n",
      "C:\\Users\\caha\\PycharmProjects\\ch_vs_virus_416\\venv\\lib\\site-packages\\ipykernel_launcher.py:78: SettingWithCopyWarning:\n",
      "\n",
      "\n",
      "A value is trying to be set on a copy of a slice from a DataFrame\n",
      "\n",
      "See the caveats in the documentation: https://pandas.pydata.org/pandas-docs/stable/user_guide/indexing.html#returning-a-view-versus-a-copy\n",
      "\n",
      "C:\\Users\\caha\\PycharmProjects\\ch_vs_virus_416\\venv\\lib\\site-packages\\ipykernel_launcher.py:79: SettingWithCopyWarning:\n",
      "\n",
      "\n",
      "A value is trying to be set on a copy of a slice from a DataFrame\n",
      "\n",
      "See the caveats in the documentation: https://pandas.pydata.org/pandas-docs/stable/user_guide/indexing.html#returning-a-view-versus-a-copy\n",
      "\n",
      "C:\\Users\\caha\\PycharmProjects\\ch_vs_virus_416\\venv\\lib\\site-packages\\ipykernel_launcher.py:80: SettingWithCopyWarning:\n",
      "\n",
      "\n",
      "A value is trying to be set on a copy of a slice from a DataFrame\n",
      "\n",
      "See the caveats in the documentation: https://pandas.pydata.org/pandas-docs/stable/user_guide/indexing.html#returning-a-view-versus-a-copy\n",
      "\n"
     ]
    },
    {
     "data": {
      "application/vnd.plotly.v1+json": {
       "config": {
        "plotlyServerURL": "https://plot.ly"
       },
       "data": [
        {
         "hoverinfo": "text",
         "lat": [
          47.561196,
          46.193711,
          46.524749,
          47.376736,
          46.947455,
          47.389185,
          47.454285999999996,
          47.391652,
          46.440108,
          46.77032,
          46.522437,
          47.711995,
          47.263268,
          47.200103999999996,
          47.322205,
          46.801389,
          47.488122,
          47.058078,
          47.05812,
          46.197616,
          47.549937,
          47.351971999999996,
          46.86411,
          47.397628000000005,
          46.958811,
          46.947645,
          46.95279,
          46.996590999999995,
          47.147814000000004,
          47.049215000000004,
          46.680833,
          47.399167,
          47.507967,
          46.288114,
          47.34917,
          47.566617,
          47.353765,
          47.394227,
          47.366863,
          46.2351,
          46.761733,
          47.43119,
          47.194648,
          47.522028999999996,
          47.216521,
          46.228776,
          47.419685,
          47.016475,
          46.383439,
          47.277588,
          47.35256,
          47.251154,
          47.189221,
          46.005434,
          46.540309,
          47.296098,
          46.818815,
          46.883284,
          46.018508000000004,
          46.959937,
          47.445458,
          47.046166,
          46.186931,
          47.372031,
          47.431105,
          47.563624,
          47.141715999999995
         ],
         "locationmode": "USA-states",
         "lon": [
          7.5815410000000005,
          6.148855999999999,
          6.639659,
          8.549199,
          7.4248009999999995,
          8.059994999999999,
          8.278407000000001,
          8.042692,
          6.908222,
          6.64755,
          6.499426000000001,
          8.638826,
          8.589378,
          7.539125,
          8.802781,
          7.137283,
          7.731507000000001,
          8.298791,
          8.326092,
          9.026881,
          8.911494,
          8.576158,
          9.539952,
          9.579355,
          7.427403,
          7.426611,
          7.448237,
          6.942991,
          7.244622,
          7.620941999999999,
          7.842919,
          8.520622,
          8.727949,
          7.8841779999999995,
          8.598519,
          7.614161999999999,
          8.724082000000001,
          8.431632,
          8.497572,
          7.387328,
          7.632281,
          9.388303,
          8.518031,
          8.5329,
          7.793825,
          6.0674,
          7.058210000000001,
          8.658699,
          6.227493,
          8.330606,
          8.531581,
          8.696631,
          8.858947,
          8.94011,
          9.878888,
          7.9471240000000005,
          6.946231,
          8.637429,
          8.952941000000001,
          8.357545,
          9.411887,
          9.06511,
          6.142615,
          8.557767,
          9.387303999999999,
          7.58183,
          8.130885000000001
         ],
         "marker": {
          "color": "black",
          "size": 5
         },
         "mode": "markers",
         "text": [
          "UniversitÃ_tsspital Basel",
          "Les HÃÂ«pitaux Universitaires de GenÃÂ¬ve HUG",
          "CHUV Centre Hospitalier Universitaire Vaudois",
          "UniversitÃ_tsspital ZÃ_rich",
          "Insel Gruppe AG (universitÃ_r)",
          "Kantonsspital Aarau AG",
          "Kantonsspital Baden AG",
          "Hirslanden Klinik Aarau",
          "HÃÂ«pital Riviera-Chablais Vaud-Valais",
          "Etablissements Hospitaliers du Nord Vaudois (eHnv)",
          "EHC Ensemble hospitalier de la CÃÂ«te",
          "SpitÃ_ler Schaffhausen",
          "See-Spital",
          "Solothurner SpitÃ_ler AG",
          "GZO Spital Wetzikon",
          "HFR - HÃÂ«pital fribourgeois",
          "Kantonsspital Baselland",
          "Luzerner Kantonsspital",
          "Hirslanden Klinik St. Anna AG",
          "EOC Ente ospedaliero cantonale",
          "Spital Thurgau AG KantonsspitÃ_ler Frauenfeld & MÃ_nsterlingen",
          "Klinik Hirslanden AG",
          "Kantonsspital GraubÃ_nden",
          "Spitalregion Rheintal Werdenberg Sarganserland",
          "Lindenhof AG",
          "Insel Gruppe AG (nicht-universitÃ_r)",
          "Hirslanden Bern AG",
          "HÃÂ«pital NeuchÃÂ¢telois HNE",
          "Spitalzentrum Biel AG",
          "Regionalspital Emmental AG",
          "SpitÃ_ler Frutigen Meiringen Interlaken AG",
          "Stadtspital Waid",
          "Kantonsspital Winterthur",
          "Spital Wallis - Spitalzentrum Oberwallis (SZO)",
          "Spital Zollikerberg",
          "St. Claraspital",
          "Spital Uster",
          "Spital Limmattal",
          "Stadtspital Triemli",
          "HÃÂ«pital du Valais - Centre hospitalier du centre du Valais (CHCVs)",
          "Spital STS AG",
          "Kantonsspital St. Gallen",
          "Zuger Kantonsspital AG",
          "Spital BÃ_lach AG",
          "SRO Spital Region Oberaargau AG",
          "HÃÂ«pital de la Tour",
          "HÃÂ«pital du Jura",
          "Spital Schwyz",
          "Groupement Hospitalier de l'Ouest LÃÂ©manique (GHOL) SA",
          "Kreisspital fÃ_r das Freiamt",
          "Klinik Im Park",
          "Spital MÃ_nnedorf AG",
          "Spital Lachen",
          "Clinica Luganese Moncucco SA Sede Moncucco",
          "Spital Oberengadin",
          "Spital Zofingen AG",
          "HÃÂ«pital Intercantonal de la Broye (HIB)",
          "Kantonsspital Uri",
          "Cardiocentro Ticino (CCT)",
          "Kantonsspital Nidwalden",
          "Hirslanden Klinik Stephanshorn",
          "Kantonsspital Glarus",
          "Clinique de Carouge",
          "UniversitÃ_ts-Kinderspital ZÃ_rich das Spital der Eleonorenstiftung",
          "Ostschweizer Kinderspital",
          "UniversitÃ_ts-Kinderspital beider Basel (UKBB)",
          "Schweizer Paraplegiker-Zentrum Nottwil AG"
         ],
         "type": "scattergeo"
        },
        {
         "hoverinfo": "text",
         "lat": [
          46.524749,
          47.376736,
          47.058078,
          46.86411,
          47.43119
         ],
         "locationmode": "USA-states",
         "lon": [
          6.639659,
          8.549199,
          8.298791,
          9.539952,
          9.388303
         ],
         "marker": {
          "color": "green",
          "size": 5
         },
         "mode": "markers",
         "text": [
          "CHUV Centre Hospitalier Universitaire Vaudois",
          "UniversitÃ_tsspital ZÃ_rich",
          "Luzerner Kantonsspital",
          "Kantonsspital GraubÃ_nden",
          "Kantonsspital St. Gallen"
         ],
         "type": "scattergeo"
        },
        {
         "hoverinfo": "text",
         "lat": [
          46.193711,
          46.197616,
          46.005434,
          46.018508000000004
         ],
         "locationmode": "USA-states",
         "lon": [
          6.148855999999999,
          9.026881,
          8.94011,
          8.952941000000001
         ],
         "marker": {
          "color": "red",
          "size": 5
         },
         "mode": "markers",
         "text": [
          "Les HÃÂ«pitaux Universitaires de GenÃÂ¬ve HUG",
          "EOC Ente ospedaliero cantonale",
          "Clinica Luganese Moncucco SA Sede Moncucco",
          "Cardiocentro Ticino (CCT)"
         ],
         "type": "scattergeo"
        },
        {
         "lat": [
          46.524749,
          46.193711
         ],
         "line": {
          "color": "blue",
          "width": 1.5
         },
         "locationmode": "USA-states",
         "lon": [
          6.639659,
          6.148855999999999
         ],
         "mode": "lines",
         "opacity": 0.5,
         "type": "scattergeo"
        },
        {
         "lat": [
          47.376736,
          46.197616
         ],
         "line": {
          "color": "blue",
          "width": 1.5
         },
         "locationmode": "USA-states",
         "lon": [
          8.549199,
          9.026881
         ],
         "mode": "lines",
         "opacity": 1,
         "type": "scattergeo"
        },
        {
         "lat": [
          47.058078,
          46.197616
         ],
         "line": {
          "color": "blue",
          "width": 1.5
         },
         "locationmode": "USA-states",
         "lon": [
          8.298791,
          9.026881
         ],
         "mode": "lines",
         "opacity": 0.75,
         "type": "scattergeo"
        },
        {
         "lat": [
          47.058078,
          46.005434
         ],
         "line": {
          "color": "blue",
          "width": 1.5
         },
         "locationmode": "USA-states",
         "lon": [
          8.298791,
          8.94011
         ],
         "mode": "lines",
         "opacity": 0.375,
         "type": "scattergeo"
        },
        {
         "lat": [
          46.86411,
          46.018508000000004
         ],
         "line": {
          "color": "blue",
          "width": 1.5
         },
         "locationmode": "USA-states",
         "lon": [
          9.539952,
          8.952941000000001
         ],
         "mode": "lines",
         "opacity": 0.125,
         "type": "scattergeo"
        },
        {
         "lat": [
          47.43119,
          46.197616
         ],
         "line": {
          "color": "blue",
          "width": 1.5
         },
         "locationmode": "USA-states",
         "lon": [
          9.388303,
          9.026881
         ],
         "mode": "lines",
         "opacity": 0.75,
         "type": "scattergeo"
        }
       ],
       "layout": {
        "geo": {
         "countrycolor": "rgb(204, 204, 204)",
         "landcolor": "rgb(243, 243, 243)",
         "projection": {
          "type": "stereographic"
         },
         "resolution": 50,
         "scope": "europe",
         "showlakes": true
        },
        "showlegend": false,
        "template": {
         "data": {
          "bar": [
           {
            "error_x": {
             "color": "#2a3f5f"
            },
            "error_y": {
             "color": "#2a3f5f"
            },
            "marker": {
             "line": {
              "color": "#E5ECF6",
              "width": 0.5
             }
            },
            "type": "bar"
           }
          ],
          "barpolar": [
           {
            "marker": {
             "line": {
              "color": "#E5ECF6",
              "width": 0.5
             }
            },
            "type": "barpolar"
           }
          ],
          "carpet": [
           {
            "aaxis": {
             "endlinecolor": "#2a3f5f",
             "gridcolor": "white",
             "linecolor": "white",
             "minorgridcolor": "white",
             "startlinecolor": "#2a3f5f"
            },
            "baxis": {
             "endlinecolor": "#2a3f5f",
             "gridcolor": "white",
             "linecolor": "white",
             "minorgridcolor": "white",
             "startlinecolor": "#2a3f5f"
            },
            "type": "carpet"
           }
          ],
          "choropleth": [
           {
            "colorbar": {
             "outlinewidth": 0,
             "ticks": ""
            },
            "type": "choropleth"
           }
          ],
          "contour": [
           {
            "colorbar": {
             "outlinewidth": 0,
             "ticks": ""
            },
            "colorscale": [
             [
              0,
              "#0d0887"
             ],
             [
              0.1111111111111111,
              "#46039f"
             ],
             [
              0.2222222222222222,
              "#7201a8"
             ],
             [
              0.3333333333333333,
              "#9c179e"
             ],
             [
              0.4444444444444444,
              "#bd3786"
             ],
             [
              0.5555555555555556,
              "#d8576b"
             ],
             [
              0.6666666666666666,
              "#ed7953"
             ],
             [
              0.7777777777777778,
              "#fb9f3a"
             ],
             [
              0.8888888888888888,
              "#fdca26"
             ],
             [
              1,
              "#f0f921"
             ]
            ],
            "type": "contour"
           }
          ],
          "contourcarpet": [
           {
            "colorbar": {
             "outlinewidth": 0,
             "ticks": ""
            },
            "type": "contourcarpet"
           }
          ],
          "heatmap": [
           {
            "colorbar": {
             "outlinewidth": 0,
             "ticks": ""
            },
            "colorscale": [
             [
              0,
              "#0d0887"
             ],
             [
              0.1111111111111111,
              "#46039f"
             ],
             [
              0.2222222222222222,
              "#7201a8"
             ],
             [
              0.3333333333333333,
              "#9c179e"
             ],
             [
              0.4444444444444444,
              "#bd3786"
             ],
             [
              0.5555555555555556,
              "#d8576b"
             ],
             [
              0.6666666666666666,
              "#ed7953"
             ],
             [
              0.7777777777777778,
              "#fb9f3a"
             ],
             [
              0.8888888888888888,
              "#fdca26"
             ],
             [
              1,
              "#f0f921"
             ]
            ],
            "type": "heatmap"
           }
          ],
          "heatmapgl": [
           {
            "colorbar": {
             "outlinewidth": 0,
             "ticks": ""
            },
            "colorscale": [
             [
              0,
              "#0d0887"
             ],
             [
              0.1111111111111111,
              "#46039f"
             ],
             [
              0.2222222222222222,
              "#7201a8"
             ],
             [
              0.3333333333333333,
              "#9c179e"
             ],
             [
              0.4444444444444444,
              "#bd3786"
             ],
             [
              0.5555555555555556,
              "#d8576b"
             ],
             [
              0.6666666666666666,
              "#ed7953"
             ],
             [
              0.7777777777777778,
              "#fb9f3a"
             ],
             [
              0.8888888888888888,
              "#fdca26"
             ],
             [
              1,
              "#f0f921"
             ]
            ],
            "type": "heatmapgl"
           }
          ],
          "histogram": [
           {
            "marker": {
             "colorbar": {
              "outlinewidth": 0,
              "ticks": ""
             }
            },
            "type": "histogram"
           }
          ],
          "histogram2d": [
           {
            "colorbar": {
             "outlinewidth": 0,
             "ticks": ""
            },
            "colorscale": [
             [
              0,
              "#0d0887"
             ],
             [
              0.1111111111111111,
              "#46039f"
             ],
             [
              0.2222222222222222,
              "#7201a8"
             ],
             [
              0.3333333333333333,
              "#9c179e"
             ],
             [
              0.4444444444444444,
              "#bd3786"
             ],
             [
              0.5555555555555556,
              "#d8576b"
             ],
             [
              0.6666666666666666,
              "#ed7953"
             ],
             [
              0.7777777777777778,
              "#fb9f3a"
             ],
             [
              0.8888888888888888,
              "#fdca26"
             ],
             [
              1,
              "#f0f921"
             ]
            ],
            "type": "histogram2d"
           }
          ],
          "histogram2dcontour": [
           {
            "colorbar": {
             "outlinewidth": 0,
             "ticks": ""
            },
            "colorscale": [
             [
              0,
              "#0d0887"
             ],
             [
              0.1111111111111111,
              "#46039f"
             ],
             [
              0.2222222222222222,
              "#7201a8"
             ],
             [
              0.3333333333333333,
              "#9c179e"
             ],
             [
              0.4444444444444444,
              "#bd3786"
             ],
             [
              0.5555555555555556,
              "#d8576b"
             ],
             [
              0.6666666666666666,
              "#ed7953"
             ],
             [
              0.7777777777777778,
              "#fb9f3a"
             ],
             [
              0.8888888888888888,
              "#fdca26"
             ],
             [
              1,
              "#f0f921"
             ]
            ],
            "type": "histogram2dcontour"
           }
          ],
          "mesh3d": [
           {
            "colorbar": {
             "outlinewidth": 0,
             "ticks": ""
            },
            "type": "mesh3d"
           }
          ],
          "parcoords": [
           {
            "line": {
             "colorbar": {
              "outlinewidth": 0,
              "ticks": ""
             }
            },
            "type": "parcoords"
           }
          ],
          "pie": [
           {
            "automargin": true,
            "type": "pie"
           }
          ],
          "scatter": [
           {
            "marker": {
             "colorbar": {
              "outlinewidth": 0,
              "ticks": ""
             }
            },
            "type": "scatter"
           }
          ],
          "scatter3d": [
           {
            "line": {
             "colorbar": {
              "outlinewidth": 0,
              "ticks": ""
             }
            },
            "marker": {
             "colorbar": {
              "outlinewidth": 0,
              "ticks": ""
             }
            },
            "type": "scatter3d"
           }
          ],
          "scattercarpet": [
           {
            "marker": {
             "colorbar": {
              "outlinewidth": 0,
              "ticks": ""
             }
            },
            "type": "scattercarpet"
           }
          ],
          "scattergeo": [
           {
            "marker": {
             "colorbar": {
              "outlinewidth": 0,
              "ticks": ""
             }
            },
            "type": "scattergeo"
           }
          ],
          "scattergl": [
           {
            "marker": {
             "colorbar": {
              "outlinewidth": 0,
              "ticks": ""
             }
            },
            "type": "scattergl"
           }
          ],
          "scattermapbox": [
           {
            "marker": {
             "colorbar": {
              "outlinewidth": 0,
              "ticks": ""
             }
            },
            "type": "scattermapbox"
           }
          ],
          "scatterpolar": [
           {
            "marker": {
             "colorbar": {
              "outlinewidth": 0,
              "ticks": ""
             }
            },
            "type": "scatterpolar"
           }
          ],
          "scatterpolargl": [
           {
            "marker": {
             "colorbar": {
              "outlinewidth": 0,
              "ticks": ""
             }
            },
            "type": "scatterpolargl"
           }
          ],
          "scatterternary": [
           {
            "marker": {
             "colorbar": {
              "outlinewidth": 0,
              "ticks": ""
             }
            },
            "type": "scatterternary"
           }
          ],
          "surface": [
           {
            "colorbar": {
             "outlinewidth": 0,
             "ticks": ""
            },
            "colorscale": [
             [
              0,
              "#0d0887"
             ],
             [
              0.1111111111111111,
              "#46039f"
             ],
             [
              0.2222222222222222,
              "#7201a8"
             ],
             [
              0.3333333333333333,
              "#9c179e"
             ],
             [
              0.4444444444444444,
              "#bd3786"
             ],
             [
              0.5555555555555556,
              "#d8576b"
             ],
             [
              0.6666666666666666,
              "#ed7953"
             ],
             [
              0.7777777777777778,
              "#fb9f3a"
             ],
             [
              0.8888888888888888,
              "#fdca26"
             ],
             [
              1,
              "#f0f921"
             ]
            ],
            "type": "surface"
           }
          ],
          "table": [
           {
            "cells": {
             "fill": {
              "color": "#EBF0F8"
             },
             "line": {
              "color": "white"
             }
            },
            "header": {
             "fill": {
              "color": "#C8D4E3"
             },
             "line": {
              "color": "white"
             }
            },
            "type": "table"
           }
          ]
         },
         "layout": {
          "annotationdefaults": {
           "arrowcolor": "#2a3f5f",
           "arrowhead": 0,
           "arrowwidth": 1
          },
          "coloraxis": {
           "colorbar": {
            "outlinewidth": 0,
            "ticks": ""
           }
          },
          "colorscale": {
           "diverging": [
            [
             0,
             "#8e0152"
            ],
            [
             0.1,
             "#c51b7d"
            ],
            [
             0.2,
             "#de77ae"
            ],
            [
             0.3,
             "#f1b6da"
            ],
            [
             0.4,
             "#fde0ef"
            ],
            [
             0.5,
             "#f7f7f7"
            ],
            [
             0.6,
             "#e6f5d0"
            ],
            [
             0.7,
             "#b8e186"
            ],
            [
             0.8,
             "#7fbc41"
            ],
            [
             0.9,
             "#4d9221"
            ],
            [
             1,
             "#276419"
            ]
           ],
           "sequential": [
            [
             0,
             "#0d0887"
            ],
            [
             0.1111111111111111,
             "#46039f"
            ],
            [
             0.2222222222222222,
             "#7201a8"
            ],
            [
             0.3333333333333333,
             "#9c179e"
            ],
            [
             0.4444444444444444,
             "#bd3786"
            ],
            [
             0.5555555555555556,
             "#d8576b"
            ],
            [
             0.6666666666666666,
             "#ed7953"
            ],
            [
             0.7777777777777778,
             "#fb9f3a"
            ],
            [
             0.8888888888888888,
             "#fdca26"
            ],
            [
             1,
             "#f0f921"
            ]
           ],
           "sequentialminus": [
            [
             0,
             "#0d0887"
            ],
            [
             0.1111111111111111,
             "#46039f"
            ],
            [
             0.2222222222222222,
             "#7201a8"
            ],
            [
             0.3333333333333333,
             "#9c179e"
            ],
            [
             0.4444444444444444,
             "#bd3786"
            ],
            [
             0.5555555555555556,
             "#d8576b"
            ],
            [
             0.6666666666666666,
             "#ed7953"
            ],
            [
             0.7777777777777778,
             "#fb9f3a"
            ],
            [
             0.8888888888888888,
             "#fdca26"
            ],
            [
             1,
             "#f0f921"
            ]
           ]
          },
          "colorway": [
           "#636efa",
           "#EF553B",
           "#00cc96",
           "#ab63fa",
           "#FFA15A",
           "#19d3f3",
           "#FF6692",
           "#B6E880",
           "#FF97FF",
           "#FECB52"
          ],
          "font": {
           "color": "#2a3f5f"
          },
          "geo": {
           "bgcolor": "white",
           "lakecolor": "white",
           "landcolor": "#E5ECF6",
           "showlakes": true,
           "showland": true,
           "subunitcolor": "white"
          },
          "hoverlabel": {
           "align": "left"
          },
          "hovermode": "closest",
          "mapbox": {
           "style": "light"
          },
          "paper_bgcolor": "white",
          "plot_bgcolor": "#E5ECF6",
          "polar": {
           "angularaxis": {
            "gridcolor": "white",
            "linecolor": "white",
            "ticks": ""
           },
           "bgcolor": "#E5ECF6",
           "radialaxis": {
            "gridcolor": "white",
            "linecolor": "white",
            "ticks": ""
           }
          },
          "scene": {
           "xaxis": {
            "backgroundcolor": "#E5ECF6",
            "gridcolor": "white",
            "gridwidth": 2,
            "linecolor": "white",
            "showbackground": true,
            "ticks": "",
            "zerolinecolor": "white"
           },
           "yaxis": {
            "backgroundcolor": "#E5ECF6",
            "gridcolor": "white",
            "gridwidth": 2,
            "linecolor": "white",
            "showbackground": true,
            "ticks": "",
            "zerolinecolor": "white"
           },
           "zaxis": {
            "backgroundcolor": "#E5ECF6",
            "gridcolor": "white",
            "gridwidth": 2,
            "linecolor": "white",
            "showbackground": true,
            "ticks": "",
            "zerolinecolor": "white"
           }
          },
          "shapedefaults": {
           "line": {
            "color": "#2a3f5f"
           }
          },
          "ternary": {
           "aaxis": {
            "gridcolor": "white",
            "linecolor": "white",
            "ticks": ""
           },
           "baxis": {
            "gridcolor": "white",
            "linecolor": "white",
            "ticks": ""
           },
           "bgcolor": "#E5ECF6",
           "caxis": {
            "gridcolor": "white",
            "linecolor": "white",
            "ticks": ""
           }
          },
          "title": {
           "x": 0.05
          },
          "xaxis": {
           "automargin": true,
           "gridcolor": "white",
           "linecolor": "white",
           "ticks": "",
           "title": {
            "standoff": 15
           },
           "zerolinecolor": "white",
           "zerolinewidth": 2
          },
          "yaxis": {
           "automargin": true,
           "gridcolor": "white",
           "linecolor": "white",
           "ticks": "",
           "title": {
            "standoff": 15
           },
           "zerolinecolor": "white",
           "zerolinewidth": 2
          }
         }
        },
        "title": {
         "text": "Ventilator reallocation results"
        }
       }
      },
      "text/html": [
       "<div>\n",
       "        \n",
       "        \n",
       "            <div id=\"644a832e-5d00-4ee4-ae98-ea46108c464d\" class=\"plotly-graph-div\" style=\"height:525px; width:100%;\"></div>\n",
       "            <script type=\"text/javascript\">\n",
       "                require([\"plotly\"], function(Plotly) {\n",
       "                    window.PLOTLYENV=window.PLOTLYENV || {};\n",
       "                    \n",
       "                if (document.getElementById(\"644a832e-5d00-4ee4-ae98-ea46108c464d\")) {\n",
       "                    Plotly.newPlot(\n",
       "                        '644a832e-5d00-4ee4-ae98-ea46108c464d',\n",
       "                        [{\"hoverinfo\": \"text\", \"lat\": [47.561196, 46.193711, 46.524749, 47.376736, 46.947455, 47.389185, 47.454285999999996, 47.391652, 46.440108, 46.77032, 46.522437, 47.711995, 47.263268, 47.200103999999996, 47.322205, 46.801389, 47.488122, 47.058078, 47.05812, 46.197616, 47.549937, 47.351971999999996, 46.86411, 47.397628000000005, 46.958811, 46.947645, 46.95279, 46.996590999999995, 47.147814000000004, 47.049215000000004, 46.680833, 47.399167, 47.507967, 46.288114, 47.34917, 47.566617, 47.353765, 47.394227, 47.366863, 46.2351, 46.761733, 47.43119, 47.194648, 47.522028999999996, 47.216521, 46.228776, 47.419685, 47.016475, 46.383439, 47.277588, 47.35256, 47.251154, 47.189221, 46.005434, 46.540309, 47.296098, 46.818815, 46.883284, 46.018508000000004, 46.959937, 47.445458, 47.046166, 46.186931, 47.372031, 47.431105, 47.563624, 47.141715999999995], \"locationmode\": \"USA-states\", \"lon\": [7.5815410000000005, 6.148855999999999, 6.639659, 8.549199, 7.4248009999999995, 8.059994999999999, 8.278407000000001, 8.042692, 6.908222, 6.64755, 6.499426000000001, 8.638826, 8.589378, 7.539125, 8.802781, 7.137283, 7.731507000000001, 8.298791, 8.326092, 9.026881, 8.911494, 8.576158, 9.539952, 9.579355, 7.427403, 7.426611, 7.448237, 6.942991, 7.244622, 7.620941999999999, 7.842919, 8.520622, 8.727949, 7.8841779999999995, 8.598519, 7.614161999999999, 8.724082000000001, 8.431632, 8.497572, 7.387328, 7.632281, 9.388303, 8.518031, 8.5329, 7.793825, 6.0674, 7.058210000000001, 8.658699, 6.227493, 8.330606, 8.531581, 8.696631, 8.858947, 8.94011, 9.878888, 7.9471240000000005, 6.946231, 8.637429, 8.952941000000001, 8.357545, 9.411887, 9.06511, 6.142615, 8.557767, 9.387303999999999, 7.58183, 8.130885000000001], \"marker\": {\"color\": \"black\", \"size\": 5}, \"mode\": \"markers\", \"text\": [\"Universit\\u00c3\\u008c_tsspital Basel\", \"Les H\\u00c3\\u008c\\u00c2\\u00abpitaux Universitaires de Gen\\u00c3\\u008c\\u00c2\\u00acve HUG\", \"CHUV Centre Hospitalier Universitaire Vaudois\", \"Universit\\u00c3\\u008c_tsspital Z\\u00c3\\u008c_rich\", \"Insel Gruppe AG (universit\\u00c3\\u008c_r)\", \"Kantonsspital Aarau AG\", \"Kantonsspital Baden AG\", \"Hirslanden Klinik Aarau\", \"H\\u00c3\\u008c\\u00c2\\u00abpital Riviera-Chablais Vaud-Valais\", \"Etablissements Hospitaliers du Nord Vaudois (eHnv)\", \"EHC Ensemble hospitalier de la C\\u00c3\\u008c\\u00c2\\u00abte\", \"Spit\\u00c3\\u008c_ler Schaffhausen\", \"See-Spital\", \"Solothurner Spit\\u00c3\\u008c_ler AG\", \"GZO Spital Wetzikon\", \"HFR - H\\u00c3\\u008c\\u00c2\\u00abpital fribourgeois\", \"Kantonsspital Baselland\", \"Luzerner Kantonsspital\", \"Hirslanden Klinik St. Anna AG\", \"EOC Ente ospedaliero cantonale\", \"Spital Thurgau AG Kantonsspit\\u00c3\\u008c_ler Frauenfeld & M\\u00c3\\u008c_nsterlingen\", \"Klinik Hirslanden AG\", \"Kantonsspital Graub\\u00c3\\u008c_nden\", \"Spitalregion Rheintal Werdenberg Sarganserland\", \"Lindenhof AG\", \"Insel Gruppe AG (nicht-universit\\u00c3\\u008c_r)\", \"Hirslanden Bern AG\", \"H\\u00c3\\u008c\\u00c2\\u00abpital Neuch\\u00c3\\u008c\\u00c2\\u00a2telois HNE\", \"Spitalzentrum Biel AG\", \"Regionalspital Emmental AG\", \"Spit\\u00c3\\u008c_ler Frutigen Meiringen Interlaken AG\", \"Stadtspital Waid\", \"Kantonsspital Winterthur\", \"Spital Wallis - Spitalzentrum Oberwallis (SZO)\", \"Spital Zollikerberg\", \"St. Claraspital\", \"Spital Uster\", \"Spital Limmattal\", \"Stadtspital Triemli\", \"H\\u00c3\\u008c\\u00c2\\u00abpital du Valais - Centre hospitalier du centre du Valais (CHCVs)\", \"Spital STS AG\", \"Kantonsspital St. Gallen\", \"Zuger Kantonsspital AG\", \"Spital B\\u00c3\\u008c_lach AG\", \"SRO Spital Region Oberaargau AG\", \"H\\u00c3\\u008c\\u00c2\\u00abpital de la Tour\", \"H\\u00c3\\u008c\\u00c2\\u00abpital du Jura\", \"Spital Schwyz\", \"Groupement Hospitalier de l'Ouest L\\u00c3\\u008c\\u00c2\\u00a9manique (GHOL) SA\", \"Kreisspital f\\u00c3\\u008c_r das Freiamt\", \"Klinik Im Park\", \"Spital M\\u00c3\\u008c_nnedorf AG\", \"Spital Lachen\", \"Clinica Luganese Moncucco SA Sede Moncucco\", \"Spital Oberengadin\", \"Spital Zofingen AG\", \"H\\u00c3\\u008c\\u00c2\\u00abpital Intercantonal de la Broye (HIB)\", \"Kantonsspital Uri\", \"Cardiocentro Ticino (CCT)\", \"Kantonsspital Nidwalden\", \"Hirslanden Klinik Stephanshorn\", \"Kantonsspital Glarus\", \"Clinique de Carouge\", \"Universit\\u00c3\\u008c_ts-Kinderspital Z\\u00c3\\u008c_rich das Spital der Eleonorenstiftung\", \"Ostschweizer Kinderspital\", \"Universit\\u00c3\\u008c_ts-Kinderspital beider Basel (UKBB)\", \"Schweizer Paraplegiker-Zentrum Nottwil AG\"], \"type\": \"scattergeo\"}, {\"hoverinfo\": \"text\", \"lat\": [46.524749, 47.376736, 47.058078, 46.86411, 47.43119], \"locationmode\": \"USA-states\", \"lon\": [6.639659, 8.549199, 8.298791, 9.539952, 9.388303], \"marker\": {\"color\": \"green\", \"size\": 5}, \"mode\": \"markers\", \"text\": [\"CHUV Centre Hospitalier Universitaire Vaudois\", \"Universit\\u00c3\\u008c_tsspital Z\\u00c3\\u008c_rich\", \"Luzerner Kantonsspital\", \"Kantonsspital Graub\\u00c3\\u008c_nden\", \"Kantonsspital St. Gallen\"], \"type\": \"scattergeo\"}, {\"hoverinfo\": \"text\", \"lat\": [46.193711, 46.197616, 46.005434, 46.018508000000004], \"locationmode\": \"USA-states\", \"lon\": [6.148855999999999, 9.026881, 8.94011, 8.952941000000001], \"marker\": {\"color\": \"red\", \"size\": 5}, \"mode\": \"markers\", \"text\": [\"Les H\\u00c3\\u008c\\u00c2\\u00abpitaux Universitaires de Gen\\u00c3\\u008c\\u00c2\\u00acve HUG\", \"EOC Ente ospedaliero cantonale\", \"Clinica Luganese Moncucco SA Sede Moncucco\", \"Cardiocentro Ticino (CCT)\"], \"type\": \"scattergeo\"}, {\"lat\": [46.524749, 46.193711], \"line\": {\"color\": \"blue\", \"width\": 1.5}, \"locationmode\": \"USA-states\", \"lon\": [6.639659, 6.148855999999999], \"mode\": \"lines\", \"opacity\": 0.5, \"type\": \"scattergeo\"}, {\"lat\": [47.376736, 46.197616], \"line\": {\"color\": \"blue\", \"width\": 1.5}, \"locationmode\": \"USA-states\", \"lon\": [8.549199, 9.026881], \"mode\": \"lines\", \"opacity\": 1.0, \"type\": \"scattergeo\"}, {\"lat\": [47.058078, 46.197616], \"line\": {\"color\": \"blue\", \"width\": 1.5}, \"locationmode\": \"USA-states\", \"lon\": [8.298791, 9.026881], \"mode\": \"lines\", \"opacity\": 0.75, \"type\": \"scattergeo\"}, {\"lat\": [47.058078, 46.005434], \"line\": {\"color\": \"blue\", \"width\": 1.5}, \"locationmode\": \"USA-states\", \"lon\": [8.298791, 8.94011], \"mode\": \"lines\", \"opacity\": 0.375, \"type\": \"scattergeo\"}, {\"lat\": [46.86411, 46.018508000000004], \"line\": {\"color\": \"blue\", \"width\": 1.5}, \"locationmode\": \"USA-states\", \"lon\": [9.539952, 8.952941000000001], \"mode\": \"lines\", \"opacity\": 0.125, \"type\": \"scattergeo\"}, {\"lat\": [47.43119, 46.197616], \"line\": {\"color\": \"blue\", \"width\": 1.5}, \"locationmode\": \"USA-states\", \"lon\": [9.388303, 9.026881], \"mode\": \"lines\", \"opacity\": 0.75, \"type\": \"scattergeo\"}],\n",
       "                        {\"geo\": {\"countrycolor\": \"rgb(204, 204, 204)\", \"landcolor\": \"rgb(243, 243, 243)\", \"projection\": {\"type\": \"stereographic\"}, \"resolution\": 50, \"scope\": \"europe\", \"showlakes\": true}, \"showlegend\": false, \"template\": {\"data\": {\"bar\": [{\"error_x\": {\"color\": \"#2a3f5f\"}, \"error_y\": {\"color\": \"#2a3f5f\"}, \"marker\": {\"line\": {\"color\": \"#E5ECF6\", \"width\": 0.5}}, \"type\": \"bar\"}], \"barpolar\": [{\"marker\": {\"line\": {\"color\": \"#E5ECF6\", \"width\": 0.5}}, \"type\": \"barpolar\"}], \"carpet\": [{\"aaxis\": {\"endlinecolor\": \"#2a3f5f\", \"gridcolor\": \"white\", \"linecolor\": \"white\", \"minorgridcolor\": \"white\", \"startlinecolor\": \"#2a3f5f\"}, \"baxis\": {\"endlinecolor\": \"#2a3f5f\", \"gridcolor\": \"white\", \"linecolor\": \"white\", \"minorgridcolor\": \"white\", \"startlinecolor\": \"#2a3f5f\"}, \"type\": \"carpet\"}], \"choropleth\": [{\"colorbar\": {\"outlinewidth\": 0, \"ticks\": \"\"}, \"type\": \"choropleth\"}], \"contour\": [{\"colorbar\": {\"outlinewidth\": 0, \"ticks\": \"\"}, \"colorscale\": [[0.0, \"#0d0887\"], [0.1111111111111111, \"#46039f\"], [0.2222222222222222, \"#7201a8\"], [0.3333333333333333, \"#9c179e\"], [0.4444444444444444, \"#bd3786\"], [0.5555555555555556, \"#d8576b\"], [0.6666666666666666, \"#ed7953\"], [0.7777777777777778, \"#fb9f3a\"], [0.8888888888888888, \"#fdca26\"], [1.0, \"#f0f921\"]], \"type\": \"contour\"}], \"contourcarpet\": [{\"colorbar\": {\"outlinewidth\": 0, \"ticks\": \"\"}, \"type\": \"contourcarpet\"}], \"heatmap\": [{\"colorbar\": {\"outlinewidth\": 0, \"ticks\": \"\"}, \"colorscale\": [[0.0, \"#0d0887\"], [0.1111111111111111, \"#46039f\"], [0.2222222222222222, \"#7201a8\"], [0.3333333333333333, \"#9c179e\"], [0.4444444444444444, \"#bd3786\"], [0.5555555555555556, \"#d8576b\"], [0.6666666666666666, \"#ed7953\"], [0.7777777777777778, \"#fb9f3a\"], [0.8888888888888888, \"#fdca26\"], [1.0, \"#f0f921\"]], \"type\": \"heatmap\"}], \"heatmapgl\": [{\"colorbar\": {\"outlinewidth\": 0, \"ticks\": \"\"}, \"colorscale\": [[0.0, \"#0d0887\"], [0.1111111111111111, \"#46039f\"], [0.2222222222222222, \"#7201a8\"], [0.3333333333333333, \"#9c179e\"], [0.4444444444444444, \"#bd3786\"], [0.5555555555555556, \"#d8576b\"], [0.6666666666666666, \"#ed7953\"], [0.7777777777777778, \"#fb9f3a\"], [0.8888888888888888, \"#fdca26\"], [1.0, \"#f0f921\"]], \"type\": \"heatmapgl\"}], \"histogram\": [{\"marker\": {\"colorbar\": {\"outlinewidth\": 0, \"ticks\": \"\"}}, \"type\": \"histogram\"}], \"histogram2d\": [{\"colorbar\": {\"outlinewidth\": 0, \"ticks\": \"\"}, \"colorscale\": [[0.0, \"#0d0887\"], [0.1111111111111111, \"#46039f\"], [0.2222222222222222, \"#7201a8\"], [0.3333333333333333, \"#9c179e\"], [0.4444444444444444, \"#bd3786\"], [0.5555555555555556, \"#d8576b\"], [0.6666666666666666, \"#ed7953\"], [0.7777777777777778, \"#fb9f3a\"], [0.8888888888888888, \"#fdca26\"], [1.0, \"#f0f921\"]], \"type\": \"histogram2d\"}], \"histogram2dcontour\": [{\"colorbar\": {\"outlinewidth\": 0, \"ticks\": \"\"}, \"colorscale\": [[0.0, \"#0d0887\"], [0.1111111111111111, \"#46039f\"], [0.2222222222222222, \"#7201a8\"], [0.3333333333333333, \"#9c179e\"], [0.4444444444444444, \"#bd3786\"], [0.5555555555555556, \"#d8576b\"], [0.6666666666666666, \"#ed7953\"], [0.7777777777777778, \"#fb9f3a\"], [0.8888888888888888, \"#fdca26\"], [1.0, \"#f0f921\"]], \"type\": \"histogram2dcontour\"}], \"mesh3d\": [{\"colorbar\": {\"outlinewidth\": 0, \"ticks\": \"\"}, \"type\": \"mesh3d\"}], \"parcoords\": [{\"line\": {\"colorbar\": {\"outlinewidth\": 0, \"ticks\": \"\"}}, \"type\": \"parcoords\"}], \"pie\": [{\"automargin\": true, \"type\": \"pie\"}], \"scatter\": [{\"marker\": {\"colorbar\": {\"outlinewidth\": 0, \"ticks\": \"\"}}, \"type\": \"scatter\"}], \"scatter3d\": [{\"line\": {\"colorbar\": {\"outlinewidth\": 0, \"ticks\": \"\"}}, \"marker\": {\"colorbar\": {\"outlinewidth\": 0, \"ticks\": \"\"}}, \"type\": \"scatter3d\"}], \"scattercarpet\": [{\"marker\": {\"colorbar\": {\"outlinewidth\": 0, \"ticks\": \"\"}}, \"type\": \"scattercarpet\"}], \"scattergeo\": [{\"marker\": {\"colorbar\": {\"outlinewidth\": 0, \"ticks\": \"\"}}, \"type\": \"scattergeo\"}], \"scattergl\": [{\"marker\": {\"colorbar\": {\"outlinewidth\": 0, \"ticks\": \"\"}}, \"type\": \"scattergl\"}], \"scattermapbox\": [{\"marker\": {\"colorbar\": {\"outlinewidth\": 0, \"ticks\": \"\"}}, \"type\": \"scattermapbox\"}], \"scatterpolar\": [{\"marker\": {\"colorbar\": {\"outlinewidth\": 0, \"ticks\": \"\"}}, \"type\": \"scatterpolar\"}], \"scatterpolargl\": [{\"marker\": {\"colorbar\": {\"outlinewidth\": 0, \"ticks\": \"\"}}, \"type\": \"scatterpolargl\"}], \"scatterternary\": [{\"marker\": {\"colorbar\": {\"outlinewidth\": 0, \"ticks\": \"\"}}, \"type\": \"scatterternary\"}], \"surface\": [{\"colorbar\": {\"outlinewidth\": 0, \"ticks\": \"\"}, \"colorscale\": [[0.0, \"#0d0887\"], [0.1111111111111111, \"#46039f\"], [0.2222222222222222, \"#7201a8\"], [0.3333333333333333, \"#9c179e\"], [0.4444444444444444, \"#bd3786\"], [0.5555555555555556, \"#d8576b\"], [0.6666666666666666, \"#ed7953\"], [0.7777777777777778, \"#fb9f3a\"], [0.8888888888888888, \"#fdca26\"], [1.0, \"#f0f921\"]], \"type\": \"surface\"}], \"table\": [{\"cells\": {\"fill\": {\"color\": \"#EBF0F8\"}, \"line\": {\"color\": \"white\"}}, \"header\": {\"fill\": {\"color\": \"#C8D4E3\"}, \"line\": {\"color\": \"white\"}}, \"type\": \"table\"}]}, \"layout\": {\"annotationdefaults\": {\"arrowcolor\": \"#2a3f5f\", \"arrowhead\": 0, \"arrowwidth\": 1}, \"coloraxis\": {\"colorbar\": {\"outlinewidth\": 0, \"ticks\": \"\"}}, \"colorscale\": {\"diverging\": [[0, \"#8e0152\"], [0.1, \"#c51b7d\"], [0.2, \"#de77ae\"], [0.3, \"#f1b6da\"], [0.4, \"#fde0ef\"], [0.5, \"#f7f7f7\"], [0.6, \"#e6f5d0\"], [0.7, \"#b8e186\"], [0.8, \"#7fbc41\"], [0.9, \"#4d9221\"], [1, \"#276419\"]], \"sequential\": [[0.0, \"#0d0887\"], [0.1111111111111111, \"#46039f\"], [0.2222222222222222, \"#7201a8\"], [0.3333333333333333, \"#9c179e\"], [0.4444444444444444, \"#bd3786\"], [0.5555555555555556, \"#d8576b\"], [0.6666666666666666, \"#ed7953\"], [0.7777777777777778, \"#fb9f3a\"], [0.8888888888888888, \"#fdca26\"], [1.0, \"#f0f921\"]], \"sequentialminus\": [[0.0, \"#0d0887\"], [0.1111111111111111, \"#46039f\"], [0.2222222222222222, \"#7201a8\"], [0.3333333333333333, \"#9c179e\"], [0.4444444444444444, \"#bd3786\"], [0.5555555555555556, \"#d8576b\"], [0.6666666666666666, \"#ed7953\"], [0.7777777777777778, \"#fb9f3a\"], [0.8888888888888888, \"#fdca26\"], [1.0, \"#f0f921\"]]}, \"colorway\": [\"#636efa\", \"#EF553B\", \"#00cc96\", \"#ab63fa\", \"#FFA15A\", \"#19d3f3\", \"#FF6692\", \"#B6E880\", \"#FF97FF\", \"#FECB52\"], \"font\": {\"color\": \"#2a3f5f\"}, \"geo\": {\"bgcolor\": \"white\", \"lakecolor\": \"white\", \"landcolor\": \"#E5ECF6\", \"showlakes\": true, \"showland\": true, \"subunitcolor\": \"white\"}, \"hoverlabel\": {\"align\": \"left\"}, \"hovermode\": \"closest\", \"mapbox\": {\"style\": \"light\"}, \"paper_bgcolor\": \"white\", \"plot_bgcolor\": \"#E5ECF6\", \"polar\": {\"angularaxis\": {\"gridcolor\": \"white\", \"linecolor\": \"white\", \"ticks\": \"\"}, \"bgcolor\": \"#E5ECF6\", \"radialaxis\": {\"gridcolor\": \"white\", \"linecolor\": \"white\", \"ticks\": \"\"}}, \"scene\": {\"xaxis\": {\"backgroundcolor\": \"#E5ECF6\", \"gridcolor\": \"white\", \"gridwidth\": 2, \"linecolor\": \"white\", \"showbackground\": true, \"ticks\": \"\", \"zerolinecolor\": \"white\"}, \"yaxis\": {\"backgroundcolor\": \"#E5ECF6\", \"gridcolor\": \"white\", \"gridwidth\": 2, \"linecolor\": \"white\", \"showbackground\": true, \"ticks\": \"\", \"zerolinecolor\": \"white\"}, \"zaxis\": {\"backgroundcolor\": \"#E5ECF6\", \"gridcolor\": \"white\", \"gridwidth\": 2, \"linecolor\": \"white\", \"showbackground\": true, \"ticks\": \"\", \"zerolinecolor\": \"white\"}}, \"shapedefaults\": {\"line\": {\"color\": \"#2a3f5f\"}}, \"ternary\": {\"aaxis\": {\"gridcolor\": \"white\", \"linecolor\": \"white\", \"ticks\": \"\"}, \"baxis\": {\"gridcolor\": \"white\", \"linecolor\": \"white\", \"ticks\": \"\"}, \"bgcolor\": \"#E5ECF6\", \"caxis\": {\"gridcolor\": \"white\", \"linecolor\": \"white\", \"ticks\": \"\"}}, \"title\": {\"x\": 0.05}, \"xaxis\": {\"automargin\": true, \"gridcolor\": \"white\", \"linecolor\": \"white\", \"ticks\": \"\", \"title\": {\"standoff\": 15}, \"zerolinecolor\": \"white\", \"zerolinewidth\": 2}, \"yaxis\": {\"automargin\": true, \"gridcolor\": \"white\", \"linecolor\": \"white\", \"ticks\": \"\", \"title\": {\"standoff\": 15}, \"zerolinecolor\": \"white\", \"zerolinewidth\": 2}}}, \"title\": {\"text\": \"Ventilator reallocation results\"}},\n",
       "                        {\"responsive\": true}\n",
       "                    ).then(function(){\n",
       "                            \n",
       "var gd = document.getElementById('644a832e-5d00-4ee4-ae98-ea46108c464d');\n",
       "var x = new MutationObserver(function (mutations, observer) {{\n",
       "        var display = window.getComputedStyle(gd).display;\n",
       "        if (!display || display === 'none') {{\n",
       "            console.log([gd, 'removed!']);\n",
       "            Plotly.purge(gd);\n",
       "            observer.disconnect();\n",
       "        }}\n",
       "}});\n",
       "\n",
       "// Listen for the removal of the full notebook cells\n",
       "var notebookContainer = gd.closest('#notebook-container');\n",
       "if (notebookContainer) {{\n",
       "    x.observe(notebookContainer, {childList: true});\n",
       "}}\n",
       "\n",
       "// Listen for the clearing of the current output cell\n",
       "var outputEl = gd.closest('.output');\n",
       "if (outputEl) {{\n",
       "    x.observe(outputEl, {childList: true});\n",
       "}}\n",
       "\n",
       "                        })\n",
       "                };\n",
       "                });\n",
       "            </script>\n",
       "        </div>"
      ]
     },
     "metadata": {},
     "output_type": "display_data"
    }
   ],
   "source": [
    "ven_aloc_solu = np.load(r'../data/hospital_resources/Transported_ventilators_X1demand.npy', allow_pickle=True)\n",
    "up_tri = np.triu(ven_aloc_solu, 1)\n",
    "lw_tri = np.tril(ven_aloc_solu, -1)\n",
    "full_dec_mat = lw_tri-up_tri.transpose()  # use to decide who is sender who is receiver\n",
    "sender_index = np.nonzero(ven_aloc_solu.sum(axis=1)>0)\n",
    "receiver_index = np.nonzero(ven_aloc_solu.sum(axis=0)>0)\n",
    "neutral_index = np.where(full_dec_mat.sum(axis=1) == 0)\n",
    "\n",
    "sen_hosp = df_hospital.copy()\n",
    "rec_hosp = df_hospital.copy()\n",
    "neu_hosp = df_hospital.copy()\n",
    "\n",
    "sen_hosp = sen_hosp.iloc[sender_index]\n",
    "rec_hosp = rec_hosp.iloc[receiver_index]\n",
    "neu_hosp = neu_hosp.iloc[neutral_index]\n",
    "\n",
    "\n",
    "print('plotting hospitals ...')\n",
    "\n",
    "fig = go.Figure()\n",
    "fig.add_trace(go.Scattergeo(\n",
    "    locationmode = 'USA-states',\n",
    "    lon = df_hospital['Longitude'],\n",
    "    lat = df_hospital['Latitude'],\n",
    "    hoverinfo = 'text',\n",
    "    text = df_hospital['Inst'],\n",
    "    mode = 'markers',\n",
    "    marker = dict(\n",
    "        size = 5,\n",
    "        color = 'black',\n",
    "    )\n",
    "    ))\n",
    "fig.add_trace(go.Scattergeo(\n",
    "    locationmode = 'USA-states',\n",
    "    lon = sen_hosp['Longitude'],\n",
    "    lat = sen_hosp['Latitude'],\n",
    "    hoverinfo = 'text',\n",
    "    text = sen_hosp['Inst'],\n",
    "    mode = 'markers',\n",
    "    marker = dict(\n",
    "        size = 5,\n",
    "        color = 'green',\n",
    "    )\n",
    "    ))\n",
    "\n",
    "fig.add_trace(go.Scattergeo(\n",
    "    locationmode = 'USA-states',\n",
    "    lon = rec_hosp['Longitude'],\n",
    "    lat = rec_hosp['Latitude'],\n",
    "    hoverinfo = 'text',\n",
    "    text = rec_hosp['Inst'],\n",
    "    mode = 'markers',\n",
    "    marker = dict(\n",
    "        size = 5,\n",
    "        color = 'red',\n",
    "    )\n",
    "    ))\n",
    "\n",
    "non_zero_ind = np.nonzero(ven_aloc_solu)\n",
    "sen_ind = non_zero_ind[0]\n",
    "rec_ind = non_zero_ind[1]\n",
    "\n",
    "data = {'orig_lat': [-1.1]*len(rec_ind), \n",
    "        'orig_lon': [-1.1]*len(rec_ind), \n",
    "        'dest_lat': [-1.1]*len(rec_ind),\n",
    "        'dest_lon': [-1.1]*len(rec_ind),\n",
    "        'orig_hosp': ['']*len(rec_ind),\n",
    "        'dest_hosp': ['']*len(rec_ind),\n",
    "        'num_ven_tansp': [0]*len(rec_ind)} \n",
    "df_ven_reloc = pd.DataFrame(data)\n",
    "ind = 0\n",
    "for orig_ind, dest_ind in zip(sen_ind,rec_ind):\n",
    "        df_ven_reloc['orig_lat'][ind] = df_hospital['Latitude'][orig_ind]\n",
    "        df_ven_reloc['orig_lon'][ind] = df_hospital['Longitude'][orig_ind]\n",
    "        df_ven_reloc['orig_hosp'][ind] = df_hospital['Inst'][orig_ind]  # from hospital\n",
    "        \n",
    "        df_ven_reloc['dest_lat'][ind] = df_hospital['Latitude'][dest_ind]\n",
    "        df_ven_reloc['dest_lon'][ind] = df_hospital['Longitude'][dest_ind]\n",
    "        df_ven_reloc['dest_hosp'][ind] = df_hospital['Inst'][dest_ind]  # to hospital\n",
    "        df_ven_reloc['num_ven_tansp'][ind] = ven_aloc_solu[orig_ind, dest_ind]\n",
    "        ind += 1\n",
    "\n",
    "print('saving to csv ...')\n",
    "\n",
    "df_ven_reloc.to_csv('../data/hospital_resources/df_ven_reloc_X1demand.csv')\n",
    "\n",
    "print('plotting reallocation ...')\n",
    "\n",
    "for i in range(len(df_ven_reloc)):\n",
    "    fig.add_trace(\n",
    "        go.Scattergeo(\n",
    "            locationmode = 'USA-states',\n",
    "            lon = [df_ven_reloc['orig_lon'][i], df_ven_reloc['dest_lon'][i]],\n",
    "            lat = [df_ven_reloc['orig_lat'][i], df_ven_reloc['dest_lat'][i]],\n",
    "            mode = 'lines',\n",
    "            line = dict(width = 1.5,color = 'blue'),\n",
    "            opacity = float(df_ven_reloc['num_ven_tansp'][i]) / float(df_ven_reloc['num_ven_tansp'].max()),\n",
    "        )\n",
    "    )\n",
    "\n",
    "fig.update_layout(\n",
    "    title_text = 'Ventilator reallocation results',\n",
    "    showlegend = False,\n",
    "    geo = dict(\n",
    "        resolution = 50, \n",
    "        scope = 'europe',\n",
    "#         center = {'lat': (df_ven_reloc['dest_lat'].min() + df_ven_reloc['dest_lat'].max())/2,\n",
    "#                   'lon': (df_ven_reloc['orig_lon'].min() + df_ven_reloc['orig_lon'].max())/2},\n",
    "        projection_type = 'stereographic',\n",
    "#         showland = True,\n",
    "        showlakes = True,\n",
    "        landcolor = 'rgb(243, 243, 243)',\n",
    "        countrycolor = 'rgb(204, 204, 204)',\n",
    "    ),\n",
    ")\n",
    "\n",
    "fig.show()"
   ]
  },
  {
   "cell_type": "code",
   "execution_count": 223,
   "metadata": {},
   "outputs": [
    {
     "name": "stdout",
     "output_type": "stream",
     "text": [
      "plotting hospitals ...\n",
      "saving to csv ...\n",
      "plotting reallocation ...\n"
     ]
    },
    {
     "name": "stderr",
     "output_type": "stream",
     "text": [
      "C:\\Users\\caha\\PycharmProjects\\ch_vs_virus_416\\venv\\lib\\site-packages\\ipykernel_launcher.py:73: SettingWithCopyWarning:\n",
      "\n",
      "\n",
      "A value is trying to be set on a copy of a slice from a DataFrame\n",
      "\n",
      "See the caveats in the documentation: https://pandas.pydata.org/pandas-docs/stable/user_guide/indexing.html#returning-a-view-versus-a-copy\n",
      "\n",
      "C:\\Users\\caha\\PycharmProjects\\ch_vs_virus_416\\venv\\lib\\site-packages\\ipykernel_launcher.py:74: SettingWithCopyWarning:\n",
      "\n",
      "\n",
      "A value is trying to be set on a copy of a slice from a DataFrame\n",
      "\n",
      "See the caveats in the documentation: https://pandas.pydata.org/pandas-docs/stable/user_guide/indexing.html#returning-a-view-versus-a-copy\n",
      "\n",
      "C:\\Users\\caha\\PycharmProjects\\ch_vs_virus_416\\venv\\lib\\site-packages\\ipykernel_launcher.py:75: SettingWithCopyWarning:\n",
      "\n",
      "\n",
      "A value is trying to be set on a copy of a slice from a DataFrame\n",
      "\n",
      "See the caveats in the documentation: https://pandas.pydata.org/pandas-docs/stable/user_guide/indexing.html#returning-a-view-versus-a-copy\n",
      "\n",
      "C:\\Users\\caha\\PycharmProjects\\ch_vs_virus_416\\venv\\lib\\site-packages\\ipykernel_launcher.py:77: SettingWithCopyWarning:\n",
      "\n",
      "\n",
      "A value is trying to be set on a copy of a slice from a DataFrame\n",
      "\n",
      "See the caveats in the documentation: https://pandas.pydata.org/pandas-docs/stable/user_guide/indexing.html#returning-a-view-versus-a-copy\n",
      "\n",
      "C:\\Users\\caha\\PycharmProjects\\ch_vs_virus_416\\venv\\lib\\site-packages\\ipykernel_launcher.py:78: SettingWithCopyWarning:\n",
      "\n",
      "\n",
      "A value is trying to be set on a copy of a slice from a DataFrame\n",
      "\n",
      "See the caveats in the documentation: https://pandas.pydata.org/pandas-docs/stable/user_guide/indexing.html#returning-a-view-versus-a-copy\n",
      "\n",
      "C:\\Users\\caha\\PycharmProjects\\ch_vs_virus_416\\venv\\lib\\site-packages\\ipykernel_launcher.py:79: SettingWithCopyWarning:\n",
      "\n",
      "\n",
      "A value is trying to be set on a copy of a slice from a DataFrame\n",
      "\n",
      "See the caveats in the documentation: https://pandas.pydata.org/pandas-docs/stable/user_guide/indexing.html#returning-a-view-versus-a-copy\n",
      "\n",
      "C:\\Users\\caha\\PycharmProjects\\ch_vs_virus_416\\venv\\lib\\site-packages\\ipykernel_launcher.py:80: SettingWithCopyWarning:\n",
      "\n",
      "\n",
      "A value is trying to be set on a copy of a slice from a DataFrame\n",
      "\n",
      "See the caveats in the documentation: https://pandas.pydata.org/pandas-docs/stable/user_guide/indexing.html#returning-a-view-versus-a-copy\n",
      "\n"
     ]
    },
    {
     "data": {
      "application/vnd.plotly.v1+json": {
       "config": {
        "plotlyServerURL": "https://plot.ly"
       },
       "data": [
        {
         "hoverinfo": "text",
         "lat": [
          47.561196,
          46.193711,
          46.524749,
          47.376736,
          46.947455,
          47.389185,
          47.454285999999996,
          47.391652,
          46.440108,
          46.77032,
          46.522437,
          47.711995,
          47.263268,
          47.200103999999996,
          47.322205,
          46.801389,
          47.488122,
          47.058078,
          47.05812,
          46.197616,
          47.549937,
          47.351971999999996,
          46.86411,
          47.397628000000005,
          46.958811,
          46.947645,
          46.95279,
          46.996590999999995,
          47.147814000000004,
          47.049215000000004,
          46.680833,
          47.399167,
          47.507967,
          46.288114,
          47.34917,
          47.566617,
          47.353765,
          47.394227,
          47.366863,
          46.2351,
          46.761733,
          47.43119,
          47.194648,
          47.522028999999996,
          47.216521,
          46.228776,
          47.419685,
          47.016475,
          46.383439,
          47.277588,
          47.35256,
          47.251154,
          47.189221,
          46.005434,
          46.540309,
          47.296098,
          46.818815,
          46.883284,
          46.018508000000004,
          46.959937,
          47.445458,
          47.046166,
          46.186931,
          47.372031,
          47.431105,
          47.563624,
          47.141715999999995
         ],
         "locationmode": "USA-states",
         "lon": [
          7.5815410000000005,
          6.148855999999999,
          6.639659,
          8.549199,
          7.4248009999999995,
          8.059994999999999,
          8.278407000000001,
          8.042692,
          6.908222,
          6.64755,
          6.499426000000001,
          8.638826,
          8.589378,
          7.539125,
          8.802781,
          7.137283,
          7.731507000000001,
          8.298791,
          8.326092,
          9.026881,
          8.911494,
          8.576158,
          9.539952,
          9.579355,
          7.427403,
          7.426611,
          7.448237,
          6.942991,
          7.244622,
          7.620941999999999,
          7.842919,
          8.520622,
          8.727949,
          7.8841779999999995,
          8.598519,
          7.614161999999999,
          8.724082000000001,
          8.431632,
          8.497572,
          7.387328,
          7.632281,
          9.388303,
          8.518031,
          8.5329,
          7.793825,
          6.0674,
          7.058210000000001,
          8.658699,
          6.227493,
          8.330606,
          8.531581,
          8.696631,
          8.858947,
          8.94011,
          9.878888,
          7.9471240000000005,
          6.946231,
          8.637429,
          8.952941000000001,
          8.357545,
          9.411887,
          9.06511,
          6.142615,
          8.557767,
          9.387303999999999,
          7.58183,
          8.130885000000001
         ],
         "marker": {
          "color": "black",
          "size": 5
         },
         "mode": "markers",
         "text": [
          "UniversitÃ_tsspital Basel",
          "Les HÃÂ«pitaux Universitaires de GenÃÂ¬ve HUG",
          "CHUV Centre Hospitalier Universitaire Vaudois",
          "UniversitÃ_tsspital ZÃ_rich",
          "Insel Gruppe AG (universitÃ_r)",
          "Kantonsspital Aarau AG",
          "Kantonsspital Baden AG",
          "Hirslanden Klinik Aarau",
          "HÃÂ«pital Riviera-Chablais Vaud-Valais",
          "Etablissements Hospitaliers du Nord Vaudois (eHnv)",
          "EHC Ensemble hospitalier de la CÃÂ«te",
          "SpitÃ_ler Schaffhausen",
          "See-Spital",
          "Solothurner SpitÃ_ler AG",
          "GZO Spital Wetzikon",
          "HFR - HÃÂ«pital fribourgeois",
          "Kantonsspital Baselland",
          "Luzerner Kantonsspital",
          "Hirslanden Klinik St. Anna AG",
          "EOC Ente ospedaliero cantonale",
          "Spital Thurgau AG KantonsspitÃ_ler Frauenfeld & MÃ_nsterlingen",
          "Klinik Hirslanden AG",
          "Kantonsspital GraubÃ_nden",
          "Spitalregion Rheintal Werdenberg Sarganserland",
          "Lindenhof AG",
          "Insel Gruppe AG (nicht-universitÃ_r)",
          "Hirslanden Bern AG",
          "HÃÂ«pital NeuchÃÂ¢telois HNE",
          "Spitalzentrum Biel AG",
          "Regionalspital Emmental AG",
          "SpitÃ_ler Frutigen Meiringen Interlaken AG",
          "Stadtspital Waid",
          "Kantonsspital Winterthur",
          "Spital Wallis - Spitalzentrum Oberwallis (SZO)",
          "Spital Zollikerberg",
          "St. Claraspital",
          "Spital Uster",
          "Spital Limmattal",
          "Stadtspital Triemli",
          "HÃÂ«pital du Valais - Centre hospitalier du centre du Valais (CHCVs)",
          "Spital STS AG",
          "Kantonsspital St. Gallen",
          "Zuger Kantonsspital AG",
          "Spital BÃ_lach AG",
          "SRO Spital Region Oberaargau AG",
          "HÃÂ«pital de la Tour",
          "HÃÂ«pital du Jura",
          "Spital Schwyz",
          "Groupement Hospitalier de l'Ouest LÃÂ©manique (GHOL) SA",
          "Kreisspital fÃ_r das Freiamt",
          "Klinik Im Park",
          "Spital MÃ_nnedorf AG",
          "Spital Lachen",
          "Clinica Luganese Moncucco SA Sede Moncucco",
          "Spital Oberengadin",
          "Spital Zofingen AG",
          "HÃÂ«pital Intercantonal de la Broye (HIB)",
          "Kantonsspital Uri",
          "Cardiocentro Ticino (CCT)",
          "Kantonsspital Nidwalden",
          "Hirslanden Klinik Stephanshorn",
          "Kantonsspital Glarus",
          "Clinique de Carouge",
          "UniversitÃ_ts-Kinderspital ZÃ_rich das Spital der Eleonorenstiftung",
          "Ostschweizer Kinderspital",
          "UniversitÃ_ts-Kinderspital beider Basel (UKBB)",
          "Schweizer Paraplegiker-Zentrum Nottwil AG"
         ],
         "type": "scattergeo"
        },
        {
         "hoverinfo": "text",
         "lat": [
          47.561196,
          46.524749,
          47.376736,
          46.947455,
          47.454285999999996,
          46.440108,
          46.77032,
          47.263268,
          47.200103999999996,
          46.801389,
          47.488122,
          47.058078,
          47.549937,
          47.351971999999996,
          46.86411,
          47.397628000000005,
          46.958811,
          47.147814000000004,
          47.399167,
          47.507967,
          47.366863,
          46.761733,
          47.43119,
          46.383439
         ],
         "locationmode": "USA-states",
         "lon": [
          7.5815410000000005,
          6.639659,
          8.549199,
          7.4248009999999995,
          8.278407000000001,
          6.908222,
          6.64755,
          8.589378,
          7.539125,
          7.137283,
          7.731507000000001,
          8.298791,
          8.911494,
          8.576158,
          9.539952,
          9.579355,
          7.427403,
          7.244622,
          8.520622,
          8.727949,
          8.497572,
          7.632281,
          9.388303,
          6.227493
         ],
         "marker": {
          "color": "green",
          "size": 5
         },
         "mode": "markers",
         "text": [
          "UniversitÃ_tsspital Basel",
          "CHUV Centre Hospitalier Universitaire Vaudois",
          "UniversitÃ_tsspital ZÃ_rich",
          "Insel Gruppe AG (universitÃ_r)",
          "Kantonsspital Baden AG",
          "HÃÂ«pital Riviera-Chablais Vaud-Valais",
          "Etablissements Hospitaliers du Nord Vaudois (eHnv)",
          "See-Spital",
          "Solothurner SpitÃ_ler AG",
          "HFR - HÃÂ«pital fribourgeois",
          "Kantonsspital Baselland",
          "Luzerner Kantonsspital",
          "Spital Thurgau AG KantonsspitÃ_ler Frauenfeld & MÃ_nsterlingen",
          "Klinik Hirslanden AG",
          "Kantonsspital GraubÃ_nden",
          "Spitalregion Rheintal Werdenberg Sarganserland",
          "Lindenhof AG",
          "Spitalzentrum Biel AG",
          "Stadtspital Waid",
          "Kantonsspital Winterthur",
          "Stadtspital Triemli",
          "Spital STS AG",
          "Kantonsspital St. Gallen",
          "Groupement Hospitalier de l'Ouest LÃÂ©manique (GHOL) SA"
         ],
         "type": "scattergeo"
        },
        {
         "hoverinfo": "text",
         "lat": [
          46.193711,
          46.197616,
          46.996590999999995,
          46.288114,
          46.2351,
          46.228776,
          46.005434,
          46.018508000000004,
          46.186931
         ],
         "locationmode": "USA-states",
         "lon": [
          6.148855999999999,
          9.026881,
          6.942991,
          7.8841779999999995,
          7.387328,
          6.0674,
          8.94011,
          8.952941000000001,
          6.142615
         ],
         "marker": {
          "color": "red",
          "size": 5
         },
         "mode": "markers",
         "text": [
          "Les HÃÂ«pitaux Universitaires de GenÃÂ¬ve HUG",
          "EOC Ente ospedaliero cantonale",
          "HÃÂ«pital NeuchÃÂ¢telois HNE",
          "Spital Wallis - Spitalzentrum Oberwallis (SZO)",
          "HÃÂ«pital du Valais - Centre hospitalier du centre du Valais (CHCVs)",
          "HÃÂ«pital de la Tour",
          "Clinica Luganese Moncucco SA Sede Moncucco",
          "Cardiocentro Ticino (CCT)",
          "Clinique de Carouge"
         ],
         "type": "scattergeo"
        },
        {
         "lat": [
          47.561196,
          46.193711
         ],
         "line": {
          "color": "blue",
          "width": 1.5
         },
         "locationmode": "USA-states",
         "lon": [
          7.5815410000000005,
          6.148855999999999
         ],
         "mode": "lines",
         "opacity": 0.625,
         "type": "scattergeo"
        },
        {
         "lat": [
          47.561196,
          46.197616
         ],
         "line": {
          "color": "blue",
          "width": 1.5
         },
         "locationmode": "USA-states",
         "lon": [
          7.5815410000000005,
          9.026881
         ],
         "mode": "lines",
         "opacity": 0.625,
         "type": "scattergeo"
        },
        {
         "lat": [
          46.524749,
          46.193711
         ],
         "line": {
          "color": "blue",
          "width": 1.5
         },
         "locationmode": "USA-states",
         "lon": [
          6.639659,
          6.148855999999999
         ],
         "mode": "lines",
         "opacity": 1,
         "type": "scattergeo"
        },
        {
         "lat": [
          46.524749,
          46.197616
         ],
         "line": {
          "color": "blue",
          "width": 1.5
         },
         "locationmode": "USA-states",
         "lon": [
          6.639659,
          9.026881
         ],
         "mode": "lines",
         "opacity": 1,
         "type": "scattergeo"
        },
        {
         "lat": [
          46.524749,
          46.288114
         ],
         "line": {
          "color": "blue",
          "width": 1.5
         },
         "locationmode": "USA-states",
         "lon": [
          6.639659,
          7.8841779999999995
         ],
         "mode": "lines",
         "opacity": 0.75,
         "type": "scattergeo"
        },
        {
         "lat": [
          46.524749,
          46.2351
         ],
         "line": {
          "color": "blue",
          "width": 1.5
         },
         "locationmode": "USA-states",
         "lon": [
          6.639659,
          7.387328
         ],
         "mode": "lines",
         "opacity": 1,
         "type": "scattergeo"
        },
        {
         "lat": [
          46.524749,
          46.228776
         ],
         "line": {
          "color": "blue",
          "width": 1.5
         },
         "locationmode": "USA-states",
         "lon": [
          6.639659,
          6.0674
         ],
         "mode": "lines",
         "opacity": 0.75,
         "type": "scattergeo"
        },
        {
         "lat": [
          47.376736,
          46.193711
         ],
         "line": {
          "color": "blue",
          "width": 1.5
         },
         "locationmode": "USA-states",
         "lon": [
          8.549199,
          6.148855999999999
         ],
         "mode": "lines",
         "opacity": 0.75,
         "type": "scattergeo"
        },
        {
         "lat": [
          47.376736,
          46.197616
         ],
         "line": {
          "color": "blue",
          "width": 1.5
         },
         "locationmode": "USA-states",
         "lon": [
          8.549199,
          9.026881
         ],
         "mode": "lines",
         "opacity": 1,
         "type": "scattergeo"
        },
        {
         "lat": [
          46.947455,
          46.193711
         ],
         "line": {
          "color": "blue",
          "width": 1.5
         },
         "locationmode": "USA-states",
         "lon": [
          7.4248009999999995,
          6.148855999999999
         ],
         "mode": "lines",
         "opacity": 0.875,
         "type": "scattergeo"
        },
        {
         "lat": [
          46.947455,
          46.197616
         ],
         "line": {
          "color": "blue",
          "width": 1.5
         },
         "locationmode": "USA-states",
         "lon": [
          7.4248009999999995,
          9.026881
         ],
         "mode": "lines",
         "opacity": 0.875,
         "type": "scattergeo"
        },
        {
         "lat": [
          46.947455,
          46.2351
         ],
         "line": {
          "color": "blue",
          "width": 1.5
         },
         "locationmode": "USA-states",
         "lon": [
          7.4248009999999995,
          7.387328
         ],
         "mode": "lines",
         "opacity": 0.875,
         "type": "scattergeo"
        },
        {
         "lat": [
          47.454285999999996,
          46.197616
         ],
         "line": {
          "color": "blue",
          "width": 1.5
         },
         "locationmode": "USA-states",
         "lon": [
          8.278407000000001,
          9.026881
         ],
         "mode": "lines",
         "opacity": 0.25,
         "type": "scattergeo"
        },
        {
         "lat": [
          46.440108,
          46.193711
         ],
         "line": {
          "color": "blue",
          "width": 1.5
         },
         "locationmode": "USA-states",
         "lon": [
          6.908222,
          6.148855999999999
         ],
         "mode": "lines",
         "opacity": 0.375,
         "type": "scattergeo"
        },
        {
         "lat": [
          46.77032,
          46.193711
         ],
         "line": {
          "color": "blue",
          "width": 1.5
         },
         "locationmode": "USA-states",
         "lon": [
          6.64755,
          6.148855999999999
         ],
         "mode": "lines",
         "opacity": 0.25,
         "type": "scattergeo"
        },
        {
         "lat": [
          47.263268,
          46.197616
         ],
         "line": {
          "color": "blue",
          "width": 1.5
         },
         "locationmode": "USA-states",
         "lon": [
          8.589378,
          9.026881
         ],
         "mode": "lines",
         "opacity": 0.25,
         "type": "scattergeo"
        },
        {
         "lat": [
          47.200103999999996,
          46.193711
         ],
         "line": {
          "color": "blue",
          "width": 1.5
         },
         "locationmode": "USA-states",
         "lon": [
          7.539125,
          6.148855999999999
         ],
         "mode": "lines",
         "opacity": 0.5,
         "type": "scattergeo"
        },
        {
         "lat": [
          47.200103999999996,
          46.197616
         ],
         "line": {
          "color": "blue",
          "width": 1.5
         },
         "locationmode": "USA-states",
         "lon": [
          7.539125,
          9.026881
         ],
         "mode": "lines",
         "opacity": 0.5,
         "type": "scattergeo"
        },
        {
         "lat": [
          46.801389,
          46.193711
         ],
         "line": {
          "color": "blue",
          "width": 1.5
         },
         "locationmode": "USA-states",
         "lon": [
          7.137283,
          6.148855999999999
         ],
         "mode": "lines",
         "opacity": 0.375,
         "type": "scattergeo"
        },
        {
         "lat": [
          47.488122,
          46.197616
         ],
         "line": {
          "color": "blue",
          "width": 1.5
         },
         "locationmode": "USA-states",
         "lon": [
          7.731507000000001,
          9.026881
         ],
         "mode": "lines",
         "opacity": 0.5,
         "type": "scattergeo"
        },
        {
         "lat": [
          47.058078,
          46.193711
         ],
         "line": {
          "color": "blue",
          "width": 1.5
         },
         "locationmode": "USA-states",
         "lon": [
          8.298791,
          6.148855999999999
         ],
         "mode": "lines",
         "opacity": 0.75,
         "type": "scattergeo"
        },
        {
         "lat": [
          47.058078,
          46.197616
         ],
         "line": {
          "color": "blue",
          "width": 1.5
         },
         "locationmode": "USA-states",
         "lon": [
          8.298791,
          9.026881
         ],
         "mode": "lines",
         "opacity": 0.75,
         "type": "scattergeo"
        },
        {
         "lat": [
          47.058078,
          46.005434
         ],
         "line": {
          "color": "blue",
          "width": 1.5
         },
         "locationmode": "USA-states",
         "lon": [
          8.298791,
          8.94011
         ],
         "mode": "lines",
         "opacity": 0.75,
         "type": "scattergeo"
        },
        {
         "lat": [
          47.058078,
          46.018508000000004
         ],
         "line": {
          "color": "blue",
          "width": 1.5
         },
         "locationmode": "USA-states",
         "lon": [
          8.298791,
          8.952941000000001
         ],
         "mode": "lines",
         "opacity": 0.375,
         "type": "scattergeo"
        },
        {
         "lat": [
          47.549937,
          46.197616
         ],
         "line": {
          "color": "blue",
          "width": 1.5
         },
         "locationmode": "USA-states",
         "lon": [
          8.911494,
          9.026881
         ],
         "mode": "lines",
         "opacity": 0.5,
         "type": "scattergeo"
        },
        {
         "lat": [
          47.351971999999996,
          46.197616
         ],
         "line": {
          "color": "blue",
          "width": 1.5
         },
         "locationmode": "USA-states",
         "lon": [
          8.576158,
          9.026881
         ],
         "mode": "lines",
         "opacity": 0.375,
         "type": "scattergeo"
        },
        {
         "lat": [
          46.86411,
          46.197616
         ],
         "line": {
          "color": "blue",
          "width": 1.5
         },
         "locationmode": "USA-states",
         "lon": [
          9.539952,
          9.026881
         ],
         "mode": "lines",
         "opacity": 0.25,
         "type": "scattergeo"
        },
        {
         "lat": [
          47.397628000000005,
          46.197616
         ],
         "line": {
          "color": "blue",
          "width": 1.5
         },
         "locationmode": "USA-states",
         "lon": [
          9.579355,
          9.026881
         ],
         "mode": "lines",
         "opacity": 0.25,
         "type": "scattergeo"
        },
        {
         "lat": [
          46.958811,
          46.193711
         ],
         "line": {
          "color": "blue",
          "width": 1.5
         },
         "locationmode": "USA-states",
         "lon": [
          7.427403,
          6.148855999999999
         ],
         "mode": "lines",
         "opacity": 0.375,
         "type": "scattergeo"
        },
        {
         "lat": [
          46.958811,
          46.197616
         ],
         "line": {
          "color": "blue",
          "width": 1.5
         },
         "locationmode": "USA-states",
         "lon": [
          7.427403,
          9.026881
         ],
         "mode": "lines",
         "opacity": 0.375,
         "type": "scattergeo"
        },
        {
         "lat": [
          46.958811,
          46.996590999999995
         ],
         "line": {
          "color": "blue",
          "width": 1.5
         },
         "locationmode": "USA-states",
         "lon": [
          7.427403,
          6.942991
         ],
         "mode": "lines",
         "opacity": 0.375,
         "type": "scattergeo"
        },
        {
         "lat": [
          47.147814000000004,
          46.996590999999995
         ],
         "line": {
          "color": "blue",
          "width": 1.5
         },
         "locationmode": "USA-states",
         "lon": [
          7.244622,
          6.942991
         ],
         "mode": "lines",
         "opacity": 0.25,
         "type": "scattergeo"
        },
        {
         "lat": [
          47.399167,
          46.197616
         ],
         "line": {
          "color": "blue",
          "width": 1.5
         },
         "locationmode": "USA-states",
         "lon": [
          8.520622,
          9.026881
         ],
         "mode": "lines",
         "opacity": 0.25,
         "type": "scattergeo"
        },
        {
         "lat": [
          47.507967,
          46.197616
         ],
         "line": {
          "color": "blue",
          "width": 1.5
         },
         "locationmode": "USA-states",
         "lon": [
          8.727949,
          9.026881
         ],
         "mode": "lines",
         "opacity": 0.5,
         "type": "scattergeo"
        },
        {
         "lat": [
          47.366863,
          46.197616
         ],
         "line": {
          "color": "blue",
          "width": 1.5
         },
         "locationmode": "USA-states",
         "lon": [
          8.497572,
          9.026881
         ],
         "mode": "lines",
         "opacity": 0.375,
         "type": "scattergeo"
        },
        {
         "lat": [
          46.761733,
          46.197616
         ],
         "line": {
          "color": "blue",
          "width": 1.5
         },
         "locationmode": "USA-states",
         "lon": [
          7.632281,
          9.026881
         ],
         "mode": "lines",
         "opacity": 0.25,
         "type": "scattergeo"
        },
        {
         "lat": [
          47.43119,
          46.193711
         ],
         "line": {
          "color": "blue",
          "width": 1.5
         },
         "locationmode": "USA-states",
         "lon": [
          9.388303,
          6.148855999999999
         ],
         "mode": "lines",
         "opacity": 0.875,
         "type": "scattergeo"
        },
        {
         "lat": [
          47.43119,
          46.197616
         ],
         "line": {
          "color": "blue",
          "width": 1.5
         },
         "locationmode": "USA-states",
         "lon": [
          9.388303,
          9.026881
         ],
         "mode": "lines",
         "opacity": 0.875,
         "type": "scattergeo"
        },
        {
         "lat": [
          47.43119,
          46.005434
         ],
         "line": {
          "color": "blue",
          "width": 1.5
         },
         "locationmode": "USA-states",
         "lon": [
          9.388303,
          8.94011
         ],
         "mode": "lines",
         "opacity": 0.875,
         "type": "scattergeo"
        },
        {
         "lat": [
          46.383439,
          46.193711
         ],
         "line": {
          "color": "blue",
          "width": 1.5
         },
         "locationmode": "USA-states",
         "lon": [
          6.227493,
          6.148855999999999
         ],
         "mode": "lines",
         "opacity": 0.125,
         "type": "scattergeo"
        },
        {
         "lat": [
          46.383439,
          46.186931
         ],
         "line": {
          "color": "blue",
          "width": 1.5
         },
         "locationmode": "USA-states",
         "lon": [
          6.227493,
          6.142615
         ],
         "mode": "lines",
         "opacity": 0.125,
         "type": "scattergeo"
        }
       ],
       "layout": {
        "geo": {
         "countrycolor": "rgb(204, 204, 204)",
         "landcolor": "rgb(243, 243, 243)",
         "projection": {
          "type": "stereographic"
         },
         "resolution": 50,
         "scope": "europe",
         "showlakes": true
        },
        "showlegend": false,
        "template": {
         "data": {
          "bar": [
           {
            "error_x": {
             "color": "#2a3f5f"
            },
            "error_y": {
             "color": "#2a3f5f"
            },
            "marker": {
             "line": {
              "color": "#E5ECF6",
              "width": 0.5
             }
            },
            "type": "bar"
           }
          ],
          "barpolar": [
           {
            "marker": {
             "line": {
              "color": "#E5ECF6",
              "width": 0.5
             }
            },
            "type": "barpolar"
           }
          ],
          "carpet": [
           {
            "aaxis": {
             "endlinecolor": "#2a3f5f",
             "gridcolor": "white",
             "linecolor": "white",
             "minorgridcolor": "white",
             "startlinecolor": "#2a3f5f"
            },
            "baxis": {
             "endlinecolor": "#2a3f5f",
             "gridcolor": "white",
             "linecolor": "white",
             "minorgridcolor": "white",
             "startlinecolor": "#2a3f5f"
            },
            "type": "carpet"
           }
          ],
          "choropleth": [
           {
            "colorbar": {
             "outlinewidth": 0,
             "ticks": ""
            },
            "type": "choropleth"
           }
          ],
          "contour": [
           {
            "colorbar": {
             "outlinewidth": 0,
             "ticks": ""
            },
            "colorscale": [
             [
              0,
              "#0d0887"
             ],
             [
              0.1111111111111111,
              "#46039f"
             ],
             [
              0.2222222222222222,
              "#7201a8"
             ],
             [
              0.3333333333333333,
              "#9c179e"
             ],
             [
              0.4444444444444444,
              "#bd3786"
             ],
             [
              0.5555555555555556,
              "#d8576b"
             ],
             [
              0.6666666666666666,
              "#ed7953"
             ],
             [
              0.7777777777777778,
              "#fb9f3a"
             ],
             [
              0.8888888888888888,
              "#fdca26"
             ],
             [
              1,
              "#f0f921"
             ]
            ],
            "type": "contour"
           }
          ],
          "contourcarpet": [
           {
            "colorbar": {
             "outlinewidth": 0,
             "ticks": ""
            },
            "type": "contourcarpet"
           }
          ],
          "heatmap": [
           {
            "colorbar": {
             "outlinewidth": 0,
             "ticks": ""
            },
            "colorscale": [
             [
              0,
              "#0d0887"
             ],
             [
              0.1111111111111111,
              "#46039f"
             ],
             [
              0.2222222222222222,
              "#7201a8"
             ],
             [
              0.3333333333333333,
              "#9c179e"
             ],
             [
              0.4444444444444444,
              "#bd3786"
             ],
             [
              0.5555555555555556,
              "#d8576b"
             ],
             [
              0.6666666666666666,
              "#ed7953"
             ],
             [
              0.7777777777777778,
              "#fb9f3a"
             ],
             [
              0.8888888888888888,
              "#fdca26"
             ],
             [
              1,
              "#f0f921"
             ]
            ],
            "type": "heatmap"
           }
          ],
          "heatmapgl": [
           {
            "colorbar": {
             "outlinewidth": 0,
             "ticks": ""
            },
            "colorscale": [
             [
              0,
              "#0d0887"
             ],
             [
              0.1111111111111111,
              "#46039f"
             ],
             [
              0.2222222222222222,
              "#7201a8"
             ],
             [
              0.3333333333333333,
              "#9c179e"
             ],
             [
              0.4444444444444444,
              "#bd3786"
             ],
             [
              0.5555555555555556,
              "#d8576b"
             ],
             [
              0.6666666666666666,
              "#ed7953"
             ],
             [
              0.7777777777777778,
              "#fb9f3a"
             ],
             [
              0.8888888888888888,
              "#fdca26"
             ],
             [
              1,
              "#f0f921"
             ]
            ],
            "type": "heatmapgl"
           }
          ],
          "histogram": [
           {
            "marker": {
             "colorbar": {
              "outlinewidth": 0,
              "ticks": ""
             }
            },
            "type": "histogram"
           }
          ],
          "histogram2d": [
           {
            "colorbar": {
             "outlinewidth": 0,
             "ticks": ""
            },
            "colorscale": [
             [
              0,
              "#0d0887"
             ],
             [
              0.1111111111111111,
              "#46039f"
             ],
             [
              0.2222222222222222,
              "#7201a8"
             ],
             [
              0.3333333333333333,
              "#9c179e"
             ],
             [
              0.4444444444444444,
              "#bd3786"
             ],
             [
              0.5555555555555556,
              "#d8576b"
             ],
             [
              0.6666666666666666,
              "#ed7953"
             ],
             [
              0.7777777777777778,
              "#fb9f3a"
             ],
             [
              0.8888888888888888,
              "#fdca26"
             ],
             [
              1,
              "#f0f921"
             ]
            ],
            "type": "histogram2d"
           }
          ],
          "histogram2dcontour": [
           {
            "colorbar": {
             "outlinewidth": 0,
             "ticks": ""
            },
            "colorscale": [
             [
              0,
              "#0d0887"
             ],
             [
              0.1111111111111111,
              "#46039f"
             ],
             [
              0.2222222222222222,
              "#7201a8"
             ],
             [
              0.3333333333333333,
              "#9c179e"
             ],
             [
              0.4444444444444444,
              "#bd3786"
             ],
             [
              0.5555555555555556,
              "#d8576b"
             ],
             [
              0.6666666666666666,
              "#ed7953"
             ],
             [
              0.7777777777777778,
              "#fb9f3a"
             ],
             [
              0.8888888888888888,
              "#fdca26"
             ],
             [
              1,
              "#f0f921"
             ]
            ],
            "type": "histogram2dcontour"
           }
          ],
          "mesh3d": [
           {
            "colorbar": {
             "outlinewidth": 0,
             "ticks": ""
            },
            "type": "mesh3d"
           }
          ],
          "parcoords": [
           {
            "line": {
             "colorbar": {
              "outlinewidth": 0,
              "ticks": ""
             }
            },
            "type": "parcoords"
           }
          ],
          "pie": [
           {
            "automargin": true,
            "type": "pie"
           }
          ],
          "scatter": [
           {
            "marker": {
             "colorbar": {
              "outlinewidth": 0,
              "ticks": ""
             }
            },
            "type": "scatter"
           }
          ],
          "scatter3d": [
           {
            "line": {
             "colorbar": {
              "outlinewidth": 0,
              "ticks": ""
             }
            },
            "marker": {
             "colorbar": {
              "outlinewidth": 0,
              "ticks": ""
             }
            },
            "type": "scatter3d"
           }
          ],
          "scattercarpet": [
           {
            "marker": {
             "colorbar": {
              "outlinewidth": 0,
              "ticks": ""
             }
            },
            "type": "scattercarpet"
           }
          ],
          "scattergeo": [
           {
            "marker": {
             "colorbar": {
              "outlinewidth": 0,
              "ticks": ""
             }
            },
            "type": "scattergeo"
           }
          ],
          "scattergl": [
           {
            "marker": {
             "colorbar": {
              "outlinewidth": 0,
              "ticks": ""
             }
            },
            "type": "scattergl"
           }
          ],
          "scattermapbox": [
           {
            "marker": {
             "colorbar": {
              "outlinewidth": 0,
              "ticks": ""
             }
            },
            "type": "scattermapbox"
           }
          ],
          "scatterpolar": [
           {
            "marker": {
             "colorbar": {
              "outlinewidth": 0,
              "ticks": ""
             }
            },
            "type": "scatterpolar"
           }
          ],
          "scatterpolargl": [
           {
            "marker": {
             "colorbar": {
              "outlinewidth": 0,
              "ticks": ""
             }
            },
            "type": "scatterpolargl"
           }
          ],
          "scatterternary": [
           {
            "marker": {
             "colorbar": {
              "outlinewidth": 0,
              "ticks": ""
             }
            },
            "type": "scatterternary"
           }
          ],
          "surface": [
           {
            "colorbar": {
             "outlinewidth": 0,
             "ticks": ""
            },
            "colorscale": [
             [
              0,
              "#0d0887"
             ],
             [
              0.1111111111111111,
              "#46039f"
             ],
             [
              0.2222222222222222,
              "#7201a8"
             ],
             [
              0.3333333333333333,
              "#9c179e"
             ],
             [
              0.4444444444444444,
              "#bd3786"
             ],
             [
              0.5555555555555556,
              "#d8576b"
             ],
             [
              0.6666666666666666,
              "#ed7953"
             ],
             [
              0.7777777777777778,
              "#fb9f3a"
             ],
             [
              0.8888888888888888,
              "#fdca26"
             ],
             [
              1,
              "#f0f921"
             ]
            ],
            "type": "surface"
           }
          ],
          "table": [
           {
            "cells": {
             "fill": {
              "color": "#EBF0F8"
             },
             "line": {
              "color": "white"
             }
            },
            "header": {
             "fill": {
              "color": "#C8D4E3"
             },
             "line": {
              "color": "white"
             }
            },
            "type": "table"
           }
          ]
         },
         "layout": {
          "annotationdefaults": {
           "arrowcolor": "#2a3f5f",
           "arrowhead": 0,
           "arrowwidth": 1
          },
          "coloraxis": {
           "colorbar": {
            "outlinewidth": 0,
            "ticks": ""
           }
          },
          "colorscale": {
           "diverging": [
            [
             0,
             "#8e0152"
            ],
            [
             0.1,
             "#c51b7d"
            ],
            [
             0.2,
             "#de77ae"
            ],
            [
             0.3,
             "#f1b6da"
            ],
            [
             0.4,
             "#fde0ef"
            ],
            [
             0.5,
             "#f7f7f7"
            ],
            [
             0.6,
             "#e6f5d0"
            ],
            [
             0.7,
             "#b8e186"
            ],
            [
             0.8,
             "#7fbc41"
            ],
            [
             0.9,
             "#4d9221"
            ],
            [
             1,
             "#276419"
            ]
           ],
           "sequential": [
            [
             0,
             "#0d0887"
            ],
            [
             0.1111111111111111,
             "#46039f"
            ],
            [
             0.2222222222222222,
             "#7201a8"
            ],
            [
             0.3333333333333333,
             "#9c179e"
            ],
            [
             0.4444444444444444,
             "#bd3786"
            ],
            [
             0.5555555555555556,
             "#d8576b"
            ],
            [
             0.6666666666666666,
             "#ed7953"
            ],
            [
             0.7777777777777778,
             "#fb9f3a"
            ],
            [
             0.8888888888888888,
             "#fdca26"
            ],
            [
             1,
             "#f0f921"
            ]
           ],
           "sequentialminus": [
            [
             0,
             "#0d0887"
            ],
            [
             0.1111111111111111,
             "#46039f"
            ],
            [
             0.2222222222222222,
             "#7201a8"
            ],
            [
             0.3333333333333333,
             "#9c179e"
            ],
            [
             0.4444444444444444,
             "#bd3786"
            ],
            [
             0.5555555555555556,
             "#d8576b"
            ],
            [
             0.6666666666666666,
             "#ed7953"
            ],
            [
             0.7777777777777778,
             "#fb9f3a"
            ],
            [
             0.8888888888888888,
             "#fdca26"
            ],
            [
             1,
             "#f0f921"
            ]
           ]
          },
          "colorway": [
           "#636efa",
           "#EF553B",
           "#00cc96",
           "#ab63fa",
           "#FFA15A",
           "#19d3f3",
           "#FF6692",
           "#B6E880",
           "#FF97FF",
           "#FECB52"
          ],
          "font": {
           "color": "#2a3f5f"
          },
          "geo": {
           "bgcolor": "white",
           "lakecolor": "white",
           "landcolor": "#E5ECF6",
           "showlakes": true,
           "showland": true,
           "subunitcolor": "white"
          },
          "hoverlabel": {
           "align": "left"
          },
          "hovermode": "closest",
          "mapbox": {
           "style": "light"
          },
          "paper_bgcolor": "white",
          "plot_bgcolor": "#E5ECF6",
          "polar": {
           "angularaxis": {
            "gridcolor": "white",
            "linecolor": "white",
            "ticks": ""
           },
           "bgcolor": "#E5ECF6",
           "radialaxis": {
            "gridcolor": "white",
            "linecolor": "white",
            "ticks": ""
           }
          },
          "scene": {
           "xaxis": {
            "backgroundcolor": "#E5ECF6",
            "gridcolor": "white",
            "gridwidth": 2,
            "linecolor": "white",
            "showbackground": true,
            "ticks": "",
            "zerolinecolor": "white"
           },
           "yaxis": {
            "backgroundcolor": "#E5ECF6",
            "gridcolor": "white",
            "gridwidth": 2,
            "linecolor": "white",
            "showbackground": true,
            "ticks": "",
            "zerolinecolor": "white"
           },
           "zaxis": {
            "backgroundcolor": "#E5ECF6",
            "gridcolor": "white",
            "gridwidth": 2,
            "linecolor": "white",
            "showbackground": true,
            "ticks": "",
            "zerolinecolor": "white"
           }
          },
          "shapedefaults": {
           "line": {
            "color": "#2a3f5f"
           }
          },
          "ternary": {
           "aaxis": {
            "gridcolor": "white",
            "linecolor": "white",
            "ticks": ""
           },
           "baxis": {
            "gridcolor": "white",
            "linecolor": "white",
            "ticks": ""
           },
           "bgcolor": "#E5ECF6",
           "caxis": {
            "gridcolor": "white",
            "linecolor": "white",
            "ticks": ""
           }
          },
          "title": {
           "x": 0.05
          },
          "xaxis": {
           "automargin": true,
           "gridcolor": "white",
           "linecolor": "white",
           "ticks": "",
           "title": {
            "standoff": 15
           },
           "zerolinecolor": "white",
           "zerolinewidth": 2
          },
          "yaxis": {
           "automargin": true,
           "gridcolor": "white",
           "linecolor": "white",
           "ticks": "",
           "title": {
            "standoff": 15
           },
           "zerolinecolor": "white",
           "zerolinewidth": 2
          }
         }
        },
        "title": {
         "text": "Ventilator reallocation results"
        }
       }
      },
      "text/html": [
       "<div>\n",
       "        \n",
       "        \n",
       "            <div id=\"2d6faecf-29a6-4d55-89bc-1df6ac5a8523\" class=\"plotly-graph-div\" style=\"height:525px; width:100%;\"></div>\n",
       "            <script type=\"text/javascript\">\n",
       "                require([\"plotly\"], function(Plotly) {\n",
       "                    window.PLOTLYENV=window.PLOTLYENV || {};\n",
       "                    \n",
       "                if (document.getElementById(\"2d6faecf-29a6-4d55-89bc-1df6ac5a8523\")) {\n",
       "                    Plotly.newPlot(\n",
       "                        '2d6faecf-29a6-4d55-89bc-1df6ac5a8523',\n",
       "                        [{\"hoverinfo\": \"text\", \"lat\": [47.561196, 46.193711, 46.524749, 47.376736, 46.947455, 47.389185, 47.454285999999996, 47.391652, 46.440108, 46.77032, 46.522437, 47.711995, 47.263268, 47.200103999999996, 47.322205, 46.801389, 47.488122, 47.058078, 47.05812, 46.197616, 47.549937, 47.351971999999996, 46.86411, 47.397628000000005, 46.958811, 46.947645, 46.95279, 46.996590999999995, 47.147814000000004, 47.049215000000004, 46.680833, 47.399167, 47.507967, 46.288114, 47.34917, 47.566617, 47.353765, 47.394227, 47.366863, 46.2351, 46.761733, 47.43119, 47.194648, 47.522028999999996, 47.216521, 46.228776, 47.419685, 47.016475, 46.383439, 47.277588, 47.35256, 47.251154, 47.189221, 46.005434, 46.540309, 47.296098, 46.818815, 46.883284, 46.018508000000004, 46.959937, 47.445458, 47.046166, 46.186931, 47.372031, 47.431105, 47.563624, 47.141715999999995], \"locationmode\": \"USA-states\", \"lon\": [7.5815410000000005, 6.148855999999999, 6.639659, 8.549199, 7.4248009999999995, 8.059994999999999, 8.278407000000001, 8.042692, 6.908222, 6.64755, 6.499426000000001, 8.638826, 8.589378, 7.539125, 8.802781, 7.137283, 7.731507000000001, 8.298791, 8.326092, 9.026881, 8.911494, 8.576158, 9.539952, 9.579355, 7.427403, 7.426611, 7.448237, 6.942991, 7.244622, 7.620941999999999, 7.842919, 8.520622, 8.727949, 7.8841779999999995, 8.598519, 7.614161999999999, 8.724082000000001, 8.431632, 8.497572, 7.387328, 7.632281, 9.388303, 8.518031, 8.5329, 7.793825, 6.0674, 7.058210000000001, 8.658699, 6.227493, 8.330606, 8.531581, 8.696631, 8.858947, 8.94011, 9.878888, 7.9471240000000005, 6.946231, 8.637429, 8.952941000000001, 8.357545, 9.411887, 9.06511, 6.142615, 8.557767, 9.387303999999999, 7.58183, 8.130885000000001], \"marker\": {\"color\": \"black\", \"size\": 5}, \"mode\": \"markers\", \"text\": [\"Universit\\u00c3\\u008c_tsspital Basel\", \"Les H\\u00c3\\u008c\\u00c2\\u00abpitaux Universitaires de Gen\\u00c3\\u008c\\u00c2\\u00acve HUG\", \"CHUV Centre Hospitalier Universitaire Vaudois\", \"Universit\\u00c3\\u008c_tsspital Z\\u00c3\\u008c_rich\", \"Insel Gruppe AG (universit\\u00c3\\u008c_r)\", \"Kantonsspital Aarau AG\", \"Kantonsspital Baden AG\", \"Hirslanden Klinik Aarau\", \"H\\u00c3\\u008c\\u00c2\\u00abpital Riviera-Chablais Vaud-Valais\", \"Etablissements Hospitaliers du Nord Vaudois (eHnv)\", \"EHC Ensemble hospitalier de la C\\u00c3\\u008c\\u00c2\\u00abte\", \"Spit\\u00c3\\u008c_ler Schaffhausen\", \"See-Spital\", \"Solothurner Spit\\u00c3\\u008c_ler AG\", \"GZO Spital Wetzikon\", \"HFR - H\\u00c3\\u008c\\u00c2\\u00abpital fribourgeois\", \"Kantonsspital Baselland\", \"Luzerner Kantonsspital\", \"Hirslanden Klinik St. Anna AG\", \"EOC Ente ospedaliero cantonale\", \"Spital Thurgau AG Kantonsspit\\u00c3\\u008c_ler Frauenfeld & M\\u00c3\\u008c_nsterlingen\", \"Klinik Hirslanden AG\", \"Kantonsspital Graub\\u00c3\\u008c_nden\", \"Spitalregion Rheintal Werdenberg Sarganserland\", \"Lindenhof AG\", \"Insel Gruppe AG (nicht-universit\\u00c3\\u008c_r)\", \"Hirslanden Bern AG\", \"H\\u00c3\\u008c\\u00c2\\u00abpital Neuch\\u00c3\\u008c\\u00c2\\u00a2telois HNE\", \"Spitalzentrum Biel AG\", \"Regionalspital Emmental AG\", \"Spit\\u00c3\\u008c_ler Frutigen Meiringen Interlaken AG\", \"Stadtspital Waid\", \"Kantonsspital Winterthur\", \"Spital Wallis - Spitalzentrum Oberwallis (SZO)\", \"Spital Zollikerberg\", \"St. Claraspital\", \"Spital Uster\", \"Spital Limmattal\", \"Stadtspital Triemli\", \"H\\u00c3\\u008c\\u00c2\\u00abpital du Valais - Centre hospitalier du centre du Valais (CHCVs)\", \"Spital STS AG\", \"Kantonsspital St. Gallen\", \"Zuger Kantonsspital AG\", \"Spital B\\u00c3\\u008c_lach AG\", \"SRO Spital Region Oberaargau AG\", \"H\\u00c3\\u008c\\u00c2\\u00abpital de la Tour\", \"H\\u00c3\\u008c\\u00c2\\u00abpital du Jura\", \"Spital Schwyz\", \"Groupement Hospitalier de l'Ouest L\\u00c3\\u008c\\u00c2\\u00a9manique (GHOL) SA\", \"Kreisspital f\\u00c3\\u008c_r das Freiamt\", \"Klinik Im Park\", \"Spital M\\u00c3\\u008c_nnedorf AG\", \"Spital Lachen\", \"Clinica Luganese Moncucco SA Sede Moncucco\", \"Spital Oberengadin\", \"Spital Zofingen AG\", \"H\\u00c3\\u008c\\u00c2\\u00abpital Intercantonal de la Broye (HIB)\", \"Kantonsspital Uri\", \"Cardiocentro Ticino (CCT)\", \"Kantonsspital Nidwalden\", \"Hirslanden Klinik Stephanshorn\", \"Kantonsspital Glarus\", \"Clinique de Carouge\", \"Universit\\u00c3\\u008c_ts-Kinderspital Z\\u00c3\\u008c_rich das Spital der Eleonorenstiftung\", \"Ostschweizer Kinderspital\", \"Universit\\u00c3\\u008c_ts-Kinderspital beider Basel (UKBB)\", \"Schweizer Paraplegiker-Zentrum Nottwil AG\"], \"type\": \"scattergeo\"}, {\"hoverinfo\": \"text\", \"lat\": [47.561196, 46.524749, 47.376736, 46.947455, 47.454285999999996, 46.440108, 46.77032, 47.263268, 47.200103999999996, 46.801389, 47.488122, 47.058078, 47.549937, 47.351971999999996, 46.86411, 47.397628000000005, 46.958811, 47.147814000000004, 47.399167, 47.507967, 47.366863, 46.761733, 47.43119, 46.383439], \"locationmode\": \"USA-states\", \"lon\": [7.5815410000000005, 6.639659, 8.549199, 7.4248009999999995, 8.278407000000001, 6.908222, 6.64755, 8.589378, 7.539125, 7.137283, 7.731507000000001, 8.298791, 8.911494, 8.576158, 9.539952, 9.579355, 7.427403, 7.244622, 8.520622, 8.727949, 8.497572, 7.632281, 9.388303, 6.227493], \"marker\": {\"color\": \"green\", \"size\": 5}, \"mode\": \"markers\", \"text\": [\"Universit\\u00c3\\u008c_tsspital Basel\", \"CHUV Centre Hospitalier Universitaire Vaudois\", \"Universit\\u00c3\\u008c_tsspital Z\\u00c3\\u008c_rich\", \"Insel Gruppe AG (universit\\u00c3\\u008c_r)\", \"Kantonsspital Baden AG\", \"H\\u00c3\\u008c\\u00c2\\u00abpital Riviera-Chablais Vaud-Valais\", \"Etablissements Hospitaliers du Nord Vaudois (eHnv)\", \"See-Spital\", \"Solothurner Spit\\u00c3\\u008c_ler AG\", \"HFR - H\\u00c3\\u008c\\u00c2\\u00abpital fribourgeois\", \"Kantonsspital Baselland\", \"Luzerner Kantonsspital\", \"Spital Thurgau AG Kantonsspit\\u00c3\\u008c_ler Frauenfeld & M\\u00c3\\u008c_nsterlingen\", \"Klinik Hirslanden AG\", \"Kantonsspital Graub\\u00c3\\u008c_nden\", \"Spitalregion Rheintal Werdenberg Sarganserland\", \"Lindenhof AG\", \"Spitalzentrum Biel AG\", \"Stadtspital Waid\", \"Kantonsspital Winterthur\", \"Stadtspital Triemli\", \"Spital STS AG\", \"Kantonsspital St. Gallen\", \"Groupement Hospitalier de l'Ouest L\\u00c3\\u008c\\u00c2\\u00a9manique (GHOL) SA\"], \"type\": \"scattergeo\"}, {\"hoverinfo\": \"text\", \"lat\": [46.193711, 46.197616, 46.996590999999995, 46.288114, 46.2351, 46.228776, 46.005434, 46.018508000000004, 46.186931], \"locationmode\": \"USA-states\", \"lon\": [6.148855999999999, 9.026881, 6.942991, 7.8841779999999995, 7.387328, 6.0674, 8.94011, 8.952941000000001, 6.142615], \"marker\": {\"color\": \"red\", \"size\": 5}, \"mode\": \"markers\", \"text\": [\"Les H\\u00c3\\u008c\\u00c2\\u00abpitaux Universitaires de Gen\\u00c3\\u008c\\u00c2\\u00acve HUG\", \"EOC Ente ospedaliero cantonale\", \"H\\u00c3\\u008c\\u00c2\\u00abpital Neuch\\u00c3\\u008c\\u00c2\\u00a2telois HNE\", \"Spital Wallis - Spitalzentrum Oberwallis (SZO)\", \"H\\u00c3\\u008c\\u00c2\\u00abpital du Valais - Centre hospitalier du centre du Valais (CHCVs)\", \"H\\u00c3\\u008c\\u00c2\\u00abpital de la Tour\", \"Clinica Luganese Moncucco SA Sede Moncucco\", \"Cardiocentro Ticino (CCT)\", \"Clinique de Carouge\"], \"type\": \"scattergeo\"}, {\"lat\": [47.561196, 46.193711], \"line\": {\"color\": \"blue\", \"width\": 1.5}, \"locationmode\": \"USA-states\", \"lon\": [7.5815410000000005, 6.148855999999999], \"mode\": \"lines\", \"opacity\": 0.625, \"type\": \"scattergeo\"}, {\"lat\": [47.561196, 46.197616], \"line\": {\"color\": \"blue\", \"width\": 1.5}, \"locationmode\": \"USA-states\", \"lon\": [7.5815410000000005, 9.026881], \"mode\": \"lines\", \"opacity\": 0.625, \"type\": \"scattergeo\"}, {\"lat\": [46.524749, 46.193711], \"line\": {\"color\": \"blue\", \"width\": 1.5}, \"locationmode\": \"USA-states\", \"lon\": [6.639659, 6.148855999999999], \"mode\": \"lines\", \"opacity\": 1.0, \"type\": \"scattergeo\"}, {\"lat\": [46.524749, 46.197616], \"line\": {\"color\": \"blue\", \"width\": 1.5}, \"locationmode\": \"USA-states\", \"lon\": [6.639659, 9.026881], \"mode\": \"lines\", \"opacity\": 1.0, \"type\": \"scattergeo\"}, {\"lat\": [46.524749, 46.288114], \"line\": {\"color\": \"blue\", \"width\": 1.5}, \"locationmode\": \"USA-states\", \"lon\": [6.639659, 7.8841779999999995], \"mode\": \"lines\", \"opacity\": 0.75, \"type\": \"scattergeo\"}, {\"lat\": [46.524749, 46.2351], \"line\": {\"color\": \"blue\", \"width\": 1.5}, \"locationmode\": \"USA-states\", \"lon\": [6.639659, 7.387328], \"mode\": \"lines\", \"opacity\": 1.0, \"type\": \"scattergeo\"}, {\"lat\": [46.524749, 46.228776], \"line\": {\"color\": \"blue\", \"width\": 1.5}, \"locationmode\": \"USA-states\", \"lon\": [6.639659, 6.0674], \"mode\": \"lines\", \"opacity\": 0.75, \"type\": \"scattergeo\"}, {\"lat\": [47.376736, 46.193711], \"line\": {\"color\": \"blue\", \"width\": 1.5}, \"locationmode\": \"USA-states\", \"lon\": [8.549199, 6.148855999999999], \"mode\": \"lines\", \"opacity\": 0.75, \"type\": \"scattergeo\"}, {\"lat\": [47.376736, 46.197616], \"line\": {\"color\": \"blue\", \"width\": 1.5}, \"locationmode\": \"USA-states\", \"lon\": [8.549199, 9.026881], \"mode\": \"lines\", \"opacity\": 1.0, \"type\": \"scattergeo\"}, {\"lat\": [46.947455, 46.193711], \"line\": {\"color\": \"blue\", \"width\": 1.5}, \"locationmode\": \"USA-states\", \"lon\": [7.4248009999999995, 6.148855999999999], \"mode\": \"lines\", \"opacity\": 0.875, \"type\": \"scattergeo\"}, {\"lat\": [46.947455, 46.197616], \"line\": {\"color\": \"blue\", \"width\": 1.5}, \"locationmode\": \"USA-states\", \"lon\": [7.4248009999999995, 9.026881], \"mode\": \"lines\", \"opacity\": 0.875, \"type\": \"scattergeo\"}, {\"lat\": [46.947455, 46.2351], \"line\": {\"color\": \"blue\", \"width\": 1.5}, \"locationmode\": \"USA-states\", \"lon\": [7.4248009999999995, 7.387328], \"mode\": \"lines\", \"opacity\": 0.875, \"type\": \"scattergeo\"}, {\"lat\": [47.454285999999996, 46.197616], \"line\": {\"color\": \"blue\", \"width\": 1.5}, \"locationmode\": \"USA-states\", \"lon\": [8.278407000000001, 9.026881], \"mode\": \"lines\", \"opacity\": 0.25, \"type\": \"scattergeo\"}, {\"lat\": [46.440108, 46.193711], \"line\": {\"color\": \"blue\", \"width\": 1.5}, \"locationmode\": \"USA-states\", \"lon\": [6.908222, 6.148855999999999], \"mode\": \"lines\", \"opacity\": 0.375, \"type\": \"scattergeo\"}, {\"lat\": [46.77032, 46.193711], \"line\": {\"color\": \"blue\", \"width\": 1.5}, \"locationmode\": \"USA-states\", \"lon\": [6.64755, 6.148855999999999], \"mode\": \"lines\", \"opacity\": 0.25, \"type\": \"scattergeo\"}, {\"lat\": [47.263268, 46.197616], \"line\": {\"color\": \"blue\", \"width\": 1.5}, \"locationmode\": \"USA-states\", \"lon\": [8.589378, 9.026881], \"mode\": \"lines\", \"opacity\": 0.25, \"type\": \"scattergeo\"}, {\"lat\": [47.200103999999996, 46.193711], \"line\": {\"color\": \"blue\", \"width\": 1.5}, \"locationmode\": \"USA-states\", \"lon\": [7.539125, 6.148855999999999], \"mode\": \"lines\", \"opacity\": 0.5, \"type\": \"scattergeo\"}, {\"lat\": [47.200103999999996, 46.197616], \"line\": {\"color\": \"blue\", \"width\": 1.5}, \"locationmode\": \"USA-states\", \"lon\": [7.539125, 9.026881], \"mode\": \"lines\", \"opacity\": 0.5, \"type\": \"scattergeo\"}, {\"lat\": [46.801389, 46.193711], \"line\": {\"color\": \"blue\", \"width\": 1.5}, \"locationmode\": \"USA-states\", \"lon\": [7.137283, 6.148855999999999], \"mode\": \"lines\", \"opacity\": 0.375, \"type\": \"scattergeo\"}, {\"lat\": [47.488122, 46.197616], \"line\": {\"color\": \"blue\", \"width\": 1.5}, \"locationmode\": \"USA-states\", \"lon\": [7.731507000000001, 9.026881], \"mode\": \"lines\", \"opacity\": 0.5, \"type\": \"scattergeo\"}, {\"lat\": [47.058078, 46.193711], \"line\": {\"color\": \"blue\", \"width\": 1.5}, \"locationmode\": \"USA-states\", \"lon\": [8.298791, 6.148855999999999], \"mode\": \"lines\", \"opacity\": 0.75, \"type\": \"scattergeo\"}, {\"lat\": [47.058078, 46.197616], \"line\": {\"color\": \"blue\", \"width\": 1.5}, \"locationmode\": \"USA-states\", \"lon\": [8.298791, 9.026881], \"mode\": \"lines\", \"opacity\": 0.75, \"type\": \"scattergeo\"}, {\"lat\": [47.058078, 46.005434], \"line\": {\"color\": \"blue\", \"width\": 1.5}, \"locationmode\": \"USA-states\", \"lon\": [8.298791, 8.94011], \"mode\": \"lines\", \"opacity\": 0.75, \"type\": \"scattergeo\"}, {\"lat\": [47.058078, 46.018508000000004], \"line\": {\"color\": \"blue\", \"width\": 1.5}, \"locationmode\": \"USA-states\", \"lon\": [8.298791, 8.952941000000001], \"mode\": \"lines\", \"opacity\": 0.375, \"type\": \"scattergeo\"}, {\"lat\": [47.549937, 46.197616], \"line\": {\"color\": \"blue\", \"width\": 1.5}, \"locationmode\": \"USA-states\", \"lon\": [8.911494, 9.026881], \"mode\": \"lines\", \"opacity\": 0.5, \"type\": \"scattergeo\"}, {\"lat\": [47.351971999999996, 46.197616], \"line\": {\"color\": \"blue\", \"width\": 1.5}, \"locationmode\": \"USA-states\", \"lon\": [8.576158, 9.026881], \"mode\": \"lines\", \"opacity\": 0.375, \"type\": \"scattergeo\"}, {\"lat\": [46.86411, 46.197616], \"line\": {\"color\": \"blue\", \"width\": 1.5}, \"locationmode\": \"USA-states\", \"lon\": [9.539952, 9.026881], \"mode\": \"lines\", \"opacity\": 0.25, \"type\": \"scattergeo\"}, {\"lat\": [47.397628000000005, 46.197616], \"line\": {\"color\": \"blue\", \"width\": 1.5}, \"locationmode\": \"USA-states\", \"lon\": [9.579355, 9.026881], \"mode\": \"lines\", \"opacity\": 0.25, \"type\": \"scattergeo\"}, {\"lat\": [46.958811, 46.193711], \"line\": {\"color\": \"blue\", \"width\": 1.5}, \"locationmode\": \"USA-states\", \"lon\": [7.427403, 6.148855999999999], \"mode\": \"lines\", \"opacity\": 0.375, \"type\": \"scattergeo\"}, {\"lat\": [46.958811, 46.197616], \"line\": {\"color\": \"blue\", \"width\": 1.5}, \"locationmode\": \"USA-states\", \"lon\": [7.427403, 9.026881], \"mode\": \"lines\", \"opacity\": 0.375, \"type\": \"scattergeo\"}, {\"lat\": [46.958811, 46.996590999999995], \"line\": {\"color\": \"blue\", \"width\": 1.5}, \"locationmode\": \"USA-states\", \"lon\": [7.427403, 6.942991], \"mode\": \"lines\", \"opacity\": 0.375, \"type\": \"scattergeo\"}, {\"lat\": [47.147814000000004, 46.996590999999995], \"line\": {\"color\": \"blue\", \"width\": 1.5}, \"locationmode\": \"USA-states\", \"lon\": [7.244622, 6.942991], \"mode\": \"lines\", \"opacity\": 0.25, \"type\": \"scattergeo\"}, {\"lat\": [47.399167, 46.197616], \"line\": {\"color\": \"blue\", \"width\": 1.5}, \"locationmode\": \"USA-states\", \"lon\": [8.520622, 9.026881], \"mode\": \"lines\", \"opacity\": 0.25, \"type\": \"scattergeo\"}, {\"lat\": [47.507967, 46.197616], \"line\": {\"color\": \"blue\", \"width\": 1.5}, \"locationmode\": \"USA-states\", \"lon\": [8.727949, 9.026881], \"mode\": \"lines\", \"opacity\": 0.5, \"type\": \"scattergeo\"}, {\"lat\": [47.366863, 46.197616], \"line\": {\"color\": \"blue\", \"width\": 1.5}, \"locationmode\": \"USA-states\", \"lon\": [8.497572, 9.026881], \"mode\": \"lines\", \"opacity\": 0.375, \"type\": \"scattergeo\"}, {\"lat\": [46.761733, 46.197616], \"line\": {\"color\": \"blue\", \"width\": 1.5}, \"locationmode\": \"USA-states\", \"lon\": [7.632281, 9.026881], \"mode\": \"lines\", \"opacity\": 0.25, \"type\": \"scattergeo\"}, {\"lat\": [47.43119, 46.193711], \"line\": {\"color\": \"blue\", \"width\": 1.5}, \"locationmode\": \"USA-states\", \"lon\": [9.388303, 6.148855999999999], \"mode\": \"lines\", \"opacity\": 0.875, \"type\": \"scattergeo\"}, {\"lat\": [47.43119, 46.197616], \"line\": {\"color\": \"blue\", \"width\": 1.5}, \"locationmode\": \"USA-states\", \"lon\": [9.388303, 9.026881], \"mode\": \"lines\", \"opacity\": 0.875, \"type\": \"scattergeo\"}, {\"lat\": [47.43119, 46.005434], \"line\": {\"color\": \"blue\", \"width\": 1.5}, \"locationmode\": \"USA-states\", \"lon\": [9.388303, 8.94011], \"mode\": \"lines\", \"opacity\": 0.875, \"type\": \"scattergeo\"}, {\"lat\": [46.383439, 46.193711], \"line\": {\"color\": \"blue\", \"width\": 1.5}, \"locationmode\": \"USA-states\", \"lon\": [6.227493, 6.148855999999999], \"mode\": \"lines\", \"opacity\": 0.125, \"type\": \"scattergeo\"}, {\"lat\": [46.383439, 46.186931], \"line\": {\"color\": \"blue\", \"width\": 1.5}, \"locationmode\": \"USA-states\", \"lon\": [6.227493, 6.142615], \"mode\": \"lines\", \"opacity\": 0.125, \"type\": \"scattergeo\"}],\n",
       "                        {\"geo\": {\"countrycolor\": \"rgb(204, 204, 204)\", \"landcolor\": \"rgb(243, 243, 243)\", \"projection\": {\"type\": \"stereographic\"}, \"resolution\": 50, \"scope\": \"europe\", \"showlakes\": true}, \"showlegend\": false, \"template\": {\"data\": {\"bar\": [{\"error_x\": {\"color\": \"#2a3f5f\"}, \"error_y\": {\"color\": \"#2a3f5f\"}, \"marker\": {\"line\": {\"color\": \"#E5ECF6\", \"width\": 0.5}}, \"type\": \"bar\"}], \"barpolar\": [{\"marker\": {\"line\": {\"color\": \"#E5ECF6\", \"width\": 0.5}}, \"type\": \"barpolar\"}], \"carpet\": [{\"aaxis\": {\"endlinecolor\": \"#2a3f5f\", \"gridcolor\": \"white\", \"linecolor\": \"white\", \"minorgridcolor\": \"white\", \"startlinecolor\": \"#2a3f5f\"}, \"baxis\": {\"endlinecolor\": \"#2a3f5f\", \"gridcolor\": \"white\", \"linecolor\": \"white\", \"minorgridcolor\": \"white\", \"startlinecolor\": \"#2a3f5f\"}, \"type\": \"carpet\"}], \"choropleth\": [{\"colorbar\": {\"outlinewidth\": 0, \"ticks\": \"\"}, \"type\": \"choropleth\"}], \"contour\": [{\"colorbar\": {\"outlinewidth\": 0, \"ticks\": \"\"}, \"colorscale\": [[0.0, \"#0d0887\"], [0.1111111111111111, \"#46039f\"], [0.2222222222222222, \"#7201a8\"], [0.3333333333333333, \"#9c179e\"], [0.4444444444444444, \"#bd3786\"], [0.5555555555555556, \"#d8576b\"], [0.6666666666666666, \"#ed7953\"], [0.7777777777777778, \"#fb9f3a\"], [0.8888888888888888, \"#fdca26\"], [1.0, \"#f0f921\"]], \"type\": \"contour\"}], \"contourcarpet\": [{\"colorbar\": {\"outlinewidth\": 0, \"ticks\": \"\"}, \"type\": \"contourcarpet\"}], \"heatmap\": [{\"colorbar\": {\"outlinewidth\": 0, \"ticks\": \"\"}, \"colorscale\": [[0.0, \"#0d0887\"], [0.1111111111111111, \"#46039f\"], [0.2222222222222222, \"#7201a8\"], [0.3333333333333333, \"#9c179e\"], [0.4444444444444444, \"#bd3786\"], [0.5555555555555556, \"#d8576b\"], [0.6666666666666666, \"#ed7953\"], [0.7777777777777778, \"#fb9f3a\"], [0.8888888888888888, \"#fdca26\"], [1.0, \"#f0f921\"]], \"type\": \"heatmap\"}], \"heatmapgl\": [{\"colorbar\": {\"outlinewidth\": 0, \"ticks\": \"\"}, \"colorscale\": [[0.0, \"#0d0887\"], [0.1111111111111111, \"#46039f\"], [0.2222222222222222, \"#7201a8\"], [0.3333333333333333, \"#9c179e\"], [0.4444444444444444, \"#bd3786\"], [0.5555555555555556, \"#d8576b\"], [0.6666666666666666, \"#ed7953\"], [0.7777777777777778, \"#fb9f3a\"], [0.8888888888888888, \"#fdca26\"], [1.0, \"#f0f921\"]], \"type\": \"heatmapgl\"}], \"histogram\": [{\"marker\": {\"colorbar\": {\"outlinewidth\": 0, \"ticks\": \"\"}}, \"type\": \"histogram\"}], \"histogram2d\": [{\"colorbar\": {\"outlinewidth\": 0, \"ticks\": \"\"}, \"colorscale\": [[0.0, \"#0d0887\"], [0.1111111111111111, \"#46039f\"], [0.2222222222222222, \"#7201a8\"], [0.3333333333333333, \"#9c179e\"], [0.4444444444444444, \"#bd3786\"], [0.5555555555555556, \"#d8576b\"], [0.6666666666666666, \"#ed7953\"], [0.7777777777777778, \"#fb9f3a\"], [0.8888888888888888, \"#fdca26\"], [1.0, \"#f0f921\"]], \"type\": \"histogram2d\"}], \"histogram2dcontour\": [{\"colorbar\": {\"outlinewidth\": 0, \"ticks\": \"\"}, \"colorscale\": [[0.0, \"#0d0887\"], [0.1111111111111111, \"#46039f\"], [0.2222222222222222, \"#7201a8\"], [0.3333333333333333, \"#9c179e\"], [0.4444444444444444, \"#bd3786\"], [0.5555555555555556, \"#d8576b\"], [0.6666666666666666, \"#ed7953\"], [0.7777777777777778, \"#fb9f3a\"], [0.8888888888888888, \"#fdca26\"], [1.0, \"#f0f921\"]], \"type\": \"histogram2dcontour\"}], \"mesh3d\": [{\"colorbar\": {\"outlinewidth\": 0, \"ticks\": \"\"}, \"type\": \"mesh3d\"}], \"parcoords\": [{\"line\": {\"colorbar\": {\"outlinewidth\": 0, \"ticks\": \"\"}}, \"type\": \"parcoords\"}], \"pie\": [{\"automargin\": true, \"type\": \"pie\"}], \"scatter\": [{\"marker\": {\"colorbar\": {\"outlinewidth\": 0, \"ticks\": \"\"}}, \"type\": \"scatter\"}], \"scatter3d\": [{\"line\": {\"colorbar\": {\"outlinewidth\": 0, \"ticks\": \"\"}}, \"marker\": {\"colorbar\": {\"outlinewidth\": 0, \"ticks\": \"\"}}, \"type\": \"scatter3d\"}], \"scattercarpet\": [{\"marker\": {\"colorbar\": {\"outlinewidth\": 0, \"ticks\": \"\"}}, \"type\": \"scattercarpet\"}], \"scattergeo\": [{\"marker\": {\"colorbar\": {\"outlinewidth\": 0, \"ticks\": \"\"}}, \"type\": \"scattergeo\"}], \"scattergl\": [{\"marker\": {\"colorbar\": {\"outlinewidth\": 0, \"ticks\": \"\"}}, \"type\": \"scattergl\"}], \"scattermapbox\": [{\"marker\": {\"colorbar\": {\"outlinewidth\": 0, \"ticks\": \"\"}}, \"type\": \"scattermapbox\"}], \"scatterpolar\": [{\"marker\": {\"colorbar\": {\"outlinewidth\": 0, \"ticks\": \"\"}}, \"type\": \"scatterpolar\"}], \"scatterpolargl\": [{\"marker\": {\"colorbar\": {\"outlinewidth\": 0, \"ticks\": \"\"}}, \"type\": \"scatterpolargl\"}], \"scatterternary\": [{\"marker\": {\"colorbar\": {\"outlinewidth\": 0, \"ticks\": \"\"}}, \"type\": \"scatterternary\"}], \"surface\": [{\"colorbar\": {\"outlinewidth\": 0, \"ticks\": \"\"}, \"colorscale\": [[0.0, \"#0d0887\"], [0.1111111111111111, \"#46039f\"], [0.2222222222222222, \"#7201a8\"], [0.3333333333333333, \"#9c179e\"], [0.4444444444444444, \"#bd3786\"], [0.5555555555555556, \"#d8576b\"], [0.6666666666666666, \"#ed7953\"], [0.7777777777777778, \"#fb9f3a\"], [0.8888888888888888, \"#fdca26\"], [1.0, \"#f0f921\"]], \"type\": \"surface\"}], \"table\": [{\"cells\": {\"fill\": {\"color\": \"#EBF0F8\"}, \"line\": {\"color\": \"white\"}}, \"header\": {\"fill\": {\"color\": \"#C8D4E3\"}, \"line\": {\"color\": \"white\"}}, \"type\": \"table\"}]}, \"layout\": {\"annotationdefaults\": {\"arrowcolor\": \"#2a3f5f\", \"arrowhead\": 0, \"arrowwidth\": 1}, \"coloraxis\": {\"colorbar\": {\"outlinewidth\": 0, \"ticks\": \"\"}}, \"colorscale\": {\"diverging\": [[0, \"#8e0152\"], [0.1, \"#c51b7d\"], [0.2, \"#de77ae\"], [0.3, \"#f1b6da\"], [0.4, \"#fde0ef\"], [0.5, \"#f7f7f7\"], [0.6, \"#e6f5d0\"], [0.7, \"#b8e186\"], [0.8, \"#7fbc41\"], [0.9, \"#4d9221\"], [1, \"#276419\"]], \"sequential\": [[0.0, \"#0d0887\"], [0.1111111111111111, \"#46039f\"], [0.2222222222222222, \"#7201a8\"], [0.3333333333333333, \"#9c179e\"], [0.4444444444444444, \"#bd3786\"], [0.5555555555555556, \"#d8576b\"], [0.6666666666666666, \"#ed7953\"], [0.7777777777777778, \"#fb9f3a\"], [0.8888888888888888, \"#fdca26\"], [1.0, \"#f0f921\"]], \"sequentialminus\": [[0.0, \"#0d0887\"], [0.1111111111111111, \"#46039f\"], [0.2222222222222222, \"#7201a8\"], [0.3333333333333333, \"#9c179e\"], [0.4444444444444444, \"#bd3786\"], [0.5555555555555556, \"#d8576b\"], [0.6666666666666666, \"#ed7953\"], [0.7777777777777778, \"#fb9f3a\"], [0.8888888888888888, \"#fdca26\"], [1.0, \"#f0f921\"]]}, \"colorway\": [\"#636efa\", \"#EF553B\", \"#00cc96\", \"#ab63fa\", \"#FFA15A\", \"#19d3f3\", \"#FF6692\", \"#B6E880\", \"#FF97FF\", \"#FECB52\"], \"font\": {\"color\": \"#2a3f5f\"}, \"geo\": {\"bgcolor\": \"white\", \"lakecolor\": \"white\", \"landcolor\": \"#E5ECF6\", \"showlakes\": true, \"showland\": true, \"subunitcolor\": \"white\"}, \"hoverlabel\": {\"align\": \"left\"}, \"hovermode\": \"closest\", \"mapbox\": {\"style\": \"light\"}, \"paper_bgcolor\": \"white\", \"plot_bgcolor\": \"#E5ECF6\", \"polar\": {\"angularaxis\": {\"gridcolor\": \"white\", \"linecolor\": \"white\", \"ticks\": \"\"}, \"bgcolor\": \"#E5ECF6\", \"radialaxis\": {\"gridcolor\": \"white\", \"linecolor\": \"white\", \"ticks\": \"\"}}, \"scene\": {\"xaxis\": {\"backgroundcolor\": \"#E5ECF6\", \"gridcolor\": \"white\", \"gridwidth\": 2, \"linecolor\": \"white\", \"showbackground\": true, \"ticks\": \"\", \"zerolinecolor\": \"white\"}, \"yaxis\": {\"backgroundcolor\": \"#E5ECF6\", \"gridcolor\": \"white\", \"gridwidth\": 2, \"linecolor\": \"white\", \"showbackground\": true, \"ticks\": \"\", \"zerolinecolor\": \"white\"}, \"zaxis\": {\"backgroundcolor\": \"#E5ECF6\", \"gridcolor\": \"white\", \"gridwidth\": 2, \"linecolor\": \"white\", \"showbackground\": true, \"ticks\": \"\", \"zerolinecolor\": \"white\"}}, \"shapedefaults\": {\"line\": {\"color\": \"#2a3f5f\"}}, \"ternary\": {\"aaxis\": {\"gridcolor\": \"white\", \"linecolor\": \"white\", \"ticks\": \"\"}, \"baxis\": {\"gridcolor\": \"white\", \"linecolor\": \"white\", \"ticks\": \"\"}, \"bgcolor\": \"#E5ECF6\", \"caxis\": {\"gridcolor\": \"white\", \"linecolor\": \"white\", \"ticks\": \"\"}}, \"title\": {\"x\": 0.05}, \"xaxis\": {\"automargin\": true, \"gridcolor\": \"white\", \"linecolor\": \"white\", \"ticks\": \"\", \"title\": {\"standoff\": 15}, \"zerolinecolor\": \"white\", \"zerolinewidth\": 2}, \"yaxis\": {\"automargin\": true, \"gridcolor\": \"white\", \"linecolor\": \"white\", \"ticks\": \"\", \"title\": {\"standoff\": 15}, \"zerolinecolor\": \"white\", \"zerolinewidth\": 2}}}, \"title\": {\"text\": \"Ventilator reallocation results\"}},\n",
       "                        {\"responsive\": true}\n",
       "                    ).then(function(){\n",
       "                            \n",
       "var gd = document.getElementById('2d6faecf-29a6-4d55-89bc-1df6ac5a8523');\n",
       "var x = new MutationObserver(function (mutations, observer) {{\n",
       "        var display = window.getComputedStyle(gd).display;\n",
       "        if (!display || display === 'none') {{\n",
       "            console.log([gd, 'removed!']);\n",
       "            Plotly.purge(gd);\n",
       "            observer.disconnect();\n",
       "        }}\n",
       "}});\n",
       "\n",
       "// Listen for the removal of the full notebook cells\n",
       "var notebookContainer = gd.closest('#notebook-container');\n",
       "if (notebookContainer) {{\n",
       "    x.observe(notebookContainer, {childList: true});\n",
       "}}\n",
       "\n",
       "// Listen for the clearing of the current output cell\n",
       "var outputEl = gd.closest('.output');\n",
       "if (outputEl) {{\n",
       "    x.observe(outputEl, {childList: true});\n",
       "}}\n",
       "\n",
       "                        })\n",
       "                };\n",
       "                });\n",
       "            </script>\n",
       "        </div>"
      ]
     },
     "metadata": {},
     "output_type": "display_data"
    }
   ],
   "source": [
    "ven_aloc_solu = np.load(r'../data/hospital_resources/Transported_ventilators_X2demand.npy', allow_pickle=True)\n",
    "up_tri = np.triu(ven_aloc_solu, 1)\n",
    "lw_tri = np.tril(ven_aloc_solu, -1)\n",
    "full_dec_mat = lw_tri-up_tri.transpose()  # use to decide who is sender who is receiver\n",
    "sender_index = np.nonzero(ven_aloc_solu.sum(axis=1)>0)\n",
    "receiver_index = np.nonzero(ven_aloc_solu.sum(axis=0)>0)\n",
    "neutral_index = np.where(full_dec_mat.sum(axis=1) == 0)\n",
    "\n",
    "sen_hosp = df_hospital.copy()\n",
    "rec_hosp = df_hospital.copy()\n",
    "neu_hosp = df_hospital.copy()\n",
    "\n",
    "sen_hosp = sen_hosp.iloc[sender_index]\n",
    "rec_hosp = rec_hosp.iloc[receiver_index]\n",
    "neu_hosp = neu_hosp.iloc[neutral_index]\n",
    "\n",
    "\n",
    "print('plotting hospitals ...')\n",
    "\n",
    "fig = go.Figure()\n",
    "fig.add_trace(go.Scattergeo(\n",
    "    locationmode = 'USA-states',\n",
    "    lon = df_hospital['Longitude'],\n",
    "    lat = df_hospital['Latitude'],\n",
    "    hoverinfo = 'text',\n",
    "    text = df_hospital['Inst'],\n",
    "    mode = 'markers',\n",
    "    marker = dict(\n",
    "        size = 5,\n",
    "        color = 'black',\n",
    "    )\n",
    "    ))\n",
    "fig.add_trace(go.Scattergeo(\n",
    "    locationmode = 'USA-states',\n",
    "    lon = sen_hosp['Longitude'],\n",
    "    lat = sen_hosp['Latitude'],\n",
    "    hoverinfo = 'text',\n",
    "    text = sen_hosp['Inst'],\n",
    "    mode = 'markers',\n",
    "    marker = dict(\n",
    "        size = 5,\n",
    "        color = 'green',\n",
    "    )\n",
    "    ))\n",
    "\n",
    "fig.add_trace(go.Scattergeo(\n",
    "    locationmode = 'USA-states',\n",
    "    lon = rec_hosp['Longitude'],\n",
    "    lat = rec_hosp['Latitude'],\n",
    "    hoverinfo = 'text',\n",
    "    text = rec_hosp['Inst'],\n",
    "    mode = 'markers',\n",
    "    marker = dict(\n",
    "        size = 5,\n",
    "        color = 'red',\n",
    "    )\n",
    "    ))\n",
    "\n",
    "non_zero_ind = np.nonzero(ven_aloc_solu)\n",
    "sen_ind = non_zero_ind[0]\n",
    "rec_ind = non_zero_ind[1]\n",
    "\n",
    "data = {'orig_lat': [-1.1]*len(rec_ind), \n",
    "        'orig_lon': [-1.1]*len(rec_ind), \n",
    "        'dest_lat': [-1.1]*len(rec_ind),\n",
    "        'dest_lon': [-1.1]*len(rec_ind),\n",
    "        'orig_hosp': ['']*len(rec_ind),\n",
    "        'dest_hosp': ['']*len(rec_ind),\n",
    "        'num_ven_tansp': [0]*len(rec_ind)} \n",
    "df_ven_reloc = pd.DataFrame(data)\n",
    "ind = 0\n",
    "for orig_ind, dest_ind in zip(sen_ind,rec_ind):\n",
    "        df_ven_reloc['orig_lat'][ind] = df_hospital['Latitude'][orig_ind]\n",
    "        df_ven_reloc['orig_lon'][ind] = df_hospital['Longitude'][orig_ind]\n",
    "        df_ven_reloc['orig_hosp'][ind] = df_hospital['Inst'][orig_ind]  # from hospital\n",
    "        \n",
    "        df_ven_reloc['dest_lat'][ind] = df_hospital['Latitude'][dest_ind]\n",
    "        df_ven_reloc['dest_lon'][ind] = df_hospital['Longitude'][dest_ind]\n",
    "        df_ven_reloc['dest_hosp'][ind] = df_hospital['Inst'][dest_ind]  # to hospital\n",
    "        df_ven_reloc['num_ven_tansp'][ind] = ven_aloc_solu[orig_ind, dest_ind]\n",
    "        ind += 1\n",
    "\n",
    "print('saving to csv ...')\n",
    "\n",
    "df_ven_reloc.to_csv('../data/hospital_resources/df_ven_reloc_X2demand.csv')\n",
    "\n",
    "print('plotting reallocation ...')\n",
    "\n",
    "for i in range(len(df_ven_reloc)):\n",
    "    fig.add_trace(\n",
    "        go.Scattergeo(\n",
    "            locationmode = 'USA-states',\n",
    "            lon = [df_ven_reloc['orig_lon'][i], df_ven_reloc['dest_lon'][i]],\n",
    "            lat = [df_ven_reloc['orig_lat'][i], df_ven_reloc['dest_lat'][i]],\n",
    "            mode = 'lines',\n",
    "            line = dict(width = 1.5,color = 'blue'),\n",
    "            opacity = float(df_ven_reloc['num_ven_tansp'][i]) / float(df_ven_reloc['num_ven_tansp'].max()),\n",
    "        )\n",
    "    )\n",
    "\n",
    "fig.update_layout(\n",
    "    title_text = 'Ventilator reallocation results',\n",
    "    showlegend = False,\n",
    "    geo = dict(\n",
    "        resolution = 50, \n",
    "        scope = 'europe',\n",
    "#         center = {'lat': (df_ven_reloc['dest_lat'].min() + df_ven_reloc['dest_lat'].max())/2,\n",
    "#                   'lon': (df_ven_reloc['orig_lon'].min() + df_ven_reloc['orig_lon'].max())/2},\n",
    "        projection_type = 'stereographic',\n",
    "#         showland = True,\n",
    "        showlakes = True,\n",
    "        landcolor = 'rgb(243, 243, 243)',\n",
    "        countrycolor = 'rgb(204, 204, 204)',\n",
    "    ),\n",
    ")\n",
    "\n",
    "fig.show()"
   ]
  },
  {
   "cell_type": "code",
   "execution_count": null,
   "metadata": {},
   "outputs": [],
   "source": []
  }
 ],
 "metadata": {
  "kernelspec": {
   "display_name": "hackthon",
   "language": "python",
   "name": "hackthon"
  },
  "language_info": {
   "codemirror_mode": {
    "name": "ipython",
    "version": 3
   },
   "file_extension": ".py",
   "mimetype": "text/x-python",
   "name": "python",
   "nbconvert_exporter": "python",
   "pygments_lexer": "ipython3",
   "version": "3.7.6"
  }
 },
 "nbformat": 4,
 "nbformat_minor": 4
}
