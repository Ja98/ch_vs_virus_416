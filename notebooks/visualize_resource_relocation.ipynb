{
 "cells": [
  {
   "cell_type": "code",
   "execution_count": 197,
   "metadata": {},
   "outputs": [
    {
     "data": {
      "text/html": [
       "<div>\n",
       "<style scoped>\n",
       "    .dataframe tbody tr th:only-of-type {\n",
       "        vertical-align: middle;\n",
       "    }\n",
       "\n",
       "    .dataframe tbody tr th {\n",
       "        vertical-align: top;\n",
       "    }\n",
       "\n",
       "    .dataframe thead th {\n",
       "        text-align: right;\n",
       "    }\n",
       "</style>\n",
       "<table border=\"1\" class=\"dataframe\">\n",
       "  <thead>\n",
       "    <tr style=\"text-align: right;\">\n",
       "      <th></th>\n",
       "      <th>ID</th>\n",
       "      <th>KT</th>\n",
       "      <th>Inst</th>\n",
       "      <th>Adr</th>\n",
       "      <th>PersA</th>\n",
       "      <th>PersP</th>\n",
       "      <th>BettenStatA</th>\n",
       "      <th>pBettenBelStatA</th>\n",
       "      <th>ICU_beds</th>\n",
       "      <th>Ventilators</th>\n",
       "      <th>Latitude</th>\n",
       "      <th>Longitude</th>\n",
       "      <th>Unnamed: 12</th>\n",
       "    </tr>\n",
       "  </thead>\n",
       "  <tbody>\n",
       "    <tr>\n",
       "      <th>0</th>\n",
       "      <td>0</td>\n",
       "      <td>BS</td>\n",
       "      <td>UniversitÃ_tsspital Basel</td>\n",
       "      <td>Hebelstrasse 32</td>\n",
       "      <td>913.50</td>\n",
       "      <td>1595.22</td>\n",
       "      <td>633.000000</td>\n",
       "      <td>92.463806</td>\n",
       "      <td>38</td>\n",
       "      <td>28</td>\n",
       "      <td>47.561196</td>\n",
       "      <td>7.581541</td>\n",
       "      <td>NaN</td>\n",
       "    </tr>\n",
       "    <tr>\n",
       "      <th>1</th>\n",
       "      <td>1</td>\n",
       "      <td>GE</td>\n",
       "      <td>Les HÃÂ«pitaux Universitaires de GenÃÂ¬ve HUG</td>\n",
       "      <td>Rue GabrielleÃ¥_PerretÃ¥_Gentil 4</td>\n",
       "      <td>1829.32</td>\n",
       "      <td>4498.96</td>\n",
       "      <td>1054.282192</td>\n",
       "      <td>85.289218</td>\n",
       "      <td>63</td>\n",
       "      <td>47</td>\n",
       "      <td>46.193711</td>\n",
       "      <td>6.148856</td>\n",
       "      <td>NaN</td>\n",
       "    </tr>\n",
       "    <tr>\n",
       "      <th>2</th>\n",
       "      <td>2</td>\n",
       "      <td>VD</td>\n",
       "      <td>CHUV Centre Hospitalier Universitaire Vaudois</td>\n",
       "      <td>Rue du Bugnon 21</td>\n",
       "      <td>1653.73</td>\n",
       "      <td>3400.37</td>\n",
       "      <td>929.000000</td>\n",
       "      <td>82.588437</td>\n",
       "      <td>56</td>\n",
       "      <td>41</td>\n",
       "      <td>46.524749</td>\n",
       "      <td>6.639659</td>\n",
       "      <td>NaN</td>\n",
       "    </tr>\n",
       "    <tr>\n",
       "      <th>3</th>\n",
       "      <td>3</td>\n",
       "      <td>ZH</td>\n",
       "      <td>UniversitÃ_tsspital ZÃ_rich</td>\n",
       "      <td>RÃ_mistrasse 100</td>\n",
       "      <td>1221.75</td>\n",
       "      <td>2574.21</td>\n",
       "      <td>953.884931</td>\n",
       "      <td>78.680694</td>\n",
       "      <td>57</td>\n",
       "      <td>42</td>\n",
       "      <td>47.376736</td>\n",
       "      <td>8.549199</td>\n",
       "      <td>NaN</td>\n",
       "    </tr>\n",
       "    <tr>\n",
       "      <th>4</th>\n",
       "      <td>4</td>\n",
       "      <td>BE</td>\n",
       "      <td>Insel Gruppe AG (universitÃ_r)</td>\n",
       "      <td>Freiburgstrasse 18</td>\n",
       "      <td>1355.66</td>\n",
       "      <td>2739.25</td>\n",
       "      <td>876.298630</td>\n",
       "      <td>83.329008</td>\n",
       "      <td>53</td>\n",
       "      <td>39</td>\n",
       "      <td>46.947455</td>\n",
       "      <td>7.424801</td>\n",
       "      <td>NaN</td>\n",
       "    </tr>\n",
       "  </tbody>\n",
       "</table>\n",
       "</div>"
      ],
      "text/plain": [
       "   ID  KT                                             Inst  \\\n",
       "0   0  BS                       UniversitÃ_tsspital Basel   \n",
       "1   1  GE  Les HÃÂ«pitaux Universitaires de GenÃÂ¬ve HUG   \n",
       "2   2  VD    CHUV Centre Hospitalier Universitaire Vaudois   \n",
       "3   3  ZH                    UniversitÃ_tsspital ZÃ_rich   \n",
       "4   4  BE                  Insel Gruppe AG (universitÃ_r)   \n",
       "\n",
       "                                 Adr    PersA    PersP  BettenStatA  \\\n",
       "0                    Hebelstrasse 32   913.50  1595.22   633.000000   \n",
       "1  Rue GabrielleÃ¥_PerretÃ¥_Gentil 4  1829.32  4498.96  1054.282192   \n",
       "2                   Rue du Bugnon 21  1653.73  3400.37   929.000000   \n",
       "3                  RÃ_mistrasse 100  1221.75  2574.21   953.884931   \n",
       "4                 Freiburgstrasse 18  1355.66  2739.25   876.298630   \n",
       "\n",
       "   pBettenBelStatA  ICU_beds  Ventilators   Latitude  Longitude Unnamed: 12  \n",
       "0        92.463806        38           28  47.561196   7.581541         NaN  \n",
       "1        85.289218        63           47  46.193711   6.148856         NaN  \n",
       "2        82.588437        56           41  46.524749   6.639659         NaN  \n",
       "3        78.680694        57           42  47.376736   8.549199         NaN  \n",
       "4        83.329008        53           39  46.947455   7.424801         NaN  "
      ]
     },
     "execution_count": 197,
     "metadata": {},
     "output_type": "execute_result"
    }
   ],
   "source": [
    "import plotly.graph_objects as go\n",
    "import pandas as pd\n",
    "import numpy as np\n",
    "import copy\n",
    "\n",
    "df_hospital=pd.read_csv(r'../data/hospital_resources/Hospital_resources_hanmin.csv', encoding='ISO-8859-1')\n",
    "df_hospital.head()\n",
    "\n",
    "# fig = go.Figure()\n",
    "# fig.add_trace(go.Scattergeo(\n",
    "#     locationmode = 'USA-states',\n",
    "#     lon = df_hospital['Longitude'],\n",
    "#     lat = df_hospital['Latitude'],\n",
    "#     hoverinfo = 'text',\n",
    "#     text = df_hospital['Inst'],\n",
    "#     mode = 'markers',\n",
    "#     marker = dict(\n",
    "#         size = 5,\n",
    "#         color = 'black',\n",
    "# #         line = dict(\n",
    "# #             width = 3,\n",
    "# #             color = 'rgba(68, 68, 68, 0)'\n",
    "# #         )\n",
    "#     )\n",
    "#     ))\n",
    "\n",
    "# fig.update_layout(\n",
    "# #     directed=False\n",
    "#     title_text = 'Resource reallocation',\n",
    "#     showlegend = False,\n",
    "#     geo = dict(\n",
    "#         resolution = 50, \n",
    "#         scope = 'europe',\n",
    "# #         center = {'lat': (data.lat.min() + data.lat.max())/2,\n",
    "# #                 'lon': (data.lon.min() + data.lon.max())/2},\n",
    "#         projection_type = 'azimuthal equal area',\n",
    "#         showland = True,\n",
    "#         landcolor = 'rgb(243, 243, 243)',\n",
    "#         countrycolor = 'rgb(204, 204, 204)',\n",
    "#     ),\n",
    "# )"
   ]
  },
  {
   "cell_type": "code",
   "execution_count": null,
   "metadata": {
    "scrolled": true
   },
   "outputs": [],
   "source": [
    "ven_aloc_solu = np.load(r'../data/hospital_resources/Transported_ventilators.npy', allow_pickle=True)\n",
    "up_tri = np.triu(ven_aloc_solu, 1)\n",
    "lw_tri = np.tril(ven_aloc_solu, -1)\n",
    "full_dec_mat = lw_tri-up_tri.transpose()  # use to decide who is sender who is receiver\n",
    "sender_index = np.nonzero(ven_aloc_solu.sum(axis=1)>0)\n",
    "receiver_index = np.nonzero(ven_aloc_solu.sum(axis=0)>0)\n",
    "neutral_index = np.where(full_dec_mat.sum(axis=1) == 0)\n",
    "\n",
    "sen_hosp = df_hospital.copy()\n",
    "rec_hosp = df_hospital.copy()\n",
    "neu_hosp = df_hospital.copy()\n",
    "\n",
    "sen_hosp = sen_hosp.iloc[sender_index]\n",
    "rec_hosp = rec_hosp.iloc[receiver_index]\n",
    "neu_hosp = neu_hosp.iloc[neutral_index]\n",
    "\n",
    "print(neu_hosp)"
   ]
  },
  {
   "cell_type": "code",
   "execution_count": null,
   "metadata": {},
   "outputs": [],
   "source": [
    "print(ven_aloc_solu)"
   ]
  },
  {
   "cell_type": "code",
   "execution_count": 210,
   "metadata": {},
   "outputs": [
    {
     "data": {
      "application/vnd.plotly.v1+json": {
       "config": {
        "plotlyServerURL": "https://plot.ly"
       },
       "data": [
        {
         "hoverinfo": "text",
         "lat": [
          47.561196,
          46.193711,
          46.524749,
          47.376736,
          46.947455,
          47.389185,
          47.454285999999996,
          47.391652,
          46.440108,
          46.77032,
          46.522437,
          47.711995,
          47.263268,
          47.200103999999996,
          47.322205,
          46.801389,
          47.488122,
          47.058078,
          47.05812,
          46.197616,
          47.549937,
          47.351971999999996,
          46.86411,
          47.397628000000005,
          46.958811,
          46.947645,
          46.95279,
          46.996590999999995,
          47.147814000000004,
          47.049215000000004,
          46.680833,
          47.399167,
          47.507967,
          46.288114,
          47.34917,
          47.566617,
          47.353765,
          47.394227,
          47.366863,
          46.2351,
          46.761733,
          47.43119,
          47.194648,
          47.522028999999996,
          47.216521,
          46.228776,
          47.419685,
          47.016475,
          46.383439,
          47.277588,
          47.35256,
          47.251154,
          47.189221,
          46.005434,
          46.540309,
          47.296098,
          46.818815,
          46.883284,
          46.018508000000004,
          46.959937,
          47.445458,
          47.046166,
          46.186931,
          47.372031,
          47.431105,
          47.563624,
          47.141715999999995
         ],
         "locationmode": "USA-states",
         "lon": [
          7.5815410000000005,
          6.148855999999999,
          6.639659,
          8.549199,
          7.4248009999999995,
          8.059994999999999,
          8.278407000000001,
          8.042692,
          6.908222,
          6.64755,
          6.499426000000001,
          8.638826,
          8.589378,
          7.539125,
          8.802781,
          7.137283,
          7.731507000000001,
          8.298791,
          8.326092,
          9.026881,
          8.911494,
          8.576158,
          9.539952,
          9.579355,
          7.427403,
          7.426611,
          7.448237,
          6.942991,
          7.244622,
          7.620941999999999,
          7.842919,
          8.520622,
          8.727949,
          7.8841779999999995,
          8.598519,
          7.614161999999999,
          8.724082000000001,
          8.431632,
          8.497572,
          7.387328,
          7.632281,
          9.388303,
          8.518031,
          8.5329,
          7.793825,
          6.0674,
          7.058210000000001,
          8.658699,
          6.227493,
          8.330606,
          8.531581,
          8.696631,
          8.858947,
          8.94011,
          9.878888,
          7.9471240000000005,
          6.946231,
          8.637429,
          8.952941000000001,
          8.357545,
          9.411887,
          9.06511,
          6.142615,
          8.557767,
          9.387303999999999,
          7.58183,
          8.130885000000001
         ],
         "marker": {
          "color": "black",
          "size": 5
         },
         "mode": "markers",
         "text": [
          "UniversitÃ_tsspital Basel",
          "Les HÃÂ«pitaux Universitaires de GenÃÂ¬ve HUG",
          "CHUV Centre Hospitalier Universitaire Vaudois",
          "UniversitÃ_tsspital ZÃ_rich",
          "Insel Gruppe AG (universitÃ_r)",
          "Kantonsspital Aarau AG",
          "Kantonsspital Baden AG",
          "Hirslanden Klinik Aarau",
          "HÃÂ«pital Riviera-Chablais Vaud-Valais",
          "Etablissements Hospitaliers du Nord Vaudois (eHnv)",
          "EHC Ensemble hospitalier de la CÃÂ«te",
          "SpitÃ_ler Schaffhausen",
          "See-Spital",
          "Solothurner SpitÃ_ler AG",
          "GZO Spital Wetzikon",
          "HFR - HÃÂ«pital fribourgeois",
          "Kantonsspital Baselland",
          "Luzerner Kantonsspital",
          "Hirslanden Klinik St. Anna AG",
          "EOC Ente ospedaliero cantonale",
          "Spital Thurgau AG KantonsspitÃ_ler Frauenfeld & MÃ_nsterlingen",
          "Klinik Hirslanden AG",
          "Kantonsspital GraubÃ_nden",
          "Spitalregion Rheintal Werdenberg Sarganserland",
          "Lindenhof AG",
          "Insel Gruppe AG (nicht-universitÃ_r)",
          "Hirslanden Bern AG",
          "HÃÂ«pital NeuchÃÂ¢telois HNE",
          "Spitalzentrum Biel AG",
          "Regionalspital Emmental AG",
          "SpitÃ_ler Frutigen Meiringen Interlaken AG",
          "Stadtspital Waid",
          "Kantonsspital Winterthur",
          "Spital Wallis - Spitalzentrum Oberwallis (SZO)",
          "Spital Zollikerberg",
          "St. Claraspital",
          "Spital Uster",
          "Spital Limmattal",
          "Stadtspital Triemli",
          "HÃÂ«pital du Valais - Centre hospitalier du centre du Valais (CHCVs)",
          "Spital STS AG",
          "Kantonsspital St. Gallen",
          "Zuger Kantonsspital AG",
          "Spital BÃ_lach AG",
          "SRO Spital Region Oberaargau AG",
          "HÃÂ«pital de la Tour",
          "HÃÂ«pital du Jura",
          "Spital Schwyz",
          "Groupement Hospitalier de l'Ouest LÃÂ©manique (GHOL) SA",
          "Kreisspital fÃ_r das Freiamt",
          "Klinik Im Park",
          "Spital MÃ_nnedorf AG",
          "Spital Lachen",
          "Clinica Luganese Moncucco SA Sede Moncucco",
          "Spital Oberengadin",
          "Spital Zofingen AG",
          "HÃÂ«pital Intercantonal de la Broye (HIB)",
          "Kantonsspital Uri",
          "Cardiocentro Ticino (CCT)",
          "Kantonsspital Nidwalden",
          "Hirslanden Klinik Stephanshorn",
          "Kantonsspital Glarus",
          "Clinique de Carouge",
          "UniversitÃ_ts-Kinderspital ZÃ_rich das Spital der Eleonorenstiftung",
          "Ostschweizer Kinderspital",
          "UniversitÃ_ts-Kinderspital beider Basel (UKBB)",
          "Schweizer Paraplegiker-Zentrum Nottwil AG"
         ],
         "type": "scattergeo"
        },
        {
         "hoverinfo": "text",
         "lat": [
          47.561196,
          46.524749,
          47.376736,
          46.947455,
          47.389185,
          47.454285999999996,
          47.391652,
          46.440108,
          46.77032,
          46.522437,
          47.711995,
          47.263268,
          47.200103999999996,
          47.322205,
          46.801389,
          47.488122,
          47.058078,
          47.05812,
          47.549937,
          47.351971999999996,
          46.86411,
          47.397628000000005,
          46.958811,
          46.947645,
          46.95279,
          47.147814000000004,
          47.049215000000004,
          46.680833,
          47.399167,
          47.507967,
          47.34917,
          47.566617,
          47.394227,
          47.366863,
          46.761733,
          47.43119,
          47.194648,
          47.216521,
          46.228776,
          46.383439,
          47.189221,
          47.372031
         ],
         "locationmode": "USA-states",
         "lon": [
          7.5815410000000005,
          6.639659,
          8.549199,
          7.4248009999999995,
          8.059994999999999,
          8.278407000000001,
          8.042692,
          6.908222,
          6.64755,
          6.499426000000001,
          8.638826,
          8.589378,
          7.539125,
          8.802781,
          7.137283,
          7.731507000000001,
          8.298791,
          8.326092,
          8.911494,
          8.576158,
          9.539952,
          9.579355,
          7.427403,
          7.426611,
          7.448237,
          7.244622,
          7.620941999999999,
          7.842919,
          8.520622,
          8.727949,
          8.598519,
          7.614161999999999,
          8.431632,
          8.497572,
          7.632281,
          9.388303,
          8.518031,
          7.793825,
          6.0674,
          6.227493,
          8.858947,
          8.557767
         ],
         "marker": {
          "color": "green",
          "size": 5
         },
         "mode": "markers",
         "text": [
          "UniversitÃ_tsspital Basel",
          "CHUV Centre Hospitalier Universitaire Vaudois",
          "UniversitÃ_tsspital ZÃ_rich",
          "Insel Gruppe AG (universitÃ_r)",
          "Kantonsspital Aarau AG",
          "Kantonsspital Baden AG",
          "Hirslanden Klinik Aarau",
          "HÃÂ«pital Riviera-Chablais Vaud-Valais",
          "Etablissements Hospitaliers du Nord Vaudois (eHnv)",
          "EHC Ensemble hospitalier de la CÃÂ«te",
          "SpitÃ_ler Schaffhausen",
          "See-Spital",
          "Solothurner SpitÃ_ler AG",
          "GZO Spital Wetzikon",
          "HFR - HÃÂ«pital fribourgeois",
          "Kantonsspital Baselland",
          "Luzerner Kantonsspital",
          "Hirslanden Klinik St. Anna AG",
          "Spital Thurgau AG KantonsspitÃ_ler Frauenfeld & MÃ_nsterlingen",
          "Klinik Hirslanden AG",
          "Kantonsspital GraubÃ_nden",
          "Spitalregion Rheintal Werdenberg Sarganserland",
          "Lindenhof AG",
          "Insel Gruppe AG (nicht-universitÃ_r)",
          "Hirslanden Bern AG",
          "Spitalzentrum Biel AG",
          "Regionalspital Emmental AG",
          "SpitÃ_ler Frutigen Meiringen Interlaken AG",
          "Stadtspital Waid",
          "Kantonsspital Winterthur",
          "Spital Zollikerberg",
          "St. Claraspital",
          "Spital Limmattal",
          "Stadtspital Triemli",
          "Spital STS AG",
          "Kantonsspital St. Gallen",
          "Zuger Kantonsspital AG",
          "SRO Spital Region Oberaargau AG",
          "HÃÂ«pital de la Tour",
          "Groupement Hospitalier de l'Ouest LÃÂ©manique (GHOL) SA",
          "Spital Lachen",
          "UniversitÃ_ts-Kinderspital ZÃ_rich das Spital der Eleonorenstiftung"
         ],
         "type": "scattergeo"
        },
        {
         "hoverinfo": "text",
         "lat": [
          46.193711,
          47.376736,
          46.947455,
          47.389185,
          47.454285999999996,
          47.391652,
          47.263268,
          47.322205,
          46.197616,
          47.351971999999996,
          46.958811,
          46.947645,
          46.996590999999995,
          47.049215000000004,
          47.399167,
          47.507967,
          46.288114,
          47.394227,
          47.366863,
          46.2351,
          46.761733,
          46.228776,
          47.277588,
          46.005434,
          47.296098,
          46.018508000000004,
          46.186931
         ],
         "locationmode": "USA-states",
         "lon": [
          6.148855999999999,
          8.549199,
          7.4248009999999995,
          8.059994999999999,
          8.278407000000001,
          8.042692,
          8.589378,
          8.802781,
          9.026881,
          8.576158,
          7.427403,
          7.426611,
          6.942991,
          7.620941999999999,
          8.520622,
          8.727949,
          7.8841779999999995,
          8.431632,
          8.497572,
          7.387328,
          7.632281,
          6.0674,
          8.330606,
          8.94011,
          7.9471240000000005,
          8.952941000000001,
          6.142615
         ],
         "marker": {
          "color": "red",
          "size": 5
         },
         "mode": "markers",
         "text": [
          "Les HÃÂ«pitaux Universitaires de GenÃÂ¬ve HUG",
          "UniversitÃ_tsspital ZÃ_rich",
          "Insel Gruppe AG (universitÃ_r)",
          "Kantonsspital Aarau AG",
          "Kantonsspital Baden AG",
          "Hirslanden Klinik Aarau",
          "See-Spital",
          "GZO Spital Wetzikon",
          "EOC Ente ospedaliero cantonale",
          "Klinik Hirslanden AG",
          "Lindenhof AG",
          "Insel Gruppe AG (nicht-universitÃ_r)",
          "HÃÂ«pital NeuchÃÂ¢telois HNE",
          "Regionalspital Emmental AG",
          "Stadtspital Waid",
          "Kantonsspital Winterthur",
          "Spital Wallis - Spitalzentrum Oberwallis (SZO)",
          "Spital Limmattal",
          "Stadtspital Triemli",
          "HÃÂ«pital du Valais - Centre hospitalier du centre du Valais (CHCVs)",
          "Spital STS AG",
          "HÃÂ«pital de la Tour",
          "Kreisspital fÃ_r das Freiamt",
          "Clinica Luganese Moncucco SA Sede Moncucco",
          "Spital Zofingen AG",
          "Cardiocentro Ticino (CCT)",
          "Clinique de Carouge"
         ],
         "type": "scattergeo"
        }
       ],
       "layout": {
        "template": {
         "data": {
          "bar": [
           {
            "error_x": {
             "color": "#2a3f5f"
            },
            "error_y": {
             "color": "#2a3f5f"
            },
            "marker": {
             "line": {
              "color": "#E5ECF6",
              "width": 0.5
             }
            },
            "type": "bar"
           }
          ],
          "barpolar": [
           {
            "marker": {
             "line": {
              "color": "#E5ECF6",
              "width": 0.5
             }
            },
            "type": "barpolar"
           }
          ],
          "carpet": [
           {
            "aaxis": {
             "endlinecolor": "#2a3f5f",
             "gridcolor": "white",
             "linecolor": "white",
             "minorgridcolor": "white",
             "startlinecolor": "#2a3f5f"
            },
            "baxis": {
             "endlinecolor": "#2a3f5f",
             "gridcolor": "white",
             "linecolor": "white",
             "minorgridcolor": "white",
             "startlinecolor": "#2a3f5f"
            },
            "type": "carpet"
           }
          ],
          "choropleth": [
           {
            "colorbar": {
             "outlinewidth": 0,
             "ticks": ""
            },
            "type": "choropleth"
           }
          ],
          "contour": [
           {
            "colorbar": {
             "outlinewidth": 0,
             "ticks": ""
            },
            "colorscale": [
             [
              0,
              "#0d0887"
             ],
             [
              0.1111111111111111,
              "#46039f"
             ],
             [
              0.2222222222222222,
              "#7201a8"
             ],
             [
              0.3333333333333333,
              "#9c179e"
             ],
             [
              0.4444444444444444,
              "#bd3786"
             ],
             [
              0.5555555555555556,
              "#d8576b"
             ],
             [
              0.6666666666666666,
              "#ed7953"
             ],
             [
              0.7777777777777778,
              "#fb9f3a"
             ],
             [
              0.8888888888888888,
              "#fdca26"
             ],
             [
              1,
              "#f0f921"
             ]
            ],
            "type": "contour"
           }
          ],
          "contourcarpet": [
           {
            "colorbar": {
             "outlinewidth": 0,
             "ticks": ""
            },
            "type": "contourcarpet"
           }
          ],
          "heatmap": [
           {
            "colorbar": {
             "outlinewidth": 0,
             "ticks": ""
            },
            "colorscale": [
             [
              0,
              "#0d0887"
             ],
             [
              0.1111111111111111,
              "#46039f"
             ],
             [
              0.2222222222222222,
              "#7201a8"
             ],
             [
              0.3333333333333333,
              "#9c179e"
             ],
             [
              0.4444444444444444,
              "#bd3786"
             ],
             [
              0.5555555555555556,
              "#d8576b"
             ],
             [
              0.6666666666666666,
              "#ed7953"
             ],
             [
              0.7777777777777778,
              "#fb9f3a"
             ],
             [
              0.8888888888888888,
              "#fdca26"
             ],
             [
              1,
              "#f0f921"
             ]
            ],
            "type": "heatmap"
           }
          ],
          "heatmapgl": [
           {
            "colorbar": {
             "outlinewidth": 0,
             "ticks": ""
            },
            "colorscale": [
             [
              0,
              "#0d0887"
             ],
             [
              0.1111111111111111,
              "#46039f"
             ],
             [
              0.2222222222222222,
              "#7201a8"
             ],
             [
              0.3333333333333333,
              "#9c179e"
             ],
             [
              0.4444444444444444,
              "#bd3786"
             ],
             [
              0.5555555555555556,
              "#d8576b"
             ],
             [
              0.6666666666666666,
              "#ed7953"
             ],
             [
              0.7777777777777778,
              "#fb9f3a"
             ],
             [
              0.8888888888888888,
              "#fdca26"
             ],
             [
              1,
              "#f0f921"
             ]
            ],
            "type": "heatmapgl"
           }
          ],
          "histogram": [
           {
            "marker": {
             "colorbar": {
              "outlinewidth": 0,
              "ticks": ""
             }
            },
            "type": "histogram"
           }
          ],
          "histogram2d": [
           {
            "colorbar": {
             "outlinewidth": 0,
             "ticks": ""
            },
            "colorscale": [
             [
              0,
              "#0d0887"
             ],
             [
              0.1111111111111111,
              "#46039f"
             ],
             [
              0.2222222222222222,
              "#7201a8"
             ],
             [
              0.3333333333333333,
              "#9c179e"
             ],
             [
              0.4444444444444444,
              "#bd3786"
             ],
             [
              0.5555555555555556,
              "#d8576b"
             ],
             [
              0.6666666666666666,
              "#ed7953"
             ],
             [
              0.7777777777777778,
              "#fb9f3a"
             ],
             [
              0.8888888888888888,
              "#fdca26"
             ],
             [
              1,
              "#f0f921"
             ]
            ],
            "type": "histogram2d"
           }
          ],
          "histogram2dcontour": [
           {
            "colorbar": {
             "outlinewidth": 0,
             "ticks": ""
            },
            "colorscale": [
             [
              0,
              "#0d0887"
             ],
             [
              0.1111111111111111,
              "#46039f"
             ],
             [
              0.2222222222222222,
              "#7201a8"
             ],
             [
              0.3333333333333333,
              "#9c179e"
             ],
             [
              0.4444444444444444,
              "#bd3786"
             ],
             [
              0.5555555555555556,
              "#d8576b"
             ],
             [
              0.6666666666666666,
              "#ed7953"
             ],
             [
              0.7777777777777778,
              "#fb9f3a"
             ],
             [
              0.8888888888888888,
              "#fdca26"
             ],
             [
              1,
              "#f0f921"
             ]
            ],
            "type": "histogram2dcontour"
           }
          ],
          "mesh3d": [
           {
            "colorbar": {
             "outlinewidth": 0,
             "ticks": ""
            },
            "type": "mesh3d"
           }
          ],
          "parcoords": [
           {
            "line": {
             "colorbar": {
              "outlinewidth": 0,
              "ticks": ""
             }
            },
            "type": "parcoords"
           }
          ],
          "pie": [
           {
            "automargin": true,
            "type": "pie"
           }
          ],
          "scatter": [
           {
            "marker": {
             "colorbar": {
              "outlinewidth": 0,
              "ticks": ""
             }
            },
            "type": "scatter"
           }
          ],
          "scatter3d": [
           {
            "line": {
             "colorbar": {
              "outlinewidth": 0,
              "ticks": ""
             }
            },
            "marker": {
             "colorbar": {
              "outlinewidth": 0,
              "ticks": ""
             }
            },
            "type": "scatter3d"
           }
          ],
          "scattercarpet": [
           {
            "marker": {
             "colorbar": {
              "outlinewidth": 0,
              "ticks": ""
             }
            },
            "type": "scattercarpet"
           }
          ],
          "scattergeo": [
           {
            "marker": {
             "colorbar": {
              "outlinewidth": 0,
              "ticks": ""
             }
            },
            "type": "scattergeo"
           }
          ],
          "scattergl": [
           {
            "marker": {
             "colorbar": {
              "outlinewidth": 0,
              "ticks": ""
             }
            },
            "type": "scattergl"
           }
          ],
          "scattermapbox": [
           {
            "marker": {
             "colorbar": {
              "outlinewidth": 0,
              "ticks": ""
             }
            },
            "type": "scattermapbox"
           }
          ],
          "scatterpolar": [
           {
            "marker": {
             "colorbar": {
              "outlinewidth": 0,
              "ticks": ""
             }
            },
            "type": "scatterpolar"
           }
          ],
          "scatterpolargl": [
           {
            "marker": {
             "colorbar": {
              "outlinewidth": 0,
              "ticks": ""
             }
            },
            "type": "scatterpolargl"
           }
          ],
          "scatterternary": [
           {
            "marker": {
             "colorbar": {
              "outlinewidth": 0,
              "ticks": ""
             }
            },
            "type": "scatterternary"
           }
          ],
          "surface": [
           {
            "colorbar": {
             "outlinewidth": 0,
             "ticks": ""
            },
            "colorscale": [
             [
              0,
              "#0d0887"
             ],
             [
              0.1111111111111111,
              "#46039f"
             ],
             [
              0.2222222222222222,
              "#7201a8"
             ],
             [
              0.3333333333333333,
              "#9c179e"
             ],
             [
              0.4444444444444444,
              "#bd3786"
             ],
             [
              0.5555555555555556,
              "#d8576b"
             ],
             [
              0.6666666666666666,
              "#ed7953"
             ],
             [
              0.7777777777777778,
              "#fb9f3a"
             ],
             [
              0.8888888888888888,
              "#fdca26"
             ],
             [
              1,
              "#f0f921"
             ]
            ],
            "type": "surface"
           }
          ],
          "table": [
           {
            "cells": {
             "fill": {
              "color": "#EBF0F8"
             },
             "line": {
              "color": "white"
             }
            },
            "header": {
             "fill": {
              "color": "#C8D4E3"
             },
             "line": {
              "color": "white"
             }
            },
            "type": "table"
           }
          ]
         },
         "layout": {
          "annotationdefaults": {
           "arrowcolor": "#2a3f5f",
           "arrowhead": 0,
           "arrowwidth": 1
          },
          "coloraxis": {
           "colorbar": {
            "outlinewidth": 0,
            "ticks": ""
           }
          },
          "colorscale": {
           "diverging": [
            [
             0,
             "#8e0152"
            ],
            [
             0.1,
             "#c51b7d"
            ],
            [
             0.2,
             "#de77ae"
            ],
            [
             0.3,
             "#f1b6da"
            ],
            [
             0.4,
             "#fde0ef"
            ],
            [
             0.5,
             "#f7f7f7"
            ],
            [
             0.6,
             "#e6f5d0"
            ],
            [
             0.7,
             "#b8e186"
            ],
            [
             0.8,
             "#7fbc41"
            ],
            [
             0.9,
             "#4d9221"
            ],
            [
             1,
             "#276419"
            ]
           ],
           "sequential": [
            [
             0,
             "#0d0887"
            ],
            [
             0.1111111111111111,
             "#46039f"
            ],
            [
             0.2222222222222222,
             "#7201a8"
            ],
            [
             0.3333333333333333,
             "#9c179e"
            ],
            [
             0.4444444444444444,
             "#bd3786"
            ],
            [
             0.5555555555555556,
             "#d8576b"
            ],
            [
             0.6666666666666666,
             "#ed7953"
            ],
            [
             0.7777777777777778,
             "#fb9f3a"
            ],
            [
             0.8888888888888888,
             "#fdca26"
            ],
            [
             1,
             "#f0f921"
            ]
           ],
           "sequentialminus": [
            [
             0,
             "#0d0887"
            ],
            [
             0.1111111111111111,
             "#46039f"
            ],
            [
             0.2222222222222222,
             "#7201a8"
            ],
            [
             0.3333333333333333,
             "#9c179e"
            ],
            [
             0.4444444444444444,
             "#bd3786"
            ],
            [
             0.5555555555555556,
             "#d8576b"
            ],
            [
             0.6666666666666666,
             "#ed7953"
            ],
            [
             0.7777777777777778,
             "#fb9f3a"
            ],
            [
             0.8888888888888888,
             "#fdca26"
            ],
            [
             1,
             "#f0f921"
            ]
           ]
          },
          "colorway": [
           "#636efa",
           "#EF553B",
           "#00cc96",
           "#ab63fa",
           "#FFA15A",
           "#19d3f3",
           "#FF6692",
           "#B6E880",
           "#FF97FF",
           "#FECB52"
          ],
          "font": {
           "color": "#2a3f5f"
          },
          "geo": {
           "bgcolor": "white",
           "lakecolor": "white",
           "landcolor": "#E5ECF6",
           "showlakes": true,
           "showland": true,
           "subunitcolor": "white"
          },
          "hoverlabel": {
           "align": "left"
          },
          "hovermode": "closest",
          "mapbox": {
           "style": "light"
          },
          "paper_bgcolor": "white",
          "plot_bgcolor": "#E5ECF6",
          "polar": {
           "angularaxis": {
            "gridcolor": "white",
            "linecolor": "white",
            "ticks": ""
           },
           "bgcolor": "#E5ECF6",
           "radialaxis": {
            "gridcolor": "white",
            "linecolor": "white",
            "ticks": ""
           }
          },
          "scene": {
           "xaxis": {
            "backgroundcolor": "#E5ECF6",
            "gridcolor": "white",
            "gridwidth": 2,
            "linecolor": "white",
            "showbackground": true,
            "ticks": "",
            "zerolinecolor": "white"
           },
           "yaxis": {
            "backgroundcolor": "#E5ECF6",
            "gridcolor": "white",
            "gridwidth": 2,
            "linecolor": "white",
            "showbackground": true,
            "ticks": "",
            "zerolinecolor": "white"
           },
           "zaxis": {
            "backgroundcolor": "#E5ECF6",
            "gridcolor": "white",
            "gridwidth": 2,
            "linecolor": "white",
            "showbackground": true,
            "ticks": "",
            "zerolinecolor": "white"
           }
          },
          "shapedefaults": {
           "line": {
            "color": "#2a3f5f"
           }
          },
          "ternary": {
           "aaxis": {
            "gridcolor": "white",
            "linecolor": "white",
            "ticks": ""
           },
           "baxis": {
            "gridcolor": "white",
            "linecolor": "white",
            "ticks": ""
           },
           "bgcolor": "#E5ECF6",
           "caxis": {
            "gridcolor": "white",
            "linecolor": "white",
            "ticks": ""
           }
          },
          "title": {
           "x": 0.05
          },
          "xaxis": {
           "automargin": true,
           "gridcolor": "white",
           "linecolor": "white",
           "ticks": "",
           "title": {
            "standoff": 15
           },
           "zerolinecolor": "white",
           "zerolinewidth": 2
          },
          "yaxis": {
           "automargin": true,
           "gridcolor": "white",
           "linecolor": "white",
           "ticks": "",
           "title": {
            "standoff": 15
           },
           "zerolinecolor": "white",
           "zerolinewidth": 2
          }
         }
        }
       }
      },
      "text/html": [
       "<div>\n",
       "        \n",
       "        \n",
       "            <div id=\"e46ede45-647f-4b5e-9c65-a39647e6c583\" class=\"plotly-graph-div\" style=\"height:525px; width:100%;\"></div>\n",
       "            <script type=\"text/javascript\">\n",
       "                require([\"plotly\"], function(Plotly) {\n",
       "                    window.PLOTLYENV=window.PLOTLYENV || {};\n",
       "                    \n",
       "                if (document.getElementById(\"e46ede45-647f-4b5e-9c65-a39647e6c583\")) {\n",
       "                    Plotly.newPlot(\n",
       "                        'e46ede45-647f-4b5e-9c65-a39647e6c583',\n",
       "                        [{\"hoverinfo\": \"text\", \"lat\": [47.561196, 46.193711, 46.524749, 47.376736, 46.947455, 47.389185, 47.454285999999996, 47.391652, 46.440108, 46.77032, 46.522437, 47.711995, 47.263268, 47.200103999999996, 47.322205, 46.801389, 47.488122, 47.058078, 47.05812, 46.197616, 47.549937, 47.351971999999996, 46.86411, 47.397628000000005, 46.958811, 46.947645, 46.95279, 46.996590999999995, 47.147814000000004, 47.049215000000004, 46.680833, 47.399167, 47.507967, 46.288114, 47.34917, 47.566617, 47.353765, 47.394227, 47.366863, 46.2351, 46.761733, 47.43119, 47.194648, 47.522028999999996, 47.216521, 46.228776, 47.419685, 47.016475, 46.383439, 47.277588, 47.35256, 47.251154, 47.189221, 46.005434, 46.540309, 47.296098, 46.818815, 46.883284, 46.018508000000004, 46.959937, 47.445458, 47.046166, 46.186931, 47.372031, 47.431105, 47.563624, 47.141715999999995], \"locationmode\": \"USA-states\", \"lon\": [7.5815410000000005, 6.148855999999999, 6.639659, 8.549199, 7.4248009999999995, 8.059994999999999, 8.278407000000001, 8.042692, 6.908222, 6.64755, 6.499426000000001, 8.638826, 8.589378, 7.539125, 8.802781, 7.137283, 7.731507000000001, 8.298791, 8.326092, 9.026881, 8.911494, 8.576158, 9.539952, 9.579355, 7.427403, 7.426611, 7.448237, 6.942991, 7.244622, 7.620941999999999, 7.842919, 8.520622, 8.727949, 7.8841779999999995, 8.598519, 7.614161999999999, 8.724082000000001, 8.431632, 8.497572, 7.387328, 7.632281, 9.388303, 8.518031, 8.5329, 7.793825, 6.0674, 7.058210000000001, 8.658699, 6.227493, 8.330606, 8.531581, 8.696631, 8.858947, 8.94011, 9.878888, 7.9471240000000005, 6.946231, 8.637429, 8.952941000000001, 8.357545, 9.411887, 9.06511, 6.142615, 8.557767, 9.387303999999999, 7.58183, 8.130885000000001], \"marker\": {\"color\": \"black\", \"size\": 5}, \"mode\": \"markers\", \"text\": [\"Universit\\u00c3\\u008c_tsspital Basel\", \"Les H\\u00c3\\u008c\\u00c2\\u00abpitaux Universitaires de Gen\\u00c3\\u008c\\u00c2\\u00acve HUG\", \"CHUV Centre Hospitalier Universitaire Vaudois\", \"Universit\\u00c3\\u008c_tsspital Z\\u00c3\\u008c_rich\", \"Insel Gruppe AG (universit\\u00c3\\u008c_r)\", \"Kantonsspital Aarau AG\", \"Kantonsspital Baden AG\", \"Hirslanden Klinik Aarau\", \"H\\u00c3\\u008c\\u00c2\\u00abpital Riviera-Chablais Vaud-Valais\", \"Etablissements Hospitaliers du Nord Vaudois (eHnv)\", \"EHC Ensemble hospitalier de la C\\u00c3\\u008c\\u00c2\\u00abte\", \"Spit\\u00c3\\u008c_ler Schaffhausen\", \"See-Spital\", \"Solothurner Spit\\u00c3\\u008c_ler AG\", \"GZO Spital Wetzikon\", \"HFR - H\\u00c3\\u008c\\u00c2\\u00abpital fribourgeois\", \"Kantonsspital Baselland\", \"Luzerner Kantonsspital\", \"Hirslanden Klinik St. Anna AG\", \"EOC Ente ospedaliero cantonale\", \"Spital Thurgau AG Kantonsspit\\u00c3\\u008c_ler Frauenfeld & M\\u00c3\\u008c_nsterlingen\", \"Klinik Hirslanden AG\", \"Kantonsspital Graub\\u00c3\\u008c_nden\", \"Spitalregion Rheintal Werdenberg Sarganserland\", \"Lindenhof AG\", \"Insel Gruppe AG (nicht-universit\\u00c3\\u008c_r)\", \"Hirslanden Bern AG\", \"H\\u00c3\\u008c\\u00c2\\u00abpital Neuch\\u00c3\\u008c\\u00c2\\u00a2telois HNE\", \"Spitalzentrum Biel AG\", \"Regionalspital Emmental AG\", \"Spit\\u00c3\\u008c_ler Frutigen Meiringen Interlaken AG\", \"Stadtspital Waid\", \"Kantonsspital Winterthur\", \"Spital Wallis - Spitalzentrum Oberwallis (SZO)\", \"Spital Zollikerberg\", \"St. Claraspital\", \"Spital Uster\", \"Spital Limmattal\", \"Stadtspital Triemli\", \"H\\u00c3\\u008c\\u00c2\\u00abpital du Valais - Centre hospitalier du centre du Valais (CHCVs)\", \"Spital STS AG\", \"Kantonsspital St. Gallen\", \"Zuger Kantonsspital AG\", \"Spital B\\u00c3\\u008c_lach AG\", \"SRO Spital Region Oberaargau AG\", \"H\\u00c3\\u008c\\u00c2\\u00abpital de la Tour\", \"H\\u00c3\\u008c\\u00c2\\u00abpital du Jura\", \"Spital Schwyz\", \"Groupement Hospitalier de l'Ouest L\\u00c3\\u008c\\u00c2\\u00a9manique (GHOL) SA\", \"Kreisspital f\\u00c3\\u008c_r das Freiamt\", \"Klinik Im Park\", \"Spital M\\u00c3\\u008c_nnedorf AG\", \"Spital Lachen\", \"Clinica Luganese Moncucco SA Sede Moncucco\", \"Spital Oberengadin\", \"Spital Zofingen AG\", \"H\\u00c3\\u008c\\u00c2\\u00abpital Intercantonal de la Broye (HIB)\", \"Kantonsspital Uri\", \"Cardiocentro Ticino (CCT)\", \"Kantonsspital Nidwalden\", \"Hirslanden Klinik Stephanshorn\", \"Kantonsspital Glarus\", \"Clinique de Carouge\", \"Universit\\u00c3\\u008c_ts-Kinderspital Z\\u00c3\\u008c_rich das Spital der Eleonorenstiftung\", \"Ostschweizer Kinderspital\", \"Universit\\u00c3\\u008c_ts-Kinderspital beider Basel (UKBB)\", \"Schweizer Paraplegiker-Zentrum Nottwil AG\"], \"type\": \"scattergeo\"}, {\"hoverinfo\": \"text\", \"lat\": [47.561196, 46.524749, 47.376736, 46.947455, 47.389185, 47.454285999999996, 47.391652, 46.440108, 46.77032, 46.522437, 47.711995, 47.263268, 47.200103999999996, 47.322205, 46.801389, 47.488122, 47.058078, 47.05812, 47.549937, 47.351971999999996, 46.86411, 47.397628000000005, 46.958811, 46.947645, 46.95279, 47.147814000000004, 47.049215000000004, 46.680833, 47.399167, 47.507967, 47.34917, 47.566617, 47.394227, 47.366863, 46.761733, 47.43119, 47.194648, 47.216521, 46.228776, 46.383439, 47.189221, 47.372031], \"locationmode\": \"USA-states\", \"lon\": [7.5815410000000005, 6.639659, 8.549199, 7.4248009999999995, 8.059994999999999, 8.278407000000001, 8.042692, 6.908222, 6.64755, 6.499426000000001, 8.638826, 8.589378, 7.539125, 8.802781, 7.137283, 7.731507000000001, 8.298791, 8.326092, 8.911494, 8.576158, 9.539952, 9.579355, 7.427403, 7.426611, 7.448237, 7.244622, 7.620941999999999, 7.842919, 8.520622, 8.727949, 8.598519, 7.614161999999999, 8.431632, 8.497572, 7.632281, 9.388303, 8.518031, 7.793825, 6.0674, 6.227493, 8.858947, 8.557767], \"marker\": {\"color\": \"green\", \"size\": 5}, \"mode\": \"markers\", \"text\": [\"Universit\\u00c3\\u008c_tsspital Basel\", \"CHUV Centre Hospitalier Universitaire Vaudois\", \"Universit\\u00c3\\u008c_tsspital Z\\u00c3\\u008c_rich\", \"Insel Gruppe AG (universit\\u00c3\\u008c_r)\", \"Kantonsspital Aarau AG\", \"Kantonsspital Baden AG\", \"Hirslanden Klinik Aarau\", \"H\\u00c3\\u008c\\u00c2\\u00abpital Riviera-Chablais Vaud-Valais\", \"Etablissements Hospitaliers du Nord Vaudois (eHnv)\", \"EHC Ensemble hospitalier de la C\\u00c3\\u008c\\u00c2\\u00abte\", \"Spit\\u00c3\\u008c_ler Schaffhausen\", \"See-Spital\", \"Solothurner Spit\\u00c3\\u008c_ler AG\", \"GZO Spital Wetzikon\", \"HFR - H\\u00c3\\u008c\\u00c2\\u00abpital fribourgeois\", \"Kantonsspital Baselland\", \"Luzerner Kantonsspital\", \"Hirslanden Klinik St. Anna AG\", \"Spital Thurgau AG Kantonsspit\\u00c3\\u008c_ler Frauenfeld & M\\u00c3\\u008c_nsterlingen\", \"Klinik Hirslanden AG\", \"Kantonsspital Graub\\u00c3\\u008c_nden\", \"Spitalregion Rheintal Werdenberg Sarganserland\", \"Lindenhof AG\", \"Insel Gruppe AG (nicht-universit\\u00c3\\u008c_r)\", \"Hirslanden Bern AG\", \"Spitalzentrum Biel AG\", \"Regionalspital Emmental AG\", \"Spit\\u00c3\\u008c_ler Frutigen Meiringen Interlaken AG\", \"Stadtspital Waid\", \"Kantonsspital Winterthur\", \"Spital Zollikerberg\", \"St. Claraspital\", \"Spital Limmattal\", \"Stadtspital Triemli\", \"Spital STS AG\", \"Kantonsspital St. Gallen\", \"Zuger Kantonsspital AG\", \"SRO Spital Region Oberaargau AG\", \"H\\u00c3\\u008c\\u00c2\\u00abpital de la Tour\", \"Groupement Hospitalier de l'Ouest L\\u00c3\\u008c\\u00c2\\u00a9manique (GHOL) SA\", \"Spital Lachen\", \"Universit\\u00c3\\u008c_ts-Kinderspital Z\\u00c3\\u008c_rich das Spital der Eleonorenstiftung\"], \"type\": \"scattergeo\"}, {\"hoverinfo\": \"text\", \"lat\": [46.193711, 47.376736, 46.947455, 47.389185, 47.454285999999996, 47.391652, 47.263268, 47.322205, 46.197616, 47.351971999999996, 46.958811, 46.947645, 46.996590999999995, 47.049215000000004, 47.399167, 47.507967, 46.288114, 47.394227, 47.366863, 46.2351, 46.761733, 46.228776, 47.277588, 46.005434, 47.296098, 46.018508000000004, 46.186931], \"locationmode\": \"USA-states\", \"lon\": [6.148855999999999, 8.549199, 7.4248009999999995, 8.059994999999999, 8.278407000000001, 8.042692, 8.589378, 8.802781, 9.026881, 8.576158, 7.427403, 7.426611, 6.942991, 7.620941999999999, 8.520622, 8.727949, 7.8841779999999995, 8.431632, 8.497572, 7.387328, 7.632281, 6.0674, 8.330606, 8.94011, 7.9471240000000005, 8.952941000000001, 6.142615], \"marker\": {\"color\": \"red\", \"size\": 5}, \"mode\": \"markers\", \"text\": [\"Les H\\u00c3\\u008c\\u00c2\\u00abpitaux Universitaires de Gen\\u00c3\\u008c\\u00c2\\u00acve HUG\", \"Universit\\u00c3\\u008c_tsspital Z\\u00c3\\u008c_rich\", \"Insel Gruppe AG (universit\\u00c3\\u008c_r)\", \"Kantonsspital Aarau AG\", \"Kantonsspital Baden AG\", \"Hirslanden Klinik Aarau\", \"See-Spital\", \"GZO Spital Wetzikon\", \"EOC Ente ospedaliero cantonale\", \"Klinik Hirslanden AG\", \"Lindenhof AG\", \"Insel Gruppe AG (nicht-universit\\u00c3\\u008c_r)\", \"H\\u00c3\\u008c\\u00c2\\u00abpital Neuch\\u00c3\\u008c\\u00c2\\u00a2telois HNE\", \"Regionalspital Emmental AG\", \"Stadtspital Waid\", \"Kantonsspital Winterthur\", \"Spital Wallis - Spitalzentrum Oberwallis (SZO)\", \"Spital Limmattal\", \"Stadtspital Triemli\", \"H\\u00c3\\u008c\\u00c2\\u00abpital du Valais - Centre hospitalier du centre du Valais (CHCVs)\", \"Spital STS AG\", \"H\\u00c3\\u008c\\u00c2\\u00abpital de la Tour\", \"Kreisspital f\\u00c3\\u008c_r das Freiamt\", \"Clinica Luganese Moncucco SA Sede Moncucco\", \"Spital Zofingen AG\", \"Cardiocentro Ticino (CCT)\", \"Clinique de Carouge\"], \"type\": \"scattergeo\"}],\n",
       "                        {\"template\": {\"data\": {\"bar\": [{\"error_x\": {\"color\": \"#2a3f5f\"}, \"error_y\": {\"color\": \"#2a3f5f\"}, \"marker\": {\"line\": {\"color\": \"#E5ECF6\", \"width\": 0.5}}, \"type\": \"bar\"}], \"barpolar\": [{\"marker\": {\"line\": {\"color\": \"#E5ECF6\", \"width\": 0.5}}, \"type\": \"barpolar\"}], \"carpet\": [{\"aaxis\": {\"endlinecolor\": \"#2a3f5f\", \"gridcolor\": \"white\", \"linecolor\": \"white\", \"minorgridcolor\": \"white\", \"startlinecolor\": \"#2a3f5f\"}, \"baxis\": {\"endlinecolor\": \"#2a3f5f\", \"gridcolor\": \"white\", \"linecolor\": \"white\", \"minorgridcolor\": \"white\", \"startlinecolor\": \"#2a3f5f\"}, \"type\": \"carpet\"}], \"choropleth\": [{\"colorbar\": {\"outlinewidth\": 0, \"ticks\": \"\"}, \"type\": \"choropleth\"}], \"contour\": [{\"colorbar\": {\"outlinewidth\": 0, \"ticks\": \"\"}, \"colorscale\": [[0.0, \"#0d0887\"], [0.1111111111111111, \"#46039f\"], [0.2222222222222222, \"#7201a8\"], [0.3333333333333333, \"#9c179e\"], [0.4444444444444444, \"#bd3786\"], [0.5555555555555556, \"#d8576b\"], [0.6666666666666666, \"#ed7953\"], [0.7777777777777778, \"#fb9f3a\"], [0.8888888888888888, \"#fdca26\"], [1.0, \"#f0f921\"]], \"type\": \"contour\"}], \"contourcarpet\": [{\"colorbar\": {\"outlinewidth\": 0, \"ticks\": \"\"}, \"type\": \"contourcarpet\"}], \"heatmap\": [{\"colorbar\": {\"outlinewidth\": 0, \"ticks\": \"\"}, \"colorscale\": [[0.0, \"#0d0887\"], [0.1111111111111111, \"#46039f\"], [0.2222222222222222, \"#7201a8\"], [0.3333333333333333, \"#9c179e\"], [0.4444444444444444, \"#bd3786\"], [0.5555555555555556, \"#d8576b\"], [0.6666666666666666, \"#ed7953\"], [0.7777777777777778, \"#fb9f3a\"], [0.8888888888888888, \"#fdca26\"], [1.0, \"#f0f921\"]], \"type\": \"heatmap\"}], \"heatmapgl\": [{\"colorbar\": {\"outlinewidth\": 0, \"ticks\": \"\"}, \"colorscale\": [[0.0, \"#0d0887\"], [0.1111111111111111, \"#46039f\"], [0.2222222222222222, \"#7201a8\"], [0.3333333333333333, \"#9c179e\"], [0.4444444444444444, \"#bd3786\"], [0.5555555555555556, \"#d8576b\"], [0.6666666666666666, \"#ed7953\"], [0.7777777777777778, \"#fb9f3a\"], [0.8888888888888888, \"#fdca26\"], [1.0, \"#f0f921\"]], \"type\": \"heatmapgl\"}], \"histogram\": [{\"marker\": {\"colorbar\": {\"outlinewidth\": 0, \"ticks\": \"\"}}, \"type\": \"histogram\"}], \"histogram2d\": [{\"colorbar\": {\"outlinewidth\": 0, \"ticks\": \"\"}, \"colorscale\": [[0.0, \"#0d0887\"], [0.1111111111111111, \"#46039f\"], [0.2222222222222222, \"#7201a8\"], [0.3333333333333333, \"#9c179e\"], [0.4444444444444444, \"#bd3786\"], [0.5555555555555556, \"#d8576b\"], [0.6666666666666666, \"#ed7953\"], [0.7777777777777778, \"#fb9f3a\"], [0.8888888888888888, \"#fdca26\"], [1.0, \"#f0f921\"]], \"type\": \"histogram2d\"}], \"histogram2dcontour\": [{\"colorbar\": {\"outlinewidth\": 0, \"ticks\": \"\"}, \"colorscale\": [[0.0, \"#0d0887\"], [0.1111111111111111, \"#46039f\"], [0.2222222222222222, \"#7201a8\"], [0.3333333333333333, \"#9c179e\"], [0.4444444444444444, \"#bd3786\"], [0.5555555555555556, \"#d8576b\"], [0.6666666666666666, \"#ed7953\"], [0.7777777777777778, \"#fb9f3a\"], [0.8888888888888888, \"#fdca26\"], [1.0, \"#f0f921\"]], \"type\": \"histogram2dcontour\"}], \"mesh3d\": [{\"colorbar\": {\"outlinewidth\": 0, \"ticks\": \"\"}, \"type\": \"mesh3d\"}], \"parcoords\": [{\"line\": {\"colorbar\": {\"outlinewidth\": 0, \"ticks\": \"\"}}, \"type\": \"parcoords\"}], \"pie\": [{\"automargin\": true, \"type\": \"pie\"}], \"scatter\": [{\"marker\": {\"colorbar\": {\"outlinewidth\": 0, \"ticks\": \"\"}}, \"type\": \"scatter\"}], \"scatter3d\": [{\"line\": {\"colorbar\": {\"outlinewidth\": 0, \"ticks\": \"\"}}, \"marker\": {\"colorbar\": {\"outlinewidth\": 0, \"ticks\": \"\"}}, \"type\": \"scatter3d\"}], \"scattercarpet\": [{\"marker\": {\"colorbar\": {\"outlinewidth\": 0, \"ticks\": \"\"}}, \"type\": \"scattercarpet\"}], \"scattergeo\": [{\"marker\": {\"colorbar\": {\"outlinewidth\": 0, \"ticks\": \"\"}}, \"type\": \"scattergeo\"}], \"scattergl\": [{\"marker\": {\"colorbar\": {\"outlinewidth\": 0, \"ticks\": \"\"}}, \"type\": \"scattergl\"}], \"scattermapbox\": [{\"marker\": {\"colorbar\": {\"outlinewidth\": 0, \"ticks\": \"\"}}, \"type\": \"scattermapbox\"}], \"scatterpolar\": [{\"marker\": {\"colorbar\": {\"outlinewidth\": 0, \"ticks\": \"\"}}, \"type\": \"scatterpolar\"}], \"scatterpolargl\": [{\"marker\": {\"colorbar\": {\"outlinewidth\": 0, \"ticks\": \"\"}}, \"type\": \"scatterpolargl\"}], \"scatterternary\": [{\"marker\": {\"colorbar\": {\"outlinewidth\": 0, \"ticks\": \"\"}}, \"type\": \"scatterternary\"}], \"surface\": [{\"colorbar\": {\"outlinewidth\": 0, \"ticks\": \"\"}, \"colorscale\": [[0.0, \"#0d0887\"], [0.1111111111111111, \"#46039f\"], [0.2222222222222222, \"#7201a8\"], [0.3333333333333333, \"#9c179e\"], [0.4444444444444444, \"#bd3786\"], [0.5555555555555556, \"#d8576b\"], [0.6666666666666666, \"#ed7953\"], [0.7777777777777778, \"#fb9f3a\"], [0.8888888888888888, \"#fdca26\"], [1.0, \"#f0f921\"]], \"type\": \"surface\"}], \"table\": [{\"cells\": {\"fill\": {\"color\": \"#EBF0F8\"}, \"line\": {\"color\": \"white\"}}, \"header\": {\"fill\": {\"color\": \"#C8D4E3\"}, \"line\": {\"color\": \"white\"}}, \"type\": \"table\"}]}, \"layout\": {\"annotationdefaults\": {\"arrowcolor\": \"#2a3f5f\", \"arrowhead\": 0, \"arrowwidth\": 1}, \"coloraxis\": {\"colorbar\": {\"outlinewidth\": 0, \"ticks\": \"\"}}, \"colorscale\": {\"diverging\": [[0, \"#8e0152\"], [0.1, \"#c51b7d\"], [0.2, \"#de77ae\"], [0.3, \"#f1b6da\"], [0.4, \"#fde0ef\"], [0.5, \"#f7f7f7\"], [0.6, \"#e6f5d0\"], [0.7, \"#b8e186\"], [0.8, \"#7fbc41\"], [0.9, \"#4d9221\"], [1, \"#276419\"]], \"sequential\": [[0.0, \"#0d0887\"], [0.1111111111111111, \"#46039f\"], [0.2222222222222222, \"#7201a8\"], [0.3333333333333333, \"#9c179e\"], [0.4444444444444444, \"#bd3786\"], [0.5555555555555556, \"#d8576b\"], [0.6666666666666666, \"#ed7953\"], [0.7777777777777778, \"#fb9f3a\"], [0.8888888888888888, \"#fdca26\"], [1.0, \"#f0f921\"]], \"sequentialminus\": [[0.0, \"#0d0887\"], [0.1111111111111111, \"#46039f\"], [0.2222222222222222, \"#7201a8\"], [0.3333333333333333, \"#9c179e\"], [0.4444444444444444, \"#bd3786\"], [0.5555555555555556, \"#d8576b\"], [0.6666666666666666, \"#ed7953\"], [0.7777777777777778, \"#fb9f3a\"], [0.8888888888888888, \"#fdca26\"], [1.0, \"#f0f921\"]]}, \"colorway\": [\"#636efa\", \"#EF553B\", \"#00cc96\", \"#ab63fa\", \"#FFA15A\", \"#19d3f3\", \"#FF6692\", \"#B6E880\", \"#FF97FF\", \"#FECB52\"], \"font\": {\"color\": \"#2a3f5f\"}, \"geo\": {\"bgcolor\": \"white\", \"lakecolor\": \"white\", \"landcolor\": \"#E5ECF6\", \"showlakes\": true, \"showland\": true, \"subunitcolor\": \"white\"}, \"hoverlabel\": {\"align\": \"left\"}, \"hovermode\": \"closest\", \"mapbox\": {\"style\": \"light\"}, \"paper_bgcolor\": \"white\", \"plot_bgcolor\": \"#E5ECF6\", \"polar\": {\"angularaxis\": {\"gridcolor\": \"white\", \"linecolor\": \"white\", \"ticks\": \"\"}, \"bgcolor\": \"#E5ECF6\", \"radialaxis\": {\"gridcolor\": \"white\", \"linecolor\": \"white\", \"ticks\": \"\"}}, \"scene\": {\"xaxis\": {\"backgroundcolor\": \"#E5ECF6\", \"gridcolor\": \"white\", \"gridwidth\": 2, \"linecolor\": \"white\", \"showbackground\": true, \"ticks\": \"\", \"zerolinecolor\": \"white\"}, \"yaxis\": {\"backgroundcolor\": \"#E5ECF6\", \"gridcolor\": \"white\", \"gridwidth\": 2, \"linecolor\": \"white\", \"showbackground\": true, \"ticks\": \"\", \"zerolinecolor\": \"white\"}, \"zaxis\": {\"backgroundcolor\": \"#E5ECF6\", \"gridcolor\": \"white\", \"gridwidth\": 2, \"linecolor\": \"white\", \"showbackground\": true, \"ticks\": \"\", \"zerolinecolor\": \"white\"}}, \"shapedefaults\": {\"line\": {\"color\": \"#2a3f5f\"}}, \"ternary\": {\"aaxis\": {\"gridcolor\": \"white\", \"linecolor\": \"white\", \"ticks\": \"\"}, \"baxis\": {\"gridcolor\": \"white\", \"linecolor\": \"white\", \"ticks\": \"\"}, \"bgcolor\": \"#E5ECF6\", \"caxis\": {\"gridcolor\": \"white\", \"linecolor\": \"white\", \"ticks\": \"\"}}, \"title\": {\"x\": 0.05}, \"xaxis\": {\"automargin\": true, \"gridcolor\": \"white\", \"linecolor\": \"white\", \"ticks\": \"\", \"title\": {\"standoff\": 15}, \"zerolinecolor\": \"white\", \"zerolinewidth\": 2}, \"yaxis\": {\"automargin\": true, \"gridcolor\": \"white\", \"linecolor\": \"white\", \"ticks\": \"\", \"title\": {\"standoff\": 15}, \"zerolinecolor\": \"white\", \"zerolinewidth\": 2}}}},\n",
       "                        {\"responsive\": true}\n",
       "                    ).then(function(){\n",
       "                            \n",
       "var gd = document.getElementById('e46ede45-647f-4b5e-9c65-a39647e6c583');\n",
       "var x = new MutationObserver(function (mutations, observer) {{\n",
       "        var display = window.getComputedStyle(gd).display;\n",
       "        if (!display || display === 'none') {{\n",
       "            console.log([gd, 'removed!']);\n",
       "            Plotly.purge(gd);\n",
       "            observer.disconnect();\n",
       "        }}\n",
       "}});\n",
       "\n",
       "// Listen for the removal of the full notebook cells\n",
       "var notebookContainer = gd.closest('#notebook-container');\n",
       "if (notebookContainer) {{\n",
       "    x.observe(notebookContainer, {childList: true});\n",
       "}}\n",
       "\n",
       "// Listen for the clearing of the current output cell\n",
       "var outputEl = gd.closest('.output');\n",
       "if (outputEl) {{\n",
       "    x.observe(outputEl, {childList: true});\n",
       "}}\n",
       "\n",
       "                        })\n",
       "                };\n",
       "                });\n",
       "            </script>\n",
       "        </div>"
      ]
     },
     "metadata": {},
     "output_type": "display_data"
    }
   ],
   "source": [
    "fig = go.Figure()\n",
    "fig.add_trace(go.Scattergeo(\n",
    "    locationmode = 'USA-states',\n",
    "    lon = df_hospital['Longitude'],\n",
    "    lat = df_hospital['Latitude'],\n",
    "    hoverinfo = 'text',\n",
    "    text = df_hospital['Inst'],\n",
    "    mode = 'markers',\n",
    "    marker = dict(\n",
    "        size = 5,\n",
    "        color = 'black',\n",
    "#         line = dict(\n",
    "#             width = 3,\n",
    "#             color = 'rgba(68, 68, 68, 0)'\n",
    "#         )\n",
    "    )\n",
    "    ))\n",
    "fig.add_trace(go.Scattergeo(\n",
    "    locationmode = 'USA-states',\n",
    "    lon = sen_hosp['Longitude'],\n",
    "    lat = sen_hosp['Latitude'],\n",
    "    hoverinfo = 'text',\n",
    "    text = sen_hosp['Inst'],\n",
    "    mode = 'markers',\n",
    "    marker = dict(\n",
    "        size = 5,\n",
    "        color = 'green',\n",
    "#         line = dict(\n",
    "#             width = 3,\n",
    "#             color = 'rgba(68, 68, 68, 0)'\n",
    "#         )\n",
    "    )\n",
    "    ))\n",
    "\n",
    "fig.add_trace(go.Scattergeo(\n",
    "    locationmode = 'USA-states',\n",
    "    lon = rec_hosp['Longitude'],\n",
    "    lat = rec_hosp['Latitude'],\n",
    "    hoverinfo = 'text',\n",
    "    text = rec_hosp['Inst'],\n",
    "    mode = 'markers',\n",
    "    marker = dict(\n",
    "        size = 5,\n",
    "        color = 'red',\n",
    "#         line = dict(\n",
    "#             width = 3,\n",
    "#             color = 'rgba(68, 68, 68, 0)'\n",
    "#         )\n",
    "    )\n",
    "    ))\n",
    "# print(sen_hosp)\n",
    "# print(rec_hosp)\n",
    "# print(neu_hosp)\n",
    "# receiver_hosp\n",
    "# neutral_hosp = df_hospital[neutral_index[:]]"
   ]
  },
  {
   "cell_type": "code",
   "execution_count": 204,
   "metadata": {},
   "outputs": [
    {
     "data": {
      "text/html": [
       "<div>\n",
       "<style scoped>\n",
       "    .dataframe tbody tr th:only-of-type {\n",
       "        vertical-align: middle;\n",
       "    }\n",
       "\n",
       "    .dataframe tbody tr th {\n",
       "        vertical-align: top;\n",
       "    }\n",
       "\n",
       "    .dataframe thead th {\n",
       "        text-align: right;\n",
       "    }\n",
       "</style>\n",
       "<table border=\"1\" class=\"dataframe\">\n",
       "  <thead>\n",
       "    <tr style=\"text-align: right;\">\n",
       "      <th></th>\n",
       "      <th>ID</th>\n",
       "      <th>KT</th>\n",
       "      <th>Inst</th>\n",
       "      <th>Adr</th>\n",
       "      <th>PersA</th>\n",
       "      <th>PersP</th>\n",
       "      <th>BettenStatA</th>\n",
       "      <th>pBettenBelStatA</th>\n",
       "      <th>ICU_beds</th>\n",
       "      <th>Ventilators</th>\n",
       "      <th>Latitude</th>\n",
       "      <th>Longitude</th>\n",
       "      <th>Unnamed: 12</th>\n",
       "    </tr>\n",
       "  </thead>\n",
       "  <tbody>\n",
       "    <tr>\n",
       "      <th>0</th>\n",
       "      <td>0</td>\n",
       "      <td>BS</td>\n",
       "      <td>UniversitÃ_tsspital Basel</td>\n",
       "      <td>Hebelstrasse 32</td>\n",
       "      <td>913.50</td>\n",
       "      <td>1595.22</td>\n",
       "      <td>633.000000</td>\n",
       "      <td>92.463806</td>\n",
       "      <td>38</td>\n",
       "      <td>28</td>\n",
       "      <td>47.561196</td>\n",
       "      <td>7.581541</td>\n",
       "      <td>NaN</td>\n",
       "    </tr>\n",
       "    <tr>\n",
       "      <th>1</th>\n",
       "      <td>1</td>\n",
       "      <td>GE</td>\n",
       "      <td>Les HÃÂ«pitaux Universitaires de GenÃÂ¬ve HUG</td>\n",
       "      <td>Rue GabrielleÃ¥_PerretÃ¥_Gentil 4</td>\n",
       "      <td>1829.32</td>\n",
       "      <td>4498.96</td>\n",
       "      <td>1054.282192</td>\n",
       "      <td>85.289218</td>\n",
       "      <td>63</td>\n",
       "      <td>47</td>\n",
       "      <td>46.193711</td>\n",
       "      <td>6.148856</td>\n",
       "      <td>NaN</td>\n",
       "    </tr>\n",
       "    <tr>\n",
       "      <th>2</th>\n",
       "      <td>2</td>\n",
       "      <td>VD</td>\n",
       "      <td>CHUV Centre Hospitalier Universitaire Vaudois</td>\n",
       "      <td>Rue du Bugnon 21</td>\n",
       "      <td>1653.73</td>\n",
       "      <td>3400.37</td>\n",
       "      <td>929.000000</td>\n",
       "      <td>82.588437</td>\n",
       "      <td>56</td>\n",
       "      <td>41</td>\n",
       "      <td>46.524749</td>\n",
       "      <td>6.639659</td>\n",
       "      <td>NaN</td>\n",
       "    </tr>\n",
       "    <tr>\n",
       "      <th>3</th>\n",
       "      <td>3</td>\n",
       "      <td>ZH</td>\n",
       "      <td>UniversitÃ_tsspital ZÃ_rich</td>\n",
       "      <td>RÃ_mistrasse 100</td>\n",
       "      <td>1221.75</td>\n",
       "      <td>2574.21</td>\n",
       "      <td>953.884931</td>\n",
       "      <td>78.680694</td>\n",
       "      <td>57</td>\n",
       "      <td>42</td>\n",
       "      <td>47.376736</td>\n",
       "      <td>8.549199</td>\n",
       "      <td>NaN</td>\n",
       "    </tr>\n",
       "    <tr>\n",
       "      <th>4</th>\n",
       "      <td>4</td>\n",
       "      <td>BE</td>\n",
       "      <td>Insel Gruppe AG (universitÃ_r)</td>\n",
       "      <td>Freiburgstrasse 18</td>\n",
       "      <td>1355.66</td>\n",
       "      <td>2739.25</td>\n",
       "      <td>876.298630</td>\n",
       "      <td>83.329008</td>\n",
       "      <td>53</td>\n",
       "      <td>39</td>\n",
       "      <td>46.947455</td>\n",
       "      <td>7.424801</td>\n",
       "      <td>NaN</td>\n",
       "    </tr>\n",
       "    <tr>\n",
       "      <th>...</th>\n",
       "      <td>...</td>\n",
       "      <td>...</td>\n",
       "      <td>...</td>\n",
       "      <td>...</td>\n",
       "      <td>...</td>\n",
       "      <td>...</td>\n",
       "      <td>...</td>\n",
       "      <td>...</td>\n",
       "      <td>...</td>\n",
       "      <td>...</td>\n",
       "      <td>...</td>\n",
       "      <td>...</td>\n",
       "      <td>...</td>\n",
       "    </tr>\n",
       "    <tr>\n",
       "      <th>62</th>\n",
       "      <td>230</td>\n",
       "      <td>GE</td>\n",
       "      <td>Clinique de Carouge</td>\n",
       "      <td>Avenue CardinalÃ¥_Mermillod 1</td>\n",
       "      <td>14.78</td>\n",
       "      <td>40.46</td>\n",
       "      <td>15.000000</td>\n",
       "      <td>28.566210</td>\n",
       "      <td>1</td>\n",
       "      <td>1</td>\n",
       "      <td>46.186931</td>\n",
       "      <td>6.142615</td>\n",
       "      <td>NaN</td>\n",
       "    </tr>\n",
       "    <tr>\n",
       "      <th>63</th>\n",
       "      <td>257</td>\n",
       "      <td>ZH</td>\n",
       "      <td>UniversitÃ_ts-Kinderspital ZÃ_rich das Spita...</td>\n",
       "      <td>Steinwiesstrasse 75</td>\n",
       "      <td>302.29</td>\n",
       "      <td>683.98</td>\n",
       "      <td>167.128767</td>\n",
       "      <td>75.649979</td>\n",
       "      <td>10</td>\n",
       "      <td>7</td>\n",
       "      <td>47.372031</td>\n",
       "      <td>8.557767</td>\n",
       "      <td>NaN</td>\n",
       "    </tr>\n",
       "    <tr>\n",
       "      <th>64</th>\n",
       "      <td>258</td>\n",
       "      <td>SG</td>\n",
       "      <td>Ostschweizer Kinderspital</td>\n",
       "      <td>Claudiusstrasse 6</td>\n",
       "      <td>85.25</td>\n",
       "      <td>272.69</td>\n",
       "      <td>74.000000</td>\n",
       "      <td>81.728989</td>\n",
       "      <td>4</td>\n",
       "      <td>3</td>\n",
       "      <td>47.431105</td>\n",
       "      <td>9.387304</td>\n",
       "      <td>NaN</td>\n",
       "    </tr>\n",
       "    <tr>\n",
       "      <th>65</th>\n",
       "      <td>259</td>\n",
       "      <td>BS</td>\n",
       "      <td>UniversitÃ_ts-Kinderspital beider Basel (UKBB)</td>\n",
       "      <td>Spitalstrasse 33</td>\n",
       "      <td>157.55</td>\n",
       "      <td>411.82</td>\n",
       "      <td>118.501370</td>\n",
       "      <td>72.873558</td>\n",
       "      <td>7</td>\n",
       "      <td>5</td>\n",
       "      <td>47.563624</td>\n",
       "      <td>7.581830</td>\n",
       "      <td>NaN</td>\n",
       "    </tr>\n",
       "    <tr>\n",
       "      <th>66</th>\n",
       "      <td>273</td>\n",
       "      <td>LU</td>\n",
       "      <td>Schweizer Paraplegiker-Zentrum Nottwil AG</td>\n",
       "      <td>Guido A. ZÃ_ch Strasse 1</td>\n",
       "      <td>74.21</td>\n",
       "      <td>364.56</td>\n",
       "      <td>53.000000</td>\n",
       "      <td>81.540450</td>\n",
       "      <td>3</td>\n",
       "      <td>2</td>\n",
       "      <td>47.141716</td>\n",
       "      <td>8.130885</td>\n",
       "      <td>NaN</td>\n",
       "    </tr>\n",
       "  </tbody>\n",
       "</table>\n",
       "<p>67 rows × 13 columns</p>\n",
       "</div>"
      ],
      "text/plain": [
       "     ID  KT                                               Inst  \\\n",
       "0     0  BS                         UniversitÃ_tsspital Basel   \n",
       "1     1  GE    Les HÃÂ«pitaux Universitaires de GenÃÂ¬ve HUG   \n",
       "2     2  VD      CHUV Centre Hospitalier Universitaire Vaudois   \n",
       "3     3  ZH                      UniversitÃ_tsspital ZÃ_rich   \n",
       "4     4  BE                    Insel Gruppe AG (universitÃ_r)   \n",
       "..  ...  ..                                                ...   \n",
       "62  230  GE                                Clinique de Carouge   \n",
       "63  257  ZH  UniversitÃ_ts-Kinderspital ZÃ_rich das Spita...   \n",
       "64  258  SG                          Ostschweizer Kinderspital   \n",
       "65  259  BS    UniversitÃ_ts-Kinderspital beider Basel (UKBB)   \n",
       "66  273  LU          Schweizer Paraplegiker-Zentrum Nottwil AG   \n",
       "\n",
       "                                  Adr    PersA    PersP  BettenStatA  \\\n",
       "0                     Hebelstrasse 32   913.50  1595.22   633.000000   \n",
       "1   Rue GabrielleÃ¥_PerretÃ¥_Gentil 4  1829.32  4498.96  1054.282192   \n",
       "2                    Rue du Bugnon 21  1653.73  3400.37   929.000000   \n",
       "3                   RÃ_mistrasse 100  1221.75  2574.21   953.884931   \n",
       "4                  Freiburgstrasse 18  1355.66  2739.25   876.298630   \n",
       "..                                ...      ...      ...          ...   \n",
       "62      Avenue CardinalÃ¥_Mermillod 1    14.78    40.46    15.000000   \n",
       "63                Steinwiesstrasse 75   302.29   683.98   167.128767   \n",
       "64                  Claudiusstrasse 6    85.25   272.69    74.000000   \n",
       "65                   Spitalstrasse 33   157.55   411.82   118.501370   \n",
       "66          Guido A. ZÃ_ch Strasse 1    74.21   364.56    53.000000   \n",
       "\n",
       "    pBettenBelStatA  ICU_beds  Ventilators   Latitude  Longitude Unnamed: 12  \n",
       "0         92.463806        38           28  47.561196   7.581541         NaN  \n",
       "1         85.289218        63           47  46.193711   6.148856         NaN  \n",
       "2         82.588437        56           41  46.524749   6.639659         NaN  \n",
       "3         78.680694        57           42  47.376736   8.549199         NaN  \n",
       "4         83.329008        53           39  46.947455   7.424801         NaN  \n",
       "..              ...       ...          ...        ...        ...         ...  \n",
       "62        28.566210         1            1  46.186931   6.142615         NaN  \n",
       "63        75.649979        10            7  47.372031   8.557767         NaN  \n",
       "64        81.728989         4            3  47.431105   9.387304         NaN  \n",
       "65        72.873558         7            5  47.563624   7.581830         NaN  \n",
       "66        81.540450         3            2  47.141716   8.130885         NaN  \n",
       "\n",
       "[67 rows x 13 columns]"
      ]
     },
     "execution_count": 204,
     "metadata": {},
     "output_type": "execute_result"
    }
   ],
   "source": [
    "df_hospital"
   ]
  },
  {
   "cell_type": "code",
   "execution_count": 214,
   "metadata": {},
   "outputs": [
    {
     "name": "stdout",
     "output_type": "stream",
     "text": [
      "47.561196\n",
      "47.561196\n",
      "46.524749\n",
      "46.524749\n",
      "47.376736\n",
      "47.376736\n",
      "46.947455\n",
      "46.947455\n",
      "47.389185\n",
      "47.454285999999996\n",
      "47.391652\n",
      "46.440108\n",
      "46.440108\n",
      "46.77032\n",
      "46.77032\n",
      "46.522437\n",
      "46.522437\n",
      "47.711995\n",
      "47.711995\n",
      "47.263268\n",
      "47.263268\n",
      "47.200103999999996\n",
      "47.200103999999996\n",
      "47.322205\n",
      "46.801389\n",
      "46.801389\n",
      "47.488122\n",
      "47.488122\n",
      "47.058078\n",
      "47.058078\n",
      "47.05812\n",
      "47.05812\n",
      "47.549937\n",
      "47.549937\n",
      "47.351971999999996\n",
      "46.86411\n",
      "46.86411\n",
      "47.397628000000005\n",
      "47.397628000000005\n",
      "46.958811\n",
      "46.958811\n",
      "46.947645\n",
      "46.95279\n",
      "47.147814000000004\n",
      "47.049215000000004\n",
      "47.049215000000004\n",
      "46.680833\n",
      "47.399167\n",
      "47.507967\n",
      "47.34917\n",
      "47.566617\n",
      "47.566617\n",
      "47.394227\n",
      "47.366863\n",
      "46.761733\n",
      "47.43119\n",
      "47.43119\n",
      "47.194648\n",
      "47.194648\n",
      "47.194648\n",
      "47.216521\n",
      "47.216521\n",
      "46.228776\n",
      "46.383439\n",
      "46.383439\n",
      "47.189221\n",
      "47.189221\n",
      "47.372031\n",
      "     orig_lat  orig_lon   dest_lat  dest_lon  \\\n",
      "0   47.561196  7.581541  47.389185  8.059995   \n",
      "1   47.561196  7.581541  46.197616  9.026881   \n",
      "2   46.524749  6.639659  46.193711  6.148856   \n",
      "3   46.524749  6.639659  46.235100  7.387328   \n",
      "4   47.376736  8.549199  46.193711  6.148856   \n",
      "..        ...       ...        ...       ...   \n",
      "63  46.383439  6.227493  46.193711  6.148856   \n",
      "64  46.383439  6.227493  46.228776  6.067400   \n",
      "65  47.189221  8.858947  47.263268  8.589378   \n",
      "66  47.189221  8.858947  47.322205  8.802781   \n",
      "67  47.372031  8.557767  47.376736  8.549199   \n",
      "\n",
      "                                            orig_hosp  \\\n",
      "0                          UniversitÃ_tsspital Basel   \n",
      "1                          UniversitÃ_tsspital Basel   \n",
      "2       CHUV Centre Hospitalier Universitaire Vaudois   \n",
      "3       CHUV Centre Hospitalier Universitaire Vaudois   \n",
      "4                       UniversitÃ_tsspital ZÃ_rich   \n",
      "..                                                ...   \n",
      "63  Groupement Hospitalier de l'Ouest LÃÂ©manique...   \n",
      "64  Groupement Hospitalier de l'Ouest LÃÂ©manique...   \n",
      "65                                      Spital Lachen   \n",
      "66                                      Spital Lachen   \n",
      "67  UniversitÃ_ts-Kinderspital ZÃ_rich das Spita...   \n",
      "\n",
      "                                            dest_hosp  num_ven_tansp  \n",
      "0                              Kantonsspital Aarau AG             14  \n",
      "1                      EOC Ente ospedaliero cantonale             14  \n",
      "2     Les HÃÂ«pitaux Universitaires de GenÃÂ¬ve HUG             20  \n",
      "3   HÃÂ«pital du Valais - Centre hospitalier du c...             20  \n",
      "4     Les HÃÂ«pitaux Universitaires de GenÃÂ¬ve HUG             21  \n",
      "..                                                ...            ...  \n",
      "63    Les HÃÂ«pitaux Universitaires de GenÃÂ¬ve HUG              3  \n",
      "64                              HÃÂ«pital de la Tour              3  \n",
      "65                                         See-Spital              2  \n",
      "66                                GZO Spital Wetzikon              2  \n",
      "67                      UniversitÃ_tsspital ZÃ_rich              1  \n",
      "\n",
      "[68 rows x 7 columns]\n"
     ]
    },
    {
     "name": "stderr",
     "output_type": "stream",
     "text": [
      "C:\\Users\\caha\\PycharmProjects\\ch_vs_virus_416\\venv\\lib\\site-packages\\ipykernel_launcher.py:16: SettingWithCopyWarning:\n",
      "\n",
      "\n",
      "A value is trying to be set on a copy of a slice from a DataFrame\n",
      "\n",
      "See the caveats in the documentation: https://pandas.pydata.org/pandas-docs/stable/user_guide/indexing.html#returning-a-view-versus-a-copy\n",
      "\n",
      "C:\\Users\\caha\\PycharmProjects\\ch_vs_virus_416\\venv\\lib\\site-packages\\ipykernel_launcher.py:17: SettingWithCopyWarning:\n",
      "\n",
      "\n",
      "A value is trying to be set on a copy of a slice from a DataFrame\n",
      "\n",
      "See the caveats in the documentation: https://pandas.pydata.org/pandas-docs/stable/user_guide/indexing.html#returning-a-view-versus-a-copy\n",
      "\n",
      "C:\\Users\\caha\\PycharmProjects\\ch_vs_virus_416\\venv\\lib\\site-packages\\ipykernel_launcher.py:18: SettingWithCopyWarning:\n",
      "\n",
      "\n",
      "A value is trying to be set on a copy of a slice from a DataFrame\n",
      "\n",
      "See the caveats in the documentation: https://pandas.pydata.org/pandas-docs/stable/user_guide/indexing.html#returning-a-view-versus-a-copy\n",
      "\n",
      "C:\\Users\\caha\\PycharmProjects\\ch_vs_virus_416\\venv\\lib\\site-packages\\ipykernel_launcher.py:20: SettingWithCopyWarning:\n",
      "\n",
      "\n",
      "A value is trying to be set on a copy of a slice from a DataFrame\n",
      "\n",
      "See the caveats in the documentation: https://pandas.pydata.org/pandas-docs/stable/user_guide/indexing.html#returning-a-view-versus-a-copy\n",
      "\n",
      "C:\\Users\\caha\\PycharmProjects\\ch_vs_virus_416\\venv\\lib\\site-packages\\ipykernel_launcher.py:21: SettingWithCopyWarning:\n",
      "\n",
      "\n",
      "A value is trying to be set on a copy of a slice from a DataFrame\n",
      "\n",
      "See the caveats in the documentation: https://pandas.pydata.org/pandas-docs/stable/user_guide/indexing.html#returning-a-view-versus-a-copy\n",
      "\n",
      "C:\\Users\\caha\\PycharmProjects\\ch_vs_virus_416\\venv\\lib\\site-packages\\ipykernel_launcher.py:22: SettingWithCopyWarning:\n",
      "\n",
      "\n",
      "A value is trying to be set on a copy of a slice from a DataFrame\n",
      "\n",
      "See the caveats in the documentation: https://pandas.pydata.org/pandas-docs/stable/user_guide/indexing.html#returning-a-view-versus-a-copy\n",
      "\n",
      "C:\\Users\\caha\\PycharmProjects\\ch_vs_virus_416\\venv\\lib\\site-packages\\ipykernel_launcher.py:23: SettingWithCopyWarning:\n",
      "\n",
      "\n",
      "A value is trying to be set on a copy of a slice from a DataFrame\n",
      "\n",
      "See the caveats in the documentation: https://pandas.pydata.org/pandas-docs/stable/user_guide/indexing.html#returning-a-view-versus-a-copy\n",
      "\n"
     ]
    }
   ],
   "source": [
    "non_zero_ind = np.nonzero(ven_aloc_solu)\n",
    "sen_ind = non_zero_ind[0]\n",
    "rec_ind = non_zero_ind[1]\n",
    "\n",
    "data = {'orig_lat': [-1.1]*len(rec_ind), \n",
    "        'orig_lon': [-1.1]*len(rec_ind), \n",
    "        'dest_lat': [-1.1]*len(rec_ind),\n",
    "        'dest_lon': [-1.1]*len(rec_ind),\n",
    "        'orig_hosp': ['']*len(rec_ind),\n",
    "        'dest_hosp': ['']*len(rec_ind),\n",
    "        'num_ven_tansp': [0]*len(rec_ind)} \n",
    "df_ven_reloc = pd.DataFrame(data)\n",
    "ind = 0\n",
    "for orig_ind, dest_ind in zip(sen_ind,rec_ind):\n",
    "        print(df_hospital['Latitude'][orig_ind])\n",
    "        df_ven_reloc['orig_lat'][ind] = df_hospital['Latitude'][orig_ind]\n",
    "        df_ven_reloc['orig_lon'][ind] = df_hospital['Longitude'][orig_ind]\n",
    "        df_ven_reloc['orig_hosp'][ind] = df_hospital['Inst'][orig_ind]  # from hospital\n",
    "        \n",
    "        df_ven_reloc['dest_lat'][ind] = df_hospital['Latitude'][dest_ind]\n",
    "        df_ven_reloc['dest_lon'][ind] = df_hospital['Longitude'][dest_ind]\n",
    "        df_ven_reloc['dest_hosp'][ind] = df_hospital['Inst'][dest_ind]  # to hospital\n",
    "        df_ven_reloc['num_ven_tansp'][ind] = ven_aloc_solu[orig_ind, dest_ind]\n",
    "        ind += 1\n",
    "\n",
    "print(df_ven_reloc)\n"
   ]
  },
  {
   "cell_type": "code",
   "execution_count": 215,
   "metadata": {},
   "outputs": [],
   "source": [
    "df_ven_reloc.to_csv('../data/hospital_resources/df_ven_reloc.csv')"
   ]
  },
  {
   "cell_type": "code",
   "execution_count": null,
   "metadata": {
    "scrolled": false
   },
   "outputs": [],
   "source": [
    "# # loop df_hospital to create line every\n",
    "# ind = 0\n",
    "# for orig_ind in range(67):\n",
    "#     for dest_ind in range(67):\n",
    "#         df_ven_reloc['orig_lat', ind] = df_hospital['Latitude'][orig_ind].copy()\n",
    "#         df_ven_reloc['orig_lon', ind] = df_hospital['Longitude'][orig_ind].copy()\n",
    "#         df_ven_reloc['orig_hosp', ind] = df_hospital['Inst'][orig_ind]  # from hospital\n",
    "        \n",
    "#         df_ven_reloc['dest_lat', ind] = df_hospital['Latitude'][dest_ind].copy()\n",
    "#         df_ven_reloc['dest_lon', ind] = df_hospital['Longitude'][dest_ind].copy()  \n",
    "#         df_ven_reloc['dest_hosp', ind] = df_hospital['Inst'][dest_ind]  # to hospital\n",
    "#         df_ven_reloc['num_ven_tansp', ind] = ven_aloc_solu[orig_ind, dest_ind]\n",
    "#         ind += 1\n",
    "#         print(ind)\n",
    "# # print(df_ven_reloc)    "
   ]
  },
  {
   "cell_type": "code",
   "execution_count": 216,
   "metadata": {
    "scrolled": true
   },
   "outputs": [
    {
     "data": {
      "application/vnd.plotly.v1+json": {
       "config": {
        "plotlyServerURL": "https://plot.ly"
       },
       "data": [
        {
         "hoverinfo": "text",
         "lat": [
          47.561196,
          46.193711,
          46.524749,
          47.376736,
          46.947455,
          47.389185,
          47.454285999999996,
          47.391652,
          46.440108,
          46.77032,
          46.522437,
          47.711995,
          47.263268,
          47.200103999999996,
          47.322205,
          46.801389,
          47.488122,
          47.058078,
          47.05812,
          46.197616,
          47.549937,
          47.351971999999996,
          46.86411,
          47.397628000000005,
          46.958811,
          46.947645,
          46.95279,
          46.996590999999995,
          47.147814000000004,
          47.049215000000004,
          46.680833,
          47.399167,
          47.507967,
          46.288114,
          47.34917,
          47.566617,
          47.353765,
          47.394227,
          47.366863,
          46.2351,
          46.761733,
          47.43119,
          47.194648,
          47.522028999999996,
          47.216521,
          46.228776,
          47.419685,
          47.016475,
          46.383439,
          47.277588,
          47.35256,
          47.251154,
          47.189221,
          46.005434,
          46.540309,
          47.296098,
          46.818815,
          46.883284,
          46.018508000000004,
          46.959937,
          47.445458,
          47.046166,
          46.186931,
          47.372031,
          47.431105,
          47.563624,
          47.141715999999995
         ],
         "locationmode": "USA-states",
         "lon": [
          7.5815410000000005,
          6.148855999999999,
          6.639659,
          8.549199,
          7.4248009999999995,
          8.059994999999999,
          8.278407000000001,
          8.042692,
          6.908222,
          6.64755,
          6.499426000000001,
          8.638826,
          8.589378,
          7.539125,
          8.802781,
          7.137283,
          7.731507000000001,
          8.298791,
          8.326092,
          9.026881,
          8.911494,
          8.576158,
          9.539952,
          9.579355,
          7.427403,
          7.426611,
          7.448237,
          6.942991,
          7.244622,
          7.620941999999999,
          7.842919,
          8.520622,
          8.727949,
          7.8841779999999995,
          8.598519,
          7.614161999999999,
          8.724082000000001,
          8.431632,
          8.497572,
          7.387328,
          7.632281,
          9.388303,
          8.518031,
          8.5329,
          7.793825,
          6.0674,
          7.058210000000001,
          8.658699,
          6.227493,
          8.330606,
          8.531581,
          8.696631,
          8.858947,
          8.94011,
          9.878888,
          7.9471240000000005,
          6.946231,
          8.637429,
          8.952941000000001,
          8.357545,
          9.411887,
          9.06511,
          6.142615,
          8.557767,
          9.387303999999999,
          7.58183,
          8.130885000000001
         ],
         "marker": {
          "color": "black",
          "size": 5
         },
         "mode": "markers",
         "text": [
          "UniversitÃ_tsspital Basel",
          "Les HÃÂ«pitaux Universitaires de GenÃÂ¬ve HUG",
          "CHUV Centre Hospitalier Universitaire Vaudois",
          "UniversitÃ_tsspital ZÃ_rich",
          "Insel Gruppe AG (universitÃ_r)",
          "Kantonsspital Aarau AG",
          "Kantonsspital Baden AG",
          "Hirslanden Klinik Aarau",
          "HÃÂ«pital Riviera-Chablais Vaud-Valais",
          "Etablissements Hospitaliers du Nord Vaudois (eHnv)",
          "EHC Ensemble hospitalier de la CÃÂ«te",
          "SpitÃ_ler Schaffhausen",
          "See-Spital",
          "Solothurner SpitÃ_ler AG",
          "GZO Spital Wetzikon",
          "HFR - HÃÂ«pital fribourgeois",
          "Kantonsspital Baselland",
          "Luzerner Kantonsspital",
          "Hirslanden Klinik St. Anna AG",
          "EOC Ente ospedaliero cantonale",
          "Spital Thurgau AG KantonsspitÃ_ler Frauenfeld & MÃ_nsterlingen",
          "Klinik Hirslanden AG",
          "Kantonsspital GraubÃ_nden",
          "Spitalregion Rheintal Werdenberg Sarganserland",
          "Lindenhof AG",
          "Insel Gruppe AG (nicht-universitÃ_r)",
          "Hirslanden Bern AG",
          "HÃÂ«pital NeuchÃÂ¢telois HNE",
          "Spitalzentrum Biel AG",
          "Regionalspital Emmental AG",
          "SpitÃ_ler Frutigen Meiringen Interlaken AG",
          "Stadtspital Waid",
          "Kantonsspital Winterthur",
          "Spital Wallis - Spitalzentrum Oberwallis (SZO)",
          "Spital Zollikerberg",
          "St. Claraspital",
          "Spital Uster",
          "Spital Limmattal",
          "Stadtspital Triemli",
          "HÃÂ«pital du Valais - Centre hospitalier du centre du Valais (CHCVs)",
          "Spital STS AG",
          "Kantonsspital St. Gallen",
          "Zuger Kantonsspital AG",
          "Spital BÃ_lach AG",
          "SRO Spital Region Oberaargau AG",
          "HÃÂ«pital de la Tour",
          "HÃÂ«pital du Jura",
          "Spital Schwyz",
          "Groupement Hospitalier de l'Ouest LÃÂ©manique (GHOL) SA",
          "Kreisspital fÃ_r das Freiamt",
          "Klinik Im Park",
          "Spital MÃ_nnedorf AG",
          "Spital Lachen",
          "Clinica Luganese Moncucco SA Sede Moncucco",
          "Spital Oberengadin",
          "Spital Zofingen AG",
          "HÃÂ«pital Intercantonal de la Broye (HIB)",
          "Kantonsspital Uri",
          "Cardiocentro Ticino (CCT)",
          "Kantonsspital Nidwalden",
          "Hirslanden Klinik Stephanshorn",
          "Kantonsspital Glarus",
          "Clinique de Carouge",
          "UniversitÃ_ts-Kinderspital ZÃ_rich das Spital der Eleonorenstiftung",
          "Ostschweizer Kinderspital",
          "UniversitÃ_ts-Kinderspital beider Basel (UKBB)",
          "Schweizer Paraplegiker-Zentrum Nottwil AG"
         ],
         "type": "scattergeo"
        },
        {
         "hoverinfo": "text",
         "lat": [
          47.561196,
          46.524749,
          47.376736,
          46.947455,
          47.389185,
          47.454285999999996,
          47.391652,
          46.440108,
          46.77032,
          46.522437,
          47.711995,
          47.263268,
          47.200103999999996,
          47.322205,
          46.801389,
          47.488122,
          47.058078,
          47.05812,
          47.549937,
          47.351971999999996,
          46.86411,
          47.397628000000005,
          46.958811,
          46.947645,
          46.95279,
          47.147814000000004,
          47.049215000000004,
          46.680833,
          47.399167,
          47.507967,
          47.34917,
          47.566617,
          47.394227,
          47.366863,
          46.761733,
          47.43119,
          47.194648,
          47.216521,
          46.228776,
          46.383439,
          47.189221,
          47.372031
         ],
         "locationmode": "USA-states",
         "lon": [
          7.5815410000000005,
          6.639659,
          8.549199,
          7.4248009999999995,
          8.059994999999999,
          8.278407000000001,
          8.042692,
          6.908222,
          6.64755,
          6.499426000000001,
          8.638826,
          8.589378,
          7.539125,
          8.802781,
          7.137283,
          7.731507000000001,
          8.298791,
          8.326092,
          8.911494,
          8.576158,
          9.539952,
          9.579355,
          7.427403,
          7.426611,
          7.448237,
          7.244622,
          7.620941999999999,
          7.842919,
          8.520622,
          8.727949,
          8.598519,
          7.614161999999999,
          8.431632,
          8.497572,
          7.632281,
          9.388303,
          8.518031,
          7.793825,
          6.0674,
          6.227493,
          8.858947,
          8.557767
         ],
         "marker": {
          "color": "green",
          "size": 5
         },
         "mode": "markers",
         "text": [
          "UniversitÃ_tsspital Basel",
          "CHUV Centre Hospitalier Universitaire Vaudois",
          "UniversitÃ_tsspital ZÃ_rich",
          "Insel Gruppe AG (universitÃ_r)",
          "Kantonsspital Aarau AG",
          "Kantonsspital Baden AG",
          "Hirslanden Klinik Aarau",
          "HÃÂ«pital Riviera-Chablais Vaud-Valais",
          "Etablissements Hospitaliers du Nord Vaudois (eHnv)",
          "EHC Ensemble hospitalier de la CÃÂ«te",
          "SpitÃ_ler Schaffhausen",
          "See-Spital",
          "Solothurner SpitÃ_ler AG",
          "GZO Spital Wetzikon",
          "HFR - HÃÂ«pital fribourgeois",
          "Kantonsspital Baselland",
          "Luzerner Kantonsspital",
          "Hirslanden Klinik St. Anna AG",
          "Spital Thurgau AG KantonsspitÃ_ler Frauenfeld & MÃ_nsterlingen",
          "Klinik Hirslanden AG",
          "Kantonsspital GraubÃ_nden",
          "Spitalregion Rheintal Werdenberg Sarganserland",
          "Lindenhof AG",
          "Insel Gruppe AG (nicht-universitÃ_r)",
          "Hirslanden Bern AG",
          "Spitalzentrum Biel AG",
          "Regionalspital Emmental AG",
          "SpitÃ_ler Frutigen Meiringen Interlaken AG",
          "Stadtspital Waid",
          "Kantonsspital Winterthur",
          "Spital Zollikerberg",
          "St. Claraspital",
          "Spital Limmattal",
          "Stadtspital Triemli",
          "Spital STS AG",
          "Kantonsspital St. Gallen",
          "Zuger Kantonsspital AG",
          "SRO Spital Region Oberaargau AG",
          "HÃÂ«pital de la Tour",
          "Groupement Hospitalier de l'Ouest LÃÂ©manique (GHOL) SA",
          "Spital Lachen",
          "UniversitÃ_ts-Kinderspital ZÃ_rich das Spital der Eleonorenstiftung"
         ],
         "type": "scattergeo"
        },
        {
         "hoverinfo": "text",
         "lat": [
          46.193711,
          47.376736,
          46.947455,
          47.389185,
          47.454285999999996,
          47.391652,
          47.263268,
          47.322205,
          46.197616,
          47.351971999999996,
          46.958811,
          46.947645,
          46.996590999999995,
          47.049215000000004,
          47.399167,
          47.507967,
          46.288114,
          47.394227,
          47.366863,
          46.2351,
          46.761733,
          46.228776,
          47.277588,
          46.005434,
          47.296098,
          46.018508000000004,
          46.186931
         ],
         "locationmode": "USA-states",
         "lon": [
          6.148855999999999,
          8.549199,
          7.4248009999999995,
          8.059994999999999,
          8.278407000000001,
          8.042692,
          8.589378,
          8.802781,
          9.026881,
          8.576158,
          7.427403,
          7.426611,
          6.942991,
          7.620941999999999,
          8.520622,
          8.727949,
          7.8841779999999995,
          8.431632,
          8.497572,
          7.387328,
          7.632281,
          6.0674,
          8.330606,
          8.94011,
          7.9471240000000005,
          8.952941000000001,
          6.142615
         ],
         "marker": {
          "color": "red",
          "size": 5
         },
         "mode": "markers",
         "text": [
          "Les HÃÂ«pitaux Universitaires de GenÃÂ¬ve HUG",
          "UniversitÃ_tsspital ZÃ_rich",
          "Insel Gruppe AG (universitÃ_r)",
          "Kantonsspital Aarau AG",
          "Kantonsspital Baden AG",
          "Hirslanden Klinik Aarau",
          "See-Spital",
          "GZO Spital Wetzikon",
          "EOC Ente ospedaliero cantonale",
          "Klinik Hirslanden AG",
          "Lindenhof AG",
          "Insel Gruppe AG (nicht-universitÃ_r)",
          "HÃÂ«pital NeuchÃÂ¢telois HNE",
          "Regionalspital Emmental AG",
          "Stadtspital Waid",
          "Kantonsspital Winterthur",
          "Spital Wallis - Spitalzentrum Oberwallis (SZO)",
          "Spital Limmattal",
          "Stadtspital Triemli",
          "HÃÂ«pital du Valais - Centre hospitalier du centre du Valais (CHCVs)",
          "Spital STS AG",
          "HÃÂ«pital de la Tour",
          "Kreisspital fÃ_r das Freiamt",
          "Clinica Luganese Moncucco SA Sede Moncucco",
          "Spital Zofingen AG",
          "Cardiocentro Ticino (CCT)",
          "Clinique de Carouge"
         ],
         "type": "scattergeo"
        },
        {
         "lat": [
          47.561196,
          47.389185
         ],
         "line": {
          "color": "blue",
          "width": 1.5
         },
         "locationmode": "USA-states",
         "lon": [
          7.5815410000000005,
          8.059994999999999
         ],
         "mode": "lines",
         "opacity": 0.6666666666666666,
         "type": "scattergeo"
        },
        {
         "lat": [
          47.561196,
          46.197616
         ],
         "line": {
          "color": "blue",
          "width": 1.5
         },
         "locationmode": "USA-states",
         "lon": [
          7.5815410000000005,
          9.026881
         ],
         "mode": "lines",
         "opacity": 0.6666666666666666,
         "type": "scattergeo"
        },
        {
         "lat": [
          46.524749,
          46.193711
         ],
         "line": {
          "color": "blue",
          "width": 1.5
         },
         "locationmode": "USA-states",
         "lon": [
          6.639659,
          6.148855999999999
         ],
         "mode": "lines",
         "opacity": 0.9523809523809523,
         "type": "scattergeo"
        },
        {
         "lat": [
          46.524749,
          46.2351
         ],
         "line": {
          "color": "blue",
          "width": 1.5
         },
         "locationmode": "USA-states",
         "lon": [
          6.639659,
          7.387328
         ],
         "mode": "lines",
         "opacity": 0.9523809523809523,
         "type": "scattergeo"
        },
        {
         "lat": [
          47.376736,
          46.193711
         ],
         "line": {
          "color": "blue",
          "width": 1.5
         },
         "locationmode": "USA-states",
         "lon": [
          8.549199,
          6.148855999999999
         ],
         "mode": "lines",
         "opacity": 1,
         "type": "scattergeo"
        },
        {
         "lat": [
          47.376736,
          46.197616
         ],
         "line": {
          "color": "blue",
          "width": 1.5
         },
         "locationmode": "USA-states",
         "lon": [
          8.549199,
          9.026881
         ],
         "mode": "lines",
         "opacity": 1,
         "type": "scattergeo"
        },
        {
         "lat": [
          46.947455,
          46.193711
         ],
         "line": {
          "color": "blue",
          "width": 1.5
         },
         "locationmode": "USA-states",
         "lon": [
          7.4248009999999995,
          6.148855999999999
         ],
         "mode": "lines",
         "opacity": 0.9047619047619048,
         "type": "scattergeo"
        },
        {
         "lat": [
          46.947455,
          46.197616
         ],
         "line": {
          "color": "blue",
          "width": 1.5
         },
         "locationmode": "USA-states",
         "lon": [
          7.4248009999999995,
          9.026881
         ],
         "mode": "lines",
         "opacity": 0.9047619047619048,
         "type": "scattergeo"
        },
        {
         "lat": [
          47.389185,
          46.197616
         ],
         "line": {
          "color": "blue",
          "width": 1.5
         },
         "locationmode": "USA-states",
         "lon": [
          8.059994999999999,
          9.026881
         ],
         "mode": "lines",
         "opacity": 0.5238095238095238,
         "type": "scattergeo"
        },
        {
         "lat": [
          47.454285999999996,
          47.394227
         ],
         "line": {
          "color": "blue",
          "width": 1.5
         },
         "locationmode": "USA-states",
         "lon": [
          8.278407000000001,
          8.431632
         ],
         "mode": "lines",
         "opacity": 0.23809523809523808,
         "type": "scattergeo"
        },
        {
         "lat": [
          47.391652,
          47.389185
         ],
         "line": {
          "color": "blue",
          "width": 1.5
         },
         "locationmode": "USA-states",
         "lon": [
          8.042692,
          8.059994999999999
         ],
         "mode": "lines",
         "opacity": 0.14285714285714285,
         "type": "scattergeo"
        },
        {
         "lat": [
          46.440108,
          46.193711
         ],
         "line": {
          "color": "blue",
          "width": 1.5
         },
         "locationmode": "USA-states",
         "lon": [
          6.908222,
          6.148855999999999
         ],
         "mode": "lines",
         "opacity": 0.3333333333333333,
         "type": "scattergeo"
        },
        {
         "lat": [
          46.440108,
          46.228776
         ],
         "line": {
          "color": "blue",
          "width": 1.5
         },
         "locationmode": "USA-states",
         "lon": [
          6.908222,
          6.0674
         ],
         "mode": "lines",
         "opacity": 0.3333333333333333,
         "type": "scattergeo"
        },
        {
         "lat": [
          46.77032,
          46.193711
         ],
         "line": {
          "color": "blue",
          "width": 1.5
         },
         "locationmode": "USA-states",
         "lon": [
          6.64755,
          6.148855999999999
         ],
         "mode": "lines",
         "opacity": 0.23809523809523808,
         "type": "scattergeo"
        },
        {
         "lat": [
          46.77032,
          46.228776
         ],
         "line": {
          "color": "blue",
          "width": 1.5
         },
         "locationmode": "USA-states",
         "lon": [
          6.64755,
          6.0674
         ],
         "mode": "lines",
         "opacity": 0.23809523809523808,
         "type": "scattergeo"
        },
        {
         "lat": [
          46.522437,
          46.193711
         ],
         "line": {
          "color": "blue",
          "width": 1.5
         },
         "locationmode": "USA-states",
         "lon": [
          6.499426000000001,
          6.148855999999999
         ],
         "mode": "lines",
         "opacity": 0.14285714285714285,
         "type": "scattergeo"
        },
        {
         "lat": [
          46.522437,
          46.186931
         ],
         "line": {
          "color": "blue",
          "width": 1.5
         },
         "locationmode": "USA-states",
         "lon": [
          6.499426000000001,
          6.142615
         ],
         "mode": "lines",
         "opacity": 0.09523809523809523,
         "type": "scattergeo"
        },
        {
         "lat": [
          47.711995,
          47.399167
         ],
         "line": {
          "color": "blue",
          "width": 1.5
         },
         "locationmode": "USA-states",
         "lon": [
          8.638826,
          8.520622
         ],
         "mode": "lines",
         "opacity": 0.14285714285714285,
         "type": "scattergeo"
        },
        {
         "lat": [
          47.711995,
          47.507967
         ],
         "line": {
          "color": "blue",
          "width": 1.5
         },
         "locationmode": "USA-states",
         "lon": [
          8.638826,
          8.727949
         ],
         "mode": "lines",
         "opacity": 0.14285714285714285,
         "type": "scattergeo"
        },
        {
         "lat": [
          47.263268,
          47.376736
         ],
         "line": {
          "color": "blue",
          "width": 1.5
         },
         "locationmode": "USA-states",
         "lon": [
          8.589378,
          8.549199
         ],
         "mode": "lines",
         "opacity": 0.23809523809523808,
         "type": "scattergeo"
        },
        {
         "lat": [
          47.263268,
          47.366863
         ],
         "line": {
          "color": "blue",
          "width": 1.5
         },
         "locationmode": "USA-states",
         "lon": [
          8.589378,
          8.497572
         ],
         "mode": "lines",
         "opacity": 0.23809523809523808,
         "type": "scattergeo"
        },
        {
         "lat": [
          47.200103999999996,
          46.947455
         ],
         "line": {
          "color": "blue",
          "width": 1.5
         },
         "locationmode": "USA-states",
         "lon": [
          7.539125,
          7.4248009999999995
         ],
         "mode": "lines",
         "opacity": 0.47619047619047616,
         "type": "scattergeo"
        },
        {
         "lat": [
          47.200103999999996,
          46.996590999999995
         ],
         "line": {
          "color": "blue",
          "width": 1.5
         },
         "locationmode": "USA-states",
         "lon": [
          7.539125,
          6.942991
         ],
         "mode": "lines",
         "opacity": 0.47619047619047616,
         "type": "scattergeo"
        },
        {
         "lat": [
          47.322205,
          47.351971999999996
         ],
         "line": {
          "color": "blue",
          "width": 1.5
         },
         "locationmode": "USA-states",
         "lon": [
          8.802781,
          8.576158
         ],
         "mode": "lines",
         "opacity": 0.14285714285714285,
         "type": "scattergeo"
        },
        {
         "lat": [
          46.801389,
          46.193711
         ],
         "line": {
          "color": "blue",
          "width": 1.5
         },
         "locationmode": "USA-states",
         "lon": [
          7.137283,
          6.148855999999999
         ],
         "mode": "lines",
         "opacity": 0.42857142857142855,
         "type": "scattergeo"
        },
        {
         "lat": [
          46.801389,
          46.2351
         ],
         "line": {
          "color": "blue",
          "width": 1.5
         },
         "locationmode": "USA-states",
         "lon": [
          7.137283,
          7.387328
         ],
         "mode": "lines",
         "opacity": 0.42857142857142855,
         "type": "scattergeo"
        },
        {
         "lat": [
          47.488122,
          47.454285999999996
         ],
         "line": {
          "color": "blue",
          "width": 1.5
         },
         "locationmode": "USA-states",
         "lon": [
          7.731507000000001,
          8.278407000000001
         ],
         "mode": "lines",
         "opacity": 0.47619047619047616,
         "type": "scattergeo"
        },
        {
         "lat": [
          47.488122,
          46.197616
         ],
         "line": {
          "color": "blue",
          "width": 1.5
         },
         "locationmode": "USA-states",
         "lon": [
          7.731507000000001,
          9.026881
         ],
         "mode": "lines",
         "opacity": 0.47619047619047616,
         "type": "scattergeo"
        },
        {
         "lat": [
          47.058078,
          46.193711
         ],
         "line": {
          "color": "blue",
          "width": 1.5
         },
         "locationmode": "USA-states",
         "lon": [
          8.298791,
          6.148855999999999
         ],
         "mode": "lines",
         "opacity": 0.7619047619047619,
         "type": "scattergeo"
        },
        {
         "lat": [
          47.058078,
          46.197616
         ],
         "line": {
          "color": "blue",
          "width": 1.5
         },
         "locationmode": "USA-states",
         "lon": [
          8.298791,
          9.026881
         ],
         "mode": "lines",
         "opacity": 0.7619047619047619,
         "type": "scattergeo"
        },
        {
         "lat": [
          47.05812,
          47.263268
         ],
         "line": {
          "color": "blue",
          "width": 1.5
         },
         "locationmode": "USA-states",
         "lon": [
          8.326092,
          8.589378
         ],
         "mode": "lines",
         "opacity": 0.19047619047619047,
         "type": "scattergeo"
        },
        {
         "lat": [
          47.05812,
          46.197616
         ],
         "line": {
          "color": "blue",
          "width": 1.5
         },
         "locationmode": "USA-states",
         "lon": [
          8.326092,
          9.026881
         ],
         "mode": "lines",
         "opacity": 0.19047619047619047,
         "type": "scattergeo"
        },
        {
         "lat": [
          47.549937,
          47.376736
         ],
         "line": {
          "color": "blue",
          "width": 1.5
         },
         "locationmode": "USA-states",
         "lon": [
          8.911494,
          8.549199
         ],
         "mode": "lines",
         "opacity": 0.5238095238095238,
         "type": "scattergeo"
        },
        {
         "lat": [
          47.549937,
          46.197616
         ],
         "line": {
          "color": "blue",
          "width": 1.5
         },
         "locationmode": "USA-states",
         "lon": [
          8.911494,
          9.026881
         ],
         "mode": "lines",
         "opacity": 0.5238095238095238,
         "type": "scattergeo"
        },
        {
         "lat": [
          47.351971999999996,
          47.376736
         ],
         "line": {
          "color": "blue",
          "width": 1.5
         },
         "locationmode": "USA-states",
         "lon": [
          8.576158,
          8.549199
         ],
         "mode": "lines",
         "opacity": 0.19047619047619047,
         "type": "scattergeo"
        },
        {
         "lat": [
          46.86411,
          46.197616
         ],
         "line": {
          "color": "blue",
          "width": 1.5
         },
         "locationmode": "USA-states",
         "lon": [
          9.539952,
          9.026881
         ],
         "mode": "lines",
         "opacity": 0.3333333333333333,
         "type": "scattergeo"
        },
        {
         "lat": [
          46.86411,
          46.018508000000004
         ],
         "line": {
          "color": "blue",
          "width": 1.5
         },
         "locationmode": "USA-states",
         "lon": [
          9.539952,
          8.952941000000001
         ],
         "mode": "lines",
         "opacity": 0.23809523809523808,
         "type": "scattergeo"
        },
        {
         "lat": [
          47.397628000000005,
          46.197616
         ],
         "line": {
          "color": "blue",
          "width": 1.5
         },
         "locationmode": "USA-states",
         "lon": [
          9.579355,
          9.026881
         ],
         "mode": "lines",
         "opacity": 0.2857142857142857,
         "type": "scattergeo"
        },
        {
         "lat": [
          47.397628000000005,
          47.507967
         ],
         "line": {
          "color": "blue",
          "width": 1.5
         },
         "locationmode": "USA-states",
         "lon": [
          9.579355,
          8.727949
         ],
         "mode": "lines",
         "opacity": 0.2857142857142857,
         "type": "scattergeo"
        },
        {
         "lat": [
          46.958811,
          46.947645
         ],
         "line": {
          "color": "blue",
          "width": 1.5
         },
         "locationmode": "USA-states",
         "lon": [
          7.427403,
          7.426611
         ],
         "mode": "lines",
         "opacity": 0.09523809523809523,
         "type": "scattergeo"
        },
        {
         "lat": [
          46.958811,
          46.288114
         ],
         "line": {
          "color": "blue",
          "width": 1.5
         },
         "locationmode": "USA-states",
         "lon": [
          7.427403,
          7.8841779999999995
         ],
         "mode": "lines",
         "opacity": 0.38095238095238093,
         "type": "scattergeo"
        },
        {
         "lat": [
          46.947645,
          46.947455
         ],
         "line": {
          "color": "blue",
          "width": 1.5
         },
         "locationmode": "USA-states",
         "lon": [
          7.426611,
          7.4248009999999995
         ],
         "mode": "lines",
         "opacity": 0.23809523809523808,
         "type": "scattergeo"
        },
        {
         "lat": [
          46.95279,
          46.947455
         ],
         "line": {
          "color": "blue",
          "width": 1.5
         },
         "locationmode": "USA-states",
         "lon": [
          7.448237,
          7.4248009999999995
         ],
         "mode": "lines",
         "opacity": 0.23809523809523808,
         "type": "scattergeo"
        },
        {
         "lat": [
          47.147814000000004,
          46.996590999999995
         ],
         "line": {
          "color": "blue",
          "width": 1.5
         },
         "locationmode": "USA-states",
         "lon": [
          7.244622,
          6.942991
         ],
         "mode": "lines",
         "opacity": 0.19047619047619047,
         "type": "scattergeo"
        },
        {
         "lat": [
          47.049215000000004,
          46.947455
         ],
         "line": {
          "color": "blue",
          "width": 1.5
         },
         "locationmode": "USA-states",
         "lon": [
          7.620941999999999,
          7.4248009999999995
         ],
         "mode": "lines",
         "opacity": 0.14285714285714285,
         "type": "scattergeo"
        },
        {
         "lat": [
          47.049215000000004,
          46.958811
         ],
         "line": {
          "color": "blue",
          "width": 1.5
         },
         "locationmode": "USA-states",
         "lon": [
          7.620941999999999,
          7.427403
         ],
         "mode": "lines",
         "opacity": 0.14285714285714285,
         "type": "scattergeo"
        },
        {
         "lat": [
          46.680833,
          46.761733
         ],
         "line": {
          "color": "blue",
          "width": 1.5
         },
         "locationmode": "USA-states",
         "lon": [
          7.842919,
          7.632281
         ],
         "mode": "lines",
         "opacity": 0.09523809523809523,
         "type": "scattergeo"
        },
        {
         "lat": [
          47.399167,
          47.376736
         ],
         "line": {
          "color": "blue",
          "width": 1.5
         },
         "locationmode": "USA-states",
         "lon": [
          8.520622,
          8.549199
         ],
         "mode": "lines",
         "opacity": 0.09523809523809523,
         "type": "scattergeo"
        },
        {
         "lat": [
          47.507967,
          47.376736
         ],
         "line": {
          "color": "blue",
          "width": 1.5
         },
         "locationmode": "USA-states",
         "lon": [
          8.727949,
          8.549199
         ],
         "mode": "lines",
         "opacity": 0.38095238095238093,
         "type": "scattergeo"
        },
        {
         "lat": [
          47.34917,
          47.351971999999996
         ],
         "line": {
          "color": "blue",
          "width": 1.5
         },
         "locationmode": "USA-states",
         "lon": [
          8.598519,
          8.576158
         ],
         "mode": "lines",
         "opacity": 0.047619047619047616,
         "type": "scattergeo"
        },
        {
         "lat": [
          47.566617,
          47.389185
         ],
         "line": {
          "color": "blue",
          "width": 1.5
         },
         "locationmode": "USA-states",
         "lon": [
          7.614161999999999,
          8.059994999999999
         ],
         "mode": "lines",
         "opacity": 0.23809523809523808,
         "type": "scattergeo"
        },
        {
         "lat": [
          47.566617,
          47.391652
         ],
         "line": {
          "color": "blue",
          "width": 1.5
         },
         "locationmode": "USA-states",
         "lon": [
          7.614161999999999,
          8.042692
         ],
         "mode": "lines",
         "opacity": 0.23809523809523808,
         "type": "scattergeo"
        },
        {
         "lat": [
          47.394227,
          47.366863
         ],
         "line": {
          "color": "blue",
          "width": 1.5
         },
         "locationmode": "USA-states",
         "lon": [
          8.431632,
          8.497572
         ],
         "mode": "lines",
         "opacity": 0.19047619047619047,
         "type": "scattergeo"
        },
        {
         "lat": [
          47.366863,
          47.376736
         ],
         "line": {
          "color": "blue",
          "width": 1.5
         },
         "locationmode": "USA-states",
         "lon": [
          8.497572,
          8.549199
         ],
         "mode": "lines",
         "opacity": 0.38095238095238093,
         "type": "scattergeo"
        },
        {
         "lat": [
          46.761733,
          46.288114
         ],
         "line": {
          "color": "blue",
          "width": 1.5
         },
         "locationmode": "USA-states",
         "lon": [
          7.632281,
          7.8841779999999995
         ],
         "mode": "lines",
         "opacity": 0.23809523809523808,
         "type": "scattergeo"
        },
        {
         "lat": [
          47.43119,
          46.197616
         ],
         "line": {
          "color": "blue",
          "width": 1.5
         },
         "locationmode": "USA-states",
         "lon": [
          9.388303,
          9.026881
         ],
         "mode": "lines",
         "opacity": 0.8095238095238095,
         "type": "scattergeo"
        },
        {
         "lat": [
          47.43119,
          46.005434
         ],
         "line": {
          "color": "blue",
          "width": 1.5
         },
         "locationmode": "USA-states",
         "lon": [
          9.388303,
          8.94011
         ],
         "mode": "lines",
         "opacity": 0.8095238095238095,
         "type": "scattergeo"
        },
        {
         "lat": [
          47.194648,
          47.376736
         ],
         "line": {
          "color": "blue",
          "width": 1.5
         },
         "locationmode": "USA-states",
         "lon": [
          8.518031,
          8.549199
         ],
         "mode": "lines",
         "opacity": 0.14285714285714285,
         "type": "scattergeo"
        },
        {
         "lat": [
          47.194648,
          47.263268
         ],
         "line": {
          "color": "blue",
          "width": 1.5
         },
         "locationmode": "USA-states",
         "lon": [
          8.518031,
          8.589378
         ],
         "mode": "lines",
         "opacity": 0.14285714285714285,
         "type": "scattergeo"
        },
        {
         "lat": [
          47.194648,
          47.277588
         ],
         "line": {
          "color": "blue",
          "width": 1.5
         },
         "locationmode": "USA-states",
         "lon": [
          8.518031,
          8.330606
         ],
         "mode": "lines",
         "opacity": 0.047619047619047616,
         "type": "scattergeo"
        },
        {
         "lat": [
          47.216521,
          47.049215000000004
         ],
         "line": {
          "color": "blue",
          "width": 1.5
         },
         "locationmode": "USA-states",
         "lon": [
          7.793825,
          7.620941999999999
         ],
         "mode": "lines",
         "opacity": 0.09523809523809523,
         "type": "scattergeo"
        },
        {
         "lat": [
          47.216521,
          47.296098
         ],
         "line": {
          "color": "blue",
          "width": 1.5
         },
         "locationmode": "USA-states",
         "lon": [
          7.793825,
          7.9471240000000005
         ],
         "mode": "lines",
         "opacity": 0.09523809523809523,
         "type": "scattergeo"
        },
        {
         "lat": [
          46.228776,
          46.193711
         ],
         "line": {
          "color": "blue",
          "width": 1.5
         },
         "locationmode": "USA-states",
         "lon": [
          6.0674,
          6.148855999999999
         ],
         "mode": "lines",
         "opacity": 0.14285714285714285,
         "type": "scattergeo"
        },
        {
         "lat": [
          46.383439,
          46.193711
         ],
         "line": {
          "color": "blue",
          "width": 1.5
         },
         "locationmode": "USA-states",
         "lon": [
          6.227493,
          6.148855999999999
         ],
         "mode": "lines",
         "opacity": 0.14285714285714285,
         "type": "scattergeo"
        },
        {
         "lat": [
          46.383439,
          46.228776
         ],
         "line": {
          "color": "blue",
          "width": 1.5
         },
         "locationmode": "USA-states",
         "lon": [
          6.227493,
          6.0674
         ],
         "mode": "lines",
         "opacity": 0.14285714285714285,
         "type": "scattergeo"
        },
        {
         "lat": [
          47.189221,
          47.263268
         ],
         "line": {
          "color": "blue",
          "width": 1.5
         },
         "locationmode": "USA-states",
         "lon": [
          8.858947,
          8.589378
         ],
         "mode": "lines",
         "opacity": 0.09523809523809523,
         "type": "scattergeo"
        },
        {
         "lat": [
          47.189221,
          47.322205
         ],
         "line": {
          "color": "blue",
          "width": 1.5
         },
         "locationmode": "USA-states",
         "lon": [
          8.858947,
          8.802781
         ],
         "mode": "lines",
         "opacity": 0.09523809523809523,
         "type": "scattergeo"
        },
        {
         "lat": [
          47.372031,
          47.376736
         ],
         "line": {
          "color": "blue",
          "width": 1.5
         },
         "locationmode": "USA-states",
         "lon": [
          8.557767,
          8.549199
         ],
         "mode": "lines",
         "opacity": 0.047619047619047616,
         "type": "scattergeo"
        }
       ],
       "layout": {
        "geo": {
         "countrycolor": "rgb(204, 204, 204)",
         "landcolor": "rgb(243, 243, 243)",
         "projection": {
          "type": "stereographic"
         },
         "resolution": 50,
         "scope": "europe",
         "showlakes": true
        },
        "showlegend": false,
        "template": {
         "data": {
          "bar": [
           {
            "error_x": {
             "color": "#2a3f5f"
            },
            "error_y": {
             "color": "#2a3f5f"
            },
            "marker": {
             "line": {
              "color": "#E5ECF6",
              "width": 0.5
             }
            },
            "type": "bar"
           }
          ],
          "barpolar": [
           {
            "marker": {
             "line": {
              "color": "#E5ECF6",
              "width": 0.5
             }
            },
            "type": "barpolar"
           }
          ],
          "carpet": [
           {
            "aaxis": {
             "endlinecolor": "#2a3f5f",
             "gridcolor": "white",
             "linecolor": "white",
             "minorgridcolor": "white",
             "startlinecolor": "#2a3f5f"
            },
            "baxis": {
             "endlinecolor": "#2a3f5f",
             "gridcolor": "white",
             "linecolor": "white",
             "minorgridcolor": "white",
             "startlinecolor": "#2a3f5f"
            },
            "type": "carpet"
           }
          ],
          "choropleth": [
           {
            "colorbar": {
             "outlinewidth": 0,
             "ticks": ""
            },
            "type": "choropleth"
           }
          ],
          "contour": [
           {
            "colorbar": {
             "outlinewidth": 0,
             "ticks": ""
            },
            "colorscale": [
             [
              0,
              "#0d0887"
             ],
             [
              0.1111111111111111,
              "#46039f"
             ],
             [
              0.2222222222222222,
              "#7201a8"
             ],
             [
              0.3333333333333333,
              "#9c179e"
             ],
             [
              0.4444444444444444,
              "#bd3786"
             ],
             [
              0.5555555555555556,
              "#d8576b"
             ],
             [
              0.6666666666666666,
              "#ed7953"
             ],
             [
              0.7777777777777778,
              "#fb9f3a"
             ],
             [
              0.8888888888888888,
              "#fdca26"
             ],
             [
              1,
              "#f0f921"
             ]
            ],
            "type": "contour"
           }
          ],
          "contourcarpet": [
           {
            "colorbar": {
             "outlinewidth": 0,
             "ticks": ""
            },
            "type": "contourcarpet"
           }
          ],
          "heatmap": [
           {
            "colorbar": {
             "outlinewidth": 0,
             "ticks": ""
            },
            "colorscale": [
             [
              0,
              "#0d0887"
             ],
             [
              0.1111111111111111,
              "#46039f"
             ],
             [
              0.2222222222222222,
              "#7201a8"
             ],
             [
              0.3333333333333333,
              "#9c179e"
             ],
             [
              0.4444444444444444,
              "#bd3786"
             ],
             [
              0.5555555555555556,
              "#d8576b"
             ],
             [
              0.6666666666666666,
              "#ed7953"
             ],
             [
              0.7777777777777778,
              "#fb9f3a"
             ],
             [
              0.8888888888888888,
              "#fdca26"
             ],
             [
              1,
              "#f0f921"
             ]
            ],
            "type": "heatmap"
           }
          ],
          "heatmapgl": [
           {
            "colorbar": {
             "outlinewidth": 0,
             "ticks": ""
            },
            "colorscale": [
             [
              0,
              "#0d0887"
             ],
             [
              0.1111111111111111,
              "#46039f"
             ],
             [
              0.2222222222222222,
              "#7201a8"
             ],
             [
              0.3333333333333333,
              "#9c179e"
             ],
             [
              0.4444444444444444,
              "#bd3786"
             ],
             [
              0.5555555555555556,
              "#d8576b"
             ],
             [
              0.6666666666666666,
              "#ed7953"
             ],
             [
              0.7777777777777778,
              "#fb9f3a"
             ],
             [
              0.8888888888888888,
              "#fdca26"
             ],
             [
              1,
              "#f0f921"
             ]
            ],
            "type": "heatmapgl"
           }
          ],
          "histogram": [
           {
            "marker": {
             "colorbar": {
              "outlinewidth": 0,
              "ticks": ""
             }
            },
            "type": "histogram"
           }
          ],
          "histogram2d": [
           {
            "colorbar": {
             "outlinewidth": 0,
             "ticks": ""
            },
            "colorscale": [
             [
              0,
              "#0d0887"
             ],
             [
              0.1111111111111111,
              "#46039f"
             ],
             [
              0.2222222222222222,
              "#7201a8"
             ],
             [
              0.3333333333333333,
              "#9c179e"
             ],
             [
              0.4444444444444444,
              "#bd3786"
             ],
             [
              0.5555555555555556,
              "#d8576b"
             ],
             [
              0.6666666666666666,
              "#ed7953"
             ],
             [
              0.7777777777777778,
              "#fb9f3a"
             ],
             [
              0.8888888888888888,
              "#fdca26"
             ],
             [
              1,
              "#f0f921"
             ]
            ],
            "type": "histogram2d"
           }
          ],
          "histogram2dcontour": [
           {
            "colorbar": {
             "outlinewidth": 0,
             "ticks": ""
            },
            "colorscale": [
             [
              0,
              "#0d0887"
             ],
             [
              0.1111111111111111,
              "#46039f"
             ],
             [
              0.2222222222222222,
              "#7201a8"
             ],
             [
              0.3333333333333333,
              "#9c179e"
             ],
             [
              0.4444444444444444,
              "#bd3786"
             ],
             [
              0.5555555555555556,
              "#d8576b"
             ],
             [
              0.6666666666666666,
              "#ed7953"
             ],
             [
              0.7777777777777778,
              "#fb9f3a"
             ],
             [
              0.8888888888888888,
              "#fdca26"
             ],
             [
              1,
              "#f0f921"
             ]
            ],
            "type": "histogram2dcontour"
           }
          ],
          "mesh3d": [
           {
            "colorbar": {
             "outlinewidth": 0,
             "ticks": ""
            },
            "type": "mesh3d"
           }
          ],
          "parcoords": [
           {
            "line": {
             "colorbar": {
              "outlinewidth": 0,
              "ticks": ""
             }
            },
            "type": "parcoords"
           }
          ],
          "pie": [
           {
            "automargin": true,
            "type": "pie"
           }
          ],
          "scatter": [
           {
            "marker": {
             "colorbar": {
              "outlinewidth": 0,
              "ticks": ""
             }
            },
            "type": "scatter"
           }
          ],
          "scatter3d": [
           {
            "line": {
             "colorbar": {
              "outlinewidth": 0,
              "ticks": ""
             }
            },
            "marker": {
             "colorbar": {
              "outlinewidth": 0,
              "ticks": ""
             }
            },
            "type": "scatter3d"
           }
          ],
          "scattercarpet": [
           {
            "marker": {
             "colorbar": {
              "outlinewidth": 0,
              "ticks": ""
             }
            },
            "type": "scattercarpet"
           }
          ],
          "scattergeo": [
           {
            "marker": {
             "colorbar": {
              "outlinewidth": 0,
              "ticks": ""
             }
            },
            "type": "scattergeo"
           }
          ],
          "scattergl": [
           {
            "marker": {
             "colorbar": {
              "outlinewidth": 0,
              "ticks": ""
             }
            },
            "type": "scattergl"
           }
          ],
          "scattermapbox": [
           {
            "marker": {
             "colorbar": {
              "outlinewidth": 0,
              "ticks": ""
             }
            },
            "type": "scattermapbox"
           }
          ],
          "scatterpolar": [
           {
            "marker": {
             "colorbar": {
              "outlinewidth": 0,
              "ticks": ""
             }
            },
            "type": "scatterpolar"
           }
          ],
          "scatterpolargl": [
           {
            "marker": {
             "colorbar": {
              "outlinewidth": 0,
              "ticks": ""
             }
            },
            "type": "scatterpolargl"
           }
          ],
          "scatterternary": [
           {
            "marker": {
             "colorbar": {
              "outlinewidth": 0,
              "ticks": ""
             }
            },
            "type": "scatterternary"
           }
          ],
          "surface": [
           {
            "colorbar": {
             "outlinewidth": 0,
             "ticks": ""
            },
            "colorscale": [
             [
              0,
              "#0d0887"
             ],
             [
              0.1111111111111111,
              "#46039f"
             ],
             [
              0.2222222222222222,
              "#7201a8"
             ],
             [
              0.3333333333333333,
              "#9c179e"
             ],
             [
              0.4444444444444444,
              "#bd3786"
             ],
             [
              0.5555555555555556,
              "#d8576b"
             ],
             [
              0.6666666666666666,
              "#ed7953"
             ],
             [
              0.7777777777777778,
              "#fb9f3a"
             ],
             [
              0.8888888888888888,
              "#fdca26"
             ],
             [
              1,
              "#f0f921"
             ]
            ],
            "type": "surface"
           }
          ],
          "table": [
           {
            "cells": {
             "fill": {
              "color": "#EBF0F8"
             },
             "line": {
              "color": "white"
             }
            },
            "header": {
             "fill": {
              "color": "#C8D4E3"
             },
             "line": {
              "color": "white"
             }
            },
            "type": "table"
           }
          ]
         },
         "layout": {
          "annotationdefaults": {
           "arrowcolor": "#2a3f5f",
           "arrowhead": 0,
           "arrowwidth": 1
          },
          "coloraxis": {
           "colorbar": {
            "outlinewidth": 0,
            "ticks": ""
           }
          },
          "colorscale": {
           "diverging": [
            [
             0,
             "#8e0152"
            ],
            [
             0.1,
             "#c51b7d"
            ],
            [
             0.2,
             "#de77ae"
            ],
            [
             0.3,
             "#f1b6da"
            ],
            [
             0.4,
             "#fde0ef"
            ],
            [
             0.5,
             "#f7f7f7"
            ],
            [
             0.6,
             "#e6f5d0"
            ],
            [
             0.7,
             "#b8e186"
            ],
            [
             0.8,
             "#7fbc41"
            ],
            [
             0.9,
             "#4d9221"
            ],
            [
             1,
             "#276419"
            ]
           ],
           "sequential": [
            [
             0,
             "#0d0887"
            ],
            [
             0.1111111111111111,
             "#46039f"
            ],
            [
             0.2222222222222222,
             "#7201a8"
            ],
            [
             0.3333333333333333,
             "#9c179e"
            ],
            [
             0.4444444444444444,
             "#bd3786"
            ],
            [
             0.5555555555555556,
             "#d8576b"
            ],
            [
             0.6666666666666666,
             "#ed7953"
            ],
            [
             0.7777777777777778,
             "#fb9f3a"
            ],
            [
             0.8888888888888888,
             "#fdca26"
            ],
            [
             1,
             "#f0f921"
            ]
           ],
           "sequentialminus": [
            [
             0,
             "#0d0887"
            ],
            [
             0.1111111111111111,
             "#46039f"
            ],
            [
             0.2222222222222222,
             "#7201a8"
            ],
            [
             0.3333333333333333,
             "#9c179e"
            ],
            [
             0.4444444444444444,
             "#bd3786"
            ],
            [
             0.5555555555555556,
             "#d8576b"
            ],
            [
             0.6666666666666666,
             "#ed7953"
            ],
            [
             0.7777777777777778,
             "#fb9f3a"
            ],
            [
             0.8888888888888888,
             "#fdca26"
            ],
            [
             1,
             "#f0f921"
            ]
           ]
          },
          "colorway": [
           "#636efa",
           "#EF553B",
           "#00cc96",
           "#ab63fa",
           "#FFA15A",
           "#19d3f3",
           "#FF6692",
           "#B6E880",
           "#FF97FF",
           "#FECB52"
          ],
          "font": {
           "color": "#2a3f5f"
          },
          "geo": {
           "bgcolor": "white",
           "lakecolor": "white",
           "landcolor": "#E5ECF6",
           "showlakes": true,
           "showland": true,
           "subunitcolor": "white"
          },
          "hoverlabel": {
           "align": "left"
          },
          "hovermode": "closest",
          "mapbox": {
           "style": "light"
          },
          "paper_bgcolor": "white",
          "plot_bgcolor": "#E5ECF6",
          "polar": {
           "angularaxis": {
            "gridcolor": "white",
            "linecolor": "white",
            "ticks": ""
           },
           "bgcolor": "#E5ECF6",
           "radialaxis": {
            "gridcolor": "white",
            "linecolor": "white",
            "ticks": ""
           }
          },
          "scene": {
           "xaxis": {
            "backgroundcolor": "#E5ECF6",
            "gridcolor": "white",
            "gridwidth": 2,
            "linecolor": "white",
            "showbackground": true,
            "ticks": "",
            "zerolinecolor": "white"
           },
           "yaxis": {
            "backgroundcolor": "#E5ECF6",
            "gridcolor": "white",
            "gridwidth": 2,
            "linecolor": "white",
            "showbackground": true,
            "ticks": "",
            "zerolinecolor": "white"
           },
           "zaxis": {
            "backgroundcolor": "#E5ECF6",
            "gridcolor": "white",
            "gridwidth": 2,
            "linecolor": "white",
            "showbackground": true,
            "ticks": "",
            "zerolinecolor": "white"
           }
          },
          "shapedefaults": {
           "line": {
            "color": "#2a3f5f"
           }
          },
          "ternary": {
           "aaxis": {
            "gridcolor": "white",
            "linecolor": "white",
            "ticks": ""
           },
           "baxis": {
            "gridcolor": "white",
            "linecolor": "white",
            "ticks": ""
           },
           "bgcolor": "#E5ECF6",
           "caxis": {
            "gridcolor": "white",
            "linecolor": "white",
            "ticks": ""
           }
          },
          "title": {
           "x": 0.05
          },
          "xaxis": {
           "automargin": true,
           "gridcolor": "white",
           "linecolor": "white",
           "ticks": "",
           "title": {
            "standoff": 15
           },
           "zerolinecolor": "white",
           "zerolinewidth": 2
          },
          "yaxis": {
           "automargin": true,
           "gridcolor": "white",
           "linecolor": "white",
           "ticks": "",
           "title": {
            "standoff": 15
           },
           "zerolinecolor": "white",
           "zerolinewidth": 2
          }
         }
        },
        "title": {
         "text": "Ventilator reallocation results"
        }
       }
      },
      "text/html": [
       "<div>\n",
       "        \n",
       "        \n",
       "            <div id=\"123b0d37-8b85-4c0b-bdef-328fe7586fa3\" class=\"plotly-graph-div\" style=\"height:525px; width:100%;\"></div>\n",
       "            <script type=\"text/javascript\">\n",
       "                require([\"plotly\"], function(Plotly) {\n",
       "                    window.PLOTLYENV=window.PLOTLYENV || {};\n",
       "                    \n",
       "                if (document.getElementById(\"123b0d37-8b85-4c0b-bdef-328fe7586fa3\")) {\n",
       "                    Plotly.newPlot(\n",
       "                        '123b0d37-8b85-4c0b-bdef-328fe7586fa3',\n",
       "                        [{\"hoverinfo\": \"text\", \"lat\": [47.561196, 46.193711, 46.524749, 47.376736, 46.947455, 47.389185, 47.454285999999996, 47.391652, 46.440108, 46.77032, 46.522437, 47.711995, 47.263268, 47.200103999999996, 47.322205, 46.801389, 47.488122, 47.058078, 47.05812, 46.197616, 47.549937, 47.351971999999996, 46.86411, 47.397628000000005, 46.958811, 46.947645, 46.95279, 46.996590999999995, 47.147814000000004, 47.049215000000004, 46.680833, 47.399167, 47.507967, 46.288114, 47.34917, 47.566617, 47.353765, 47.394227, 47.366863, 46.2351, 46.761733, 47.43119, 47.194648, 47.522028999999996, 47.216521, 46.228776, 47.419685, 47.016475, 46.383439, 47.277588, 47.35256, 47.251154, 47.189221, 46.005434, 46.540309, 47.296098, 46.818815, 46.883284, 46.018508000000004, 46.959937, 47.445458, 47.046166, 46.186931, 47.372031, 47.431105, 47.563624, 47.141715999999995], \"locationmode\": \"USA-states\", \"lon\": [7.5815410000000005, 6.148855999999999, 6.639659, 8.549199, 7.4248009999999995, 8.059994999999999, 8.278407000000001, 8.042692, 6.908222, 6.64755, 6.499426000000001, 8.638826, 8.589378, 7.539125, 8.802781, 7.137283, 7.731507000000001, 8.298791, 8.326092, 9.026881, 8.911494, 8.576158, 9.539952, 9.579355, 7.427403, 7.426611, 7.448237, 6.942991, 7.244622, 7.620941999999999, 7.842919, 8.520622, 8.727949, 7.8841779999999995, 8.598519, 7.614161999999999, 8.724082000000001, 8.431632, 8.497572, 7.387328, 7.632281, 9.388303, 8.518031, 8.5329, 7.793825, 6.0674, 7.058210000000001, 8.658699, 6.227493, 8.330606, 8.531581, 8.696631, 8.858947, 8.94011, 9.878888, 7.9471240000000005, 6.946231, 8.637429, 8.952941000000001, 8.357545, 9.411887, 9.06511, 6.142615, 8.557767, 9.387303999999999, 7.58183, 8.130885000000001], \"marker\": {\"color\": \"black\", \"size\": 5}, \"mode\": \"markers\", \"text\": [\"Universit\\u00c3\\u008c_tsspital Basel\", \"Les H\\u00c3\\u008c\\u00c2\\u00abpitaux Universitaires de Gen\\u00c3\\u008c\\u00c2\\u00acve HUG\", \"CHUV Centre Hospitalier Universitaire Vaudois\", \"Universit\\u00c3\\u008c_tsspital Z\\u00c3\\u008c_rich\", \"Insel Gruppe AG (universit\\u00c3\\u008c_r)\", \"Kantonsspital Aarau AG\", \"Kantonsspital Baden AG\", \"Hirslanden Klinik Aarau\", \"H\\u00c3\\u008c\\u00c2\\u00abpital Riviera-Chablais Vaud-Valais\", \"Etablissements Hospitaliers du Nord Vaudois (eHnv)\", \"EHC Ensemble hospitalier de la C\\u00c3\\u008c\\u00c2\\u00abte\", \"Spit\\u00c3\\u008c_ler Schaffhausen\", \"See-Spital\", \"Solothurner Spit\\u00c3\\u008c_ler AG\", \"GZO Spital Wetzikon\", \"HFR - H\\u00c3\\u008c\\u00c2\\u00abpital fribourgeois\", \"Kantonsspital Baselland\", \"Luzerner Kantonsspital\", \"Hirslanden Klinik St. Anna AG\", \"EOC Ente ospedaliero cantonale\", \"Spital Thurgau AG Kantonsspit\\u00c3\\u008c_ler Frauenfeld & M\\u00c3\\u008c_nsterlingen\", \"Klinik Hirslanden AG\", \"Kantonsspital Graub\\u00c3\\u008c_nden\", \"Spitalregion Rheintal Werdenberg Sarganserland\", \"Lindenhof AG\", \"Insel Gruppe AG (nicht-universit\\u00c3\\u008c_r)\", \"Hirslanden Bern AG\", \"H\\u00c3\\u008c\\u00c2\\u00abpital Neuch\\u00c3\\u008c\\u00c2\\u00a2telois HNE\", \"Spitalzentrum Biel AG\", \"Regionalspital Emmental AG\", \"Spit\\u00c3\\u008c_ler Frutigen Meiringen Interlaken AG\", \"Stadtspital Waid\", \"Kantonsspital Winterthur\", \"Spital Wallis - Spitalzentrum Oberwallis (SZO)\", \"Spital Zollikerberg\", \"St. Claraspital\", \"Spital Uster\", \"Spital Limmattal\", \"Stadtspital Triemli\", \"H\\u00c3\\u008c\\u00c2\\u00abpital du Valais - Centre hospitalier du centre du Valais (CHCVs)\", \"Spital STS AG\", \"Kantonsspital St. Gallen\", \"Zuger Kantonsspital AG\", \"Spital B\\u00c3\\u008c_lach AG\", \"SRO Spital Region Oberaargau AG\", \"H\\u00c3\\u008c\\u00c2\\u00abpital de la Tour\", \"H\\u00c3\\u008c\\u00c2\\u00abpital du Jura\", \"Spital Schwyz\", \"Groupement Hospitalier de l'Ouest L\\u00c3\\u008c\\u00c2\\u00a9manique (GHOL) SA\", \"Kreisspital f\\u00c3\\u008c_r das Freiamt\", \"Klinik Im Park\", \"Spital M\\u00c3\\u008c_nnedorf AG\", \"Spital Lachen\", \"Clinica Luganese Moncucco SA Sede Moncucco\", \"Spital Oberengadin\", \"Spital Zofingen AG\", \"H\\u00c3\\u008c\\u00c2\\u00abpital Intercantonal de la Broye (HIB)\", \"Kantonsspital Uri\", \"Cardiocentro Ticino (CCT)\", \"Kantonsspital Nidwalden\", \"Hirslanden Klinik Stephanshorn\", \"Kantonsspital Glarus\", \"Clinique de Carouge\", \"Universit\\u00c3\\u008c_ts-Kinderspital Z\\u00c3\\u008c_rich das Spital der Eleonorenstiftung\", \"Ostschweizer Kinderspital\", \"Universit\\u00c3\\u008c_ts-Kinderspital beider Basel (UKBB)\", \"Schweizer Paraplegiker-Zentrum Nottwil AG\"], \"type\": \"scattergeo\"}, {\"hoverinfo\": \"text\", \"lat\": [47.561196, 46.524749, 47.376736, 46.947455, 47.389185, 47.454285999999996, 47.391652, 46.440108, 46.77032, 46.522437, 47.711995, 47.263268, 47.200103999999996, 47.322205, 46.801389, 47.488122, 47.058078, 47.05812, 47.549937, 47.351971999999996, 46.86411, 47.397628000000005, 46.958811, 46.947645, 46.95279, 47.147814000000004, 47.049215000000004, 46.680833, 47.399167, 47.507967, 47.34917, 47.566617, 47.394227, 47.366863, 46.761733, 47.43119, 47.194648, 47.216521, 46.228776, 46.383439, 47.189221, 47.372031], \"locationmode\": \"USA-states\", \"lon\": [7.5815410000000005, 6.639659, 8.549199, 7.4248009999999995, 8.059994999999999, 8.278407000000001, 8.042692, 6.908222, 6.64755, 6.499426000000001, 8.638826, 8.589378, 7.539125, 8.802781, 7.137283, 7.731507000000001, 8.298791, 8.326092, 8.911494, 8.576158, 9.539952, 9.579355, 7.427403, 7.426611, 7.448237, 7.244622, 7.620941999999999, 7.842919, 8.520622, 8.727949, 8.598519, 7.614161999999999, 8.431632, 8.497572, 7.632281, 9.388303, 8.518031, 7.793825, 6.0674, 6.227493, 8.858947, 8.557767], \"marker\": {\"color\": \"green\", \"size\": 5}, \"mode\": \"markers\", \"text\": [\"Universit\\u00c3\\u008c_tsspital Basel\", \"CHUV Centre Hospitalier Universitaire Vaudois\", \"Universit\\u00c3\\u008c_tsspital Z\\u00c3\\u008c_rich\", \"Insel Gruppe AG (universit\\u00c3\\u008c_r)\", \"Kantonsspital Aarau AG\", \"Kantonsspital Baden AG\", \"Hirslanden Klinik Aarau\", \"H\\u00c3\\u008c\\u00c2\\u00abpital Riviera-Chablais Vaud-Valais\", \"Etablissements Hospitaliers du Nord Vaudois (eHnv)\", \"EHC Ensemble hospitalier de la C\\u00c3\\u008c\\u00c2\\u00abte\", \"Spit\\u00c3\\u008c_ler Schaffhausen\", \"See-Spital\", \"Solothurner Spit\\u00c3\\u008c_ler AG\", \"GZO Spital Wetzikon\", \"HFR - H\\u00c3\\u008c\\u00c2\\u00abpital fribourgeois\", \"Kantonsspital Baselland\", \"Luzerner Kantonsspital\", \"Hirslanden Klinik St. Anna AG\", \"Spital Thurgau AG Kantonsspit\\u00c3\\u008c_ler Frauenfeld & M\\u00c3\\u008c_nsterlingen\", \"Klinik Hirslanden AG\", \"Kantonsspital Graub\\u00c3\\u008c_nden\", \"Spitalregion Rheintal Werdenberg Sarganserland\", \"Lindenhof AG\", \"Insel Gruppe AG (nicht-universit\\u00c3\\u008c_r)\", \"Hirslanden Bern AG\", \"Spitalzentrum Biel AG\", \"Regionalspital Emmental AG\", \"Spit\\u00c3\\u008c_ler Frutigen Meiringen Interlaken AG\", \"Stadtspital Waid\", \"Kantonsspital Winterthur\", \"Spital Zollikerberg\", \"St. Claraspital\", \"Spital Limmattal\", \"Stadtspital Triemli\", \"Spital STS AG\", \"Kantonsspital St. Gallen\", \"Zuger Kantonsspital AG\", \"SRO Spital Region Oberaargau AG\", \"H\\u00c3\\u008c\\u00c2\\u00abpital de la Tour\", \"Groupement Hospitalier de l'Ouest L\\u00c3\\u008c\\u00c2\\u00a9manique (GHOL) SA\", \"Spital Lachen\", \"Universit\\u00c3\\u008c_ts-Kinderspital Z\\u00c3\\u008c_rich das Spital der Eleonorenstiftung\"], \"type\": \"scattergeo\"}, {\"hoverinfo\": \"text\", \"lat\": [46.193711, 47.376736, 46.947455, 47.389185, 47.454285999999996, 47.391652, 47.263268, 47.322205, 46.197616, 47.351971999999996, 46.958811, 46.947645, 46.996590999999995, 47.049215000000004, 47.399167, 47.507967, 46.288114, 47.394227, 47.366863, 46.2351, 46.761733, 46.228776, 47.277588, 46.005434, 47.296098, 46.018508000000004, 46.186931], \"locationmode\": \"USA-states\", \"lon\": [6.148855999999999, 8.549199, 7.4248009999999995, 8.059994999999999, 8.278407000000001, 8.042692, 8.589378, 8.802781, 9.026881, 8.576158, 7.427403, 7.426611, 6.942991, 7.620941999999999, 8.520622, 8.727949, 7.8841779999999995, 8.431632, 8.497572, 7.387328, 7.632281, 6.0674, 8.330606, 8.94011, 7.9471240000000005, 8.952941000000001, 6.142615], \"marker\": {\"color\": \"red\", \"size\": 5}, \"mode\": \"markers\", \"text\": [\"Les H\\u00c3\\u008c\\u00c2\\u00abpitaux Universitaires de Gen\\u00c3\\u008c\\u00c2\\u00acve HUG\", \"Universit\\u00c3\\u008c_tsspital Z\\u00c3\\u008c_rich\", \"Insel Gruppe AG (universit\\u00c3\\u008c_r)\", \"Kantonsspital Aarau AG\", \"Kantonsspital Baden AG\", \"Hirslanden Klinik Aarau\", \"See-Spital\", \"GZO Spital Wetzikon\", \"EOC Ente ospedaliero cantonale\", \"Klinik Hirslanden AG\", \"Lindenhof AG\", \"Insel Gruppe AG (nicht-universit\\u00c3\\u008c_r)\", \"H\\u00c3\\u008c\\u00c2\\u00abpital Neuch\\u00c3\\u008c\\u00c2\\u00a2telois HNE\", \"Regionalspital Emmental AG\", \"Stadtspital Waid\", \"Kantonsspital Winterthur\", \"Spital Wallis - Spitalzentrum Oberwallis (SZO)\", \"Spital Limmattal\", \"Stadtspital Triemli\", \"H\\u00c3\\u008c\\u00c2\\u00abpital du Valais - Centre hospitalier du centre du Valais (CHCVs)\", \"Spital STS AG\", \"H\\u00c3\\u008c\\u00c2\\u00abpital de la Tour\", \"Kreisspital f\\u00c3\\u008c_r das Freiamt\", \"Clinica Luganese Moncucco SA Sede Moncucco\", \"Spital Zofingen AG\", \"Cardiocentro Ticino (CCT)\", \"Clinique de Carouge\"], \"type\": \"scattergeo\"}, {\"lat\": [47.561196, 47.389185], \"line\": {\"color\": \"blue\", \"width\": 1.5}, \"locationmode\": \"USA-states\", \"lon\": [7.5815410000000005, 8.059994999999999], \"mode\": \"lines\", \"opacity\": 0.6666666666666666, \"type\": \"scattergeo\"}, {\"lat\": [47.561196, 46.197616], \"line\": {\"color\": \"blue\", \"width\": 1.5}, \"locationmode\": \"USA-states\", \"lon\": [7.5815410000000005, 9.026881], \"mode\": \"lines\", \"opacity\": 0.6666666666666666, \"type\": \"scattergeo\"}, {\"lat\": [46.524749, 46.193711], \"line\": {\"color\": \"blue\", \"width\": 1.5}, \"locationmode\": \"USA-states\", \"lon\": [6.639659, 6.148855999999999], \"mode\": \"lines\", \"opacity\": 0.9523809523809523, \"type\": \"scattergeo\"}, {\"lat\": [46.524749, 46.2351], \"line\": {\"color\": \"blue\", \"width\": 1.5}, \"locationmode\": \"USA-states\", \"lon\": [6.639659, 7.387328], \"mode\": \"lines\", \"opacity\": 0.9523809523809523, \"type\": \"scattergeo\"}, {\"lat\": [47.376736, 46.193711], \"line\": {\"color\": \"blue\", \"width\": 1.5}, \"locationmode\": \"USA-states\", \"lon\": [8.549199, 6.148855999999999], \"mode\": \"lines\", \"opacity\": 1.0, \"type\": \"scattergeo\"}, {\"lat\": [47.376736, 46.197616], \"line\": {\"color\": \"blue\", \"width\": 1.5}, \"locationmode\": \"USA-states\", \"lon\": [8.549199, 9.026881], \"mode\": \"lines\", \"opacity\": 1.0, \"type\": \"scattergeo\"}, {\"lat\": [46.947455, 46.193711], \"line\": {\"color\": \"blue\", \"width\": 1.5}, \"locationmode\": \"USA-states\", \"lon\": [7.4248009999999995, 6.148855999999999], \"mode\": \"lines\", \"opacity\": 0.9047619047619048, \"type\": \"scattergeo\"}, {\"lat\": [46.947455, 46.197616], \"line\": {\"color\": \"blue\", \"width\": 1.5}, \"locationmode\": \"USA-states\", \"lon\": [7.4248009999999995, 9.026881], \"mode\": \"lines\", \"opacity\": 0.9047619047619048, \"type\": \"scattergeo\"}, {\"lat\": [47.389185, 46.197616], \"line\": {\"color\": \"blue\", \"width\": 1.5}, \"locationmode\": \"USA-states\", \"lon\": [8.059994999999999, 9.026881], \"mode\": \"lines\", \"opacity\": 0.5238095238095238, \"type\": \"scattergeo\"}, {\"lat\": [47.454285999999996, 47.394227], \"line\": {\"color\": \"blue\", \"width\": 1.5}, \"locationmode\": \"USA-states\", \"lon\": [8.278407000000001, 8.431632], \"mode\": \"lines\", \"opacity\": 0.23809523809523808, \"type\": \"scattergeo\"}, {\"lat\": [47.391652, 47.389185], \"line\": {\"color\": \"blue\", \"width\": 1.5}, \"locationmode\": \"USA-states\", \"lon\": [8.042692, 8.059994999999999], \"mode\": \"lines\", \"opacity\": 0.14285714285714285, \"type\": \"scattergeo\"}, {\"lat\": [46.440108, 46.193711], \"line\": {\"color\": \"blue\", \"width\": 1.5}, \"locationmode\": \"USA-states\", \"lon\": [6.908222, 6.148855999999999], \"mode\": \"lines\", \"opacity\": 0.3333333333333333, \"type\": \"scattergeo\"}, {\"lat\": [46.440108, 46.228776], \"line\": {\"color\": \"blue\", \"width\": 1.5}, \"locationmode\": \"USA-states\", \"lon\": [6.908222, 6.0674], \"mode\": \"lines\", \"opacity\": 0.3333333333333333, \"type\": \"scattergeo\"}, {\"lat\": [46.77032, 46.193711], \"line\": {\"color\": \"blue\", \"width\": 1.5}, \"locationmode\": \"USA-states\", \"lon\": [6.64755, 6.148855999999999], \"mode\": \"lines\", \"opacity\": 0.23809523809523808, \"type\": \"scattergeo\"}, {\"lat\": [46.77032, 46.228776], \"line\": {\"color\": \"blue\", \"width\": 1.5}, \"locationmode\": \"USA-states\", \"lon\": [6.64755, 6.0674], \"mode\": \"lines\", \"opacity\": 0.23809523809523808, \"type\": \"scattergeo\"}, {\"lat\": [46.522437, 46.193711], \"line\": {\"color\": \"blue\", \"width\": 1.5}, \"locationmode\": \"USA-states\", \"lon\": [6.499426000000001, 6.148855999999999], \"mode\": \"lines\", \"opacity\": 0.14285714285714285, \"type\": \"scattergeo\"}, {\"lat\": [46.522437, 46.186931], \"line\": {\"color\": \"blue\", \"width\": 1.5}, \"locationmode\": \"USA-states\", \"lon\": [6.499426000000001, 6.142615], \"mode\": \"lines\", \"opacity\": 0.09523809523809523, \"type\": \"scattergeo\"}, {\"lat\": [47.711995, 47.399167], \"line\": {\"color\": \"blue\", \"width\": 1.5}, \"locationmode\": \"USA-states\", \"lon\": [8.638826, 8.520622], \"mode\": \"lines\", \"opacity\": 0.14285714285714285, \"type\": \"scattergeo\"}, {\"lat\": [47.711995, 47.507967], \"line\": {\"color\": \"blue\", \"width\": 1.5}, \"locationmode\": \"USA-states\", \"lon\": [8.638826, 8.727949], \"mode\": \"lines\", \"opacity\": 0.14285714285714285, \"type\": \"scattergeo\"}, {\"lat\": [47.263268, 47.376736], \"line\": {\"color\": \"blue\", \"width\": 1.5}, \"locationmode\": \"USA-states\", \"lon\": [8.589378, 8.549199], \"mode\": \"lines\", \"opacity\": 0.23809523809523808, \"type\": \"scattergeo\"}, {\"lat\": [47.263268, 47.366863], \"line\": {\"color\": \"blue\", \"width\": 1.5}, \"locationmode\": \"USA-states\", \"lon\": [8.589378, 8.497572], \"mode\": \"lines\", \"opacity\": 0.23809523809523808, \"type\": \"scattergeo\"}, {\"lat\": [47.200103999999996, 46.947455], \"line\": {\"color\": \"blue\", \"width\": 1.5}, \"locationmode\": \"USA-states\", \"lon\": [7.539125, 7.4248009999999995], \"mode\": \"lines\", \"opacity\": 0.47619047619047616, \"type\": \"scattergeo\"}, {\"lat\": [47.200103999999996, 46.996590999999995], \"line\": {\"color\": \"blue\", \"width\": 1.5}, \"locationmode\": \"USA-states\", \"lon\": [7.539125, 6.942991], \"mode\": \"lines\", \"opacity\": 0.47619047619047616, \"type\": \"scattergeo\"}, {\"lat\": [47.322205, 47.351971999999996], \"line\": {\"color\": \"blue\", \"width\": 1.5}, \"locationmode\": \"USA-states\", \"lon\": [8.802781, 8.576158], \"mode\": \"lines\", \"opacity\": 0.14285714285714285, \"type\": \"scattergeo\"}, {\"lat\": [46.801389, 46.193711], \"line\": {\"color\": \"blue\", \"width\": 1.5}, \"locationmode\": \"USA-states\", \"lon\": [7.137283, 6.148855999999999], \"mode\": \"lines\", \"opacity\": 0.42857142857142855, \"type\": \"scattergeo\"}, {\"lat\": [46.801389, 46.2351], \"line\": {\"color\": \"blue\", \"width\": 1.5}, \"locationmode\": \"USA-states\", \"lon\": [7.137283, 7.387328], \"mode\": \"lines\", \"opacity\": 0.42857142857142855, \"type\": \"scattergeo\"}, {\"lat\": [47.488122, 47.454285999999996], \"line\": {\"color\": \"blue\", \"width\": 1.5}, \"locationmode\": \"USA-states\", \"lon\": [7.731507000000001, 8.278407000000001], \"mode\": \"lines\", \"opacity\": 0.47619047619047616, \"type\": \"scattergeo\"}, {\"lat\": [47.488122, 46.197616], \"line\": {\"color\": \"blue\", \"width\": 1.5}, \"locationmode\": \"USA-states\", \"lon\": [7.731507000000001, 9.026881], \"mode\": \"lines\", \"opacity\": 0.47619047619047616, \"type\": \"scattergeo\"}, {\"lat\": [47.058078, 46.193711], \"line\": {\"color\": \"blue\", \"width\": 1.5}, \"locationmode\": \"USA-states\", \"lon\": [8.298791, 6.148855999999999], \"mode\": \"lines\", \"opacity\": 0.7619047619047619, \"type\": \"scattergeo\"}, {\"lat\": [47.058078, 46.197616], \"line\": {\"color\": \"blue\", \"width\": 1.5}, \"locationmode\": \"USA-states\", \"lon\": [8.298791, 9.026881], \"mode\": \"lines\", \"opacity\": 0.7619047619047619, \"type\": \"scattergeo\"}, {\"lat\": [47.05812, 47.263268], \"line\": {\"color\": \"blue\", \"width\": 1.5}, \"locationmode\": \"USA-states\", \"lon\": [8.326092, 8.589378], \"mode\": \"lines\", \"opacity\": 0.19047619047619047, \"type\": \"scattergeo\"}, {\"lat\": [47.05812, 46.197616], \"line\": {\"color\": \"blue\", \"width\": 1.5}, \"locationmode\": \"USA-states\", \"lon\": [8.326092, 9.026881], \"mode\": \"lines\", \"opacity\": 0.19047619047619047, \"type\": \"scattergeo\"}, {\"lat\": [47.549937, 47.376736], \"line\": {\"color\": \"blue\", \"width\": 1.5}, \"locationmode\": \"USA-states\", \"lon\": [8.911494, 8.549199], \"mode\": \"lines\", \"opacity\": 0.5238095238095238, \"type\": \"scattergeo\"}, {\"lat\": [47.549937, 46.197616], \"line\": {\"color\": \"blue\", \"width\": 1.5}, \"locationmode\": \"USA-states\", \"lon\": [8.911494, 9.026881], \"mode\": \"lines\", \"opacity\": 0.5238095238095238, \"type\": \"scattergeo\"}, {\"lat\": [47.351971999999996, 47.376736], \"line\": {\"color\": \"blue\", \"width\": 1.5}, \"locationmode\": \"USA-states\", \"lon\": [8.576158, 8.549199], \"mode\": \"lines\", \"opacity\": 0.19047619047619047, \"type\": \"scattergeo\"}, {\"lat\": [46.86411, 46.197616], \"line\": {\"color\": \"blue\", \"width\": 1.5}, \"locationmode\": \"USA-states\", \"lon\": [9.539952, 9.026881], \"mode\": \"lines\", \"opacity\": 0.3333333333333333, \"type\": \"scattergeo\"}, {\"lat\": [46.86411, 46.018508000000004], \"line\": {\"color\": \"blue\", \"width\": 1.5}, \"locationmode\": \"USA-states\", \"lon\": [9.539952, 8.952941000000001], \"mode\": \"lines\", \"opacity\": 0.23809523809523808, \"type\": \"scattergeo\"}, {\"lat\": [47.397628000000005, 46.197616], \"line\": {\"color\": \"blue\", \"width\": 1.5}, \"locationmode\": \"USA-states\", \"lon\": [9.579355, 9.026881], \"mode\": \"lines\", \"opacity\": 0.2857142857142857, \"type\": \"scattergeo\"}, {\"lat\": [47.397628000000005, 47.507967], \"line\": {\"color\": \"blue\", \"width\": 1.5}, \"locationmode\": \"USA-states\", \"lon\": [9.579355, 8.727949], \"mode\": \"lines\", \"opacity\": 0.2857142857142857, \"type\": \"scattergeo\"}, {\"lat\": [46.958811, 46.947645], \"line\": {\"color\": \"blue\", \"width\": 1.5}, \"locationmode\": \"USA-states\", \"lon\": [7.427403, 7.426611], \"mode\": \"lines\", \"opacity\": 0.09523809523809523, \"type\": \"scattergeo\"}, {\"lat\": [46.958811, 46.288114], \"line\": {\"color\": \"blue\", \"width\": 1.5}, \"locationmode\": \"USA-states\", \"lon\": [7.427403, 7.8841779999999995], \"mode\": \"lines\", \"opacity\": 0.38095238095238093, \"type\": \"scattergeo\"}, {\"lat\": [46.947645, 46.947455], \"line\": {\"color\": \"blue\", \"width\": 1.5}, \"locationmode\": \"USA-states\", \"lon\": [7.426611, 7.4248009999999995], \"mode\": \"lines\", \"opacity\": 0.23809523809523808, \"type\": \"scattergeo\"}, {\"lat\": [46.95279, 46.947455], \"line\": {\"color\": \"blue\", \"width\": 1.5}, \"locationmode\": \"USA-states\", \"lon\": [7.448237, 7.4248009999999995], \"mode\": \"lines\", \"opacity\": 0.23809523809523808, \"type\": \"scattergeo\"}, {\"lat\": [47.147814000000004, 46.996590999999995], \"line\": {\"color\": \"blue\", \"width\": 1.5}, \"locationmode\": \"USA-states\", \"lon\": [7.244622, 6.942991], \"mode\": \"lines\", \"opacity\": 0.19047619047619047, \"type\": \"scattergeo\"}, {\"lat\": [47.049215000000004, 46.947455], \"line\": {\"color\": \"blue\", \"width\": 1.5}, \"locationmode\": \"USA-states\", \"lon\": [7.620941999999999, 7.4248009999999995], \"mode\": \"lines\", \"opacity\": 0.14285714285714285, \"type\": \"scattergeo\"}, {\"lat\": [47.049215000000004, 46.958811], \"line\": {\"color\": \"blue\", \"width\": 1.5}, \"locationmode\": \"USA-states\", \"lon\": [7.620941999999999, 7.427403], \"mode\": \"lines\", \"opacity\": 0.14285714285714285, \"type\": \"scattergeo\"}, {\"lat\": [46.680833, 46.761733], \"line\": {\"color\": \"blue\", \"width\": 1.5}, \"locationmode\": \"USA-states\", \"lon\": [7.842919, 7.632281], \"mode\": \"lines\", \"opacity\": 0.09523809523809523, \"type\": \"scattergeo\"}, {\"lat\": [47.399167, 47.376736], \"line\": {\"color\": \"blue\", \"width\": 1.5}, \"locationmode\": \"USA-states\", \"lon\": [8.520622, 8.549199], \"mode\": \"lines\", \"opacity\": 0.09523809523809523, \"type\": \"scattergeo\"}, {\"lat\": [47.507967, 47.376736], \"line\": {\"color\": \"blue\", \"width\": 1.5}, \"locationmode\": \"USA-states\", \"lon\": [8.727949, 8.549199], \"mode\": \"lines\", \"opacity\": 0.38095238095238093, \"type\": \"scattergeo\"}, {\"lat\": [47.34917, 47.351971999999996], \"line\": {\"color\": \"blue\", \"width\": 1.5}, \"locationmode\": \"USA-states\", \"lon\": [8.598519, 8.576158], \"mode\": \"lines\", \"opacity\": 0.047619047619047616, \"type\": \"scattergeo\"}, {\"lat\": [47.566617, 47.389185], \"line\": {\"color\": \"blue\", \"width\": 1.5}, \"locationmode\": \"USA-states\", \"lon\": [7.614161999999999, 8.059994999999999], \"mode\": \"lines\", \"opacity\": 0.23809523809523808, \"type\": \"scattergeo\"}, {\"lat\": [47.566617, 47.391652], \"line\": {\"color\": \"blue\", \"width\": 1.5}, \"locationmode\": \"USA-states\", \"lon\": [7.614161999999999, 8.042692], \"mode\": \"lines\", \"opacity\": 0.23809523809523808, \"type\": \"scattergeo\"}, {\"lat\": [47.394227, 47.366863], \"line\": {\"color\": \"blue\", \"width\": 1.5}, \"locationmode\": \"USA-states\", \"lon\": [8.431632, 8.497572], \"mode\": \"lines\", \"opacity\": 0.19047619047619047, \"type\": \"scattergeo\"}, {\"lat\": [47.366863, 47.376736], \"line\": {\"color\": \"blue\", \"width\": 1.5}, \"locationmode\": \"USA-states\", \"lon\": [8.497572, 8.549199], \"mode\": \"lines\", \"opacity\": 0.38095238095238093, \"type\": \"scattergeo\"}, {\"lat\": [46.761733, 46.288114], \"line\": {\"color\": \"blue\", \"width\": 1.5}, \"locationmode\": \"USA-states\", \"lon\": [7.632281, 7.8841779999999995], \"mode\": \"lines\", \"opacity\": 0.23809523809523808, \"type\": \"scattergeo\"}, {\"lat\": [47.43119, 46.197616], \"line\": {\"color\": \"blue\", \"width\": 1.5}, \"locationmode\": \"USA-states\", \"lon\": [9.388303, 9.026881], \"mode\": \"lines\", \"opacity\": 0.8095238095238095, \"type\": \"scattergeo\"}, {\"lat\": [47.43119, 46.005434], \"line\": {\"color\": \"blue\", \"width\": 1.5}, \"locationmode\": \"USA-states\", \"lon\": [9.388303, 8.94011], \"mode\": \"lines\", \"opacity\": 0.8095238095238095, \"type\": \"scattergeo\"}, {\"lat\": [47.194648, 47.376736], \"line\": {\"color\": \"blue\", \"width\": 1.5}, \"locationmode\": \"USA-states\", \"lon\": [8.518031, 8.549199], \"mode\": \"lines\", \"opacity\": 0.14285714285714285, \"type\": \"scattergeo\"}, {\"lat\": [47.194648, 47.263268], \"line\": {\"color\": \"blue\", \"width\": 1.5}, \"locationmode\": \"USA-states\", \"lon\": [8.518031, 8.589378], \"mode\": \"lines\", \"opacity\": 0.14285714285714285, \"type\": \"scattergeo\"}, {\"lat\": [47.194648, 47.277588], \"line\": {\"color\": \"blue\", \"width\": 1.5}, \"locationmode\": \"USA-states\", \"lon\": [8.518031, 8.330606], \"mode\": \"lines\", \"opacity\": 0.047619047619047616, \"type\": \"scattergeo\"}, {\"lat\": [47.216521, 47.049215000000004], \"line\": {\"color\": \"blue\", \"width\": 1.5}, \"locationmode\": \"USA-states\", \"lon\": [7.793825, 7.620941999999999], \"mode\": \"lines\", \"opacity\": 0.09523809523809523, \"type\": \"scattergeo\"}, {\"lat\": [47.216521, 47.296098], \"line\": {\"color\": \"blue\", \"width\": 1.5}, \"locationmode\": \"USA-states\", \"lon\": [7.793825, 7.9471240000000005], \"mode\": \"lines\", \"opacity\": 0.09523809523809523, \"type\": \"scattergeo\"}, {\"lat\": [46.228776, 46.193711], \"line\": {\"color\": \"blue\", \"width\": 1.5}, \"locationmode\": \"USA-states\", \"lon\": [6.0674, 6.148855999999999], \"mode\": \"lines\", \"opacity\": 0.14285714285714285, \"type\": \"scattergeo\"}, {\"lat\": [46.383439, 46.193711], \"line\": {\"color\": \"blue\", \"width\": 1.5}, \"locationmode\": \"USA-states\", \"lon\": [6.227493, 6.148855999999999], \"mode\": \"lines\", \"opacity\": 0.14285714285714285, \"type\": \"scattergeo\"}, {\"lat\": [46.383439, 46.228776], \"line\": {\"color\": \"blue\", \"width\": 1.5}, \"locationmode\": \"USA-states\", \"lon\": [6.227493, 6.0674], \"mode\": \"lines\", \"opacity\": 0.14285714285714285, \"type\": \"scattergeo\"}, {\"lat\": [47.189221, 47.263268], \"line\": {\"color\": \"blue\", \"width\": 1.5}, \"locationmode\": \"USA-states\", \"lon\": [8.858947, 8.589378], \"mode\": \"lines\", \"opacity\": 0.09523809523809523, \"type\": \"scattergeo\"}, {\"lat\": [47.189221, 47.322205], \"line\": {\"color\": \"blue\", \"width\": 1.5}, \"locationmode\": \"USA-states\", \"lon\": [8.858947, 8.802781], \"mode\": \"lines\", \"opacity\": 0.09523809523809523, \"type\": \"scattergeo\"}, {\"lat\": [47.372031, 47.376736], \"line\": {\"color\": \"blue\", \"width\": 1.5}, \"locationmode\": \"USA-states\", \"lon\": [8.557767, 8.549199], \"mode\": \"lines\", \"opacity\": 0.047619047619047616, \"type\": \"scattergeo\"}],\n",
       "                        {\"geo\": {\"countrycolor\": \"rgb(204, 204, 204)\", \"landcolor\": \"rgb(243, 243, 243)\", \"projection\": {\"type\": \"stereographic\"}, \"resolution\": 50, \"scope\": \"europe\", \"showlakes\": true}, \"showlegend\": false, \"template\": {\"data\": {\"bar\": [{\"error_x\": {\"color\": \"#2a3f5f\"}, \"error_y\": {\"color\": \"#2a3f5f\"}, \"marker\": {\"line\": {\"color\": \"#E5ECF6\", \"width\": 0.5}}, \"type\": \"bar\"}], \"barpolar\": [{\"marker\": {\"line\": {\"color\": \"#E5ECF6\", \"width\": 0.5}}, \"type\": \"barpolar\"}], \"carpet\": [{\"aaxis\": {\"endlinecolor\": \"#2a3f5f\", \"gridcolor\": \"white\", \"linecolor\": \"white\", \"minorgridcolor\": \"white\", \"startlinecolor\": \"#2a3f5f\"}, \"baxis\": {\"endlinecolor\": \"#2a3f5f\", \"gridcolor\": \"white\", \"linecolor\": \"white\", \"minorgridcolor\": \"white\", \"startlinecolor\": \"#2a3f5f\"}, \"type\": \"carpet\"}], \"choropleth\": [{\"colorbar\": {\"outlinewidth\": 0, \"ticks\": \"\"}, \"type\": \"choropleth\"}], \"contour\": [{\"colorbar\": {\"outlinewidth\": 0, \"ticks\": \"\"}, \"colorscale\": [[0.0, \"#0d0887\"], [0.1111111111111111, \"#46039f\"], [0.2222222222222222, \"#7201a8\"], [0.3333333333333333, \"#9c179e\"], [0.4444444444444444, \"#bd3786\"], [0.5555555555555556, \"#d8576b\"], [0.6666666666666666, \"#ed7953\"], [0.7777777777777778, \"#fb9f3a\"], [0.8888888888888888, \"#fdca26\"], [1.0, \"#f0f921\"]], \"type\": \"contour\"}], \"contourcarpet\": [{\"colorbar\": {\"outlinewidth\": 0, \"ticks\": \"\"}, \"type\": \"contourcarpet\"}], \"heatmap\": [{\"colorbar\": {\"outlinewidth\": 0, \"ticks\": \"\"}, \"colorscale\": [[0.0, \"#0d0887\"], [0.1111111111111111, \"#46039f\"], [0.2222222222222222, \"#7201a8\"], [0.3333333333333333, \"#9c179e\"], [0.4444444444444444, \"#bd3786\"], [0.5555555555555556, \"#d8576b\"], [0.6666666666666666, \"#ed7953\"], [0.7777777777777778, \"#fb9f3a\"], [0.8888888888888888, \"#fdca26\"], [1.0, \"#f0f921\"]], \"type\": \"heatmap\"}], \"heatmapgl\": [{\"colorbar\": {\"outlinewidth\": 0, \"ticks\": \"\"}, \"colorscale\": [[0.0, \"#0d0887\"], [0.1111111111111111, \"#46039f\"], [0.2222222222222222, \"#7201a8\"], [0.3333333333333333, \"#9c179e\"], [0.4444444444444444, \"#bd3786\"], [0.5555555555555556, \"#d8576b\"], [0.6666666666666666, \"#ed7953\"], [0.7777777777777778, \"#fb9f3a\"], [0.8888888888888888, \"#fdca26\"], [1.0, \"#f0f921\"]], \"type\": \"heatmapgl\"}], \"histogram\": [{\"marker\": {\"colorbar\": {\"outlinewidth\": 0, \"ticks\": \"\"}}, \"type\": \"histogram\"}], \"histogram2d\": [{\"colorbar\": {\"outlinewidth\": 0, \"ticks\": \"\"}, \"colorscale\": [[0.0, \"#0d0887\"], [0.1111111111111111, \"#46039f\"], [0.2222222222222222, \"#7201a8\"], [0.3333333333333333, \"#9c179e\"], [0.4444444444444444, \"#bd3786\"], [0.5555555555555556, \"#d8576b\"], [0.6666666666666666, \"#ed7953\"], [0.7777777777777778, \"#fb9f3a\"], [0.8888888888888888, \"#fdca26\"], [1.0, \"#f0f921\"]], \"type\": \"histogram2d\"}], \"histogram2dcontour\": [{\"colorbar\": {\"outlinewidth\": 0, \"ticks\": \"\"}, \"colorscale\": [[0.0, \"#0d0887\"], [0.1111111111111111, \"#46039f\"], [0.2222222222222222, \"#7201a8\"], [0.3333333333333333, \"#9c179e\"], [0.4444444444444444, \"#bd3786\"], [0.5555555555555556, \"#d8576b\"], [0.6666666666666666, \"#ed7953\"], [0.7777777777777778, \"#fb9f3a\"], [0.8888888888888888, \"#fdca26\"], [1.0, \"#f0f921\"]], \"type\": \"histogram2dcontour\"}], \"mesh3d\": [{\"colorbar\": {\"outlinewidth\": 0, \"ticks\": \"\"}, \"type\": \"mesh3d\"}], \"parcoords\": [{\"line\": {\"colorbar\": {\"outlinewidth\": 0, \"ticks\": \"\"}}, \"type\": \"parcoords\"}], \"pie\": [{\"automargin\": true, \"type\": \"pie\"}], \"scatter\": [{\"marker\": {\"colorbar\": {\"outlinewidth\": 0, \"ticks\": \"\"}}, \"type\": \"scatter\"}], \"scatter3d\": [{\"line\": {\"colorbar\": {\"outlinewidth\": 0, \"ticks\": \"\"}}, \"marker\": {\"colorbar\": {\"outlinewidth\": 0, \"ticks\": \"\"}}, \"type\": \"scatter3d\"}], \"scattercarpet\": [{\"marker\": {\"colorbar\": {\"outlinewidth\": 0, \"ticks\": \"\"}}, \"type\": \"scattercarpet\"}], \"scattergeo\": [{\"marker\": {\"colorbar\": {\"outlinewidth\": 0, \"ticks\": \"\"}}, \"type\": \"scattergeo\"}], \"scattergl\": [{\"marker\": {\"colorbar\": {\"outlinewidth\": 0, \"ticks\": \"\"}}, \"type\": \"scattergl\"}], \"scattermapbox\": [{\"marker\": {\"colorbar\": {\"outlinewidth\": 0, \"ticks\": \"\"}}, \"type\": \"scattermapbox\"}], \"scatterpolar\": [{\"marker\": {\"colorbar\": {\"outlinewidth\": 0, \"ticks\": \"\"}}, \"type\": \"scatterpolar\"}], \"scatterpolargl\": [{\"marker\": {\"colorbar\": {\"outlinewidth\": 0, \"ticks\": \"\"}}, \"type\": \"scatterpolargl\"}], \"scatterternary\": [{\"marker\": {\"colorbar\": {\"outlinewidth\": 0, \"ticks\": \"\"}}, \"type\": \"scatterternary\"}], \"surface\": [{\"colorbar\": {\"outlinewidth\": 0, \"ticks\": \"\"}, \"colorscale\": [[0.0, \"#0d0887\"], [0.1111111111111111, \"#46039f\"], [0.2222222222222222, \"#7201a8\"], [0.3333333333333333, \"#9c179e\"], [0.4444444444444444, \"#bd3786\"], [0.5555555555555556, \"#d8576b\"], [0.6666666666666666, \"#ed7953\"], [0.7777777777777778, \"#fb9f3a\"], [0.8888888888888888, \"#fdca26\"], [1.0, \"#f0f921\"]], \"type\": \"surface\"}], \"table\": [{\"cells\": {\"fill\": {\"color\": \"#EBF0F8\"}, \"line\": {\"color\": \"white\"}}, \"header\": {\"fill\": {\"color\": \"#C8D4E3\"}, \"line\": {\"color\": \"white\"}}, \"type\": \"table\"}]}, \"layout\": {\"annotationdefaults\": {\"arrowcolor\": \"#2a3f5f\", \"arrowhead\": 0, \"arrowwidth\": 1}, \"coloraxis\": {\"colorbar\": {\"outlinewidth\": 0, \"ticks\": \"\"}}, \"colorscale\": {\"diverging\": [[0, \"#8e0152\"], [0.1, \"#c51b7d\"], [0.2, \"#de77ae\"], [0.3, \"#f1b6da\"], [0.4, \"#fde0ef\"], [0.5, \"#f7f7f7\"], [0.6, \"#e6f5d0\"], [0.7, \"#b8e186\"], [0.8, \"#7fbc41\"], [0.9, \"#4d9221\"], [1, \"#276419\"]], \"sequential\": [[0.0, \"#0d0887\"], [0.1111111111111111, \"#46039f\"], [0.2222222222222222, \"#7201a8\"], [0.3333333333333333, \"#9c179e\"], [0.4444444444444444, \"#bd3786\"], [0.5555555555555556, \"#d8576b\"], [0.6666666666666666, \"#ed7953\"], [0.7777777777777778, \"#fb9f3a\"], [0.8888888888888888, \"#fdca26\"], [1.0, \"#f0f921\"]], \"sequentialminus\": [[0.0, \"#0d0887\"], [0.1111111111111111, \"#46039f\"], [0.2222222222222222, \"#7201a8\"], [0.3333333333333333, \"#9c179e\"], [0.4444444444444444, \"#bd3786\"], [0.5555555555555556, \"#d8576b\"], [0.6666666666666666, \"#ed7953\"], [0.7777777777777778, \"#fb9f3a\"], [0.8888888888888888, \"#fdca26\"], [1.0, \"#f0f921\"]]}, \"colorway\": [\"#636efa\", \"#EF553B\", \"#00cc96\", \"#ab63fa\", \"#FFA15A\", \"#19d3f3\", \"#FF6692\", \"#B6E880\", \"#FF97FF\", \"#FECB52\"], \"font\": {\"color\": \"#2a3f5f\"}, \"geo\": {\"bgcolor\": \"white\", \"lakecolor\": \"white\", \"landcolor\": \"#E5ECF6\", \"showlakes\": true, \"showland\": true, \"subunitcolor\": \"white\"}, \"hoverlabel\": {\"align\": \"left\"}, \"hovermode\": \"closest\", \"mapbox\": {\"style\": \"light\"}, \"paper_bgcolor\": \"white\", \"plot_bgcolor\": \"#E5ECF6\", \"polar\": {\"angularaxis\": {\"gridcolor\": \"white\", \"linecolor\": \"white\", \"ticks\": \"\"}, \"bgcolor\": \"#E5ECF6\", \"radialaxis\": {\"gridcolor\": \"white\", \"linecolor\": \"white\", \"ticks\": \"\"}}, \"scene\": {\"xaxis\": {\"backgroundcolor\": \"#E5ECF6\", \"gridcolor\": \"white\", \"gridwidth\": 2, \"linecolor\": \"white\", \"showbackground\": true, \"ticks\": \"\", \"zerolinecolor\": \"white\"}, \"yaxis\": {\"backgroundcolor\": \"#E5ECF6\", \"gridcolor\": \"white\", \"gridwidth\": 2, \"linecolor\": \"white\", \"showbackground\": true, \"ticks\": \"\", \"zerolinecolor\": \"white\"}, \"zaxis\": {\"backgroundcolor\": \"#E5ECF6\", \"gridcolor\": \"white\", \"gridwidth\": 2, \"linecolor\": \"white\", \"showbackground\": true, \"ticks\": \"\", \"zerolinecolor\": \"white\"}}, \"shapedefaults\": {\"line\": {\"color\": \"#2a3f5f\"}}, \"ternary\": {\"aaxis\": {\"gridcolor\": \"white\", \"linecolor\": \"white\", \"ticks\": \"\"}, \"baxis\": {\"gridcolor\": \"white\", \"linecolor\": \"white\", \"ticks\": \"\"}, \"bgcolor\": \"#E5ECF6\", \"caxis\": {\"gridcolor\": \"white\", \"linecolor\": \"white\", \"ticks\": \"\"}}, \"title\": {\"x\": 0.05}, \"xaxis\": {\"automargin\": true, \"gridcolor\": \"white\", \"linecolor\": \"white\", \"ticks\": \"\", \"title\": {\"standoff\": 15}, \"zerolinecolor\": \"white\", \"zerolinewidth\": 2}, \"yaxis\": {\"automargin\": true, \"gridcolor\": \"white\", \"linecolor\": \"white\", \"ticks\": \"\", \"title\": {\"standoff\": 15}, \"zerolinecolor\": \"white\", \"zerolinewidth\": 2}}}, \"title\": {\"text\": \"Ventilator reallocation results\"}},\n",
       "                        {\"responsive\": true}\n",
       "                    ).then(function(){\n",
       "                            \n",
       "var gd = document.getElementById('123b0d37-8b85-4c0b-bdef-328fe7586fa3');\n",
       "var x = new MutationObserver(function (mutations, observer) {{\n",
       "        var display = window.getComputedStyle(gd).display;\n",
       "        if (!display || display === 'none') {{\n",
       "            console.log([gd, 'removed!']);\n",
       "            Plotly.purge(gd);\n",
       "            observer.disconnect();\n",
       "        }}\n",
       "}});\n",
       "\n",
       "// Listen for the removal of the full notebook cells\n",
       "var notebookContainer = gd.closest('#notebook-container');\n",
       "if (notebookContainer) {{\n",
       "    x.observe(notebookContainer, {childList: true});\n",
       "}}\n",
       "\n",
       "// Listen for the clearing of the current output cell\n",
       "var outputEl = gd.closest('.output');\n",
       "if (outputEl) {{\n",
       "    x.observe(outputEl, {childList: true});\n",
       "}}\n",
       "\n",
       "                        })\n",
       "                };\n",
       "                });\n",
       "            </script>\n",
       "        </div>"
      ]
     },
     "metadata": {},
     "output_type": "display_data"
    }
   ],
   "source": [
    "for i in range(len(df_ven_reloc)):\n",
    "    fig.add_trace(\n",
    "        go.Scattergeo(\n",
    "            locationmode = 'USA-states',\n",
    "            lon = [df_ven_reloc['orig_lon'][i], df_ven_reloc['dest_lon'][i]],\n",
    "            lat = [df_ven_reloc['orig_lat'][i], df_ven_reloc['dest_lat'][i]],\n",
    "            mode = 'lines',\n",
    "            line = dict(width = 1.5,color = 'blue'),\n",
    "            opacity = float(df_ven_reloc['num_ven_tansp'][i]) / float(df_ven_reloc['num_ven_tansp'].max()),\n",
    "        )\n",
    "    )\n",
    "\n",
    "fig.update_layout(\n",
    "    title_text = 'Ventilator reallocation results',\n",
    "    showlegend = False,\n",
    "    geo = dict(\n",
    "        resolution = 50, \n",
    "        scope = 'europe',\n",
    "#         center = {'lat': (df_ven_reloc['dest_lat'].min() + df_ven_reloc['dest_lat'].max())/2,\n",
    "#                   'lon': (df_ven_reloc['orig_lon'].min() + df_ven_reloc['orig_lon'].max())/2},\n",
    "        projection_type = 'stereographic',\n",
    "#         showland = True,\n",
    "        showlakes = True,\n",
    "        landcolor = 'rgb(243, 243, 243)',\n",
    "        countrycolor = 'rgb(204, 204, 204)',\n",
    "    ),\n",
    ")\n",
    "\n",
    "fig.show()"
   ]
  },
  {
   "cell_type": "code",
   "execution_count": null,
   "metadata": {},
   "outputs": [],
   "source": []
  }
 ],
 "metadata": {
  "kernelspec": {
   "display_name": "hackthon",
   "language": "python",
   "name": "hackthon"
  },
  "language_info": {
   "codemirror_mode": {
    "name": "ipython",
    "version": 3
   },
   "file_extension": ".py",
   "mimetype": "text/x-python",
   "name": "python",
   "nbconvert_exporter": "python",
   "pygments_lexer": "ipython3",
   "version": "3.7.6"
  }
 },
 "nbformat": 4,
 "nbformat_minor": 4
}
